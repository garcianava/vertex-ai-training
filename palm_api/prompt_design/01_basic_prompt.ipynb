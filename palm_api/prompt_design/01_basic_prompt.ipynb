{
 "cells": [
  {
   "cell_type": "code",
   "execution_count": null,
   "id": "973645c5",
   "metadata": {},
   "outputs": [],
   "source": [
    "# https://www.infoworld.com/article/3700608/getting-started-with-googles-palm-api.html"
   ]
  },
  {
   "cell_type": "code",
   "execution_count": 7,
   "id": "164eee00",
   "metadata": {},
   "outputs": [],
   "source": [
    "from IPython.display import display, HTML"
   ]
  },
  {
   "cell_type": "code",
   "execution_count": 1,
   "id": "37e7dc28",
   "metadata": {},
   "outputs": [],
   "source": [
    "from vertexai.preview.language_models import TextGenerationModel"
   ]
  },
  {
   "cell_type": "code",
   "execution_count": 2,
   "id": "204611e6",
   "metadata": {},
   "outputs": [],
   "source": [
    "model = TextGenerationModel.from_pretrained(\"text-bison@001\")"
   ]
  },
  {
   "cell_type": "markdown",
   "id": "32c4a237",
   "metadata": {},
   "source": [
    "### do not run the following reference cell"
   ]
  },
  {
   "cell_type": "code",
   "execution_count": null,
   "id": "9a5d4067",
   "metadata": {},
   "outputs": [],
   "source": [
    "predict(\n",
    "    prompt: str,\n",
    "    *,\n",
    "    max_output_tokens: int = 128,\n",
    "    temperature: float = 0.0,\n",
    "    top_k: int = 40,\n",
    "    top_p: float = 0.95\n",
    ") -> vertexai.language_models._language_models.TextGenerationResponse"
   ]
  },
  {
   "cell_type": "code",
   "execution_count": null,
   "id": "9e738bcf",
   "metadata": {},
   "outputs": [],
   "source": []
  },
  {
   "cell_type": "code",
   "execution_count": 3,
   "id": "4e0bf396",
   "metadata": {},
   "outputs": [],
   "source": [
    "def get_completion(prompt_text):\n",
    "    response = model.predict(\n",
    "        prompt_text,\n",
    "        max_output_tokens=1000,\n",
    "        temperature=0.3\n",
    "    )\n",
    "    return response.text"
   ]
  },
  {
   "cell_type": "code",
   "execution_count": 4,
   "id": "b388fb5f",
   "metadata": {},
   "outputs": [],
   "source": [
    "prompt = f\"\"\"\n",
    "Write a blog post on renewable energy. Limit the number of words to 500.\n",
    "\"\"\""
   ]
  },
  {
   "cell_type": "code",
   "execution_count": 5,
   "id": "e47d5d28",
   "metadata": {},
   "outputs": [
    {
     "name": "stdout",
     "output_type": "stream",
     "text": [
      "**Renewable Energy: A Sustainable Future**\n",
      "\n",
      "The world is facing a climate crisis. The burning of fossil fuels is releasing greenhouse gases into the atmosphere, which is causing the planet to warm. This warming is leading to more extreme weather events, such as hurricanes, floods, and droughts. It is also causing sea levels to rise, which is threatening coastal communities.\n",
      "\n",
      "Renewable energy is a key part of the solution to the climate crisis. Renewable energy sources, such as solar and wind power, do not produce greenhouse gases. They are also becoming increasingly affordable. In fact, in many parts of the world, it is now cheaper to generate electricity from solar and wind power than it is from fossil fuels.\n",
      "\n",
      "Investing in renewable energy is not only good for the environment, it is also good for the economy. Renewable energy creates jobs and boosts economic growth. In the United States, the renewable energy industry employs over 2 million people and generates over $150 billion in annual revenue.\n",
      "\n",
      "The future of energy is renewable. By investing in renewable energy, we can create a sustainable future for our planet and our children.\n",
      "\n",
      "Here are some of the benefits of renewable energy:\n",
      "\n",
      "* Renewable energy is clean and does not produce greenhouse gases.\n",
      "* Renewable energy is becoming increasingly affordable.\n",
      "* Renewable energy creates jobs and boosts economic growth.\n",
      "* Renewable energy is a sustainable source of energy.\n",
      "\n",
      "The world is facing a climate crisis, and renewable energy is a key part of the solution. By investing in renewable energy, we can create a sustainable future for our planet and our children.\n",
      "\n",
      "**Here are some ways you can help to promote renewable energy:**\n",
      "\n",
      "* Buy renewable energy products, such as solar panels and wind turbines.\n",
      "* Support businesses that use renewable energy.\n",
      "* Talk to your friends and family about the importance of renewable energy.\n",
      "* Contact your elected officials and let them know that you support renewable energy.\n",
      "\n",
      "Together, we can create a sustainable future for our planet by investing in renewable energy.\n"
     ]
    }
   ],
   "source": [
    "response=get_completion(prompt)\n",
    "print(response)"
   ]
  },
  {
   "cell_type": "markdown",
   "id": "0f84a2e8",
   "metadata": {},
   "source": [
    "### Now format the response as HTML"
   ]
  },
  {
   "cell_type": "code",
   "execution_count": 6,
   "id": "109d9968",
   "metadata": {},
   "outputs": [],
   "source": [
    "prompt = f\"\"\"\n",
    "Write a blog post on renewable energy. Limit the number of words to 500.\n",
    "Format the output in HTML.\n",
    "\"\"\""
   ]
  },
  {
   "cell_type": "code",
   "execution_count": 8,
   "id": "04fcd653",
   "metadata": {},
   "outputs": [
    {
     "data": {
      "text/html": [
       "**Renewable Energy: A Sustainable Future**\n",
       "\n",
       "The world is facing a climate crisis. The burning of fossil fuels is releasing greenhouse gases into the atmosphere, which is causing the planet to warm. This warming is leading to more extreme weather events, such as hurricanes, floods, and droughts. It is also causing sea levels to rise, which is threatening coastal communities.\n",
       "\n",
       "Renewable energy is a key part of the solution to the climate crisis. Renewable energy sources, such as solar and wind power, do not produce greenhouse gases. They are also becoming increasingly affordable. In fact, in many parts of the world, it is now cheaper to generate electricity from solar and wind power than it is from fossil fuels.\n",
       "\n",
       "Investing in renewable energy is not only good for the environment, it is also good for the economy. Renewable energy creates jobs and boosts economic growth. In the United States, the renewable energy industry employs over 2 million people and generates over $150 billion in annual revenue.\n",
       "\n",
       "The future of energy is renewable. By investing in renewable energy, we can create a sustainable future for our planet and our children.\n",
       "\n",
       "Here are some of the benefits of renewable energy:\n",
       "\n",
       "* Renewable energy is clean and does not produce greenhouse gases.\n",
       "* Renewable energy is becoming increasingly affordable.\n",
       "* Renewable energy creates jobs and boosts economic growth.\n",
       "* Renewable energy is a sustainable source of energy.\n",
       "\n",
       "The world is facing a climate crisis, and renewable energy is a key part of the solution. By investing in renewable energy, we can create a sustainable future for our planet and our children.\n",
       "\n",
       "**Here are some ways you can help to promote renewable energy:**\n",
       "\n",
       "* Buy renewable energy products, such as solar panels and wind turbines.\n",
       "* Support businesses that use renewable energy.\n",
       "* Talk to your friends and family about the importance of renewable energy.\n",
       "* Contact your elected officials and let them know that you support renewable energy.\n",
       "\n",
       "Together, we can create a sustainable future for our planet by investing in renewable energy."
      ],
      "text/plain": [
       "<IPython.core.display.HTML object>"
      ]
     },
     "metadata": {},
     "output_type": "display_data"
    }
   ],
   "source": [
    "display(HTML(response))"
   ]
  },
  {
   "cell_type": "code",
   "execution_count": null,
   "id": "c5863d0d",
   "metadata": {},
   "outputs": [],
   "source": []
  },
  {
   "cell_type": "code",
   "execution_count": null,
   "id": "7a994f9c",
   "metadata": {},
   "outputs": [],
   "source": []
  }
 ],
 "metadata": {
  "kernelspec": {
   "display_name": "Python 3 (ipykernel)",
   "language": "python",
   "name": "python3"
  },
  "language_info": {
   "codemirror_mode": {
    "name": "ipython",
    "version": 3
   },
   "file_extension": ".py",
   "mimetype": "text/x-python",
   "name": "python",
   "nbconvert_exporter": "python",
   "pygments_lexer": "ipython3",
   "version": "3.9.12"
  }
 },
 "nbformat": 4,
 "nbformat_minor": 5
}
