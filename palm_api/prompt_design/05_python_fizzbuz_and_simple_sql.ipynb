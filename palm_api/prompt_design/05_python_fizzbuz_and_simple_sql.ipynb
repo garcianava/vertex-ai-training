{
 "cells": [
  {
   "cell_type": "markdown",
   "id": "e7191bf8",
   "metadata": {},
   "source": [
    "## At the command line, only need to run once to install the package via pip:\n",
    "### $ pip install google-generativeai"
   ]
  },
  {
   "cell_type": "markdown",
   "id": "bb010fd1",
   "metadata": {},
   "source": [
    "### Start this notebook from a terminal that have been assigned the API key"
   ]
  },
  {
   "cell_type": "markdown",
   "id": "d8d7908c",
   "metadata": {},
   "source": [
    "#### It seems the following library does not work well on local environments, change to Vertex AI Workbench!"
   ]
  },
  {
   "cell_type": "code",
   "execution_count": 9,
   "id": "528241d9",
   "metadata": {},
   "outputs": [],
   "source": [
    "import google.generativeai as genai"
   ]
  },
  {
   "cell_type": "markdown",
   "id": "7e031fc3-d956-4d2b-995d-d444510efe3e",
   "metadata": {},
   "source": [
    "### Find a way to pass the API key from environment variables!"
   ]
  },
  {
   "cell_type": "code",
   "execution_count": 12,
   "id": "104ac3fc",
   "metadata": {},
   "outputs": [],
   "source": [
    "genai.configure(api_key=\"\")"
   ]
  },
  {
   "cell_type": "code",
   "execution_count": 13,
   "id": "fba3633d",
   "metadata": {},
   "outputs": [],
   "source": [
    "defaults = {\n",
    "  'model': 'models/text-bison-001',\n",
    "  'temperature': 0.4,\n",
    "  'candidate_count': 1,\n",
    "  'top_k': 40,\n",
    "  'top_p': 0.95,\n",
    "  'max_output_tokens': 1024,\n",
    "}"
   ]
  },
  {
   "cell_type": "markdown",
   "id": "f2eb38b8-efcd-4456-9cdd-02681effa970",
   "metadata": {},
   "source": [
    "## API key was edited to attend only the external IP address of the Vertex AI Notebook instance"
   ]
  },
  {
   "cell_type": "code",
   "execution_count": null,
   "id": "f15b7feb-d715-412e-b17e-aaa521d0be6b",
   "metadata": {},
   "outputs": [],
   "source": []
  },
  {
   "cell_type": "code",
   "execution_count": 28,
   "id": "d949d76f-e204-4ddb-af6c-b2d3b85d7855",
   "metadata": {},
   "outputs": [],
   "source": [
    "problem = f\"\"\"\n",
    "Produce the Fibonacci series \\\n",
    "given a maximun number of elements in the series. \\\n",
    "Use the variable max_elements as the maximum number of elements. \\\n",
    "Store the result in a list called fibo_series. \\\n",
    "\"\"\"\n",
    "prompt = f\"\"\"\n",
    "Produce a Python script to solve the problem delimited by triple backticks \\ \n",
    "```{problem}```\n",
    "\"\"\""
   ]
  },
  {
   "cell_type": "code",
   "execution_count": 29,
   "id": "f5aca88a-22a3-4508-b73d-0c367332eb9b",
   "metadata": {},
   "outputs": [],
   "source": [
    "response = genai.generate_text(\n",
    "  **defaults,\n",
    "  prompt=prompt\n",
    ")"
   ]
  },
  {
   "cell_type": "code",
   "execution_count": 30,
   "id": "392a4ca7-e361-4a84-abae-bfa57a3e2936",
   "metadata": {},
   "outputs": [
    {
     "name": "stdout",
     "output_type": "stream",
     "text": [
      "```python\n",
      "def fibonacci(max_elements):\n",
      "  \"\"\"\n",
      "  Produces the Fibonacci series given a maximum number of elements.\n",
      "\n",
      "  Args:\n",
      "    max_elements: The maximum number of elements in the series.\n",
      "\n",
      "  Returns:\n",
      "    A list containing the Fibonacci series.\n",
      "  \"\"\"\n",
      "\n",
      "  fibo_series = [0, 1]\n",
      "  for i in range(2, max_elements):\n",
      "    fibo_series.append(fibo_series[i - 2] + fibo_series[i - 1])\n",
      "  return fibo_series\n",
      "```\n"
     ]
    }
   ],
   "source": [
    "print(response.result)"
   ]
  },
  {
   "cell_type": "code",
   "execution_count": null,
   "id": "8cb4618b-38fc-49fc-8ad9-23561db5b94e",
   "metadata": {},
   "outputs": [],
   "source": []
  },
  {
   "cell_type": "code",
   "execution_count": null,
   "id": "0f5a68ca-a12c-4b0e-a84f-5995c60c6b4e",
   "metadata": {},
   "outputs": [],
   "source": []
  },
  {
   "cell_type": "code",
   "execution_count": 27,
   "id": "a6bf0de7",
   "metadata": {},
   "outputs": [],
   "source": [
    "prompt = \"\"\"Write fizzbuzz in python. Comment each line.\"\"\""
   ]
  },
  {
   "cell_type": "code",
   "execution_count": 17,
   "id": "74a87fd6",
   "metadata": {},
   "outputs": [],
   "source": [
    "response = genai.generate_text(\n",
    "  **defaults,\n",
    "  prompt=prompt\n",
    ")"
   ]
  },
  {
   "cell_type": "code",
   "execution_count": 18,
   "id": "6c62fea6",
   "metadata": {},
   "outputs": [
    {
     "name": "stdout",
     "output_type": "stream",
     "text": [
      "```python\n",
      "# FizzBuzz prints the numbers from 1 to 100, but for multiples of 3, it prints \"Fizz\" instead of the number, and for multiples of 5, it prints \"Buzz\". For numbers that are multiples of both 3 and 5, it prints \"FizzBuzz\".\n",
      "\n",
      "for number in range(1, 101):\n",
      "  # Check if the number is divisible by 3 and 5.\n",
      "  if number % 3 == 0 and number % 5 == 0:\n",
      "    print(\"FizzBuzz\")\n",
      "  # Check if the number is divisible by 3.\n",
      "  elif number % 3 == 0:\n",
      "    print(\"Fizz\")\n",
      "  # Check if the number is divisible by 5.\n",
      "  elif number % 5 == 0:\n",
      "    print(\"Buzz\")\n",
      "  # Otherwise, print the number.\n",
      "  else:\n",
      "    print(number)\n",
      "```\n"
     ]
    }
   ],
   "source": [
    "print(response.result)"
   ]
  },
  {
   "cell_type": "code",
   "execution_count": 19,
   "id": "9c296ae4-319c-4826-a9a5-8dfe72762ca8",
   "metadata": {},
   "outputs": [],
   "source": [
    "question = f\"\"\"\n",
    "How many rows in the table have a customer_id value greater than 100?\"\"\"\n",
    "prompt = f\"\"\"\n",
    "Your task is to convert the question delimited by triple backticks into a SQL query \\ \n",
    "```{question}```\n",
    "\"\"\""
   ]
  },
  {
   "cell_type": "code",
   "execution_count": 23,
   "id": "d2c3e36d-0fd4-48af-b001-03ba1f72542e",
   "metadata": {},
   "outputs": [],
   "source": [
    "response = genai.generate_text(\n",
    "  **defaults,\n",
    "  prompt=prompt\n",
    ")"
   ]
  },
  {
   "cell_type": "code",
   "execution_count": 24,
   "id": "ca67cada-04fc-411a-bba6-dc57752f5e1a",
   "metadata": {},
   "outputs": [
    {
     "name": "stdout",
     "output_type": "stream",
     "text": [
      "SELECT count(*) FROM customers WHERE customer_id > 100\n"
     ]
    }
   ],
   "source": [
    "print(response.result)"
   ]
  },
  {
   "cell_type": "code",
   "execution_count": null,
   "id": "18f2faf3-cfa4-45dc-b67b-5577011b9fb5",
   "metadata": {},
   "outputs": [],
   "source": []
  },
  {
   "cell_type": "code",
   "execution_count": 22,
   "id": "133d152a-cd64-4e85-906c-0964c96b06e8",
   "metadata": {},
   "outputs": [],
   "source": [
    "### following is the defog prompt suggested by Lak Laksmanan in https://www.linkedin.com/pulse/ten-tips-tricks-employ-your-gen-aiprojects-valliappa-lakshmanan/"
   ]
  },
  {
   "cell_type": "code",
   "execution_count": null,
   "id": "d2ff8c23-dd4a-4e02-9cc6-398f8d0bd10f",
   "metadata": {},
   "outputs": [],
   "source": [
    "prompt = \"\"\"### Instructions:\n",
    "Your task is convert a question into a SQL query, given a Postgres database schema.\n",
    "Adhere to these rules:\n",
    "- **Deliberately go through the question and database schema word by word** to appropriately answer the question\n",
    "- **Use Table Aliases** to prevent ambiguity. For example, `SELECT table1.col1, table2.col1 FROM table1 JOIN table2 ON table1.id = table2.id`.\n",
    "- When creating a ratio, always cast the numerator as float\n",
    "\n",
    "### Input:\n",
    "Generate a SQL query that answers the question `{question}`.\n",
    "This query will run on a database whose schema is represented in this string:\n",
    "CREATE TABLE products (\n",
    "  product_id INTEGER PRIMARY KEY, -- Unique ID for each product\n",
    "  name VARCHAR(50), -- Name of the product\n",
    "  price DECIMAL(10,2), -- Price of each unit of the product\n",
    "  quantity INTEGER  -- Current quantity in stock\n",
    ");\n",
    "\n",
    "CREATE TABLE customers (\n",
    "   customer_id INTEGER PRIMARY KEY, -- Unique ID for each customer\n",
    "   name VARCHAR(50), -- Name of the customer\n",
    "   address VARCHAR(100) -- Mailing address of the customer\n",
    ");\n",
    "\n",
    "...\n",
    "\n",
    "-- sales.product_id can be joined with products.product_id\n",
    "-- sales.customer_id can be joined with customers.customer_id\n",
    "-- sales.salesperson_id can be joined with salespeople.salesperson_id\n",
    "-- product_suppliers.product_id can be joined with products.product_id\n",
    "\n",
    "### Response:\n",
    "Based on your instructions, here is the SQL query I have generated to answer the question `{question}`:\n",
    "```sql\n",
    "\"\"\""
   ]
  },
  {
   "cell_type": "code",
   "execution_count": null,
   "id": "2c8299ad-d0b4-4365-afbc-4263c2107ace",
   "metadata": {},
   "outputs": [],
   "source": []
  },
  {
   "cell_type": "code",
   "execution_count": null,
   "id": "bc7cc83e-d35d-4ed6-8913-9e12673f28f9",
   "metadata": {},
   "outputs": [],
   "source": []
  }
 ],
 "metadata": {
  "environment": {
   "kernel": "python3",
   "name": "tf2-gpu.2-11.m110",
   "type": "gcloud",
   "uri": "gcr.io/deeplearning-platform-release/tf2-gpu.2-11:m110"
  },
  "kernelspec": {
   "display_name": "Python 3",
   "language": "python",
   "name": "python3"
  },
  "language_info": {
   "codemirror_mode": {
    "name": "ipython",
    "version": 3
   },
   "file_extension": ".py",
   "mimetype": "text/x-python",
   "name": "python",
   "nbconvert_exporter": "python",
   "pygments_lexer": "ipython3",
   "version": "3.10.12"
  }
 },
 "nbformat": 4,
 "nbformat_minor": 5
}
