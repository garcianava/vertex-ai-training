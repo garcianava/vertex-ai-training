{
 "cells": [
  {
   "cell_type": "code",
   "execution_count": 1,
   "id": "cf0a664f",
   "metadata": {},
   "outputs": [],
   "source": [
    "from vertexai.preview.language_models import TextGenerationModel"
   ]
  },
  {
   "cell_type": "code",
   "execution_count": 24,
   "id": "9ccffd1f",
   "metadata": {},
   "outputs": [],
   "source": [
    "# get a pretrained model for text\n",
    "model = TextGenerationModel.from_pretrained(\"text-bison@001\")"
   ]
  },
  {
   "cell_type": "markdown",
   "id": "7b37f7cc",
   "metadata": {},
   "source": [
    "### provide an example for the required task"
   ]
  },
  {
   "cell_type": "code",
   "execution_count": 25,
   "id": "c9b1f04d",
   "metadata": {},
   "outputs": [],
   "source": [
    "example = \"\"\"\n",
    "Text: Google Nest Wifi, network speed up to 1200Mpbs, 2.4GHz and 5GHz frequencies, WP3 protocol\n",
    "JSON: {\n",
    "  \\\"product\\\":\\\"Google Nest Wifi\\\",\n",
    "  \\\"speed\\\":\\\"1200Mpbs\\\",\n",
    "  \\\"frequencies\\\": [\\\"2.4GHz\\\", \\\"5GHz\\\"],\n",
    "  \\\"protocol\\\":\\\"WP3\\\"\n",
    "}\n",
    "\"\"\""
   ]
  },
  {
   "cell_type": "markdown",
   "id": "7ade343a",
   "metadata": {},
   "source": [
    "### provide the text to extract technical specifications from"
   ]
  },
  {
   "cell_type": "code",
   "execution_count": 26,
   "id": "39e91d99",
   "metadata": {},
   "outputs": [],
   "source": [
    "tech_specs_text = \"\"\"\n",
    "Google Pixel 7, 5G network, 8GB RAM, Tensor G2 processor, 128GB of storage, Lemongrass\n",
    "\"\"\""
   ]
  },
  {
   "cell_type": "markdown",
   "id": "ed4c55a7",
   "metadata": {},
   "source": [
    "### provide the prompt based on example and tech specs text"
   ]
  },
  {
   "cell_type": "code",
   "execution_count": 27,
   "id": "a3483d2d",
   "metadata": {},
   "outputs": [],
   "source": [
    "prompt = f\"\"\"\n",
    "Given the following example for Text-to-JSON, delimited by triple pipes,\n",
    "|||{example}|||, \n",
    "\n",
    "extract the technical specifications from the text below, delimited by triple backticks, in a JSON format.\n",
    "Text: ```{tech_specs_text}```\n",
    "JSON:\n",
    "\"\"\""
   ]
  },
  {
   "cell_type": "code",
   "execution_count": 28,
   "id": "0ef08006",
   "metadata": {},
   "outputs": [],
   "source": [
    "parameters = {\n",
    "    \"temperature\": 0.2,\n",
    "    \"max_output_tokens\": 1024,\n",
    "    \"top_p\": 0.8,\n",
    "    \"top_k\": 40\n",
    "}"
   ]
  },
  {
   "cell_type": "code",
   "execution_count": 29,
   "id": "f8592ebd",
   "metadata": {},
   "outputs": [],
   "source": [
    "response = model.predict(\n",
    "    prompt,\n",
    "    **parameters\n",
    ")"
   ]
  },
  {
   "cell_type": "code",
   "execution_count": 30,
   "id": "2ce90035",
   "metadata": {},
   "outputs": [
    {
     "name": "stdout",
     "output_type": "stream",
     "text": [
      "{\n",
      "  \"product\":\"Google Pixel 7\",\n",
      "  \"network\":\"5G\",\n",
      "  \"ram\":\"8GB\",\n",
      "  \"processor\":\"Tensor G2\",\n",
      "  \"storage\":\"128GB\",\n",
      "  \"color\":\"Lemongrass\"\n",
      "}\n"
     ]
    }
   ],
   "source": [
    "print(response.text)"
   ]
  },
  {
   "cell_type": "code",
   "execution_count": null,
   "id": "1a8792d5",
   "metadata": {},
   "outputs": [],
   "source": []
  }
 ],
 "metadata": {
  "kernelspec": {
   "display_name": "Python 3 (ipykernel)",
   "language": "python",
   "name": "python3"
  },
  "language_info": {
   "codemirror_mode": {
    "name": "ipython",
    "version": 3
   },
   "file_extension": ".py",
   "mimetype": "text/x-python",
   "name": "python",
   "nbconvert_exporter": "python",
   "pygments_lexer": "ipython3",
   "version": "3.9.12"
  }
 },
 "nbformat": 4,
 "nbformat_minor": 5
}
