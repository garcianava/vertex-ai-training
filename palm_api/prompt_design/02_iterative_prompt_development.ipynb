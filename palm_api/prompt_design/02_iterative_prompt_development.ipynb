{
 "cells": [
  {
   "cell_type": "code",
   "execution_count": null,
   "id": "5cfe854a",
   "metadata": {},
   "outputs": [],
   "source": [
    "from IPython.display import display, HTML"
   ]
  },
  {
   "cell_type": "code",
   "execution_count": 1,
   "id": "37e7dc28",
   "metadata": {},
   "outputs": [],
   "source": [
    "from vertexai.preview.language_models import TextGenerationModel"
   ]
  },
  {
   "cell_type": "code",
   "execution_count": 2,
   "id": "ed3cab80",
   "metadata": {},
   "outputs": [],
   "source": [
    "# get a pretrained model for text"
   ]
  },
  {
   "cell_type": "code",
   "execution_count": 3,
   "id": "204611e6",
   "metadata": {},
   "outputs": [],
   "source": [
    "model = TextGenerationModel.from_pretrained(\"text-bison@001\")"
   ]
  },
  {
   "cell_type": "markdown",
   "id": "32c4a237",
   "metadata": {},
   "source": [
    "### do not run the following reference cell"
   ]
  },
  {
   "cell_type": "code",
   "execution_count": null,
   "id": "9a5d4067",
   "metadata": {},
   "outputs": [],
   "source": [
    "predict(\n",
    "    prompt: str,\n",
    "    *,\n",
    "    max_output_tokens: int = 128,\n",
    "    temperature: float = 0.0,\n",
    "    top_k: int = 40,\n",
    "    top_p: float = 0.95\n",
    ") -> vertexai.language_models._language_models.TextGenerationResponse"
   ]
  },
  {
   "cell_type": "code",
   "execution_count": null,
   "id": "9e738bcf",
   "metadata": {},
   "outputs": [],
   "source": []
  },
  {
   "cell_type": "code",
   "execution_count": 8,
   "id": "4e0bf396",
   "metadata": {},
   "outputs": [],
   "source": [
    "def get_completion(prompt_text, max_output_tokens=1000, temperature=0.0):\n",
    "    response = model.predict(\n",
    "        prompt_text,\n",
    "        max_output_tokens=max_output_tokens,\n",
    "        temperature=temperature\n",
    "    )\n",
    "    return response.text"
   ]
  },
  {
   "cell_type": "code",
   "execution_count": null,
   "id": "c9c5f6aa",
   "metadata": {},
   "outputs": [],
   "source": []
  },
  {
   "cell_type": "markdown",
   "id": "cda9a951",
   "metadata": {},
   "source": [
    "## Use case from Open AI Prompt Design and Engineering Course"
   ]
  },
  {
   "cell_type": "markdown",
   "id": "843f0422",
   "metadata": {},
   "source": [
    "### Generate a marketing product description from a product fact sheet"
   ]
  },
  {
   "cell_type": "code",
   "execution_count": 5,
   "id": "59295b86",
   "metadata": {},
   "outputs": [],
   "source": [
    "fact_sheet_chair = \"\"\"\n",
    "OVERVIEW\n",
    "- Part of a beautiful family of mid-century inspired office furniture, \n",
    "including filing cabinets, desks, bookcases, meeting tables, and more.\n",
    "- Several options of shell color and base finishes.\n",
    "- Available with plastic back and front upholstery (SWC-100) \n",
    "or full upholstery (SWC-110) in 10 fabric and 6 leather options.\n",
    "- Base finish options are: stainless steel, matte black, \n",
    "gloss white, or chrome.\n",
    "- Chair is available with or without armrests.\n",
    "- Suitable for home or business settings.\n",
    "- Qualified for contract use.\n",
    "\n",
    "CONSTRUCTION\n",
    "- 5-wheel plastic coated aluminum base.\n",
    "- Pneumatic chair adjust for easy raise/lower action.\n",
    "\n",
    "DIMENSIONS\n",
    "- WIDTH 53 CM | 20.87”\n",
    "- DEPTH 51 CM | 20.08”\n",
    "- HEIGHT 80 CM | 31.50”\n",
    "- SEAT HEIGHT 44 CM | 17.32”\n",
    "- SEAT DEPTH 41 CM | 16.14”\n",
    "\n",
    "OPTIONS\n",
    "- Soft or hard-floor caster options.\n",
    "- Two choices of seat foam densities: \n",
    " medium (1.8 lb/ft3) or high (2.8 lb/ft3)\n",
    "- Armless or 8 position PU armrests \n",
    "\n",
    "MATERIALS\n",
    "SHELL BASE GLIDER\n",
    "- Cast Aluminum with modified nylon PA6/PA66 coating.\n",
    "- Shell thickness: 10 mm.\n",
    "SEAT\n",
    "- HD36 foam\n",
    "\n",
    "COUNTRY OF ORIGIN\n",
    "- Italy\n",
    "\"\"\""
   ]
  },
  {
   "cell_type": "code",
   "execution_count": 6,
   "id": "c5863d0d",
   "metadata": {},
   "outputs": [],
   "source": [
    "prompt = f\"\"\"\n",
    "Your task is to help a marketing team create a \n",
    "description for a retail website of a product based \n",
    "on a technical fact sheet.\n",
    "\n",
    "Write a product description based on the information \n",
    "provided in the technical specifications delimited by \n",
    "triple backticks.\n",
    "\n",
    "Technical specifications: ```{fact_sheet_chair}```\n",
    "\"\"\""
   ]
  },
  {
   "cell_type": "code",
   "execution_count": 9,
   "id": "7d32fd66",
   "metadata": {},
   "outputs": [
    {
     "name": "stdout",
     "output_type": "stream",
     "text": [
      "The SWC-100 is a mid-century inspired office chair that is available in a variety of colors and finishes. The chair features a five-wheel plastic coated aluminum base and a pneumatic chair adjust for easy raise/lower action. The seat is available in two choices of seat foam densities: medium (1.8 lb/ft3) or high (2.8 lb/ft3). The chair is also available with or without armrests.\n"
     ]
    }
   ],
   "source": [
    "response = get_completion(prompt, temperature=0.1)\n",
    "print(response)"
   ]
  },
  {
   "cell_type": "markdown",
   "id": "efe2d3fb",
   "metadata": {},
   "source": [
    "## Issue 1: The text is too long \n",
    "- Limit the number of words/sentences/characters."
   ]
  },
  {
   "cell_type": "code",
   "execution_count": 10,
   "id": "d8fe5936",
   "metadata": {},
   "outputs": [],
   "source": [
    "prompt = f\"\"\"\n",
    "Your task is to help a marketing team create a \n",
    "description for a retail website of a product based \n",
    "on a technical fact sheet.\n",
    "\n",
    "Write a product description based on the information \n",
    "provided in the technical specifications delimited by \n",
    "triple backticks.\n",
    "\n",
    "Use at most 50 words.\n",
    "\n",
    "Technical specifications: ```{fact_sheet_chair}```\n",
    "\"\"\""
   ]
  },
  {
   "cell_type": "code",
   "execution_count": 13,
   "id": "8d4631ff",
   "metadata": {},
   "outputs": [
    {
     "name": "stdout",
     "output_type": "stream",
     "text": [
      "The SWC-100 is a mid-century inspired office chair with a 5-wheel plastic coated aluminum base and pneumatic chair adjust for easy raise/lower action.\n"
     ]
    }
   ],
   "source": [
    "response = get_completion(prompt, temperature=0.0)\n",
    "print(response)"
   ]
  },
  {
   "cell_type": "code",
   "execution_count": 12,
   "id": "c6c57e87",
   "metadata": {},
   "outputs": [
    {
     "name": "stdout",
     "output_type": "stream",
     "text": [
      "The SWC chair is a beautiful, mid-century inspired office chair that is available in a variety of colors and finishes. It is comfortable and durable, making it perfect for both home and business use.\n"
     ]
    }
   ],
   "source": [
    "response = get_completion(prompt, temperature=0.4)\n",
    "print(response)"
   ]
  },
  {
   "cell_type": "code",
   "execution_count": 14,
   "id": "f5a3a53e",
   "metadata": {},
   "outputs": [
    {
     "data": {
      "text/plain": [
       "23"
      ]
     },
     "execution_count": 14,
     "metadata": {},
     "output_type": "execute_result"
    }
   ],
   "source": [
    "len(response.split(' '))"
   ]
  },
  {
   "cell_type": "markdown",
   "id": "c3f5b649",
   "metadata": {},
   "source": [
    "## Issue 2. Text focuses on the wrong details\n",
    "- Ask it to focus on the aspects that are relevant to the intended audience."
   ]
  },
  {
   "cell_type": "code",
   "execution_count": 20,
   "id": "c4d3f65b",
   "metadata": {},
   "outputs": [],
   "source": [
    "prompt = f\"\"\"\n",
    "Your task is to help a marketing team create a \n",
    "description for a retail website of a product based \n",
    "on a technical fact sheet.\n",
    "\n",
    "Write a product description based on the information \n",
    "provided in the technical specifications delimited by \n",
    "triple backticks.\n",
    "\n",
    "The description is intended for furniture retailers, \n",
    "so should be technical in nature and focus on the \n",
    "materials the product is constructed from.\n",
    "\n",
    "Use at least 40 words.\n",
    "Use at most 50 words.\n",
    "\n",
    "Technical specifications: ```{fact_sheet_chair}```\n",
    "\"\"\""
   ]
  },
  {
   "cell_type": "code",
   "execution_count": 23,
   "id": "dfc61566",
   "metadata": {},
   "outputs": [
    {
     "name": "stdout",
     "output_type": "stream",
     "text": [
      "The SWC-100 is a mid-century inspired office chair with a 5-wheel plastic coated aluminum base and pneumatic chair adjust for easy raise/lower action. It is available in several options of shell color and base finishes, and with or without armrests. The chair is suitable for home or business settings and is qualified for contract use.\n"
     ]
    }
   ],
   "source": [
    "response = get_completion(prompt, temperature=0.0)\n",
    "print(response)"
   ]
  },
  {
   "cell_type": "code",
   "execution_count": 24,
   "id": "d2ff0c43",
   "metadata": {},
   "outputs": [
    {
     "data": {
      "text/plain": [
       "55"
      ]
     },
     "execution_count": 24,
     "metadata": {},
     "output_type": "execute_result"
    }
   ],
   "source": [
    "len(response.split(' '))"
   ]
  },
  {
   "cell_type": "code",
   "execution_count": null,
   "id": "8366724a",
   "metadata": {},
   "outputs": [],
   "source": []
  },
  {
   "cell_type": "code",
   "execution_count": 25,
   "id": "0a0487a9",
   "metadata": {},
   "outputs": [],
   "source": [
    "prompt = f\"\"\"\n",
    "Your task is to help a marketing team create a \n",
    "description for a retail website of a product based \n",
    "on a technical fact sheet.\n",
    "\n",
    "Write a product description based on the information \n",
    "provided in the technical specifications delimited by \n",
    "triple backticks.\n",
    "\n",
    "The description is intended for furniture retailers, \n",
    "so should be technical in nature and focus on the \n",
    "materials the product is constructed from.\n",
    "\n",
    "At the end of the description, include every 7-character \n",
    "Product ID in the technical specification.\n",
    "\n",
    "Use at least 40 words.\n",
    "Use at most 50 words.\n",
    "\n",
    "Technical specifications: ```{fact_sheet_chair}```\n",
    "\"\"\""
   ]
  },
  {
   "cell_type": "code",
   "execution_count": 28,
   "id": "4d95e85c",
   "metadata": {},
   "outputs": [
    {
     "name": "stdout",
     "output_type": "stream",
     "text": [
      "The SWC-100 and SWC-110 office chairs are made of cast aluminum with a modified nylon PA6/PA66 coating. The seat is made of HD36 foam. The chairs are available in several colors and finishes.\n"
     ]
    }
   ],
   "source": [
    "response = get_completion(prompt, max_output_tokens=1000, temperature=0.0)\n",
    "print(response)"
   ]
  },
  {
   "cell_type": "code",
   "execution_count": 29,
   "id": "cb73141e",
   "metadata": {},
   "outputs": [
    {
     "name": "stdout",
     "output_type": "stream",
     "text": [
      "The SWC-100 and SWC-110 office chairs are made of cast aluminum with a modified nylon PA6/PA66 coating and HD36 foam. They are available in several options of shell color and base finishes, and are suitable for home or business settings.\n"
     ]
    }
   ],
   "source": [
    "response = get_completion(prompt, max_output_tokens=1000, temperature=0.1)\n",
    "print(response)"
   ]
  },
  {
   "cell_type": "code",
   "execution_count": null,
   "id": "5b2cea78",
   "metadata": {},
   "outputs": [],
   "source": []
  },
  {
   "cell_type": "code",
   "execution_count": 34,
   "id": "a774bd53",
   "metadata": {},
   "outputs": [],
   "source": [
    "prompt = f\"\"\"\n",
    "Your task is to help a marketing team create a \n",
    "description for a retail website of a product based \n",
    "on a technical fact sheet.\n",
    "\n",
    "Write a product description based on the information \n",
    "provided in the technical specifications delimited by \n",
    "triple backticks.\n",
    "\n",
    "The description is intended for furniture retailers, \n",
    "so should be technical in nature and focus on the \n",
    "materials the product is constructed from.\n",
    "\n",
    "At the end of the description, include every 7-character \n",
    "Product ID in the technical specification.\n",
    "\n",
    "After the description, include a table that gives the \n",
    "product's dimensions. The table should have two columns.\n",
    "In the first column include the name of the dimension. \n",
    "In the second column include the measurements in centimeters and inches.\n",
    "\n",
    "Give the table the title 'Product Dimensions'.\n",
    "\n",
    "Format everything as HTML that can be used in a website. \n",
    "Place the description in a <div> element.\n",
    "\n",
    "Technical specifications: ```{fact_sheet_chair}```\n",
    "\"\"\""
   ]
  },
  {
   "cell_type": "code",
   "execution_count": 35,
   "id": "a2d804df",
   "metadata": {},
   "outputs": [
    {
     "name": "stdout",
     "output_type": "stream",
     "text": [
      "<div>\n",
      "The SWC-100 is a mid-century inspired office chair with a \n",
      "5-wheel plastic coated aluminum base and pneumatic chair adjust \n",
      "for easy raise/lower action. It is available with plastic back and \n",
      "front upholstery (SWC-100) or full upholstery (SWC-110) in 10 \n",
      "fabric and 6 leather options. Base finish options are: stainless \n",
      "steel, matte black, gloss white, or chrome. Chair is available \n",
      "with or without armrests. Suitable for home or business settings. \n",
      "Qualified for contract use.\n",
      "\n",
      "Materials:\n",
      "- Cast Aluminum with modified nylon PA6/PA66 coating.\n",
      "- Shell thickness: 10 mm.\n",
      "- HD36 foam\n",
      "\n",
      "Product ID: SWC-100\n",
      "</div>\n",
      "\n",
      "<table>\n",
      "<caption>Product Dimensions</caption>\n",
      "<tr>\n",
      "<th>Dimension</th>\n",
      "<th>Centimeters</th>\n",
      "<th>Inches</th>\n",
      "</tr>\n",
      "<tr>\n",
      "<td>Width</td>\n",
      "<td>53</td>\n",
      "<td>20.87</td>\n",
      "</tr>\n",
      "<tr>\n",
      "<td>Depth</td>\n",
      "<td>51</td>\n",
      "<td>20.08</td>\n",
      "</tr>\n",
      "<tr>\n",
      "<td>Height</td>\n",
      "<td>80</td>\n",
      "<td>31.50</td>\n",
      "</tr>\n",
      "<tr>\n",
      "<td>Seat Height</td>\n",
      "<td>44</td>\n",
      "<td>17.32</td>\n",
      "</tr>\n",
      "<tr>\n",
      "<td>Seat Depth</td>\n",
      "<td>41</td>\n",
      "<td>16.14</td>\n",
      "</tr>\n",
      "</table>\n"
     ]
    }
   ],
   "source": [
    "response = get_completion(prompt, max_output_tokens=1000, temperature=0.0)\n",
    "print(response)"
   ]
  },
  {
   "cell_type": "code",
   "execution_count": 36,
   "id": "927771a2",
   "metadata": {},
   "outputs": [
    {
     "data": {
      "text/html": [
       "<div>\n",
       "The SWC-100 is a mid-century inspired office chair with a \n",
       "5-wheel plastic coated aluminum base and pneumatic chair adjust \n",
       "for easy raise/lower action. It is available with plastic back and \n",
       "front upholstery (SWC-100) or full upholstery (SWC-110) in 10 \n",
       "fabric and 6 leather options. Base finish options are: stainless \n",
       "steel, matte black, gloss white, or chrome. Chair is available \n",
       "with or without armrests. Suitable for home or business settings. \n",
       "Qualified for contract use.\n",
       "\n",
       "Materials:\n",
       "- Cast Aluminum with modified nylon PA6/PA66 coating.\n",
       "- Shell thickness: 10 mm.\n",
       "- HD36 foam\n",
       "\n",
       "Product ID: SWC-100\n",
       "</div>\n",
       "\n",
       "<table>\n",
       "<caption>Product Dimensions</caption>\n",
       "<tr>\n",
       "<th>Dimension</th>\n",
       "<th>Centimeters</th>\n",
       "<th>Inches</th>\n",
       "</tr>\n",
       "<tr>\n",
       "<td>Width</td>\n",
       "<td>53</td>\n",
       "<td>20.87</td>\n",
       "</tr>\n",
       "<tr>\n",
       "<td>Depth</td>\n",
       "<td>51</td>\n",
       "<td>20.08</td>\n",
       "</tr>\n",
       "<tr>\n",
       "<td>Height</td>\n",
       "<td>80</td>\n",
       "<td>31.50</td>\n",
       "</tr>\n",
       "<tr>\n",
       "<td>Seat Height</td>\n",
       "<td>44</td>\n",
       "<td>17.32</td>\n",
       "</tr>\n",
       "<tr>\n",
       "<td>Seat Depth</td>\n",
       "<td>41</td>\n",
       "<td>16.14</td>\n",
       "</tr>\n",
       "</table>"
      ],
      "text/plain": [
       "<IPython.core.display.HTML object>"
      ]
     },
     "metadata": {},
     "output_type": "display_data"
    }
   ],
   "source": [
    "display(HTML(response))"
   ]
  },
  {
   "cell_type": "code",
   "execution_count": null,
   "id": "2499921e",
   "metadata": {},
   "outputs": [],
   "source": []
  }
 ],
 "metadata": {
  "kernelspec": {
   "display_name": "Python 3 (ipykernel)",
   "language": "python",
   "name": "python3"
  },
  "language_info": {
   "codemirror_mode": {
    "name": "ipython",
    "version": 3
   },
   "file_extension": ".py",
   "mimetype": "text/x-python",
   "name": "python",
   "nbconvert_exporter": "python",
   "pygments_lexer": "ipython3",
   "version": "3.9.12"
  }
 },
 "nbformat": 4,
 "nbformat_minor": 5
}
