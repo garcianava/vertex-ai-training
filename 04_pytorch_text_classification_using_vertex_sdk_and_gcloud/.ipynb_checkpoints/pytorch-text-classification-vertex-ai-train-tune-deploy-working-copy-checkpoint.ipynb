{
 "cells": [
  {
   "cell_type": "code",
   "execution_count": null,
   "metadata": {
    "id": "46d6c164544f"
   },
   "outputs": [],
   "source": [
    "# Copyright 2020 Google LLC\n",
    "#\n",
    "# Licensed under the Apache License, Version 2.0 (the \"License\");\n",
    "# you may not use this file except in compliance with the License.\n",
    "# You may obtain a copy of the License at\n",
    "#\n",
    "#     https://www.apache.org/licenses/LICENSE-2.0\n",
    "#\n",
    "# Unless required by applicable law or agreed to in writing, software\n",
    "# distributed under the License is distributed on an \"AS IS\" BASIS,\n",
    "# WITHOUT WARRANTIES OR CONDITIONS OF ANY KIND, either express or implied.\n",
    "# See the License for the specific language governing permissions and\n",
    "# limitations under the License."
   ]
  },
  {
   "cell_type": "markdown",
   "metadata": {
    "id": "rEJBSTyZIrIb"
   },
   "source": [
    "# Training, Tuning and Deploying a PyTorch Text Classification Model on [Vertex AI](https://cloud.google.com/vertex-ai)\n",
    "## Fine-tuning pre-trained [BERT](https://huggingface.co/bert-base-cased) model for sentiment classification task "
   ]
  },
  {
   "cell_type": "markdown",
   "metadata": {
    "id": "X4cRE8IbIrIV"
   },
   "source": [
    "# Overview\n",
    "\n",
    "This example is inspired from Token-Classification [notebook](https://github.com/huggingface/notebooks/blob/master/examples/token_classification.ipynb) and [run_glue.py](https://github.com/huggingface/transformers/blob/v2.5.0/examples/run_glue.py). \n",
    "We will be fine-tuning **`bert-base-cased`** (pre-trained) model for sentiment classification task.\n",
    "You can find the details about this model at [Hugging Face Hub](https://huggingface.co/bert-base-cased).\n",
    "\n",
    "For more notebooks with the state of the art PyTorch/Tensorflow/JAX, you can explore [Hugging FaceNotebooks](https://huggingface.co/transformers/notebooks.html).\n",
    "\n",
    "### Dataset\n",
    "\n",
    "We will be using [IMDB movie review dataset](https://huggingface.co/datasets/imdb) from [Hugging Face Datasets](https://huggingface.co/datasets).\n",
    "\n",
    "### Objective\n",
    "\n",
    "How to **Build, Train, Tune and Deploy PyTorch models on [Vertex AI](https://cloud.google.com/vertex-ai)** and emphasize first class support for training and deploying PyTorch models on Vertex AI. \n",
    "\n",
    "### Table of Contents\n",
    "\n",
    "This notebook covers following sections:\n",
    "\n",
    "- [Creating Notebooks instance](#Creating-Notebooks-instance-on-Google-Cloud)\n",
    "- [Training](#Training)\n",
    "    - [Run Training Locally in the Notebook](#Training-locally-in-the-notebook)\n",
    "    - [Run Training Job on Vertex AI](#Training-on-Vertex-AI)\n",
    "        - [Training with pre-built container](#Run-Custom-Job-on-Vertex-AI-Training-with-a-pre-built-container)\n",
    "        - [Training with custom container](#Run-Custom-Job-on-Vertex-AI-Training-with-custom-container)\n",
    "- [Tuning](#Hyperparameter-Tuning) \n",
    "    - [Run Hyperparameter Tuning job on Vertex AI](#Run-Hyperparameter-Tuning-Job-on-Vertex-AI)\n",
    "- [Deploying](#Deploying)\n",
    "    - [Deploying model on Vertex AI Predictions with custom container](#Deploying-model-on-Vertex AI-Predictions-with-custom-container)\n",
    "\n",
    "### Costs \n",
    "\n",
    "This tutorial uses billable components of Google Cloud Platform (GCP):\n",
    "\n",
    "* [Vertex AI Workbench](https://cloud.google.com/vertex-ai-workbench)\n",
    "* [Vertex AI Training](https://cloud.google.com/vertex-ai/docs/training/custom-training)\n",
    "* [Vertex AI Predictions](https://cloud.google.com/vertex-ai/docs/predictions/getting-predictions)\n",
    "* [Cloud Storage](https://cloud.google.com/storage)\n",
    "* [Container Registry](https://cloud.google.com/container-registry)\n",
    "* [Cloud Build](https://cloud.google.com/build) *[Optional]*\n",
    "\n",
    "Learn about [Vertex AI Pricing](https://cloud.google.com/vertex-ai/pricing), [Cloud Storage Pricing](https://cloud.google.com/storage/pricing) and [Cloud Build Pricing](https://cloud.google.com/build/pricing), and use the [Pricing Calculator](https://cloud.google.com/products/calculator/) to generate a cost estimate based on your projected usage."
   ]
  },
  {
   "cell_type": "markdown",
   "metadata": {
    "id": "cda8ab8b7a04"
   },
   "source": [
    "## Creating Notebooks instance on Google Cloud\n",
    "\n",
    "This notebook assumes you are working with [PyTorch 1.9 DLVM](https://cloud.google.com/ai-platform/notebooks/docs/images) development environment with GPU runtime. You can create a Notebook instance using [Google Cloud Console](https://cloud.google.com/notebooks/docs/create-new) or [`gcloud` command](https://cloud.google.com/sdk/gcloud/reference/notebooks/instances/create). \\\n",
    "\n",
    "<span style=\"color:red\">\n",
    "    Working copy: do not attach a V100 GPU to the instance, use a T4 instead! <br>\n",
    "</span>\n",
    "\n",
    "#### use the code in the file 'spin_up_user_managed_notebook.txt' from gcloud"
   ]
  },
  {
   "cell_type": "markdown",
   "metadata": {
    "id": "5178273783dd"
   },
   "source": [
    "### Set up your local development environment\n",
    "\n",
    "** User-managed Notebook from Vertex AI, then our environment already meets all the requirements to run this notebook."
   ]
  },
  {
   "cell_type": "markdown",
   "metadata": {
    "id": "9a864c22307c"
   },
   "source": [
    "### Install additional packages\n",
    "\n",
    "Python dependencies required for this notebook are [Transformers](https://pypi.org/project/transformers/), [Datasets](https://pypi.org/project/datasets/) and [hypertune](https://github.com/GoogleCloudPlatform/cloudml-hypertune) will be installed in the Notebooks instance itself."
   ]
  },
  {
   "cell_type": "code",
   "execution_count": 1,
   "metadata": {
    "id": "1fd00fa70a2a"
   },
   "outputs": [],
   "source": [
    "import os\n",
    "\n",
    "# The Google Cloud Notebook product has specific requirements\n",
    "IS_GOOGLE_CLOUD_NOTEBOOK = os.path.exists(\"/opt/deeplearning/metadata/env_version\")\n",
    "\n",
    "# Google Cloud Notebook requires dependencies to be installed with '--user'\n",
    "USER_FLAG = \"\"\n",
    "if IS_GOOGLE_CLOUD_NOTEBOOK:\n",
    "    USER_FLAG = \"--user\""
   ]
  },
  {
   "cell_type": "markdown",
   "metadata": {},
   "source": [
    "### avoid using ! to execute commands outside the Notebook, use a JupyterLab terminal instead!"
   ]
  },
  {
   "cell_type": "code",
   "execution_count": 2,
   "metadata": {},
   "outputs": [
    {
     "name": "stdout",
     "output_type": "stream",
     "text": [
      "/usr/local/cuda/bin:/opt/conda/bin:/opt/conda/condabin:/usr/local/bin:/usr/bin:/bin:/usr/local/games:/usr/games\n"
     ]
    }
   ],
   "source": [
    "! echo $PATH"
   ]
  },
  {
   "cell_type": "code",
   "execution_count": 3,
   "metadata": {},
   "outputs": [],
   "source": [
    "! export PATH=\"$PATH:/home/jupyter/.local/bin\""
   ]
  },
  {
   "cell_type": "code",
   "execution_count": 4,
   "metadata": {},
   "outputs": [
    {
     "name": "stdout",
     "output_type": "stream",
     "text": [
      "/usr/local/cuda/bin:/opt/conda/bin:/opt/conda/condabin:/usr/local/bin:/usr/bin:/bin:/usr/local/games:/usr/games\n"
     ]
    }
   ],
   "source": [
    "! echo $PATH"
   ]
  },
  {
   "cell_type": "code",
   "execution_count": 5,
   "metadata": {
    "id": "2974254ea6be"
   },
   "outputs": [
    {
     "name": "stdout",
     "output_type": "stream",
     "text": [
      "\u001b[33m  WARNING: The script huggingface-cli is installed in '/home/jupyter/.local/bin' which is not on PATH.\n",
      "  Consider adding this directory to PATH or, if you prefer to suppress this warning, use --no-warn-script-location.\u001b[0m\n",
      "\u001b[33m  WARNING: The script transformers-cli is installed in '/home/jupyter/.local/bin' which is not on PATH.\n",
      "  Consider adding this directory to PATH or, if you prefer to suppress this warning, use --no-warn-script-location.\u001b[0m\n",
      "\u001b[33m  WARNING: The script datasets-cli is installed in '/home/jupyter/.local/bin' which is not on PATH.\n",
      "  Consider adding this directory to PATH or, if you prefer to suppress this warning, use --no-warn-script-location.\u001b[0m\n",
      "\u001b[31mERROR: pip's dependency resolver does not currently take into account all the packages that are installed. This behaviour is the source of the following dependency conflicts.\n",
      "gcsfs 2021.10.1 requires fsspec==2021.10.1, but you have fsspec 2023.1.0 which is incompatible.\u001b[0m\n",
      "\u001b[33m  WARNING: The script tqdm is installed in '/home/jupyter/.local/bin' which is not on PATH.\n",
      "  Consider adding this directory to PATH or, if you prefer to suppress this warning, use --no-warn-script-location.\u001b[0m\n",
      "\u001b[31mERROR: pip's dependency resolver does not currently take into account all the packages that are installed. This behaviour is the source of the following dependency conflicts.\n",
      "pandas-profiling 3.0.0 requires tangled-up-in-unicode==0.1.0, but you have tangled-up-in-unicode 0.2.0 which is incompatible.\u001b[0m\n"
     ]
    }
   ],
   "source": [
    "!pip -q install {USER_FLAG} --upgrade transformers\n",
    "!pip -q install {USER_FLAG} --upgrade datasets\n",
    "!pip -q install {USER_FLAG} --upgrade tqdm\n",
    "!pip -q install {USER_FLAG} --upgrade cloudml-hypertune"
   ]
  },
  {
   "cell_type": "markdown",
   "metadata": {
    "id": "e0c1dcadc2c8"
   },
   "source": [
    "We will be using [Vertex AI SDK for Python](https://cloud.google.com/vertex-ai/docs/start/client-libraries#python) to interact with Vertex AI services. The high-level `aiplatform` library is designed to simplify common data science workflows by using wrapper classes and opinionated defaults. \n",
    "\n",
    "#### Install Vertex AI SDK for Python"
   ]
  },
  {
   "cell_type": "code",
   "execution_count": 6,
   "metadata": {
    "id": "ab3fb1551abe"
   },
   "outputs": [
    {
     "name": "stdout",
     "output_type": "stream",
     "text": [
      "\u001b[33m  WARNING: The script tb-gcp-uploader is installed in '/home/jupyter/.local/bin' which is not on PATH.\n",
      "  Consider adding this directory to PATH or, if you prefer to suppress this warning, use --no-warn-script-location.\u001b[0m\n",
      "\u001b[31mERROR: pip's dependency resolver does not currently take into account all the packages that are installed. This behaviour is the source of the following dependency conflicts.\n",
      "gcsfs 2021.10.1 requires fsspec==2021.10.1, but you have fsspec 2023.1.0 which is incompatible.\u001b[0m\n"
     ]
    }
   ],
   "source": [
    "!pip -q install {USER_FLAG} --upgrade google-cloud-aiplatform"
   ]
  },
  {
   "cell_type": "markdown",
   "metadata": {},
   "source": [
    "#### accelerate is required for running Transformers on PyTorch (#### this setup is missing in the original notebook!)"
   ]
  },
  {
   "cell_type": "code",
   "execution_count": 7,
   "metadata": {},
   "outputs": [
    {
     "name": "stdout",
     "output_type": "stream",
     "text": [
      "Collecting accelerate\n",
      "  Downloading accelerate-0.20.3-py3-none-any.whl (227 kB)\n",
      "     |████████████████████████████████| 227 kB 7.2 MB/s            \n",
      "\u001b[?25hRequirement already satisfied: pyyaml in /opt/conda/lib/python3.7/site-packages (from accelerate) (6.0)\n",
      "Requirement already satisfied: numpy>=1.17 in /opt/conda/lib/python3.7/site-packages (from accelerate) (1.19.5)\n",
      "Requirement already satisfied: packaging>=20.0 in /opt/conda/lib/python3.7/site-packages (from accelerate) (21.0)\n",
      "Requirement already satisfied: torch>=1.6.0 in /opt/conda/lib/python3.7/site-packages (from accelerate) (1.9.0)\n",
      "Requirement already satisfied: psutil in /opt/conda/lib/python3.7/site-packages (from accelerate) (5.8.0)\n",
      "Requirement already satisfied: pyparsing>=2.0.2 in /opt/conda/lib/python3.7/site-packages (from packaging>=20.0->accelerate) (2.4.7)\n",
      "Requirement already satisfied: typing_extensions in /opt/conda/lib/python3.7/site-packages (from torch>=1.6.0->accelerate) (3.10.0.2)\n",
      "Installing collected packages: accelerate\n",
      "Successfully installed accelerate-0.20.3\n"
     ]
    }
   ],
   "source": [
    "! pip install accelerate -U"
   ]
  },
  {
   "cell_type": "markdown",
   "metadata": {
    "id": "f361541eff05"
   },
   "source": [
    "### Restart the Kernel\n",
    "\n",
    "After you install the additional packages, you need to restart the notebook kernel so it can find the packages."
   ]
  },
  {
   "cell_type": "code",
   "execution_count": 8,
   "metadata": {
    "id": "2d77a223d63d"
   },
   "outputs": [],
   "source": [
    "# Automatically restart kernel after installs\n",
    "import os\n",
    "\n",
    "if not os.getenv(\"IS_TESTING\"):\n",
    "    # Automatically restart kernel after installs\n",
    "    import IPython\n",
    "\n",
    "    app = IPython.Application.instance()\n",
    "    app.kernel.do_shutdown(True)"
   ]
  },
  {
   "cell_type": "markdown",
   "metadata": {
    "id": "e1e4d8f0c294"
   },
   "source": [
    "### Set up your Google Cloud project\n",
    "\n",
    "**The following steps are required, regardless of your notebook environment.**\n",
    "\n",
    "1. [Select or create a Google Cloud project](https://console.cloud.google.com/cloud-resource-manager). When you first create an account, you get a $300 free credit towards your compute/storage costs.\n",
    "1. [Make sure that billing is enabled for your project](https://cloud.google.com/billing/docs/how-to/modify-project).\n",
    "1. Enable following APIs in your project required for running the tutorial\n",
    "    - [Vertex AI API](https://console.cloud.google.com/flows/enableapi?apiid=aiplatform.googleapis.com)\n",
    "    - [Cloud Storage API](https://console.cloud.google.com/flows/enableapi?apiid=storage.googleapis.com)\n",
    "    - [Container Registry API](https://console.cloud.google.com/flows/enableapi?apiid=containerregistry.googleapis.com)\n",
    "    - [Cloud Build API](https://console.cloud.google.com/flows/enableapi?apiid=cloudbuild.googleapis.com)\n",
    "1. If you are running this notebook locally, you will need to install the [Cloud SDK](https://cloud.google.com/sdk).\n",
    "1. Enter your project ID in the cell below. Then run the cell to make sure the Cloud SDK uses the right project for all the commands in this notebook.\n",
    "\n",
    "**Note**: Jupyter runs lines prefixed with `!` as shell commands, and it interpolates Python variables prefixed with `$` into these commands."
   ]
  },
  {
   "cell_type": "markdown",
   "metadata": {
    "id": "36a4450b7c2e"
   },
   "source": [
    "#### Set your project ID\n",
    "\n",
    "**If you don't know your project ID**, you may be able to get your project ID using `gcloud` or `google.auth`."
   ]
  },
  {
   "cell_type": "code",
   "execution_count": 1,
   "metadata": {
    "id": "019e546007a3"
   },
   "outputs": [
    {
     "name": "stdout",
     "output_type": "stream",
     "text": [
      "Project ID:  spheric-rhythm-234515\n",
      "Please set your project id before proceeding to next step. Currently it's set as spheric-rhythm-234515\n"
     ]
    }
   ],
   "source": [
    "PROJECT_ID = \"spheric-rhythm-234515\"\n",
    "\n",
    "import os\n",
    "\n",
    "# Get your Google Cloud project ID using google.auth\n",
    "if not os.getenv(\"IS_TESTING\"):\n",
    "    import google.auth\n",
    "\n",
    "    _, PROJECT_ID = google.auth.default()\n",
    "    print(\"Project ID: \", PROJECT_ID)\n",
    "\n",
    "# validate PROJECT_ID\n",
    "if PROJECT_ID == \"\" or PROJECT_ID is None or PROJECT_ID == \"spheric-rhythm-234515\":\n",
    "    print(\n",
    "        f\"Please set your project id before proceeding to next step. Currently it's set as {PROJECT_ID}\"\n",
    "    )"
   ]
  },
  {
   "cell_type": "markdown",
   "metadata": {
    "id": "0c9906f72b18"
   },
   "source": [
    "#### Timestamp is defined here (Do not use it!)\n",
    "\n",
    "If you are in a live tutorial session, you might be using a shared test account or project. To avoid name collisions between users on resources created, you create a timestamp for each instance session, and append it onto the name of resources you create in this tutorial."
   ]
  },
  {
   "cell_type": "code",
   "execution_count": 2,
   "metadata": {
    "id": "e90182316f63"
   },
   "outputs": [
    {
     "name": "stdout",
     "output_type": "stream",
     "text": [
      "TIMESTAMP = 20230802175837\n"
     ]
    }
   ],
   "source": [
    "from datetime import datetime\n",
    "\n",
    "\n",
    "def get_timestamp():\n",
    "    return datetime.now().strftime(\"%Y%m%d%H%M%S\")\n",
    "\n",
    "\n",
    "TIMESTAMP = get_timestamp()\n",
    "print(f\"TIMESTAMP = {TIMESTAMP}\")"
   ]
  },
  {
   "cell_type": "markdown",
   "metadata": {
    "id": "4d96aec55eba"
   },
   "source": [
    "### Authenticate your Google Cloud account\n",
    "**If you are using Google Cloud Notebooks**, your environment is already authenticated. **Skip this step!!**."
   ]
  },
  {
   "cell_type": "code",
   "execution_count": 3,
   "metadata": {
    "id": "535223fa4b84"
   },
   "outputs": [],
   "source": [
    "import os\n",
    "import sys\n",
    "\n",
    "# If you are running this notebook in Colab, run this cell and follow the\n",
    "# instructions to authenticate your GCP account. This provides access to your\n",
    "# Cloud Storage bucket and lets you submit training jobs and prediction\n",
    "# requests.\n",
    "\n",
    "# The Google Cloud Notebook product has specific requirements\n",
    "IS_GOOGLE_CLOUD_NOTEBOOK = os.path.exists(\"/opt/deeplearning/metadata/env_version\")\n",
    "\n",
    "# If on Google Cloud Notebooks, then don't execute this code\n",
    "if not IS_GOOGLE_CLOUD_NOTEBOOK:\n",
    "    if \"google.colab\" in sys.modules:\n",
    "        from google.colab import auth as google_auth\n",
    "\n",
    "        google_auth.authenticate_user()\n",
    "\n",
    "    # If you are running this notebook locally, replace the string below with the\n",
    "    # path to your service account key and run this cell to authenticate your GCP\n",
    "    # account.\n",
    "    elif not os.getenv(\"IS_TESTING\"):\n",
    "        %env GOOGLE_APPLICATION_CREDENTIALS ''"
   ]
  },
  {
   "cell_type": "markdown",
   "metadata": {
    "id": "35094e21d888"
   },
   "source": [
    "### Create a Cloud Storage bucket\n",
    "\n",
    "**The following steps are required, regardless of your notebook environment.**\n",
    "\n",
    "When you submit a training job using the Cloud SDK, you upload a Python package containing your training code to a Cloud Storage bucket. Vertex AI runs the code from this package. In this tutorial, Vertex AI also saves the trained model that results from your job in the same bucket. Using this model artifact, you can then create Vertex AI model and endpoint resources in order to serve online predictions.\n",
    "\n",
    "Set the name of your Cloud Storage bucket below. It must be unique across all Cloud Storage buckets.\n",
    "\n",
    "You may also change the `REGION` variable, which is used for operations throughout the rest of this notebook. Make sure to [choose a region where Vertex AI services are available](https://cloud.google.com/vertex-ai/docs/general/locations#available_regions). You may not use a Multi-Regional Storage bucket for training with Vertex AI."
   ]
  },
  {
   "cell_type": "code",
   "execution_count": 4,
   "metadata": {
    "id": "e07102312039"
   },
   "outputs": [],
   "source": [
    "BUCKET_NAME = \"gs://pytorch-text-classification-bucket\"  # <---CHANGE THIS TO YOUR BUCKET\n",
    "REGION = \"us-west4\"  # @param {type:\"string\"}"
   ]
  },
  {
   "cell_type": "markdown",
   "metadata": {},
   "source": [
    "### Skip the following cell to keep the bucket name as in the previous cell (no timestamp added)"
   ]
  },
  {
   "cell_type": "code",
   "execution_count": 5,
   "metadata": {
    "id": "13b11a8299d6"
   },
   "outputs": [],
   "source": [
    "# if BUCKET_NAME == \"\" or BUCKET_NAME is None or BUCKET_NAME == \"gs://pytorch-text-classification-bucket\":\n",
    "#     BUCKET_NAME = f\"gs://{PROJECT_ID}aip-{get_timestamp()}\""
   ]
  },
  {
   "cell_type": "code",
   "execution_count": 6,
   "metadata": {
    "id": "4908f26b84be"
   },
   "outputs": [
    {
     "name": "stdout",
     "output_type": "stream",
     "text": [
      "PROJECT_ID = spheric-rhythm-234515\n",
      "BUCKET_NAME = gs://pytorch-text-classification-bucket\n",
      "REGION = us-west4\n"
     ]
    }
   ],
   "source": [
    "print(f\"PROJECT_ID = {PROJECT_ID}\")\n",
    "print(f\"BUCKET_NAME = {BUCKET_NAME}\")\n",
    "print(f\"REGION = {REGION}\")"
   ]
  },
  {
   "cell_type": "markdown",
   "metadata": {
    "id": "6a3aae29644f"
   },
   "source": [
    "---\n",
    "\n",
    "**Only if your bucket doesn't already exist**: Run the following cell to create your Cloud Storage bucket.\n",
    "\n",
    "---"
   ]
  },
  {
   "cell_type": "code",
   "execution_count": 7,
   "metadata": {
    "id": "25f9882bab87"
   },
   "outputs": [],
   "source": [
    "# the bucket already exists!\n",
    "# ! gsutil mb -l $REGION $BUCKET_NAME"
   ]
  },
  {
   "cell_type": "markdown",
   "metadata": {
    "id": "2586e4ed72ad"
   },
   "source": [
    "Finally, validate access to your Cloud Storage bucket by examining its contents:"
   ]
  },
  {
   "cell_type": "code",
   "execution_count": 8,
   "metadata": {
    "id": "315724257beb"
   },
   "outputs": [
    {
     "name": "stdout",
     "output_type": "stream",
     "text": [
      "                                 gs://pytorch-text-classification-bucket/04_pytorch_text_classification_using_vertex_sdk_and_gcloud/\n",
      "                                 gs://pytorch-text-classification-bucket/models/\n"
     ]
    }
   ],
   "source": [
    "! gsutil ls -al $BUCKET_NAME"
   ]
  },
  {
   "cell_type": "markdown",
   "metadata": {
    "id": "276e063f41eb"
   },
   "source": [
    "### Import libraries and define constants"
   ]
  },
  {
   "cell_type": "code",
   "execution_count": 9,
   "metadata": {
    "id": "e894d41223e3"
   },
   "outputs": [],
   "source": [
    "import base64\n",
    "import json\n",
    "import os\n",
    "import random\n",
    "import sys\n",
    "\n",
    "import google.auth\n",
    "from google.cloud import aiplatform\n",
    "from google.cloud.aiplatform import gapic as aip\n",
    "from google.cloud.aiplatform import hyperparameter_tuning as hpt\n",
    "from google.protobuf.json_format import MessageToDict"
   ]
  },
  {
   "cell_type": "code",
   "execution_count": 10,
   "metadata": {
    "id": "8330d87de404"
   },
   "outputs": [],
   "source": [
    "from IPython.display import HTML, display"
   ]
  },
  {
   "cell_type": "code",
   "execution_count": 11,
   "metadata": {
    "id": "f656723ac8ed"
   },
   "outputs": [],
   "source": [
    "import datasets\n",
    "import numpy as np\n",
    "import pandas as pd\n",
    "import torch\n",
    "import transformers\n",
    "from datasets import ClassLabel, Sequence, load_dataset\n",
    "from transformers import (AutoModelForSequenceClassification, AutoTokenizer,\n",
    "                          EvalPrediction, Trainer, TrainingArguments,\n",
    "                          default_data_collator)"
   ]
  },
  {
   "cell_type": "code",
   "execution_count": 12,
   "metadata": {
    "id": "29b773f66d1b"
   },
   "outputs": [
    {
     "name": "stdout",
     "output_type": "stream",
     "text": [
      "Notebook runtime: GPU\n",
      "PyTorch version : 1.9.0\n",
      "Transformers version : 2.13.1\n",
      "Datasets version : 4.30.2\n"
     ]
    }
   ],
   "source": [
    "print(f\"Notebook runtime: {'GPU' if torch.cuda.is_available() else 'CPU'}\")\n",
    "print(f\"PyTorch version : {torch.__version__}\")\n",
    "print(f\"Transformers version : {datasets.__version__}\")\n",
    "print(f\"Datasets version : {transformers.__version__}\")"
   ]
  },
  {
   "cell_type": "code",
   "execution_count": 13,
   "metadata": {
    "id": "9805f4ffaa4d"
   },
   "outputs": [],
   "source": [
    "APP_NAME = \"finetuned-bert-classifier\""
   ]
  },
  {
   "cell_type": "code",
   "execution_count": 14,
   "metadata": {
    "id": "4c7643572342"
   },
   "outputs": [],
   "source": [
    "os.environ[\"TOKENIZERS_PARALLELISM\"] = \"false\""
   ]
  },
  {
   "cell_type": "markdown",
   "metadata": {
    "id": "b3d8c26c6c98"
   },
   "source": [
    "# Training\n",
    "\n",
    "In this section, we will train a PyTorch model by fine-tuning pre-trained model from [Hugging Face Transformers](https://github.com/huggingface/transformers). We will train the model locally first and then on [Vertex AI training service](https://cloud.google.com/vertex-ai/docs/training/custom-training)."
   ]
  },
  {
   "cell_type": "markdown",
   "metadata": {
    "id": "9ba110a456ac"
   },
   "source": [
    "## Training locally in the notebook"
   ]
  },
  {
   "cell_type": "markdown",
   "metadata": {
    "id": "whPRbBNbIrIl"
   },
   "source": [
    "### Loading the dataset"
   ]
  },
  {
   "cell_type": "markdown",
   "metadata": {
    "id": "W7QYTpxXIrIl"
   },
   "source": [
    "For this example we will use [IMDB movie review dataset](https://huggingface.co/datasets/imdb) from [Hugging Face Datasets](https://huggingface.co/datasets/) for sentiment classification task. We use the [Hugging Face Datasets](https://github.com/huggingface/datasets) library to download the data. This can be easily done with the function `load_dataset`.\n"
   ]
  },
  {
   "cell_type": "code",
   "execution_count": 15,
   "metadata": {
    "id": "IreSlFmlIrIm"
   },
   "outputs": [
    {
     "data": {
      "application/vnd.jupyter.widget-view+json": {
       "model_id": "dff66ea5850c413db0701f533b986567",
       "version_major": 2,
       "version_minor": 0
      },
      "text/plain": [
       "Downloading builder script:   0%|          | 0.00/4.31k [00:00<?, ?B/s]"
      ]
     },
     "metadata": {},
     "output_type": "display_data"
    },
    {
     "data": {
      "application/vnd.jupyter.widget-view+json": {
       "model_id": "faad2005480f4b11b1b8998ddd46850b",
       "version_major": 2,
       "version_minor": 0
      },
      "text/plain": [
       "Downloading metadata:   0%|          | 0.00/2.17k [00:00<?, ?B/s]"
      ]
     },
     "metadata": {},
     "output_type": "display_data"
    },
    {
     "data": {
      "application/vnd.jupyter.widget-view+json": {
       "model_id": "c2f3dd1da844480a8ce08bc7f89ec7de",
       "version_major": 2,
       "version_minor": 0
      },
      "text/plain": [
       "Downloading readme:   0%|          | 0.00/7.59k [00:00<?, ?B/s]"
      ]
     },
     "metadata": {},
     "output_type": "display_data"
    },
    {
     "name": "stdout",
     "output_type": "stream",
     "text": [
      "Downloading and preparing dataset imdb/plain_text to /home/jupyter/.cache/huggingface/datasets/imdb/plain_text/1.0.0/d613c88cf8fa3bab83b4ded3713f1f74830d1100e171db75bbddb80b3345c9c0...\n"
     ]
    },
    {
     "data": {
      "application/vnd.jupyter.widget-view+json": {
       "model_id": "a73a5e00f30b4c87b3590cc4cb6848e6",
       "version_major": 2,
       "version_minor": 0
      },
      "text/plain": [
       "Downloading data:   0%|          | 0.00/84.1M [00:00<?, ?B/s]"
      ]
     },
     "metadata": {},
     "output_type": "display_data"
    },
    {
     "data": {
      "application/vnd.jupyter.widget-view+json": {
       "model_id": "",
       "version_major": 2,
       "version_minor": 0
      },
      "text/plain": [
       "Generating train split:   0%|          | 0/25000 [00:00<?, ? examples/s]"
      ]
     },
     "metadata": {},
     "output_type": "display_data"
    },
    {
     "data": {
      "application/vnd.jupyter.widget-view+json": {
       "model_id": "",
       "version_major": 2,
       "version_minor": 0
      },
      "text/plain": [
       "Generating test split:   0%|          | 0/25000 [00:00<?, ? examples/s]"
      ]
     },
     "metadata": {},
     "output_type": "display_data"
    },
    {
     "data": {
      "application/vnd.jupyter.widget-view+json": {
       "model_id": "",
       "version_major": 2,
       "version_minor": 0
      },
      "text/plain": [
       "Generating unsupervised split:   0%|          | 0/50000 [00:00<?, ? examples/s]"
      ]
     },
     "metadata": {},
     "output_type": "display_data"
    },
    {
     "name": "stdout",
     "output_type": "stream",
     "text": [
      "Dataset imdb downloaded and prepared to /home/jupyter/.cache/huggingface/datasets/imdb/plain_text/1.0.0/d613c88cf8fa3bab83b4ded3713f1f74830d1100e171db75bbddb80b3345c9c0. Subsequent calls will reuse this data.\n"
     ]
    },
    {
     "data": {
      "application/vnd.jupyter.widget-view+json": {
       "model_id": "3d737851925248749ff6d6aceef952eb",
       "version_major": 2,
       "version_minor": 0
      },
      "text/plain": [
       "  0%|          | 0/3 [00:00<?, ?it/s]"
      ]
     },
     "metadata": {},
     "output_type": "display_data"
    },
    {
     "data": {
      "text/plain": [
       "DatasetDict({\n",
       "    train: Dataset({\n",
       "        features: ['text', 'label'],\n",
       "        num_rows: 25000\n",
       "    })\n",
       "    test: Dataset({\n",
       "        features: ['text', 'label'],\n",
       "        num_rows: 25000\n",
       "    })\n",
       "    unsupervised: Dataset({\n",
       "        features: ['text', 'label'],\n",
       "        num_rows: 50000\n",
       "    })\n",
       "})"
      ]
     },
     "execution_count": 15,
     "metadata": {},
     "output_type": "execute_result"
    }
   ],
   "source": [
    "dataset = load_dataset(\"imdb\")\n",
    "dataset"
   ]
  },
  {
   "cell_type": "markdown",
   "metadata": {
    "id": "RzfPtOMoIrIu"
   },
   "source": [
    "The `dataset` object itself is [`DatasetDict`](https://huggingface.co/docs/datasets/package_reference/main_classes.html#datasetdict), which contains one key for the training, validation and test set."
   ]
  },
  {
   "cell_type": "code",
   "execution_count": 16,
   "metadata": {
    "id": "GWiVUF0jIrIv"
   },
   "outputs": [
    {
     "name": "stdout",
     "output_type": "stream",
     "text": [
      "Total # of rows in training dataset 25000 and size 207.25 MB\n",
      "Total # of rows in test dataset 25000 and size 207.25 MB\n"
     ]
    }
   ],
   "source": [
    "print(\n",
    "    \"Total # of rows in training dataset {} and size {:5.2f} MB\".format(\n",
    "        dataset[\"train\"].shape[0], dataset[\"train\"].size_in_bytes / (1024 * 1024)\n",
    "    )\n",
    ")\n",
    "print(\n",
    "    \"Total # of rows in test dataset {} and size {:5.2f} MB\".format(\n",
    "        dataset[\"test\"].shape[0], dataset[\"test\"].size_in_bytes / (1024 * 1024)\n",
    "    )\n",
    ")"
   ]
  },
  {
   "cell_type": "markdown",
   "metadata": {
    "id": "u3EtYfeHIrIz"
   },
   "source": [
    "To access an actual element, you need to select a split first, then give an index:"
   ]
  },
  {
   "cell_type": "code",
   "execution_count": 17,
   "metadata": {
    "id": "X6HrpprwIrIz"
   },
   "outputs": [
    {
     "data": {
      "text/plain": [
       "{'text': 'I rented I AM CURIOUS-YELLOW from my video store because of all the controversy that surrounded it when it was first released in 1967. I also heard that at first it was seized by U.S. customs if it ever tried to enter this country, therefore being a fan of films considered \"controversial\" I really had to see this for myself.<br /><br />The plot is centered around a young Swedish drama student named Lena who wants to learn everything she can about life. In particular she wants to focus her attentions to making some sort of documentary on what the average Swede thought about certain political issues such as the Vietnam War and race issues in the United States. In between asking politicians and ordinary denizens of Stockholm about their opinions on politics, she has sex with her drama teacher, classmates, and married men.<br /><br />What kills me about I AM CURIOUS-YELLOW is that 40 years ago, this was considered pornographic. Really, the sex and nudity scenes are few and far between, even then it\\'s not shot like some cheaply made porno. While my countrymen mind find it shocking, in reality sex and nudity are a major staple in Swedish cinema. Even Ingmar Bergman, arguably their answer to good old boy John Ford, had sex scenes in his films.<br /><br />I do commend the filmmakers for the fact that any sex shown in the film is shown for artistic purposes rather than just to shock people and make money to be shown in pornographic theaters in America. I AM CURIOUS-YELLOW is a good film for anyone wanting to study the meat and potatoes (no pun intended) of Swedish cinema. But really, this film doesn\\'t have much of a plot.',\n",
       " 'label': 0}"
      ]
     },
     "execution_count": 17,
     "metadata": {},
     "output_type": "execute_result"
    }
   ],
   "source": [
    "dataset[\"train\"][0]"
   ]
  },
  {
   "cell_type": "markdown",
   "metadata": {
    "id": "dQPMGfEFLhFd"
   },
   "source": [
    "Using the `unique` method to extract label list. This will allow us to experiment with other datasets without hard-coding labels."
   ]
  },
  {
   "cell_type": "code",
   "execution_count": 18,
   "metadata": {
    "id": "TYw3eIHfLhFd"
   },
   "outputs": [
    {
     "data": {
      "text/plain": [
       "[0, 1]"
      ]
     },
     "execution_count": 18,
     "metadata": {},
     "output_type": "execute_result"
    }
   ],
   "source": [
    "label_list = dataset[\"train\"].unique(\"label\")\n",
    "label_list"
   ]
  },
  {
   "cell_type": "markdown",
   "metadata": {
    "id": "WHUmphG3IrI3"
   },
   "source": [
    "To get a sense of what the data looks like, the following function will show some examples picked randomly in the dataset (automatically decoding the labels in passing)."
   ]
  },
  {
   "cell_type": "code",
   "execution_count": 19,
   "metadata": {
    "id": "i3j8APAoIrI3"
   },
   "outputs": [],
   "source": [
    "def show_random_elements(dataset, num_examples=2):\n",
    "    assert num_examples <= len(\n",
    "        dataset\n",
    "    ), \"Can't pick more elements than there are in the dataset.\"\n",
    "    picks = []\n",
    "    for _ in range(num_examples):\n",
    "        pick = random.randint(0, len(dataset) - 1)\n",
    "        while pick in picks:\n",
    "            pick = random.randint(0, len(dataset) - 1)\n",
    "        picks.append(pick)\n",
    "\n",
    "    df = pd.DataFrame(dataset[picks])\n",
    "    for column, typ in dataset.features.items():\n",
    "        if isinstance(typ, ClassLabel):\n",
    "            df[column] = df[column].transform(lambda i: typ.names[i])\n",
    "        elif isinstance(typ, Sequence) and isinstance(typ.feature, ClassLabel):\n",
    "            df[column] = df[column].transform(\n",
    "                lambda x: [typ.feature.names[i] for i in x]\n",
    "            )\n",
    "    display(HTML(df.to_html()))"
   ]
  },
  {
   "cell_type": "code",
   "execution_count": 20,
   "metadata": {
    "id": "SZy5tRB_IrI7"
   },
   "outputs": [
    {
     "data": {
      "text/html": [
       "<table border=\"1\" class=\"dataframe\">\n",
       "  <thead>\n",
       "    <tr style=\"text-align: right;\">\n",
       "      <th></th>\n",
       "      <th>text</th>\n",
       "      <th>label</th>\n",
       "    </tr>\n",
       "  </thead>\n",
       "  <tbody>\n",
       "    <tr>\n",
       "      <th>0</th>\n",
       "      <td>My rating refers to the first 4 Seasons of Stargate SG-1 which are wonderfully fresh, creative and addicting. When the cast stepped through the gate, you never knew what lay on the other side! Starting around Season 5, the show took a different focus - still good, but different.&lt;br /&gt;&lt;br /&gt;The series follows the adventures of a team of humans (and one alien) who regularly venture into a planetary transport device called the \"Stargate\". The backstory of the series is based on the characters and events of the movie \"Stargate\" in which the device is discovered during an archaeological dig in Egypt.&lt;br /&gt;&lt;br /&gt;The episodes are light (innocent and easy to watch) and very creative. Many of the inventive stories could easily have been made into great sci-fi movies of their own. What happens next was always unpredictable.&lt;br /&gt;&lt;br /&gt;The characters on which the show rests are also well-defined and brilliantly performed. Their tone is serious, but the dialog is flowered with incredible wit and humor. They are simply fun to watch.&lt;br /&gt;&lt;br /&gt;Starting somewhere around Season 5, the series started to evolve into a continuing storyline based on fighting a single foe (the Goa'uld, then the Ori). The plots become more complex (a lot more political/strategic oriented) and interdependent. The characters were still as great as ever but the show was different in nature.&lt;br /&gt;&lt;br /&gt;One thing that must be mentioned is to watch the episodes that commemorated the 100th and 200th episodes. They are simply can't-miss shows. They exhibit the creative and wildly humorous genius that carried the series through 10 seasons.&lt;br /&gt;&lt;br /&gt;If you are a sci-fi fan, watch a few episodes of the first 4 Seasons and you'll likely be hooked. If you like evolving story lines between two opposing sides, you have 10 seasons of shows to look forward to.</td>\n",
       "      <td>pos</td>\n",
       "    </tr>\n",
       "    <tr>\n",
       "      <th>1</th>\n",
       "      <td>Pecker is another mainstream film by John Waters done on a smaller than Serial Mom. The title character of Pecker has a hobby of taking pictures of anything he sees. It doesn't matter if it's dirty or shocking when he takes pictures. He soon uses the pictures he taken and puts them on display at his work. Pecker live in a semi-normal middle-class family. His dad works at a drinking bar with a claw machine, but doesn't make enough money with a lesbian stripper bar across the street. His mom runs a thrift shop and loves to dress-up poor people. His older sister, Tina, works at a gay bar where her specialty is trade. His younger, Little Chrissy, has a habit of eating sugar, sugar, and nothing but sugary food. His grandmother, Memama, has a small statue of the Virgin Mary and plays ventriloquist with it. He also has 2 friends. On of his friends, Matt is a chronic shoplifter and his girlfriend, Shelley, runs a laundry mat as if she was a dictator. Soon, a tourist from New York buys his pictures and displays them at an art gallery. With the picture comes fame, but the pictures expose the unusual life style of his friends and family's simple life. For an R-rated film, Pecker is sure tamer than most of Waters previous R-rated films and even Pink Flamingos. Another 10 out of 10!</td>\n",
       "      <td>pos</td>\n",
       "    </tr>\n",
       "  </tbody>\n",
       "</table>"
      ],
      "text/plain": [
       "<IPython.core.display.HTML object>"
      ]
     },
     "metadata": {},
     "output_type": "display_data"
    }
   ],
   "source": [
    "show_random_elements(dataset[\"train\"])"
   ]
  },
  {
   "cell_type": "markdown",
   "metadata": {
    "id": "n9qywopnIrJH"
   },
   "source": [
    "### Preprocessing the data"
   ]
  },
  {
   "cell_type": "markdown",
   "metadata": {
    "id": "YVx71GdAIrJH"
   },
   "source": [
    "Before we can feed those texts to our model, we need to preprocess them. This is done by a pre-trained Hugging Face Transformers [`Tokenizer` class](https://huggingface.co/transformers/main_classes/tokenizer.html) which tokenizes the inputs (including converting the tokens to their corresponding IDs in the pre-trained vocabulary) and put it in a format the model expects, as well as generate the other inputs that model requires.\n",
    "\n",
    "To do all of this, we instantiate our tokenizer with the `AutoTokenizer.from_pretrained` method, which ensures:\n",
    "\n",
    "- we get a tokenizer that corresponds to the model architecture we want to use,\n",
    "- we download the vocabulary used when pre-training this specific checkpoint.\n",
    "\n",
    "That vocabulary will be cached, so it's not downloaded again the next time we run the cell."
   ]
  },
  {
   "cell_type": "code",
   "execution_count": 21,
   "metadata": {
    "id": "178b1743fd36"
   },
   "outputs": [],
   "source": [
    "batch_size = 16\n",
    "max_seq_length = 128\n",
    "model_name_or_path = \"bert-base-cased\""
   ]
  },
  {
   "cell_type": "code",
   "execution_count": 22,
   "metadata": {
    "id": "eXNLu_-nIrJI"
   },
   "outputs": [
    {
     "data": {
      "application/vnd.jupyter.widget-view+json": {
       "model_id": "e9c1d8e5a14645cf9afdda3ce0ac5c35",
       "version_major": 2,
       "version_minor": 0
      },
      "text/plain": [
       "Downloading (…)okenizer_config.json:   0%|          | 0.00/29.0 [00:00<?, ?B/s]"
      ]
     },
     "metadata": {},
     "output_type": "display_data"
    },
    {
     "data": {
      "application/vnd.jupyter.widget-view+json": {
       "model_id": "0eecaf062db74986840ce5a35253d074",
       "version_major": 2,
       "version_minor": 0
      },
      "text/plain": [
       "Downloading (…)lve/main/config.json:   0%|          | 0.00/570 [00:00<?, ?B/s]"
      ]
     },
     "metadata": {},
     "output_type": "display_data"
    },
    {
     "data": {
      "application/vnd.jupyter.widget-view+json": {
       "model_id": "2148584796234901a56695bd5da0131c",
       "version_major": 2,
       "version_minor": 0
      },
      "text/plain": [
       "Downloading (…)solve/main/vocab.txt:   0%|          | 0.00/213k [00:00<?, ?B/s]"
      ]
     },
     "metadata": {},
     "output_type": "display_data"
    },
    {
     "data": {
      "application/vnd.jupyter.widget-view+json": {
       "model_id": "ac38a0cf405145788e30a89b189737bd",
       "version_major": 2,
       "version_minor": 0
      },
      "text/plain": [
       "Downloading (…)/main/tokenizer.json:   0%|          | 0.00/436k [00:00<?, ?B/s]"
      ]
     },
     "metadata": {},
     "output_type": "display_data"
    }
   ],
   "source": [
    "tokenizer = AutoTokenizer.from_pretrained(\n",
    "    model_name_or_path,\n",
    "    use_fast=True,\n",
    ")\n",
    "# 'use_fast' ensure that we use fast tokenizers (backed by Rust) from the 🤗 Tokenizers library."
   ]
  },
  {
   "cell_type": "markdown",
   "metadata": {
    "id": "muc7yghlLhFf"
   },
   "source": [
    "You can check type of models available with a fast tokenizer on the [big table of models](https://huggingface.co/transformers/index.html#bigtable)."
   ]
  },
  {
   "cell_type": "markdown",
   "metadata": {
    "id": "rowT4iCLIrJK"
   },
   "source": [
    "You can directly call this tokenizer on one sentence:"
   ]
  },
  {
   "cell_type": "code",
   "execution_count": 23,
   "metadata": {
    "id": "a5hBlsrHIrJL"
   },
   "outputs": [
    {
     "data": {
      "text/plain": [
       "{'input_ids': [101, 8667, 117, 1142, 1110, 1141, 5650, 106, 102], 'token_type_ids': [0, 0, 0, 0, 0, 0, 0, 0, 0], 'attention_mask': [1, 1, 1, 1, 1, 1, 1, 1, 1]}"
      ]
     },
     "execution_count": 23,
     "metadata": {},
     "output_type": "execute_result"
    }
   ],
   "source": [
    "tokenizer(\"Hello, this is one sentence!\")"
   ]
  },
  {
   "cell_type": "markdown",
   "metadata": {
    "id": "qeT4rxOGLhFf"
   },
   "source": [
    "Depending on the model you selected, you will see different keys in the dictionary returned by the cell above. They don't matter much for what we're doing here (just know they are required by the model we will instantiate later), you can learn more about them in [this tutorial](https://huggingface.co/transformers/preprocessing.html) if you're interested.\n",
    "\n",
    "**NOTE:** If, as is the case here, your inputs have already been split into words, you should pass the list of words to your tokenizer with the argument `is_split_into_words=True`:"
   ]
  },
  {
   "cell_type": "code",
   "execution_count": 24,
   "metadata": {
    "id": "MPunumj-LhFg"
   },
   "outputs": [
    {
     "name": "stdout",
     "output_type": "stream",
     "text": [
      "{'text': 'Oh, brother...after hearing about this ridiculous film for umpteen years all I can think of is that old Peggy Lee song..<br /><br />\"Is that all there is??\" ...I was just an early teen when this smoked fish hit the U.S. I was too young to get in the theater (although I did manage to sneak into \"Goodbye Columbus\"). Then a screening at a local film museum beckoned - Finally I could see this film, except now I was as old as my parents were when they schlepped to see it!!<br /><br />The ONLY reason this film was not condemned to the anonymous sands of time was because of the obscenity case sparked by its U.S. release. MILLIONS of people flocked to this stinker, thinking they were going to see a sex film...Instead, they got lots of closeups of gnarly, repulsive Swedes, on-street interviews in bland shopping malls, asinie political pretension...and feeble who-cares simulated sex scenes with saggy, pale actors.<br /><br />Cultural icon, holy grail, historic artifact..whatever this thing was, shred it, burn it, then stuff the ashes in a lead box!<br /><br />Elite esthetes still scrape to find value in its boring pseudo revolutionary political spewings..But if it weren\\'t for the censorship scandal, it would have been ignored, then forgotten.<br /><br />Instead, the \"I Am Blank, Blank\" rhythymed title was repeated endlessly for years as a titilation for porno films (I am Curious, Lavender - for gay films, I Am Curious, Black - for blaxploitation films, etc..) and every ten years or so the thing rises from the dead, to be viewed by a new generation of suckers who want to see that \"naughty sex film\" that \"revolutionized the film industry\"...<br /><br />Yeesh, avoid like the plague..Or if you MUST see it - rent the video and fast forward to the \"dirty\" parts, just to get it over with.<br /><br />', 'label': 0}\n"
     ]
    }
   ],
   "source": [
    "example = dataset[\"train\"][4]\n",
    "print(example)"
   ]
  },
  {
   "cell_type": "code",
   "execution_count": 25,
   "metadata": {
    "id": "e3-m0sGHLhFg"
   },
   "outputs": [
    {
     "data": {
      "text/plain": [
       "{'input_ids': [101, 8667, 117, 1142, 1110, 1141, 5650, 3325, 1154, 1734, 119, 102], 'token_type_ids': [0, 0, 0, 0, 0, 0, 0, 0, 0, 0, 0, 0], 'attention_mask': [1, 1, 1, 1, 1, 1, 1, 1, 1, 1, 1, 1]}"
      ]
     },
     "execution_count": 25,
     "metadata": {},
     "output_type": "execute_result"
    }
   ],
   "source": [
    "tokenizer(\n",
    "    [\"Hello\", \",\", \"this\", \"is\", \"one\", \"sentence\", \"split\", \"into\", \"words\", \".\"],\n",
    "    is_split_into_words=True,\n",
    ")"
   ]
  },
  {
   "cell_type": "markdown",
   "metadata": {
    "id": "G73hFICnLhFg"
   },
   "source": [
    "Note that transformers are often pre-trained with sub-word tokenizers, meaning that even if your inputs have been split into words already, each of those words could be split again by the tokenizer. Let's look at an example of that:"
   ]
  },
  {
   "cell_type": "code",
   "execution_count": 26,
   "metadata": {
    "id": "d8c6f3c11353"
   },
   "outputs": [
    {
     "name": "stderr",
     "output_type": "stream",
     "text": [
      "Found cached dataset imdb (/home/jupyter/.cache/huggingface/datasets/imdb/plain_text/1.0.0/d613c88cf8fa3bab83b4ded3713f1f74830d1100e171db75bbddb80b3345c9c0)\n"
     ]
    },
    {
     "data": {
      "application/vnd.jupyter.widget-view+json": {
       "model_id": "d83f4e1737224a848663850fb6824f87",
       "version_major": 2,
       "version_minor": 0
      },
      "text/plain": [
       "  0%|          | 0/3 [00:00<?, ?it/s]"
      ]
     },
     "metadata": {},
     "output_type": "display_data"
    },
    {
     "data": {
      "application/vnd.jupyter.widget-view+json": {
       "model_id": "",
       "version_major": 2,
       "version_minor": 0
      },
      "text/plain": [
       "Map:   0%|          | 0/25000 [00:00<?, ? examples/s]"
      ]
     },
     "metadata": {},
     "output_type": "display_data"
    },
    {
     "data": {
      "application/vnd.jupyter.widget-view+json": {
       "model_id": "",
       "version_major": 2,
       "version_minor": 0
      },
      "text/plain": [
       "Map:   0%|          | 0/25000 [00:00<?, ? examples/s]"
      ]
     },
     "metadata": {},
     "output_type": "display_data"
    },
    {
     "data": {
      "application/vnd.jupyter.widget-view+json": {
       "model_id": "",
       "version_major": 2,
       "version_minor": 0
      },
      "text/plain": [
       "Map:   0%|          | 0/50000 [00:00<?, ? examples/s]"
      ]
     },
     "metadata": {},
     "output_type": "display_data"
    }
   ],
   "source": [
    "# Dataset loading repeated here to make this cell idempotent\n",
    "# Since we are over-writing datasets variable\n",
    "dataset = load_dataset(\"imdb\")\n",
    "\n",
    "# Mapping labels to ids\n",
    "# NOTE: We can extract this automatically but the `Unique` method of the datasets\n",
    "# is not reporting the label -1 which shows up in the pre-processing.\n",
    "# Hence the additional -1 term in the dictionary\n",
    "label_to_id = {1: 1, 0: 0, -1: 0}\n",
    "\n",
    "\n",
    "def preprocess_function(examples):\n",
    "    \"\"\"\n",
    "    Tokenize the input example texts\n",
    "    NOTE: The same preprocessing step(s) will be applied\n",
    "    at the time of inference as well.\n",
    "    \"\"\"\n",
    "    args = (examples[\"text\"],)\n",
    "    result = tokenizer(\n",
    "        *args, padding=\"max_length\", max_length=max_seq_length, truncation=True\n",
    "    )\n",
    "\n",
    "    # Map labels to IDs (not necessary for GLUE tasks)\n",
    "    if label_to_id is not None and \"label\" in examples:\n",
    "        result[\"label\"] = [label_to_id[example] for example in examples[\"label\"]]\n",
    "\n",
    "    return result\n",
    "\n",
    "\n",
    "# apply preprocessing function to input examples\n",
    "dataset = dataset.map(preprocess_function, batched=True, load_from_cache_file=True)"
   ]
  },
  {
   "cell_type": "markdown",
   "metadata": {
    "id": "545PP3o8IrJV"
   },
   "source": [
    "### Fine-tuning the model"
   ]
  },
  {
   "cell_type": "markdown",
   "metadata": {
    "id": "FBiW8UpKIrJW"
   },
   "source": [
    "Now that our data is ready, we can download the pre-trained model and fine-tune it.\n",
    "\n",
    "---\n",
    "\n",
    "***Fine Tuning*** *involves taking a model that has already been trained for a given task and then tweaking the model for another similar task. Specifically, the tweaking involves replicating all the layers in the pre-trained model including weights and parameters, except the output layer. Then adding a new output classifier layer that predicts labels for the current task. The final step is to train the output layer from scratch, while the parameters of all layers from the pre-trained model are frozen. This allows learning from the pre-trained representations and \"fine-tuning\" the higher-order feature representations more relevant for the concrete task, such as analyzing sentiments in this case.* \n",
    "\n",
    "*For the scenario in the notebook analyzing sentiments, the pre-trained BERT model already encodes a lot of information about the language as the model was trained on a large corpus of English data in a self-supervised fashion. Now we only need to slightly tune them using their outputs as features for the sentiment classification task. This means quicker development iteration on a much smaller dataset, instead of training a specific Natural Language Processing (NLP) model with a larger training dataset.*\n",
    "\n",
    "\n",
    "![BERT fine-tuning](./images/bert-model-fine-tuning.png)\n",
    "\n",
    "---\n"
   ]
  },
  {
   "cell_type": "markdown",
   "metadata": {
    "id": "4d032e91d6c3"
   },
   "source": [
    "Since all our tasks are about token classification, we use the `AutoModelForSequenceClassification` class. Like with the tokenizer, the `from_pretrained` method will download and cache the model for us. The only thing we have to specify is the number of labels for our problem (which we can get from the features, as seen before):"
   ]
  },
  {
   "cell_type": "code",
   "execution_count": 27,
   "metadata": {
    "id": "TlqNaB8jIrJW"
   },
   "outputs": [
    {
     "data": {
      "application/vnd.jupyter.widget-view+json": {
       "model_id": "b56a841d0b124e16a73bad8a0d684577",
       "version_major": 2,
       "version_minor": 0
      },
      "text/plain": [
       "Downloading pytorch_model.bin:   0%|          | 0.00/436M [00:00<?, ?B/s]"
      ]
     },
     "metadata": {},
     "output_type": "display_data"
    },
    {
     "name": "stderr",
     "output_type": "stream",
     "text": [
      "Some weights of the model checkpoint at bert-base-cased were not used when initializing BertForSequenceClassification: ['cls.predictions.decoder.weight', 'cls.predictions.transform.dense.bias', 'cls.predictions.transform.LayerNorm.bias', 'cls.seq_relationship.bias', 'cls.seq_relationship.weight', 'cls.predictions.transform.LayerNorm.weight', 'cls.predictions.bias', 'cls.predictions.transform.dense.weight']\n",
      "- This IS expected if you are initializing BertForSequenceClassification from the checkpoint of a model trained on another task or with another architecture (e.g. initializing a BertForSequenceClassification model from a BertForPreTraining model).\n",
      "- This IS NOT expected if you are initializing BertForSequenceClassification from the checkpoint of a model that you expect to be exactly identical (initializing a BertForSequenceClassification model from a BertForSequenceClassification model).\n",
      "Some weights of BertForSequenceClassification were not initialized from the model checkpoint at bert-base-cased and are newly initialized: ['classifier.weight', 'classifier.bias']\n",
      "You should probably TRAIN this model on a down-stream task to be able to use it for predictions and inference.\n"
     ]
    }
   ],
   "source": [
    "model = AutoModelForSequenceClassification.from_pretrained(\n",
    "    model_name_or_path, num_labels=len(label_list)\n",
    ")"
   ]
  },
  {
   "cell_type": "markdown",
   "metadata": {
    "id": "CczA5lJlIrJX"
   },
   "source": [
    "**NOTE:** The warning is telling us we are throwing away some weights (the `vocab_transform` and `vocab_layer_norm` layers) and randomly initializing some other (the `pre_classifier` and `classifier` layers). This is absolutely normal in this case, because we are removing the head used to pre-train the model on a masked language modeling objective and replacing it with a new head for which we don't have pre-trained weights, so the library warns us we should fine-tune this model before using it for inference, which is exactly what we are going to do."
   ]
  },
  {
   "cell_type": "markdown",
   "metadata": {
    "id": "_N8urzhyIrJY"
   },
   "source": [
    "To instantiate a `Trainer`, we will need to define three more things. The most important is the [`TrainingArguments`](https://huggingface.co/transformers/main_classes/trainer.html#transformers.TrainingArguments), which is a class that contains all the attributes to customize the training. It requires one folder name, which will be used to save the checkpoints of the model, and all other arguments are optional:"
   ]
  },
  {
   "cell_type": "code",
   "execution_count": 28,
   "metadata": {
    "id": "Bliy8zgjIrJY"
   },
   "outputs": [],
   "source": [
    "args = TrainingArguments(\n",
    "    evaluation_strategy=\"epoch\",\n",
    "    learning_rate=2e-5,\n",
    "    per_device_train_batch_size=batch_size,\n",
    "    per_device_eval_batch_size=batch_size,\n",
    "    num_train_epochs=1,\n",
    "    weight_decay=0.01,\n",
    "    output_dir=\"/tmp/cls\",\n",
    ")"
   ]
  },
  {
   "cell_type": "markdown",
   "metadata": {
    "id": "km3pGVdTIrJc"
   },
   "source": [
    "Here we set the evaluation to be done at the end of each epoch, tweak the learning rate, use the `batch_size` defined at the top of the notebook and customize the number of epochs for training, as well as the weight decay."
   ]
  },
  {
   "cell_type": "markdown",
   "metadata": {
    "id": "AqynGv2DLhFk"
   },
   "source": [
    "The last thing to define for our `Trainer` is how to compute the metrics from the predictions. You can define your custom compute_metrics function. It takes an `EvalPrediction` object (a namedtuple with a predictions and label_ids field) and has to return a dictionary string to float."
   ]
  },
  {
   "cell_type": "code",
   "execution_count": 29,
   "metadata": {
    "id": "V233MNZgLhFk"
   },
   "outputs": [],
   "source": [
    "def compute_metrics(p: EvalPrediction):\n",
    "    preds = p.predictions[0] if isinstance(p.predictions, tuple) else p.predictions\n",
    "    preds = np.argmax(preds, axis=1)\n",
    "    return {\"accuracy\": (preds == p.label_ids).astype(np.float32).mean().item()}"
   ]
  },
  {
   "cell_type": "markdown",
   "metadata": {
    "id": "aehFUe14LhFl"
   },
   "source": [
    "Now we create the `Trainer` object and we are almost ready to train."
   ]
  },
  {
   "cell_type": "code",
   "execution_count": 30,
   "metadata": {
    "id": "imY1oC3SIrJf"
   },
   "outputs": [],
   "source": [
    "trainer = Trainer(\n",
    "    model,\n",
    "    args,\n",
    "    train_dataset=dataset[\"train\"],\n",
    "    eval_dataset=dataset[\"test\"],\n",
    "    data_collator=default_data_collator,\n",
    "    tokenizer=tokenizer,\n",
    "    compute_metrics=compute_metrics,\n",
    ")"
   ]
  },
  {
   "cell_type": "markdown",
   "metadata": {
    "id": "2b4255e2209f"
   },
   "source": [
    "You can add callbacks to the `trainer` object to customize the behavior of the training loop such as early stopping, reporting metrics at the end of evaluation phase or taking any decisions. In the hyperparameter tuning section of this notebook, we add a callback to `trainer` for automating hyperparameter tuning process."
   ]
  },
  {
   "cell_type": "markdown",
   "metadata": {
    "id": "CdzABDVcIrJg"
   },
   "source": [
    "We can now fine-tune our model by just calling the `train` method:"
   ]
  },
  {
   "cell_type": "code",
   "execution_count": 31,
   "metadata": {
    "id": "wZHmdWPELhFl"
   },
   "outputs": [],
   "source": [
    "# if the model is already trained and saved, do not train again!\n",
    "# trainer.train()"
   ]
  },
  {
   "cell_type": "code",
   "execution_count": 32,
   "metadata": {
    "id": "4d3fcb41541c"
   },
   "outputs": [],
   "source": [
    "saved_model_local_path = \"./models\""
   ]
  },
  {
   "cell_type": "code",
   "execution_count": 33,
   "metadata": {},
   "outputs": [],
   "source": [
    "!mkdir ./models"
   ]
  },
  {
   "cell_type": "code",
   "execution_count": 2,
   "metadata": {
    "id": "aac64fb35302"
   },
   "outputs": [],
   "source": [
    "# do not save the trainer, get the saved model from GCS instead!\n",
    "# trainer.save_model(saved_model_local_path)"
   ]
  },
  {
   "cell_type": "code",
   "execution_count": 3,
   "metadata": {},
   "outputs": [],
   "source": [
    "# saved model was persisted to gs://pytorch-text-classification-bucket/models for further usage\n",
    "# run in a terminal: gsutil rsync -d -r gs://pytorch-text-classification-bucket/models models"
   ]
  },
  {
   "cell_type": "code",
   "execution_count": 34,
   "metadata": {},
   "outputs": [
    {
     "name": "stdout",
     "output_type": "stream",
     "text": [
      "\n",
      "WARNING: gsutil rsync uses hashes when modification time is not available at\n",
      "both the source and destination. Your crcmod installation isn't using the\n",
      "module's C extension, so checksumming will run very slowly. If this is your\n",
      "first rsync since updating gsutil, this rsync can take significantly longer than\n",
      "usual. For help installing the extension, please see \"gsutil help crcmod\".\n",
      "\n",
      "Building synchronization state...\n",
      "Starting synchronization...\n",
      "Copying gs://pytorch-text-classification-bucket/models/config.json...\n",
      "Copying gs://pytorch-text-classification-bucket/models/pytorch_model.bin...     \n",
      "==> NOTE: You are downloading one or more large file(s), which would            \n",
      "run significantly faster if you enabled sliced object downloads. This\n",
      "feature is enabled by default but requires that compiled crcmod be\n",
      "installed (see \"gsutil help crcmod\").\n",
      "\n",
      "Copying gs://pytorch-text-classification-bucket/models/special_tokens_map.json...\n",
      "Copying gs://pytorch-text-classification-bucket/models/tokenizer.json...        \n",
      "- [4 files][413.9 MiB/413.9 MiB]                                                \n",
      "==> NOTE: You are performing a sequence of gsutil operations that may\n",
      "run significantly faster if you instead use gsutil -m rsync ... Please\n",
      "see the -m section under \"gsutil help options\" for further information\n",
      "about when gsutil -m can be advantageous.\n",
      "\n",
      "Copying gs://pytorch-text-classification-bucket/models/tokenizer_config.json...\n",
      "Copying gs://pytorch-text-classification-bucket/models/training_args.bin...     \n",
      "Copying gs://pytorch-text-classification-bucket/models/vocab.txt...             \n",
      "- [7 files][414.1 MiB/414.1 MiB]                                                \n",
      "Operation completed over 7 objects/414.1 MiB.                                    \n"
     ]
    }
   ],
   "source": [
    "# ! gsutil rsync -d -r gs://pytorch-text-classification-bucket/models models"
   ]
  },
  {
   "cell_type": "markdown",
   "metadata": {
    "id": "CKASz-2vIrJi"
   },
   "source": [
    "The `evaluate` method allows you to evaluate again on the evaluation dataset or on another dataset:"
   ]
  },
  {
   "cell_type": "code",
   "execution_count": 33,
   "metadata": {
    "id": "UOUcBkX8IrJi"
   },
   "outputs": [
    {
     "data": {
      "text/html": [
       "\n",
       "    <div>\n",
       "      \n",
       "      <progress value='1563' max='1563' style='width:300px; height:20px; vertical-align: middle;'></progress>\n",
       "      [1563/1563 03:10]\n",
       "    </div>\n",
       "    "
      ],
      "text/plain": [
       "<IPython.core.display.HTML object>"
      ]
     },
     "metadata": {},
     "output_type": "display_data"
    }
   ],
   "source": [
    "# history = trainer.evaluate()"
   ]
  },
  {
   "cell_type": "code",
   "execution_count": 34,
   "metadata": {
    "id": "d890a62c57c6"
   },
   "outputs": [
    {
     "data": {
      "text/plain": [
       "{'eval_loss': 0.28397631645202637,\n",
       " 'eval_accuracy': 0.8781200051307678,\n",
       " 'eval_runtime': 190.2293,\n",
       " 'eval_samples_per_second': 131.42,\n",
       " 'eval_steps_per_second': 8.216,\n",
       " 'epoch': 1.0}"
      ]
     },
     "execution_count": 34,
     "metadata": {},
     "output_type": "execute_result"
    }
   ],
   "source": [
    "# history"
   ]
  },
  {
   "cell_type": "markdown",
   "metadata": {
    "id": "gX97-EH5LhFm"
   },
   "source": [
    "To get the other metrics computed  such as precision, recall or F1 score for each category, we can apply the same function as before on the result of the `predict` method."
   ]
  },
  {
   "cell_type": "markdown",
   "metadata": {
    "id": "5cae4fdf26f2"
   },
   "source": [
    "### Run predictions locally with sample examples\n",
    "\n",
    "Using the trained model, we can predict the sentiment label for an input text after applying the preprocessing function that was used during the training. We will run the predictions locally in the notebook and later show how you can deploy the model to an endpoint using [TorchServe](https://pytorch.org/serve/) on Vertex AI Predictions."
   ]
  },
  {
   "cell_type": "code",
   "execution_count": 35,
   "metadata": {
    "id": "21ab30d5518c"
   },
   "outputs": [],
   "source": [
    "model_name_or_path = \"bert-base-cased\"\n",
    "label_text = {0: \"Negative\", 1: \"Positive\"}\n",
    "saved_model_path = saved_model_local_path\n",
    "\n",
    "\n",
    "def predict(input_text, saved_model_path):\n",
    "    # initialize tokenizer\n",
    "    tokenizer = AutoTokenizer.from_pretrained(model_name_or_path, use_fast=True)\n",
    "\n",
    "    # preprocess and encode input text\n",
    "    tokenizer_args = (input_text,)\n",
    "    predict_input = tokenizer(\n",
    "        *tokenizer_args,\n",
    "        padding=\"max_length\",\n",
    "        max_length=128,\n",
    "        truncation=True,\n",
    "        return_tensors=\"pt\",\n",
    "    )\n",
    "\n",
    "    # load trained model\n",
    "    loaded_model = AutoModelForSequenceClassification.from_pretrained(saved_model_path)\n",
    "\n",
    "    # get predictions\n",
    "    output = loaded_model(predict_input[\"input_ids\"])\n",
    "\n",
    "    # return labels\n",
    "    label_id = torch.argmax(*output.to_tuple(), dim=1)\n",
    "\n",
    "    print(f\"Review text: {input_text}\")\n",
    "    print(f\"Sentiment : {label_text[label_id.item()]}\\n\")"
   ]
  },
  {
   "cell_type": "code",
   "execution_count": 36,
   "metadata": {
    "id": "e594d72fa8e4"
   },
   "outputs": [
    {
     "name": "stdout",
     "output_type": "stream",
     "text": [
      "Review text: Jaw dropping visual affects and action! One of the best I have seen to date.\n",
      "Sentiment : Positive\n",
      "\n"
     ]
    }
   ],
   "source": [
    "# example #1\n",
    "review_text = (\n",
    "    \"\"\"Jaw dropping visual affects and action! One of the best I have seen to date.\"\"\"\n",
    ")\n",
    "predict_input = predict(review_text, saved_model_path)"
   ]
  },
  {
   "cell_type": "code",
   "execution_count": 37,
   "metadata": {
    "id": "dd393f0d38c1"
   },
   "outputs": [
    {
     "name": "stdout",
     "output_type": "stream",
     "text": [
      "Review text: Take away the CGI and the A-list cast and you end up with film with less punch.\n",
      "Sentiment : Negative\n",
      "\n"
     ]
    }
   ],
   "source": [
    "# example #2\n",
    "review_text = \"\"\"Take away the CGI and the A-list cast and you end up with film with less punch.\"\"\"\n",
    "predict_input = predict(review_text, saved_model_path)"
   ]
  },
  {
   "cell_type": "markdown",
   "metadata": {
    "id": "46a8d95366ee"
   },
   "source": [
    "## Training on Vertex AI"
   ]
  },
  {
   "cell_type": "markdown",
   "metadata": {
    "id": "e97e8af2376c"
   },
   "source": [
    "You can do local experimentation on your Notebooks instance. However, for larger datasets or models often a vertically scaled compute or horizontally distributed training is required. The most effective way to perform this task is to leverage [Vertex AI custom training service](https://cloud.google.com/vertex-ai/docs/training/custom-training) for following reasons:\n",
    "\n",
    "- **Automatically provision and de-provision resources**: Training job on Vertex AI will automatically provision computing resources, performs the training task and ensures deletion of compute resources once the training job is finished.\n",
    "- **Reusability and portability**: You can package training code with its parameters and dependencies into a container and create a portable component. This container can then be run with different scenarios such as hyperparameter tuning, different data sources and more.\n",
    "- **Training at scale**: You can run a [distributed training job](https://cloud.google.com/vertex-ai/docs/training/distributed-training) with AI allowing you to train models in a cluster across multiple nodes in parallel and resulting in faster training time. \n",
    "- **Logging and Monitoring**: The training service logs messages from the job to [Cloud Logging](https://cloud.google.com/logging/docs) and can be monitored while the job is running.\n",
    "\n",
    "In this part of the notebook, we show how to scale the training job with Vertex AI by packaging the code and create a training pipeline to orchestrate a training job. There are three steps to run a training job using [Vertex AI custom training service](https://cloud.google.com/vertex-ai/docs/training/custom-training):\n",
    "\n",
    "- **STEP 1**: Determine training code structure - Packaging as a Python source distribution or as a custom container image\n",
    "- **STEP 2**: Chose a custom training method - custom job, hyperparameter training job or training pipeline\n",
    "- **STEP 3**: Run the training job\n",
    "\n",
    "![custom-training-on-vertex-ai](./images/custom-training-on-vertex-ai.png)\n",
    "\n",
    "#### Custom training methods\n",
    "\n",
    "There are three types of Vertex AI resources you can create to train custom models on Vertex AI:\n",
    "\n",
    "- **[Custom jobs](https://cloud.google.com/vertex-ai/docs/training/create-custom-job):** With a custom job you configure the settings to run your training code on Vertex AI such as worker pool specs - machine types, accelerators, Python training spec or custom container spec. \n",
    "- **[Hyperparameter tuning jobs](https://cloud.google.com/vertex-ai/docs/training/using-hyperparameter-tuning):** Hyperparameter tuning jobs automate tuning of hyperparameters of your model based on the criteria you configure such as goal/metric to optimize, hyperparameters values and number of trials to run.\n",
    "- **[Training pipelines](https://cloud.google.com/vertex-ai/docs/training/create-training-pipeline):** Orchestrates custom training jobs or hyperparameter tuning jobs with additional steps after the training job is successfully completed.\n",
    "\n",
    "Please refer to the [documentation](https://cloud.google.com/vertex-ai/docs/training/custom-training-methods) for further details.\n",
    "\n",
    "In this notebook, we will cover Custom Jobs and Hyperparameter tuning jobs."
   ]
  },
  {
   "cell_type": "markdown",
   "metadata": {
    "id": "585ba542aa40"
   },
   "source": [
    "### Packaging the training application\n",
    "\n",
    "Before running the training job on Vertex AI, the training application code and any dependencies must be packaged and uploaded to Cloud Storage bucket or Container Registry or Artifact Registry that your Google Cloud project can access. This sections shows how to package and stage your application in the cloud.\n",
    "\n",
    "There are two ways to package your application and dependencies and train on Vertex AI:\n",
    "\n",
    "1. [Create a Python source distribution](https://cloud.google.com/vertex-ai/docs/training/create-python-pre-built-container) with the training code and dependencies to use with a [pre-built containers](https://cloud.google.com/vertex-ai/docs/training/pre-built-containers) on Vertex AI\n",
    "2. Use [custom containers](https://cloud.google.com/ai-platform/training/docs/custom-containers-training) to package dependencies using Docker containers\n",
    "\n",
    "**This notebook shows both packaging options to run a custom training job on Vertex AI.**"
   ]
  },
  {
   "cell_type": "markdown",
   "metadata": {
    "id": "4b8b5333b577"
   },
   "source": [
    "#### Recommended Training Application Structure\n",
    "\n",
    "You can structure your training application in any way you like. However, the [following structure](https://cloud.google.com/vertex-ai/docs/training/create-python-pre-built-container#structure) is commonly used in Vertex AI samples, and having your project's organization be similar to the samples can make it easier for you to follow the samples.\n",
    "\n",
    "We have two directories `python_package` and `custom_container` showing both the packaging approaches. `README.md` files inside each directory has details on the directory structure and instructions on how to run application locally and on the cloud.\n",
    "\n",
    "```\n",
    ".\n",
    "├── custom_container\n",
    "│   ├── Dockerfile\n",
    "│   ├── README.md\n",
    "│   ├── scripts\n",
    "│   │   └── train-cloud.sh\n",
    "│   └── trainer -> ../python_package/trainer/\n",
    "├── python_package\n",
    "│   ├── README.md\n",
    "│   ├── scripts\n",
    "│   │   └── train-cloud.sh\n",
    "│   ├── setup.py\n",
    "│   └── trainer\n",
    "│       ├── __init__.py\n",
    "│       ├── experiment.py\n",
    "│       ├── metadata.py\n",
    "│       ├── model.py\n",
    "│       ├── task.py\n",
    "│       └── utils.py\n",
    "└── pytorch-text-classification-vertex-ai-train-tune-deploy.ipynb    --> This notebook\n",
    "```\n",
    "\n",
    "1. Main project directory contains your `setup.py` file or `Dockerfile` with the dependencies. \n",
    "2. Use a subdirectory named `trainer` to store your main application module and `scripts` to submit training jobs locally or cloud\n",
    "3. Inside `trainer` directory:\n",
    "    - `task.py` - Main application module 1) initializes and parse task arguments (hyper parameters), and 2) entry point to the trainer\n",
    "    - `model.py` -  Includes function to create model with a sequence classification head from a pre-trained model.\n",
    "    - `experiment.py` - Runs the model training and evaluation experiment, and exports the final model.\n",
    "    - `metadata.py` - Defines metadata for classification task such as predefined model dataset name, target labels\n",
    "    - `utils.py` - Includes utility functions such as data input functions to read data, save model to GCS bucket"
   ]
  },
  {
   "cell_type": "markdown",
   "metadata": {
    "id": "f7466d414a0e"
   },
   "source": [
    "### Run Custom Job on Vertex AI Training with a pre-built container"
   ]
  },
  {
   "cell_type": "markdown",
   "metadata": {
    "id": "1a675e6ee9dc"
   },
   "source": [
    "Vertex AI provides Docker container images that can be run as [pre-built containers](https://cloud.google.com/vertex-ai/docs/training/pre-built-containers#available_container_images) for custom training. These containers include common dependencies used in training code based on the Machine Learning framework and framework version.\n",
    "\n",
    "In this notebook, we are using Hugging Face Datasets and fine tuning a transformer model from Hugging Face Transformers Library for sentiment analysis task using PyTorch. We will use [pre-built container for PyTorch](https://cloud.google.com/vertex-ai/docs/training/pre-built-containers#pytorch) and package the training application code by adding standard Python dependencies - `transformers`, `datasets` and `tqdm` - in the `setup.py` file. \n",
    "\n",
    "![Training with Prebuilt Containers on Vertex AI Training](./images/training-with-prebuilt-containers-on-vertex-training.png)"
   ]
  },
  {
   "cell_type": "markdown",
   "metadata": {
    "id": "9481da82c2ca"
   },
   "source": [
    "Initialize the variables to define pre-built container image, location of training application and training module."
   ]
  },
  {
   "cell_type": "code",
   "execution_count": 38,
   "metadata": {
    "id": "100eac26f547"
   },
   "outputs": [],
   "source": [
    "PRE_BUILT_TRAINING_CONTAINER_IMAGE_URI = (\n",
    "    \"us-docker.pkg.dev/vertex-ai/training/pytorch-gpu.1-7:latest\"\n",
    ")\n",
    "\n",
    "PYTHON_PACKAGE_APPLICATION_DIR = \"python_package\"\n",
    "\n",
    "source_package_file_name = f\"{PYTHON_PACKAGE_APPLICATION_DIR}/dist/trainer-0.1.tar.gz\"\n",
    "python_package_gcs_uri = (\n",
    "    f\"{BUCKET_NAME}/pytorch-on-gcp/{APP_NAME}/train/python_package/trainer-0.1.tar.gz\"\n",
    ")\n",
    "python_module_name = \"trainer.task\""
   ]
  },
  {
   "cell_type": "markdown",
   "metadata": {
    "id": "2bdb8c21d0d5"
   },
   "source": [
    "Following is the `setup.py` file for the training application. The `find_packages()` function inside `setup.py` includes the `trainer` directory in the package as it contains `__init__.py` which tells [Python Setuptools](https://setuptools.readthedocs.io/en/latest/) to include all subdirectories of the parent directory as dependencies. "
   ]
  },
  {
   "cell_type": "code",
   "execution_count": 39,
   "metadata": {
    "id": "9dcb9b353ff3"
   },
   "outputs": [
    {
     "name": "stdout",
     "output_type": "stream",
     "text": [
      "Overwriting ./python_package/setup.py\n"
     ]
    }
   ],
   "source": [
    "%%writefile ./{PYTHON_PACKAGE_APPLICATION_DIR}/setup.py\n",
    "\n",
    "from setuptools import find_packages\n",
    "from setuptools import setup\n",
    "import setuptools\n",
    "\n",
    "from distutils.command.build import build as _build\n",
    "import subprocess\n",
    "\n",
    "\n",
    "REQUIRED_PACKAGES = [\n",
    "    'transformers',\n",
    "    'datasets',\n",
    "    'tqdm',\n",
    "    'cloudml-hypertune'\n",
    "]\n",
    "\n",
    "setup(\n",
    "    name='trainer',\n",
    "    version='0.1',\n",
    "    install_requires=REQUIRED_PACKAGES,\n",
    "    packages=find_packages(),\n",
    "    include_package_data=True,\n",
    "    description='Vertex AI | Training | PyTorch | Text Classification | Python Package'\n",
    ")"
   ]
  },
  {
   "cell_type": "markdown",
   "metadata": {
    "id": "a90b5019436d"
   },
   "source": [
    "Run the following command to create a source distribution, dist/trainer-0.1.tar.gz:"
   ]
  },
  {
   "cell_type": "code",
   "execution_count": 40,
   "metadata": {
    "id": "9fe9d30e9806"
   },
   "outputs": [
    {
     "name": "stdout",
     "output_type": "stream",
     "text": [
      "running sdist\n",
      "running egg_info\n",
      "creating trainer.egg-info\n",
      "writing trainer.egg-info/PKG-INFO\n",
      "writing dependency_links to trainer.egg-info/dependency_links.txt\n",
      "writing requirements to trainer.egg-info/requires.txt\n",
      "writing top-level names to trainer.egg-info/top_level.txt\n",
      "writing manifest file 'trainer.egg-info/SOURCES.txt'\n",
      "reading manifest file 'trainer.egg-info/SOURCES.txt'\n",
      "writing manifest file 'trainer.egg-info/SOURCES.txt'\n",
      "running check\n",
      "warning: check: missing required meta-data: url\n",
      "\n",
      "warning: check: missing meta-data: either (author and author_email) or (maintainer and maintainer_email) must be supplied\n",
      "\n",
      "creating trainer-0.1\n",
      "creating trainer-0.1/trainer\n",
      "creating trainer-0.1/trainer.egg-info\n",
      "copying files to trainer-0.1...\n",
      "copying README.md -> trainer-0.1\n",
      "copying setup.py -> trainer-0.1\n",
      "copying trainer/__init__.py -> trainer-0.1/trainer\n",
      "copying trainer/experiment.py -> trainer-0.1/trainer\n",
      "copying trainer/metadata.py -> trainer-0.1/trainer\n",
      "copying trainer/model.py -> trainer-0.1/trainer\n",
      "copying trainer/task.py -> trainer-0.1/trainer\n",
      "copying trainer/utils.py -> trainer-0.1/trainer\n",
      "copying trainer.egg-info/PKG-INFO -> trainer-0.1/trainer.egg-info\n",
      "copying trainer.egg-info/SOURCES.txt -> trainer-0.1/trainer.egg-info\n",
      "copying trainer.egg-info/dependency_links.txt -> trainer-0.1/trainer.egg-info\n",
      "copying trainer.egg-info/requires.txt -> trainer-0.1/trainer.egg-info\n",
      "copying trainer.egg-info/top_level.txt -> trainer-0.1/trainer.egg-info\n",
      "Writing trainer-0.1/setup.cfg\n",
      "creating dist\n",
      "Creating tar archive\n",
      "removing 'trainer-0.1' (and everything under it)\n"
     ]
    }
   ],
   "source": [
    "!cd {PYTHON_PACKAGE_APPLICATION_DIR} && python3 setup.py sdist --formats=gztar"
   ]
  },
  {
   "cell_type": "markdown",
   "metadata": {
    "id": "7b769681d231"
   },
   "source": [
    "Now upload the source distribution with training application to Cloud Storage bucket"
   ]
  },
  {
   "cell_type": "code",
   "execution_count": 43,
   "metadata": {},
   "outputs": [
    {
     "data": {
      "text/plain": [
       "'python_package/dist/trainer-0.1.tar.gz'"
      ]
     },
     "execution_count": 43,
     "metadata": {},
     "output_type": "execute_result"
    }
   ],
   "source": [
    "source_package_file_name"
   ]
  },
  {
   "cell_type": "code",
   "execution_count": 44,
   "metadata": {},
   "outputs": [
    {
     "data": {
      "text/plain": [
       "'gs://pytorch-text-classification-bucket/pytorch-on-gcp/finetuned-bert-classifier/train/python_package/trainer-0.1.tar.gz'"
      ]
     },
     "execution_count": 44,
     "metadata": {},
     "output_type": "execute_result"
    }
   ],
   "source": [
    "python_package_gcs_uri"
   ]
  },
  {
   "cell_type": "code",
   "execution_count": 45,
   "metadata": {
    "id": "a3492f5366aa"
   },
   "outputs": [
    {
     "name": "stdout",
     "output_type": "stream",
     "text": [
      "Copying file://python_package/dist/trainer-0.1.tar.gz [Content-Type=application/x-tar]...\n",
      "/ [1 files][  5.8 KiB/  5.8 KiB]                                                \n",
      "Operation completed over 1 objects/5.8 KiB.                                      \n"
     ]
    }
   ],
   "source": [
    "!gsutil cp {source_package_file_name} {python_package_gcs_uri}"
   ]
  },
  {
   "cell_type": "markdown",
   "metadata": {
    "id": "1e4a3c5a11a1"
   },
   "source": [
    "Validate the source distribution exists on Cloud Storage bucket"
   ]
  },
  {
   "cell_type": "code",
   "execution_count": 46,
   "metadata": {
    "id": "29fd8224d9cb"
   },
   "outputs": [
    {
     "name": "stdout",
     "output_type": "stream",
     "text": [
      "      5981  2023-08-02T18:08:14Z  gs://pytorch-text-classification-bucket/pytorch-on-gcp/finetuned-bert-classifier/train/python_package/trainer-0.1.tar.gz\n",
      "TOTAL: 1 objects, 5981 bytes (5.84 KiB)\n"
     ]
    }
   ],
   "source": [
    "!gsutil ls -l {python_package_gcs_uri}"
   ]
  },
  {
   "cell_type": "markdown",
   "metadata": {
    "id": "daf738249701"
   },
   "source": [
    "#### *[Optional]* **Run custom training job locally** "
   ]
  },
  {
   "cell_type": "code",
   "execution_count": 48,
   "metadata": {},
   "outputs": [
    {
     "data": {
      "text/plain": [
       "'python_package'"
      ]
     },
     "execution_count": 48,
     "metadata": {},
     "output_type": "execute_result"
    }
   ],
   "source": [
    "# verify the local Python package application directory\n",
    "PYTHON_PACKAGE_APPLICATION_DIR"
   ]
  },
  {
   "cell_type": "markdown",
   "metadata": {
    "id": "dae35b9f526e"
   },
   "source": [
    "Before submitting the job to cloud, you can run the training job locally by calling the `trainer.task` module directly"
   ]
  },
  {
   "cell_type": "code",
   "execution_count": 47,
   "metadata": {
    "id": "9defbf6fd074"
   },
   "outputs": [
    {
     "name": "stdout",
     "output_type": "stream",
     "text": [
      "Namespace(batch_size=16, hp_tune='n', job_dir=None, learning_rate=2e-05, model_name='finetuned-bert-classifier', num_epochs=1, seed=42, weight_decay=0.01)\n",
      "Found cached dataset imdb (/home/jupyter/.cache/huggingface/datasets/imdb/plain_text/1.0.0/d613c88cf8fa3bab83b4ded3713f1f74830d1100e171db75bbddb80b3345c9c0)\n",
      "100%|████████████████████████████████████████████| 3/3 [00:00<00:00, 673.68it/s]\n",
      "Some weights of the model checkpoint at bert-base-cased were not used when initializing BertForSequenceClassification: ['cls.predictions.decoder.weight', 'cls.predictions.transform.dense.bias', 'cls.predictions.transform.dense.weight', 'cls.predictions.transform.LayerNorm.bias', 'cls.predictions.transform.LayerNorm.weight', 'cls.predictions.bias', 'cls.seq_relationship.weight', 'cls.seq_relationship.bias']\n",
      "- This IS expected if you are initializing BertForSequenceClassification from the checkpoint of a model trained on another task or with another architecture (e.g. initializing a BertForSequenceClassification model from a BertForPreTraining model).\n",
      "- This IS NOT expected if you are initializing BertForSequenceClassification from the checkpoint of a model that you expect to be exactly identical (initializing a BertForSequenceClassification model from a BertForSequenceClassification model).\n",
      "Some weights of BertForSequenceClassification were not initialized from the model checkpoint at bert-base-cased and are newly initialized: ['classifier.weight', 'classifier.bias']\n",
      "You should probably TRAIN this model on a down-stream task to be able to use it for predictions and inference.\n",
      "/home/jupyter/.local/lib/python3.7/site-packages/transformers/optimization.py:415: FutureWarning: This implementation of AdamW is deprecated and will be removed in a future version. Use the PyTorch implementation torch.optim.AdamW instead, or set `no_deprecation_warning=True` to disable this warning\n",
      "  FutureWarning,\n",
      "{'loss': 0.4291, 'learning_rate': 1.3602047344849649e-05, 'epoch': 0.32}        \n",
      "{'loss': 0.3324, 'learning_rate': 7.204094689699297e-06, 'epoch': 0.64}         \n",
      "{'loss': 0.3023, 'learning_rate': 8.061420345489445e-07, 'epoch': 0.96}         \n",
      "100%|███████████████████████████████████████| 1563/1563 [10:08<00:00,  2.96it/s]\n",
      "  0%|                                                  | 0/1563 [00:00<?, ?it/s]\u001b[A\n",
      "  0%|                                          | 2/1563 [00:00<01:37, 15.98it/s]\u001b[A\n",
      "  0%|                                          | 4/1563 [00:00<02:31, 10.28it/s]\u001b[A\n",
      "  0%|▏                                         | 6/1563 [00:00<02:50,  9.12it/s]\u001b[A\n",
      "  0%|▏                                         | 7/1563 [00:00<02:58,  8.71it/s]\u001b[A\n",
      "  1%|▏                                         | 8/1563 [00:00<03:08,  8.27it/s]\u001b[A\n",
      "  1%|▏                                         | 9/1563 [00:01<03:09,  8.20it/s]\u001b[A\n",
      "  1%|▎                                        | 10/1563 [00:01<03:09,  8.18it/s]\u001b[A\n",
      "  1%|▎                                        | 11/1563 [00:01<03:10,  8.16it/s]\u001b[A\n",
      "  1%|▎                                        | 12/1563 [00:01<03:09,  8.18it/s]\u001b[A\n",
      "  1%|▎                                        | 13/1563 [00:01<03:09,  8.17it/s]\u001b[A\n",
      "  1%|▎                                        | 14/1563 [00:01<03:10,  8.12it/s]\u001b[A\n",
      "  1%|▍                                        | 15/1563 [00:01<03:16,  7.88it/s]\u001b[A\n",
      "  1%|▍                                        | 16/1563 [00:01<03:16,  7.88it/s]\u001b[A\n",
      "  1%|▍                                        | 17/1563 [00:02<03:14,  7.97it/s]\u001b[A\n",
      "  1%|▍                                        | 18/1563 [00:02<03:11,  8.07it/s]\u001b[A\n",
      "  1%|▍                                        | 19/1563 [00:02<03:09,  8.13it/s]\u001b[A\n",
      "  1%|▌                                        | 20/1563 [00:02<03:09,  8.16it/s]\u001b[A\n",
      "  1%|▌                                        | 21/1563 [00:02<03:08,  8.20it/s]\u001b[A\n",
      "  1%|▌                                        | 22/1563 [00:02<03:09,  8.15it/s]\u001b[A\n",
      "  1%|▌                                        | 23/1563 [00:02<03:12,  8.00it/s]\u001b[A\n",
      "  2%|▋                                        | 24/1563 [00:02<03:12,  7.99it/s]\u001b[A\n",
      "  2%|▋                                        | 25/1563 [00:03<03:13,  7.96it/s]\u001b[A\n",
      "  2%|▋                                        | 26/1563 [00:03<03:11,  8.03it/s]\u001b[A\n",
      "  2%|▋                                        | 27/1563 [00:03<03:09,  8.10it/s]\u001b[A\n",
      "  2%|▋                                        | 28/1563 [00:03<03:08,  8.15it/s]\u001b[A\n",
      "  2%|▊                                        | 29/1563 [00:03<03:07,  8.17it/s]\u001b[A\n",
      "  2%|▊                                        | 30/1563 [00:03<03:08,  8.13it/s]\u001b[A\n",
      "  2%|▊                                        | 31/1563 [00:03<03:09,  8.09it/s]\u001b[A\n",
      "  2%|▊                                        | 32/1563 [00:03<03:10,  8.02it/s]\u001b[A\n",
      "  2%|▊                                        | 33/1563 [00:03<03:12,  7.97it/s]\u001b[A\n",
      "  2%|▉                                        | 34/1563 [00:04<03:11,  7.98it/s]\u001b[A\n",
      "  2%|▉                                        | 35/1563 [00:04<03:10,  8.04it/s]\u001b[A\n",
      "  2%|▉                                        | 36/1563 [00:04<03:08,  8.11it/s]\u001b[A\n",
      "  2%|▉                                        | 37/1563 [00:04<03:07,  8.16it/s]\u001b[A\n",
      "  2%|▉                                        | 38/1563 [00:04<03:06,  8.17it/s]\u001b[A\n",
      "  2%|█                                        | 39/1563 [00:04<03:06,  8.18it/s]\u001b[A\n",
      "  3%|█                                        | 40/1563 [00:04<03:07,  8.14it/s]\u001b[A\n",
      "  3%|█                                        | 41/1563 [00:04<03:08,  8.09it/s]\u001b[A\n",
      "  3%|█                                        | 42/1563 [00:05<03:09,  8.01it/s]\u001b[A\n",
      "  3%|█▏                                       | 43/1563 [00:05<03:09,  8.01it/s]\u001b[A\n",
      "  3%|█▏                                       | 44/1563 [00:05<03:08,  8.05it/s]\u001b[A\n",
      "  3%|█▏                                       | 45/1563 [00:05<03:07,  8.09it/s]\u001b[A\n",
      "  3%|█▏                                       | 46/1563 [00:05<03:06,  8.13it/s]\u001b[A\n",
      "  3%|█▏                                       | 47/1563 [00:05<03:06,  8.13it/s]\u001b[A\n",
      "  3%|█▎                                       | 48/1563 [00:05<03:06,  8.12it/s]\u001b[A\n",
      "  3%|█▎                                       | 49/1563 [00:05<03:06,  8.12it/s]\u001b[A\n",
      "  3%|█▎                                       | 50/1563 [00:06<03:08,  8.04it/s]\u001b[A\n",
      "  3%|█▎                                       | 51/1563 [00:06<03:09,  7.97it/s]\u001b[A\n",
      "  3%|█▎                                       | 52/1563 [00:06<03:08,  8.01it/s]\u001b[A\n",
      "  3%|█▍                                       | 53/1563 [00:06<03:07,  8.07it/s]\u001b[A\n",
      "  3%|█▍                                       | 54/1563 [00:06<03:05,  8.13it/s]\u001b[A\n",
      "  4%|█▍                                       | 55/1563 [00:06<03:05,  8.14it/s]\u001b[A\n",
      "  4%|█▍                                       | 56/1563 [00:06<03:04,  8.18it/s]\u001b[A\n",
      "  4%|█▍                                       | 57/1563 [00:06<03:03,  8.20it/s]\u001b[A\n",
      "  4%|█▌                                       | 58/1563 [00:07<03:04,  8.18it/s]\u001b[A\n",
      "  4%|█▌                                       | 59/1563 [00:07<03:04,  8.16it/s]\u001b[A\n",
      "  4%|█▌                                       | 60/1563 [00:07<03:06,  8.08it/s]\u001b[A\n",
      "  4%|█▌                                       | 61/1563 [00:07<03:07,  8.03it/s]\u001b[A\n",
      "  4%|█▋                                       | 62/1563 [00:07<03:07,  8.02it/s]\u001b[A\n",
      "  4%|█▋                                       | 63/1563 [00:07<03:22,  7.40it/s]\u001b[A\n",
      "  4%|█▋                                       | 64/1563 [00:07<03:16,  7.61it/s]\u001b[A\n",
      "  4%|█▋                                       | 65/1563 [00:07<03:12,  7.77it/s]\u001b[A\n",
      "  4%|█▋                                       | 66/1563 [00:08<03:09,  7.89it/s]\u001b[A\n",
      "  4%|█▊                                       | 67/1563 [00:08<03:07,  7.98it/s]\u001b[A\n",
      "  4%|█▊                                       | 68/1563 [00:08<03:05,  8.07it/s]\u001b[A\n",
      "  4%|█▊                                       | 69/1563 [00:08<03:05,  8.07it/s]\u001b[A\n",
      "  4%|█▊                                       | 70/1563 [00:08<03:10,  7.84it/s]\u001b[A\n",
      "  5%|█▊                                       | 71/1563 [00:08<03:07,  7.96it/s]\u001b[A\n",
      "  5%|█▉                                       | 72/1563 [00:08<03:05,  8.02it/s]\u001b[A\n",
      "  5%|█▉                                       | 73/1563 [00:08<03:04,  8.07it/s]\u001b[A\n",
      "  5%|█▉                                       | 74/1563 [00:09<03:02,  8.14it/s]\u001b[A\n",
      "  5%|█▉                                       | 75/1563 [00:09<03:03,  8.13it/s]\u001b[A\n",
      "  5%|█▉                                       | 76/1563 [00:09<03:02,  8.13it/s]\u001b[A\n",
      "  5%|██                                       | 77/1563 [00:09<03:04,  8.07it/s]\u001b[A\n",
      "  5%|██                                       | 78/1563 [00:09<03:06,  7.97it/s]\u001b[A\n",
      "  5%|██                                       | 79/1563 [00:09<03:07,  7.93it/s]\u001b[A\n",
      "  5%|██                                       | 80/1563 [00:09<03:04,  8.03it/s]\u001b[A\n",
      "  5%|██                                       | 81/1563 [00:09<03:03,  8.09it/s]\u001b[A\n",
      "  5%|██▏                                      | 82/1563 [00:10<03:02,  8.10it/s]\u001b[A\n",
      "  5%|██▏                                      | 83/1563 [00:10<03:01,  8.15it/s]\u001b[A\n",
      "  5%|██▏                                      | 84/1563 [00:10<03:00,  8.18it/s]\u001b[A\n",
      "  5%|██▏                                      | 85/1563 [00:10<03:01,  8.13it/s]\u001b[A\n",
      "  6%|██▎                                      | 86/1563 [00:10<03:02,  8.10it/s]\u001b[A\n",
      "  6%|██▎                                      | 87/1563 [00:10<03:03,  8.03it/s]\u001b[A\n",
      "  6%|██▎                                      | 88/1563 [00:10<03:04,  7.97it/s]\u001b[A\n",
      "  6%|██▎                                      | 89/1563 [00:10<03:03,  8.02it/s]\u001b[A\n",
      "  6%|██▎                                      | 90/1563 [00:11<03:02,  8.09it/s]\u001b[A\n",
      "  6%|██▍                                      | 91/1563 [00:11<03:01,  8.11it/s]\u001b[A\n",
      "  6%|██▍                                      | 92/1563 [00:11<03:01,  8.11it/s]\u001b[A\n",
      "  6%|██▍                                      | 93/1563 [00:11<03:01,  8.11it/s]\u001b[A\n",
      "  6%|██▍                                      | 94/1563 [00:11<03:00,  8.12it/s]\u001b[A\n",
      "  6%|██▍                                      | 95/1563 [00:11<03:01,  8.07it/s]\u001b[A\n",
      "  6%|██▌                                      | 96/1563 [00:11<03:02,  8.03it/s]\u001b[A\n",
      "  6%|██▌                                      | 97/1563 [00:11<03:03,  8.00it/s]\u001b[A\n",
      "  6%|██▌                                      | 98/1563 [00:12<03:02,  8.03it/s]\u001b[A\n",
      "  6%|██▌                                      | 99/1563 [00:12<03:01,  8.08it/s]\u001b[A\n",
      "  6%|██▌                                     | 100/1563 [00:12<03:00,  8.08it/s]\u001b[A\n",
      "  6%|██▌                                     | 101/1563 [00:12<03:01,  8.08it/s]\u001b[A\n",
      "  7%|██▌                                     | 102/1563 [00:12<03:01,  8.06it/s]\u001b[A\n",
      "  7%|██▋                                     | 103/1563 [00:12<03:02,  8.01it/s]\u001b[A\n",
      "  7%|██▋                                     | 104/1563 [00:12<03:03,  7.97it/s]\u001b[A\n",
      "  7%|██▋                                     | 105/1563 [00:12<03:01,  8.03it/s]\u001b[A\n",
      "  7%|██▋                                     | 106/1563 [00:13<03:00,  8.07it/s]\u001b[A\n",
      "  7%|██▋                                     | 107/1563 [00:13<02:59,  8.10it/s]\u001b[A\n",
      "  7%|██▊                                     | 108/1563 [00:13<02:58,  8.13it/s]\u001b[A\n",
      "  7%|██▊                                     | 109/1563 [00:13<02:58,  8.15it/s]\u001b[A\n",
      "  7%|██▊                                     | 110/1563 [00:13<02:59,  8.11it/s]\u001b[A\n",
      "  7%|██▊                                     | 111/1563 [00:13<03:00,  8.05it/s]\u001b[A\n",
      "  7%|██▊                                     | 112/1563 [00:13<03:02,  7.97it/s]\u001b[A\n",
      "  7%|██▉                                     | 113/1563 [00:13<03:01,  8.01it/s]\u001b[A\n",
      "  7%|██▉                                     | 114/1563 [00:14<03:00,  8.04it/s]\u001b[A\n",
      "  7%|██▉                                     | 115/1563 [00:14<02:59,  8.06it/s]\u001b[A\n",
      "  7%|██▉                                     | 116/1563 [00:14<02:58,  8.10it/s]\u001b[A\n",
      "  7%|██▉                                     | 117/1563 [00:14<02:58,  8.12it/s]\u001b[A\n",
      "  8%|███                                     | 118/1563 [00:14<02:58,  8.08it/s]\u001b[A\n",
      "  8%|███                                     | 119/1563 [00:14<03:00,  7.99it/s]\u001b[A\n",
      "  8%|███                                     | 120/1563 [00:14<03:00,  8.01it/s]\u001b[A\n",
      "  8%|███                                     | 121/1563 [00:14<02:59,  8.03it/s]\u001b[A\n",
      "  8%|███                                     | 122/1563 [00:15<02:58,  8.07it/s]\u001b[A\n",
      "  8%|███▏                                    | 123/1563 [00:15<02:58,  8.07it/s]\u001b[A\n",
      "  8%|███▏                                    | 124/1563 [00:15<02:58,  8.04it/s]\u001b[A\n",
      "  8%|███▏                                    | 125/1563 [00:15<02:58,  8.04it/s]\u001b[A\n",
      "  8%|███▏                                    | 126/1563 [00:15<03:03,  7.83it/s]\u001b[A\n",
      "  8%|███▎                                    | 127/1563 [00:15<03:02,  7.85it/s]\u001b[A\n",
      "  8%|███▎                                    | 128/1563 [00:15<03:02,  7.85it/s]\u001b[A\n",
      "  8%|███▎                                    | 129/1563 [00:15<03:02,  7.85it/s]\u001b[A\n",
      "  8%|███▎                                    | 130/1563 [00:16<03:00,  7.92it/s]\u001b[A\n",
      "  8%|███▎                                    | 131/1563 [00:16<02:59,  7.96it/s]\u001b[A\n",
      "  8%|███▍                                    | 132/1563 [00:16<02:59,  7.98it/s]\u001b[A\n",
      "  9%|███▍                                    | 133/1563 [00:16<03:00,  7.91it/s]\u001b[A\n",
      "  9%|███▍                                    | 134/1563 [00:16<02:57,  8.03it/s]\u001b[A\n",
      "  9%|███▍                                    | 135/1563 [00:16<02:57,  8.05it/s]\u001b[A\n",
      "  9%|███▍                                    | 136/1563 [00:16<02:56,  8.08it/s]\u001b[A\n",
      "  9%|███▌                                    | 137/1563 [00:16<02:57,  8.04it/s]\u001b[A\n",
      "  9%|███▌                                    | 138/1563 [00:17<02:57,  8.04it/s]\u001b[A\n",
      "  9%|███▌                                    | 139/1563 [00:17<02:56,  8.05it/s]\u001b[A\n",
      "  9%|███▌                                    | 140/1563 [00:17<02:58,  7.97it/s]\u001b[A\n",
      "  9%|███▌                                    | 141/1563 [00:17<02:57,  8.01it/s]\u001b[A\n",
      "  9%|███▋                                    | 142/1563 [00:17<02:56,  8.04it/s]\u001b[A\n",
      "  9%|███▋                                    | 143/1563 [00:17<02:54,  8.13it/s]\u001b[A\n",
      "  9%|███▋                                    | 144/1563 [00:17<02:54,  8.15it/s]\u001b[A\n",
      "  9%|███▋                                    | 145/1563 [00:17<02:54,  8.15it/s]\u001b[A\n",
      "  9%|███▋                                    | 146/1563 [00:18<02:53,  8.15it/s]\u001b[A\n",
      "  9%|███▊                                    | 147/1563 [00:18<02:53,  8.14it/s]\u001b[A\n",
      "  9%|███▊                                    | 148/1563 [00:18<02:55,  8.08it/s]\u001b[A\n",
      " 10%|███▊                                    | 149/1563 [00:18<02:56,  8.01it/s]\u001b[A\n",
      " 10%|███▊                                    | 150/1563 [00:18<02:56,  7.99it/s]\u001b[A\n",
      " 10%|███▊                                    | 151/1563 [00:18<02:55,  8.02it/s]\u001b[A\n",
      " 10%|███▉                                    | 152/1563 [00:18<02:55,  8.05it/s]\u001b[A\n",
      " 10%|███▉                                    | 153/1563 [00:18<02:55,  8.06it/s]\u001b[A\n",
      " 10%|███▉                                    | 154/1563 [00:19<02:55,  8.04it/s]\u001b[A\n",
      " 10%|███▉                                    | 155/1563 [00:19<02:54,  8.05it/s]\u001b[A\n",
      " 10%|███▉                                    | 156/1563 [00:19<02:55,  8.01it/s]\u001b[A\n",
      " 10%|████                                    | 157/1563 [00:19<02:55,  8.01it/s]\u001b[A\n",
      " 10%|████                                    | 158/1563 [00:19<02:54,  8.04it/s]\u001b[A\n",
      " 10%|████                                    | 159/1563 [00:19<02:55,  8.02it/s]\u001b[A\n",
      " 10%|████                                    | 160/1563 [00:19<02:56,  7.96it/s]\u001b[A\n",
      " 10%|████                                    | 161/1563 [00:19<02:56,  7.93it/s]\u001b[A\n",
      " 10%|████▏                                   | 162/1563 [00:20<02:55,  7.97it/s]\u001b[A\n",
      " 10%|████▏                                   | 163/1563 [00:20<02:53,  8.08it/s]\u001b[A\n",
      " 10%|████▏                                   | 164/1563 [00:20<02:53,  8.09it/s]\u001b[A\n",
      " 11%|████▏                                   | 165/1563 [00:20<02:52,  8.08it/s]\u001b[A\n",
      " 11%|████▏                                   | 166/1563 [00:20<02:54,  8.02it/s]\u001b[A\n",
      " 11%|████▎                                   | 167/1563 [00:20<02:54,  7.98it/s]\u001b[A\n",
      " 11%|████▎                                   | 168/1563 [00:20<02:55,  7.96it/s]\u001b[A\n",
      " 11%|████▎                                   | 169/1563 [00:20<02:54,  8.00it/s]\u001b[A\n",
      " 11%|████▎                                   | 170/1563 [00:21<02:52,  8.07it/s]\u001b[A\n",
      " 11%|████▍                                   | 171/1563 [00:21<02:51,  8.13it/s]\u001b[A\n",
      " 11%|████▍                                   | 172/1563 [00:21<02:51,  8.13it/s]\u001b[A\n",
      " 11%|████▍                                   | 173/1563 [00:21<02:51,  8.11it/s]\u001b[A\n",
      " 11%|████▍                                   | 174/1563 [00:21<02:52,  8.06it/s]\u001b[A\n",
      " 11%|████▍                                   | 175/1563 [00:21<02:53,  8.00it/s]\u001b[A\n",
      " 11%|████▌                                   | 176/1563 [00:21<02:53,  8.00it/s]\u001b[A\n",
      " 11%|████▌                                   | 177/1563 [00:21<02:52,  8.03it/s]\u001b[A\n",
      " 11%|████▌                                   | 178/1563 [00:22<02:51,  8.10it/s]\u001b[A\n",
      " 11%|████▌                                   | 179/1563 [00:22<02:50,  8.10it/s]\u001b[A\n",
      " 12%|████▌                                   | 180/1563 [00:22<02:51,  8.05it/s]\u001b[A\n",
      " 12%|████▋                                   | 181/1563 [00:22<02:52,  8.03it/s]\u001b[A\n",
      " 12%|████▋                                   | 182/1563 [00:22<02:51,  8.03it/s]\u001b[A\n",
      " 12%|████▋                                   | 183/1563 [00:22<02:52,  7.99it/s]\u001b[A\n",
      " 12%|████▋                                   | 184/1563 [00:22<02:52,  8.00it/s]\u001b[A\n",
      " 12%|████▋                                   | 185/1563 [00:22<02:52,  7.99it/s]\u001b[A\n",
      " 12%|████▊                                   | 186/1563 [00:23<02:53,  7.95it/s]\u001b[A\n",
      " 12%|████▊                                   | 187/1563 [00:23<02:53,  7.93it/s]\u001b[A\n",
      " 12%|████▊                                   | 188/1563 [00:23<02:59,  7.64it/s]\u001b[A\n",
      " 12%|████▊                                   | 189/1563 [00:23<02:55,  7.81it/s]\u001b[A\n",
      " 12%|████▊                                   | 190/1563 [00:23<02:53,  7.93it/s]\u001b[A\n",
      " 12%|████▉                                   | 191/1563 [00:23<02:51,  8.00it/s]\u001b[A\n",
      " 12%|████▉                                   | 192/1563 [00:23<02:50,  8.05it/s]\u001b[A\n",
      " 12%|████▉                                   | 193/1563 [00:23<02:49,  8.10it/s]\u001b[A\n",
      " 12%|████▉                                   | 194/1563 [00:24<02:48,  8.10it/s]\u001b[A\n",
      " 12%|████▉                                   | 195/1563 [00:24<02:52,  7.93it/s]\u001b[A\n",
      " 13%|█████                                   | 196/1563 [00:24<02:50,  8.01it/s]\u001b[A\n",
      " 13%|█████                                   | 197/1563 [00:24<02:50,  8.03it/s]\u001b[A\n",
      " 13%|█████                                   | 198/1563 [00:24<02:49,  8.05it/s]\u001b[A\n",
      " 13%|█████                                   | 199/1563 [00:24<02:48,  8.10it/s]\u001b[A\n",
      " 13%|█████                                   | 200/1563 [00:24<02:47,  8.14it/s]\u001b[A\n",
      " 13%|█████▏                                  | 201/1563 [00:24<02:46,  8.16it/s]\u001b[A\n",
      " 13%|█████▏                                  | 202/1563 [00:25<02:47,  8.11it/s]\u001b[A\n",
      " 13%|█████▏                                  | 203/1563 [00:25<02:48,  8.06it/s]\u001b[A\n",
      " 13%|█████▏                                  | 204/1563 [00:25<02:48,  8.07it/s]\u001b[A\n",
      " 13%|█████▏                                  | 205/1563 [00:25<02:49,  8.03it/s]\u001b[A\n",
      " 13%|█████▎                                  | 206/1563 [00:25<02:49,  8.00it/s]\u001b[A\n",
      " 13%|█████▎                                  | 207/1563 [00:25<02:48,  8.02it/s]\u001b[A\n",
      " 13%|█████▎                                  | 208/1563 [00:25<02:48,  8.04it/s]\u001b[A\n",
      " 13%|█████▎                                  | 209/1563 [00:25<02:47,  8.07it/s]\u001b[A\n",
      " 13%|█████▎                                  | 210/1563 [00:26<02:49,  7.99it/s]\u001b[A\n",
      " 13%|█████▍                                  | 211/1563 [00:26<02:50,  7.95it/s]\u001b[A\n",
      " 14%|█████▍                                  | 212/1563 [00:26<02:48,  8.00it/s]\u001b[A\n",
      " 14%|█████▍                                  | 213/1563 [00:26<02:47,  8.04it/s]\u001b[A\n",
      " 14%|█████▍                                  | 214/1563 [00:26<02:46,  8.08it/s]\u001b[A\n",
      " 14%|█████▌                                  | 215/1563 [00:26<02:47,  8.07it/s]\u001b[A\n",
      " 14%|█████▌                                  | 216/1563 [00:26<02:47,  8.03it/s]\u001b[A\n",
      " 14%|█████▌                                  | 217/1563 [00:26<02:47,  8.03it/s]\u001b[A\n",
      " 14%|█████▌                                  | 218/1563 [00:27<02:48,  7.98it/s]\u001b[A\n",
      " 14%|█████▌                                  | 219/1563 [00:27<02:47,  8.03it/s]\u001b[A\n",
      " 14%|█████▋                                  | 220/1563 [00:27<02:45,  8.10it/s]\u001b[A\n",
      " 14%|█████▋                                  | 221/1563 [00:27<02:45,  8.12it/s]\u001b[A\n",
      " 14%|█████▋                                  | 222/1563 [00:27<02:44,  8.15it/s]\u001b[A\n",
      " 14%|█████▋                                  | 223/1563 [00:27<02:44,  8.17it/s]\u001b[A\n",
      " 14%|█████▋                                  | 224/1563 [00:27<02:43,  8.17it/s]\u001b[A\n",
      " 14%|█████▊                                  | 225/1563 [00:27<02:43,  8.19it/s]\u001b[A\n",
      " 14%|█████▊                                  | 226/1563 [00:27<02:43,  8.16it/s]\u001b[A\n",
      " 15%|█████▊                                  | 227/1563 [00:28<02:44,  8.11it/s]\u001b[A\n",
      " 15%|█████▊                                  | 228/1563 [00:28<02:46,  8.01it/s]\u001b[A\n",
      " 15%|█████▊                                  | 229/1563 [00:28<02:47,  7.99it/s]\u001b[A\n",
      " 15%|█████▉                                  | 230/1563 [00:28<02:46,  8.01it/s]\u001b[A\n",
      " 15%|█████▉                                  | 231/1563 [00:28<02:45,  8.03it/s]\u001b[A\n",
      " 15%|█████▉                                  | 232/1563 [00:28<02:45,  8.02it/s]\u001b[A\n",
      " 15%|█████▉                                  | 233/1563 [00:28<02:47,  7.96it/s]\u001b[A\n",
      " 15%|█████▉                                  | 234/1563 [00:28<02:46,  7.96it/s]\u001b[A\n",
      " 15%|██████                                  | 235/1563 [00:29<02:46,  8.00it/s]\u001b[A\n",
      " 15%|██████                                  | 236/1563 [00:29<02:44,  8.05it/s]\u001b[A\n",
      " 15%|██████                                  | 237/1563 [00:29<02:44,  8.05it/s]\u001b[A\n",
      " 15%|██████                                  | 238/1563 [00:29<02:45,  7.99it/s]\u001b[A\n",
      " 15%|██████                                  | 239/1563 [00:29<02:45,  7.98it/s]\u001b[A\n",
      " 15%|██████▏                                 | 240/1563 [00:29<02:44,  8.04it/s]\u001b[A\n",
      " 15%|██████▏                                 | 241/1563 [00:29<02:43,  8.09it/s]\u001b[A\n",
      " 15%|██████▏                                 | 242/1563 [00:29<02:43,  8.09it/s]\u001b[A\n",
      " 16%|██████▏                                 | 243/1563 [00:30<02:43,  8.08it/s]\u001b[A\n",
      " 16%|██████▏                                 | 244/1563 [00:30<02:42,  8.10it/s]\u001b[A\n",
      " 16%|██████▎                                 | 245/1563 [00:30<02:42,  8.10it/s]\u001b[A\n",
      " 16%|██████▎                                 | 246/1563 [00:30<02:44,  8.03it/s]\u001b[A\n",
      " 16%|██████▎                                 | 247/1563 [00:30<02:45,  7.96it/s]\u001b[A\n",
      " 16%|██████▎                                 | 248/1563 [00:30<02:44,  8.00it/s]\u001b[A\n",
      " 16%|██████▎                                 | 249/1563 [00:30<02:43,  8.05it/s]\u001b[A\n",
      " 16%|██████▍                                 | 250/1563 [00:30<02:42,  8.09it/s]\u001b[A\n",
      " 16%|██████▍                                 | 251/1563 [00:31<02:43,  8.04it/s]\u001b[A\n",
      " 16%|██████▍                                 | 252/1563 [00:31<02:43,  8.00it/s]\u001b[A\n",
      " 16%|██████▍                                 | 253/1563 [00:31<02:43,  8.01it/s]\u001b[A\n",
      " 16%|██████▌                                 | 254/1563 [00:31<02:43,  7.99it/s]\u001b[A\n",
      " 16%|██████▌                                 | 255/1563 [00:31<02:42,  8.03it/s]\u001b[A\n",
      " 16%|██████▌                                 | 256/1563 [00:31<02:42,  8.06it/s]\u001b[A\n",
      " 16%|██████▌                                 | 257/1563 [00:31<02:41,  8.07it/s]\u001b[A\n",
      " 17%|██████▌                                 | 258/1563 [00:31<02:42,  8.04it/s]\u001b[A\n",
      " 17%|██████▋                                 | 259/1563 [00:32<02:43,  7.98it/s]\u001b[A\n",
      " 17%|██████▋                                 | 260/1563 [00:32<02:43,  7.98it/s]\u001b[A\n",
      " 17%|██████▋                                 | 261/1563 [00:32<02:42,  8.02it/s]\u001b[A\n",
      " 17%|██████▋                                 | 262/1563 [00:32<02:41,  8.08it/s]\u001b[A\n",
      " 17%|██████▋                                 | 263/1563 [00:32<02:40,  8.08it/s]\u001b[A\n",
      " 17%|██████▊                                 | 264/1563 [00:32<02:40,  8.12it/s]\u001b[A\n",
      " 17%|██████▊                                 | 265/1563 [00:32<02:41,  8.04it/s]\u001b[A\n",
      " 17%|██████▊                                 | 266/1563 [00:32<02:41,  8.03it/s]\u001b[A\n",
      " 17%|██████▊                                 | 267/1563 [00:33<02:42,  7.98it/s]\u001b[A\n",
      " 17%|██████▊                                 | 268/1563 [00:33<02:41,  8.03it/s]\u001b[A\n",
      " 17%|██████▉                                 | 269/1563 [00:33<02:40,  8.05it/s]\u001b[A\n",
      " 17%|██████▉                                 | 270/1563 [00:33<02:40,  8.05it/s]\u001b[A\n",
      " 17%|██████▉                                 | 271/1563 [00:33<02:40,  8.05it/s]\u001b[A\n",
      " 17%|██████▉                                 | 272/1563 [00:33<02:41,  8.00it/s]\u001b[A\n",
      " 17%|██████▉                                 | 273/1563 [00:33<02:41,  7.99it/s]\u001b[A\n",
      " 18%|███████                                 | 274/1563 [00:33<02:40,  8.05it/s]\u001b[A\n",
      " 18%|███████                                 | 275/1563 [00:34<02:40,  8.03it/s]\u001b[A\n",
      " 18%|███████                                 | 276/1563 [00:34<02:40,  8.04it/s]\u001b[A\n",
      " 18%|███████                                 | 277/1563 [00:34<02:40,  8.03it/s]\u001b[A\n",
      " 18%|███████                                 | 278/1563 [00:34<02:41,  7.96it/s]\u001b[A\n",
      " 18%|███████▏                                | 279/1563 [00:34<02:40,  7.98it/s]\u001b[A\n",
      " 18%|███████▏                                | 280/1563 [00:34<02:39,  8.02it/s]\u001b[A\n",
      " 18%|███████▏                                | 281/1563 [00:34<02:39,  8.05it/s]\u001b[A\n",
      " 18%|███████▏                                | 282/1563 [00:34<02:38,  8.08it/s]\u001b[A\n",
      " 18%|███████▏                                | 283/1563 [00:35<02:38,  8.07it/s]\u001b[A\n",
      " 18%|███████▎                                | 284/1563 [00:35<02:38,  8.08it/s]\u001b[A\n",
      " 18%|███████▎                                | 285/1563 [00:35<02:39,  8.03it/s]\u001b[A\n",
      " 18%|███████▎                                | 286/1563 [00:35<02:40,  7.98it/s]\u001b[A\n",
      " 18%|███████▎                                | 287/1563 [00:35<02:40,  7.96it/s]\u001b[A\n",
      " 18%|███████▎                                | 288/1563 [00:35<02:38,  8.03it/s]\u001b[A\n",
      " 18%|███████▍                                | 289/1563 [00:35<02:37,  8.11it/s]\u001b[A\n",
      " 19%|███████▍                                | 290/1563 [00:35<02:36,  8.14it/s]\u001b[A\n",
      " 19%|███████▍                                | 291/1563 [00:36<02:36,  8.14it/s]\u001b[A\n",
      " 19%|███████▍                                | 292/1563 [00:36<02:36,  8.12it/s]\u001b[A\n",
      " 19%|███████▍                                | 293/1563 [00:36<02:37,  8.08it/s]\u001b[A\n",
      " 19%|███████▌                                | 294/1563 [00:36<02:38,  8.03it/s]\u001b[A\n",
      " 19%|███████▌                                | 295/1563 [00:36<02:38,  8.00it/s]\u001b[A\n",
      " 19%|███████▌                                | 296/1563 [00:36<02:37,  8.04it/s]\u001b[A\n",
      " 19%|███████▌                                | 297/1563 [00:36<02:36,  8.08it/s]\u001b[A\n",
      " 19%|███████▋                                | 298/1563 [00:36<02:35,  8.13it/s]\u001b[A\n",
      " 19%|███████▋                                | 299/1563 [00:37<02:35,  8.13it/s]\u001b[A\n",
      " 19%|███████▋                                | 300/1563 [00:37<02:35,  8.15it/s]\u001b[A\n",
      " 19%|███████▋                                | 301/1563 [00:37<02:34,  8.17it/s]\u001b[A\n",
      " 19%|███████▋                                | 302/1563 [00:37<02:34,  8.15it/s]\u001b[A\n",
      " 19%|███████▊                                | 303/1563 [00:37<02:36,  8.03it/s]\u001b[A\n",
      " 19%|███████▊                                | 304/1563 [00:37<02:36,  8.02it/s]\u001b[A\n",
      " 20%|███████▊                                | 305/1563 [00:37<02:37,  8.00it/s]\u001b[A\n",
      " 20%|███████▊                                | 306/1563 [00:37<02:35,  8.06it/s]\u001b[A\n",
      " 20%|███████▊                                | 307/1563 [00:38<02:35,  8.09it/s]\u001b[A\n",
      " 20%|███████▉                                | 308/1563 [00:38<02:34,  8.12it/s]\u001b[A\n",
      " 20%|███████▉                                | 309/1563 [00:38<02:34,  8.14it/s]\u001b[A\n",
      " 20%|███████▉                                | 310/1563 [00:38<02:33,  8.14it/s]\u001b[A\n",
      " 20%|███████▉                                | 311/1563 [00:38<02:33,  8.14it/s]\u001b[A\n",
      " 20%|███████▉                                | 312/1563 [00:38<02:35,  8.06it/s]\u001b[A\n",
      " 20%|████████                                | 313/1563 [00:38<02:55,  7.12it/s]\u001b[A\n",
      " 20%|████████                                | 314/1563 [00:38<02:48,  7.41it/s]\u001b[A\n",
      " 20%|████████                                | 315/1563 [00:39<02:44,  7.59it/s]\u001b[A\n",
      " 20%|████████                                | 316/1563 [00:39<02:41,  7.71it/s]\u001b[A\n",
      " 20%|████████                                | 317/1563 [00:39<02:40,  7.78it/s]\u001b[A\n",
      " 20%|████████▏                               | 318/1563 [00:39<02:38,  7.85it/s]\u001b[A\n",
      " 20%|████████▏                               | 319/1563 [00:39<02:38,  7.83it/s]\u001b[A\n",
      " 20%|████████▏                               | 320/1563 [00:39<02:43,  7.62it/s]\u001b[A\n",
      " 21%|████████▏                               | 321/1563 [00:39<02:39,  7.79it/s]\u001b[A\n",
      " 21%|████████▏                               | 322/1563 [00:39<02:37,  7.90it/s]\u001b[A\n",
      " 21%|████████▎                               | 323/1563 [00:40<02:35,  8.00it/s]\u001b[A\n",
      " 21%|████████▎                               | 324/1563 [00:40<02:33,  8.05it/s]\u001b[A\n",
      " 21%|████████▎                               | 325/1563 [00:40<02:33,  8.08it/s]\u001b[A\n",
      " 21%|████████▎                               | 326/1563 [00:40<02:33,  8.04it/s]\u001b[A\n",
      " 21%|████████▎                               | 327/1563 [00:40<02:37,  7.83it/s]\u001b[A\n",
      " 21%|████████▍                               | 328/1563 [00:40<02:38,  7.80it/s]\u001b[A\n",
      " 21%|████████▍                               | 329/1563 [00:40<02:37,  7.83it/s]\u001b[A\n",
      " 21%|████████▍                               | 330/1563 [00:41<02:35,  7.91it/s]\u001b[A\n",
      " 21%|████████▍                               | 331/1563 [00:41<02:34,  7.99it/s]\u001b[A\n",
      " 21%|████████▍                               | 332/1563 [00:41<02:32,  8.09it/s]\u001b[A\n",
      " 21%|████████▌                               | 333/1563 [00:41<02:31,  8.13it/s]\u001b[A\n",
      " 21%|████████▌                               | 334/1563 [00:41<02:31,  8.13it/s]\u001b[A\n",
      " 21%|████████▌                               | 335/1563 [00:41<02:32,  8.05it/s]\u001b[A\n",
      " 21%|████████▌                               | 336/1563 [00:41<02:33,  8.01it/s]\u001b[A\n",
      " 22%|████████▌                               | 337/1563 [00:41<02:34,  7.95it/s]\u001b[A\n",
      " 22%|████████▋                               | 338/1563 [00:41<02:33,  7.98it/s]\u001b[A\n",
      " 22%|████████▋                               | 339/1563 [00:42<02:32,  8.02it/s]\u001b[A\n",
      " 22%|████████▋                               | 340/1563 [00:42<02:30,  8.10it/s]\u001b[A\n",
      " 22%|████████▋                               | 341/1563 [00:42<02:30,  8.13it/s]\u001b[A\n",
      " 22%|████████▊                               | 342/1563 [00:42<02:29,  8.15it/s]\u001b[A\n",
      " 22%|████████▊                               | 343/1563 [00:42<02:29,  8.15it/s]\u001b[A\n",
      " 22%|████████▊                               | 344/1563 [00:42<02:29,  8.13it/s]\u001b[A\n",
      " 22%|████████▊                               | 345/1563 [00:42<02:30,  8.08it/s]\u001b[A\n",
      " 22%|████████▊                               | 346/1563 [00:42<02:32,  8.00it/s]\u001b[A\n",
      " 22%|████████▉                               | 347/1563 [00:43<02:32,  8.00it/s]\u001b[A\n",
      " 22%|████████▉                               | 348/1563 [00:43<02:30,  8.08it/s]\u001b[A\n",
      " 22%|████████▉                               | 349/1563 [00:43<02:29,  8.11it/s]\u001b[A\n",
      " 22%|████████▉                               | 350/1563 [00:43<02:28,  8.16it/s]\u001b[A\n",
      " 22%|████████▉                               | 351/1563 [00:43<02:28,  8.15it/s]\u001b[A\n",
      " 23%|█████████                               | 352/1563 [00:43<02:28,  8.16it/s]\u001b[A\n",
      " 23%|█████████                               | 353/1563 [00:43<02:28,  8.15it/s]\u001b[A\n",
      " 23%|█████████                               | 354/1563 [00:43<02:28,  8.17it/s]\u001b[A\n",
      " 23%|█████████                               | 355/1563 [00:44<02:27,  8.19it/s]\u001b[A\n",
      " 23%|█████████                               | 356/1563 [00:44<02:27,  8.20it/s]\u001b[A\n",
      " 23%|█████████▏                              | 357/1563 [00:44<02:26,  8.22it/s]\u001b[A\n",
      " 23%|█████████▏                              | 358/1563 [00:44<02:26,  8.21it/s]\u001b[A\n",
      " 23%|█████████▏                              | 359/1563 [00:44<02:26,  8.20it/s]\u001b[A\n",
      " 23%|█████████▏                              | 360/1563 [00:44<02:26,  8.19it/s]\u001b[A\n",
      " 23%|█████████▏                              | 361/1563 [00:44<02:26,  8.18it/s]\u001b[A\n",
      " 23%|█████████▎                              | 362/1563 [00:44<02:27,  8.16it/s]\u001b[A\n",
      " 23%|█████████▎                              | 363/1563 [00:45<02:28,  8.09it/s]\u001b[A\n",
      " 23%|█████████▎                              | 364/1563 [00:45<02:29,  8.02it/s]\u001b[A\n",
      " 23%|█████████▎                              | 365/1563 [00:45<02:29,  8.02it/s]\u001b[A\n",
      " 23%|█████████▎                              | 366/1563 [00:45<02:28,  8.08it/s]\u001b[A\n",
      " 23%|█████████▍                              | 367/1563 [00:45<02:27,  8.08it/s]\u001b[A\n",
      " 24%|█████████▍                              | 368/1563 [00:45<02:27,  8.10it/s]\u001b[A\n",
      " 24%|█████████▍                              | 369/1563 [00:45<02:27,  8.10it/s]\u001b[A\n",
      " 24%|█████████▍                              | 370/1563 [00:45<02:26,  8.12it/s]\u001b[A\n",
      " 24%|█████████▍                              | 371/1563 [00:46<02:27,  8.09it/s]\u001b[A\n",
      " 24%|█████████▌                              | 372/1563 [00:46<02:29,  7.99it/s]\u001b[A\n",
      " 24%|█████████▌                              | 373/1563 [00:46<02:29,  7.98it/s]\u001b[A\n",
      " 24%|█████████▌                              | 374/1563 [00:46<02:27,  8.04it/s]\u001b[A\n",
      " 24%|█████████▌                              | 375/1563 [00:46<02:27,  8.06it/s]\u001b[A\n",
      " 24%|█████████▌                              | 376/1563 [00:46<02:28,  7.97it/s]\u001b[A\n",
      " 24%|█████████▋                              | 377/1563 [00:46<02:28,  7.97it/s]\u001b[A\n",
      " 24%|█████████▋                              | 378/1563 [00:46<02:28,  7.98it/s]\u001b[A\n",
      " 24%|█████████▋                              | 379/1563 [00:47<02:27,  8.04it/s]\u001b[A\n",
      " 24%|█████████▋                              | 380/1563 [00:47<02:27,  8.01it/s]\u001b[A\n",
      " 24%|█████████▊                              | 381/1563 [00:47<02:27,  8.01it/s]\u001b[A\n",
      " 24%|█████████▊                              | 382/1563 [00:47<02:27,  8.00it/s]\u001b[A\n",
      " 25%|█████████▊                              | 383/1563 [00:47<02:28,  7.93it/s]\u001b[A\n",
      " 25%|█████████▊                              | 384/1563 [00:47<02:27,  8.00it/s]\u001b[A\n",
      " 25%|█████████▊                              | 385/1563 [00:47<02:26,  8.05it/s]\u001b[A\n",
      " 25%|█████████▉                              | 386/1563 [00:47<02:25,  8.07it/s]\u001b[A\n",
      " 25%|█████████▉                              | 387/1563 [00:48<02:25,  8.07it/s]\u001b[A\n",
      " 25%|█████████▉                              | 388/1563 [00:48<02:25,  8.10it/s]\u001b[A\n",
      " 25%|█████████▉                              | 389/1563 [00:48<02:24,  8.13it/s]\u001b[A\n",
      " 25%|█████████▉                              | 390/1563 [00:48<02:24,  8.13it/s]\u001b[A\n",
      " 25%|██████████                              | 391/1563 [00:48<02:24,  8.12it/s]\u001b[A\n",
      " 25%|██████████                              | 392/1563 [00:48<02:24,  8.09it/s]\u001b[A\n",
      " 25%|██████████                              | 393/1563 [00:48<02:25,  8.06it/s]\u001b[A\n",
      " 25%|██████████                              | 394/1563 [00:48<02:25,  8.04it/s]\u001b[A\n",
      " 25%|██████████                              | 395/1563 [00:49<02:25,  8.01it/s]\u001b[A\n",
      " 25%|██████████▏                             | 396/1563 [00:49<02:24,  8.06it/s]\u001b[A\n",
      " 25%|██████████▏                             | 397/1563 [00:49<02:24,  8.10it/s]\u001b[A\n",
      " 25%|██████████▏                             | 398/1563 [00:49<02:23,  8.10it/s]\u001b[A\n",
      " 26%|██████████▏                             | 399/1563 [00:49<02:23,  8.13it/s]\u001b[A\n",
      " 26%|██████████▏                             | 400/1563 [00:49<02:22,  8.15it/s]\u001b[A\n",
      " 26%|██████████▎                             | 401/1563 [00:49<02:22,  8.16it/s]\u001b[A\n",
      " 26%|██████████▎                             | 402/1563 [00:49<02:22,  8.16it/s]\u001b[A\n",
      " 26%|██████████▎                             | 403/1563 [00:50<02:23,  8.10it/s]\u001b[A\n",
      " 26%|██████████▎                             | 404/1563 [00:50<02:23,  8.05it/s]\u001b[A\n",
      " 26%|██████████▎                             | 405/1563 [00:50<02:25,  7.98it/s]\u001b[A\n",
      " 26%|██████████▍                             | 406/1563 [00:50<02:24,  8.01it/s]\u001b[A\n",
      " 26%|██████████▍                             | 407/1563 [00:50<02:23,  8.04it/s]\u001b[A\n",
      " 26%|██████████▍                             | 408/1563 [00:50<02:22,  8.11it/s]\u001b[A\n",
      " 26%|██████████▍                             | 409/1563 [00:50<02:21,  8.14it/s]\u001b[A\n",
      " 26%|██████████▍                             | 410/1563 [00:50<02:21,  8.17it/s]\u001b[A\n",
      " 26%|██████████▌                             | 411/1563 [00:51<02:20,  8.19it/s]\u001b[A\n",
      " 26%|██████████▌                             | 412/1563 [00:51<02:20,  8.19it/s]\u001b[A\n",
      " 26%|██████████▌                             | 413/1563 [00:51<02:21,  8.15it/s]\u001b[A\n",
      " 26%|██████████▌                             | 414/1563 [00:51<02:21,  8.11it/s]\u001b[A\n",
      " 27%|██████████▌                             | 415/1563 [00:51<02:22,  8.04it/s]\u001b[A\n",
      " 27%|██████████▋                             | 416/1563 [00:51<02:23,  8.01it/s]\u001b[A\n",
      " 27%|██████████▋                             | 417/1563 [00:51<02:22,  8.06it/s]\u001b[A\n",
      " 27%|██████████▋                             | 418/1563 [00:51<02:21,  8.09it/s]\u001b[A\n",
      " 27%|██████████▋                             | 419/1563 [00:52<02:21,  8.11it/s]\u001b[A\n",
      " 27%|██████████▋                             | 420/1563 [00:52<02:20,  8.11it/s]\u001b[A\n",
      " 27%|██████████▊                             | 421/1563 [00:52<02:20,  8.12it/s]\u001b[A\n",
      " 27%|██████████▊                             | 422/1563 [00:52<02:19,  8.16it/s]\u001b[A\n",
      " 27%|██████████▊                             | 423/1563 [00:52<02:19,  8.17it/s]\u001b[A\n",
      " 27%|██████████▊                             | 424/1563 [00:52<02:19,  8.15it/s]\u001b[A\n",
      " 27%|██████████▉                             | 425/1563 [00:52<02:20,  8.13it/s]\u001b[A\n",
      " 27%|██████████▉                             | 426/1563 [00:52<02:21,  8.06it/s]\u001b[A\n",
      " 27%|██████████▉                             | 427/1563 [00:52<02:20,  8.07it/s]\u001b[A\n",
      " 27%|██████████▉                             | 428/1563 [00:53<02:20,  8.06it/s]\u001b[A\n",
      " 27%|██████████▉                             | 429/1563 [00:53<02:20,  8.05it/s]\u001b[A\n",
      " 28%|███████████                             | 430/1563 [00:53<02:20,  8.07it/s]\u001b[A\n",
      " 28%|███████████                             | 431/1563 [00:53<02:19,  8.12it/s]\u001b[A\n",
      " 28%|███████████                             | 432/1563 [00:53<02:18,  8.14it/s]\u001b[A\n",
      " 28%|███████████                             | 433/1563 [00:53<02:17,  8.23it/s]\u001b[A\n",
      " 28%|███████████                             | 434/1563 [00:53<02:17,  8.21it/s]\u001b[A\n",
      " 28%|███████████▏                            | 435/1563 [00:53<02:17,  8.18it/s]\u001b[A\n",
      " 28%|███████████▏                            | 436/1563 [00:54<02:17,  8.18it/s]\u001b[A\n",
      " 28%|███████████▏                            | 437/1563 [00:54<02:17,  8.16it/s]\u001b[A\n",
      " 28%|███████████▏                            | 438/1563 [00:54<02:19,  8.09it/s]\u001b[A\n",
      " 28%|███████████▏                            | 439/1563 [00:54<02:19,  8.04it/s]\u001b[A\n",
      " 28%|███████████▎                            | 440/1563 [00:54<02:20,  8.02it/s]\u001b[A\n",
      " 28%|███████████▎                            | 441/1563 [00:54<02:19,  8.07it/s]\u001b[A\n",
      " 28%|███████████▎                            | 442/1563 [00:54<02:18,  8.07it/s]\u001b[A\n",
      " 28%|███████████▎                            | 443/1563 [00:54<02:18,  8.08it/s]\u001b[A\n",
      " 28%|███████████▎                            | 444/1563 [00:55<02:17,  8.12it/s]\u001b[A\n",
      " 28%|███████████▍                            | 445/1563 [00:55<02:17,  8.14it/s]\u001b[A\n",
      " 29%|███████████▍                            | 446/1563 [00:55<02:17,  8.13it/s]\u001b[A\n",
      " 29%|███████████▍                            | 447/1563 [00:55<02:18,  8.06it/s]\u001b[A\n",
      " 29%|███████████▍                            | 448/1563 [00:55<02:19,  8.00it/s]\u001b[A\n",
      " 29%|███████████▍                            | 449/1563 [00:55<02:18,  8.04it/s]\u001b[A\n",
      " 29%|███████████▌                            | 450/1563 [00:55<02:17,  8.07it/s]\u001b[A\n",
      " 29%|███████████▌                            | 451/1563 [00:55<02:17,  8.09it/s]\u001b[A\n",
      " 29%|███████████▌                            | 452/1563 [00:56<02:16,  8.13it/s]\u001b[A\n",
      " 29%|███████████▌                            | 453/1563 [00:56<02:15,  8.17it/s]\u001b[A\n",
      " 29%|███████████▌                            | 454/1563 [00:56<02:15,  8.19it/s]\u001b[A\n",
      " 29%|███████████▋                            | 455/1563 [00:56<02:15,  8.20it/s]\u001b[A\n",
      " 29%|███████████▋                            | 456/1563 [00:56<02:14,  8.21it/s]\u001b[A\n",
      " 29%|███████████▋                            | 457/1563 [00:56<02:15,  8.19it/s]\u001b[A\n",
      " 29%|███████████▋                            | 458/1563 [00:56<02:14,  8.19it/s]\u001b[A\n",
      " 29%|███████████▋                            | 459/1563 [00:56<02:15,  8.18it/s]\u001b[A\n",
      " 29%|███████████▊                            | 460/1563 [00:57<02:15,  8.15it/s]\u001b[A\n",
      " 29%|███████████▊                            | 461/1563 [00:57<02:17,  8.04it/s]\u001b[A\n",
      " 30%|███████████▊                            | 462/1563 [00:57<02:17,  8.02it/s]\u001b[A\n",
      " 30%|███████████▊                            | 463/1563 [00:57<02:16,  8.04it/s]\u001b[A\n",
      " 30%|███████████▊                            | 464/1563 [00:57<02:15,  8.10it/s]\u001b[A\n",
      " 30%|███████████▉                            | 465/1563 [00:57<02:14,  8.14it/s]\u001b[A\n",
      " 30%|███████████▉                            | 466/1563 [00:57<02:14,  8.14it/s]\u001b[A\n",
      " 30%|███████████▉                            | 467/1563 [00:57<02:14,  8.13it/s]\u001b[A\n",
      " 30%|███████████▉                            | 468/1563 [00:58<02:14,  8.13it/s]\u001b[A\n",
      " 30%|████████████                            | 469/1563 [00:58<02:15,  8.06it/s]\u001b[A\n",
      " 30%|████████████                            | 470/1563 [00:58<02:16,  8.03it/s]\u001b[A\n",
      " 30%|████████████                            | 471/1563 [00:58<02:15,  8.03it/s]\u001b[A\n",
      " 30%|████████████                            | 472/1563 [00:58<02:15,  8.04it/s]\u001b[A\n",
      " 30%|████████████                            | 473/1563 [00:58<02:14,  8.09it/s]\u001b[A\n",
      " 30%|████████████▏                           | 474/1563 [00:58<02:13,  8.13it/s]\u001b[A\n",
      " 30%|████████████▏                           | 475/1563 [00:58<02:13,  8.16it/s]\u001b[A\n",
      " 30%|████████████▏                           | 476/1563 [00:59<02:12,  8.18it/s]\u001b[A\n",
      " 31%|████████████▏                           | 477/1563 [00:59<02:12,  8.21it/s]\u001b[A\n",
      " 31%|████████████▏                           | 478/1563 [00:59<02:12,  8.20it/s]\u001b[A\n",
      " 31%|████████████▎                           | 479/1563 [00:59<02:12,  8.21it/s]\u001b[A\n",
      " 31%|████████████▎                           | 480/1563 [00:59<02:12,  8.17it/s]\u001b[A\n",
      " 31%|████████████▎                           | 481/1563 [00:59<02:12,  8.14it/s]\u001b[A\n",
      " 31%|████████████▎                           | 482/1563 [00:59<02:13,  8.09it/s]\u001b[A\n",
      " 31%|████████████▎                           | 483/1563 [00:59<02:14,  8.03it/s]\u001b[A\n",
      " 31%|████████████▍                           | 484/1563 [01:00<02:14,  8.01it/s]\u001b[A\n",
      " 31%|████████████▍                           | 485/1563 [01:00<02:13,  8.07it/s]\u001b[A\n",
      " 31%|████████████▍                           | 486/1563 [01:00<02:12,  8.12it/s]\u001b[A\n",
      " 31%|████████████▍                           | 487/1563 [01:00<02:12,  8.14it/s]\u001b[A\n",
      " 31%|████████████▍                           | 488/1563 [01:00<02:11,  8.15it/s]\u001b[A\n",
      " 31%|████████████▌                           | 489/1563 [01:00<02:11,  8.18it/s]\u001b[A\n",
      " 31%|████████████▌                           | 490/1563 [01:00<02:10,  8.22it/s]\u001b[A\n",
      " 31%|████████████▌                           | 491/1563 [01:00<02:10,  8.19it/s]\u001b[A\n",
      " 31%|████████████▌                           | 492/1563 [01:00<02:11,  8.11it/s]\u001b[A\n",
      " 32%|████████████▌                           | 493/1563 [01:01<02:12,  8.07it/s]\u001b[A\n",
      " 32%|████████████▋                           | 494/1563 [01:01<02:13,  8.02it/s]\u001b[A\n",
      " 32%|████████████▋                           | 495/1563 [01:01<02:13,  8.03it/s]\u001b[A\n",
      " 32%|████████████▋                           | 496/1563 [01:01<02:12,  8.06it/s]\u001b[A\n",
      " 32%|████████████▋                           | 497/1563 [01:01<02:11,  8.09it/s]\u001b[A\n",
      " 32%|████████████▋                           | 498/1563 [01:01<02:11,  8.11it/s]\u001b[A\n",
      " 32%|████████████▊                           | 499/1563 [01:01<02:10,  8.14it/s]\u001b[A\n",
      " 32%|████████████▊                           | 500/1563 [01:01<02:10,  8.13it/s]\u001b[A\n",
      " 32%|████████████▊                           | 501/1563 [01:02<02:22,  7.46it/s]\u001b[A\n",
      " 32%|████████████▊                           | 502/1563 [01:02<02:18,  7.68it/s]\u001b[A\n",
      " 32%|████████████▊                           | 503/1563 [01:02<02:15,  7.83it/s]\u001b[A\n",
      " 32%|████████████▉                           | 504/1563 [01:02<02:13,  7.94it/s]\u001b[A\n",
      " 32%|████████████▉                           | 505/1563 [01:02<02:11,  8.04it/s]\u001b[A\n",
      " 32%|████████████▉                           | 506/1563 [01:02<02:10,  8.12it/s]\u001b[A\n",
      " 32%|████████████▉                           | 507/1563 [01:02<02:09,  8.16it/s]\u001b[A\n",
      " 33%|█████████████                           | 508/1563 [01:03<02:12,  7.95it/s]\u001b[A\n",
      " 33%|█████████████                           | 509/1563 [01:03<02:12,  7.98it/s]\u001b[A\n",
      " 33%|█████████████                           | 510/1563 [01:03<02:11,  8.03it/s]\u001b[A\n",
      " 33%|█████████████                           | 511/1563 [01:03<02:10,  8.08it/s]\u001b[A\n",
      " 33%|█████████████                           | 512/1563 [01:03<02:09,  8.12it/s]\u001b[A\n",
      " 33%|█████████████▏                          | 513/1563 [01:03<02:09,  8.12it/s]\u001b[A\n",
      " 33%|█████████████▏                          | 514/1563 [01:03<02:08,  8.16it/s]\u001b[A\n",
      " 33%|█████████████▏                          | 515/1563 [01:03<02:09,  8.09it/s]\u001b[A\n",
      " 33%|█████████████▏                          | 516/1563 [01:03<02:09,  8.08it/s]\u001b[A\n",
      " 33%|█████████████▏                          | 517/1563 [01:04<02:10,  8.04it/s]\u001b[A\n",
      " 33%|█████████████▎                          | 518/1563 [01:04<02:10,  8.02it/s]\u001b[A\n",
      " 33%|█████████████▎                          | 519/1563 [01:04<02:09,  8.07it/s]\u001b[A\n",
      " 33%|█████████████▎                          | 520/1563 [01:04<02:09,  8.08it/s]\u001b[A\n",
      " 33%|█████████████▎                          | 521/1563 [01:04<02:08,  8.10it/s]\u001b[A\n",
      " 33%|█████████████▎                          | 522/1563 [01:04<02:08,  8.11it/s]\u001b[A\n",
      " 33%|█████████████▍                          | 523/1563 [01:04<02:08,  8.06it/s]\u001b[A\n",
      " 34%|█████████████▍                          | 524/1563 [01:04<02:09,  8.02it/s]\u001b[A\n",
      " 34%|█████████████▍                          | 525/1563 [01:05<02:09,  8.00it/s]\u001b[A\n",
      " 34%|█████████████▍                          | 526/1563 [01:05<02:09,  7.98it/s]\u001b[A\n",
      " 34%|█████████████▍                          | 527/1563 [01:05<02:08,  8.06it/s]\u001b[A\n",
      " 34%|█████████████▌                          | 528/1563 [01:05<02:08,  8.08it/s]\u001b[A\n",
      " 34%|█████████████▌                          | 529/1563 [01:05<02:07,  8.12it/s]\u001b[A\n",
      " 34%|█████████████▌                          | 530/1563 [01:05<02:07,  8.13it/s]\u001b[A\n",
      " 34%|█████████████▌                          | 531/1563 [01:05<02:06,  8.13it/s]\u001b[A\n",
      " 34%|█████████████▌                          | 532/1563 [01:05<02:06,  8.13it/s]\u001b[A\n",
      " 34%|█████████████▋                          | 533/1563 [01:06<02:06,  8.11it/s]\u001b[A\n",
      " 34%|█████████████▋                          | 534/1563 [01:06<02:07,  8.05it/s]\u001b[A\n",
      " 34%|█████████████▋                          | 535/1563 [01:06<02:07,  8.04it/s]\u001b[A\n",
      " 34%|█████████████▋                          | 536/1563 [01:06<02:07,  8.06it/s]\u001b[A\n",
      " 34%|█████████████▋                          | 537/1563 [01:06<02:06,  8.11it/s]\u001b[A\n",
      " 34%|█████████████▊                          | 538/1563 [01:06<02:06,  8.09it/s]\u001b[A\n",
      " 34%|█████████████▊                          | 539/1563 [01:06<02:06,  8.10it/s]\u001b[A\n",
      " 35%|█████████████▊                          | 540/1563 [01:06<02:05,  8.12it/s]\u001b[A\n",
      " 35%|█████████████▊                          | 541/1563 [01:07<02:04,  8.21it/s]\u001b[A\n",
      " 35%|█████████████▊                          | 542/1563 [01:07<02:04,  8.20it/s]\u001b[A\n",
      " 35%|█████████████▉                          | 543/1563 [01:07<02:04,  8.18it/s]\u001b[A\n",
      " 35%|█████████████▉                          | 544/1563 [01:07<02:04,  8.18it/s]\u001b[A\n",
      " 35%|█████████████▉                          | 545/1563 [01:07<02:04,  8.19it/s]\u001b[A\n",
      " 35%|█████████████▉                          | 546/1563 [01:07<02:04,  8.18it/s]\u001b[A\n",
      " 35%|█████████████▉                          | 547/1563 [01:07<02:04,  8.15it/s]\u001b[A\n",
      " 35%|██████████████                          | 548/1563 [01:07<02:05,  8.11it/s]\u001b[A\n",
      " 35%|██████████████                          | 549/1563 [01:08<02:04,  8.14it/s]\u001b[A\n",
      " 35%|██████████████                          | 550/1563 [01:08<02:05,  8.05it/s]\u001b[A\n",
      " 35%|██████████████                          | 551/1563 [01:08<02:05,  8.04it/s]\u001b[A\n",
      " 35%|██████████████▏                         | 552/1563 [01:08<02:05,  8.07it/s]\u001b[A\n",
      " 35%|██████████████▏                         | 553/1563 [01:08<02:04,  8.10it/s]\u001b[A\n",
      " 35%|██████████████▏                         | 554/1563 [01:08<02:04,  8.13it/s]\u001b[A\n",
      " 36%|██████████████▏                         | 555/1563 [01:08<02:04,  8.13it/s]\u001b[A\n",
      " 36%|██████████████▏                         | 556/1563 [01:08<02:04,  8.11it/s]\u001b[A\n",
      " 36%|██████████████▎                         | 557/1563 [01:09<02:03,  8.12it/s]\u001b[A\n",
      " 36%|██████████████▎                         | 558/1563 [01:09<02:05,  8.03it/s]\u001b[A\n",
      " 36%|██████████████▎                         | 559/1563 [01:09<02:05,  8.00it/s]\u001b[A\n",
      " 36%|██████████████▎                         | 560/1563 [01:09<02:04,  8.04it/s]\u001b[A\n",
      " 36%|██████████████▎                         | 561/1563 [01:09<02:04,  8.07it/s]\u001b[A\n",
      " 36%|██████████████▍                         | 562/1563 [01:09<02:03,  8.09it/s]\u001b[A\n",
      " 36%|██████████████▍                         | 563/1563 [01:09<02:07,  7.85it/s]\u001b[A\n",
      " 36%|██████████████▍                         | 564/1563 [01:09<02:05,  7.96it/s]\u001b[A\n",
      " 36%|██████████████▍                         | 565/1563 [01:10<02:04,  8.01it/s]\u001b[A\n",
      " 36%|██████████████▍                         | 566/1563 [01:10<02:03,  8.07it/s]\u001b[A\n",
      " 36%|██████████████▌                         | 567/1563 [01:10<02:03,  8.09it/s]\u001b[A\n",
      " 36%|██████████████▌                         | 568/1563 [01:10<02:02,  8.12it/s]\u001b[A\n",
      " 36%|██████████████▌                         | 569/1563 [01:10<02:01,  8.15it/s]\u001b[A\n",
      " 36%|██████████████▌                         | 570/1563 [01:10<02:03,  8.03it/s]\u001b[A\n",
      " 37%|██████████████▌                         | 571/1563 [01:10<02:03,  8.06it/s]\u001b[A\n",
      " 37%|██████████████▋                         | 572/1563 [01:10<02:02,  8.09it/s]\u001b[A\n",
      " 37%|██████████████▋                         | 573/1563 [01:11<02:02,  8.08it/s]\u001b[A\n",
      " 37%|██████████████▋                         | 574/1563 [01:11<02:02,  8.05it/s]\u001b[A\n",
      " 37%|██████████████▋                         | 575/1563 [01:11<02:02,  8.05it/s]\u001b[A\n",
      " 37%|██████████████▋                         | 576/1563 [01:11<02:02,  8.08it/s]\u001b[A\n",
      " 37%|██████████████▊                         | 577/1563 [01:11<02:01,  8.09it/s]\u001b[A\n",
      " 37%|██████████████▊                         | 578/1563 [01:11<02:01,  8.08it/s]\u001b[A\n",
      " 37%|██████████████▊                         | 579/1563 [01:11<02:01,  8.08it/s]\u001b[A\n",
      " 37%|██████████████▊                         | 580/1563 [01:11<02:02,  8.06it/s]\u001b[A\n",
      " 37%|██████████████▊                         | 581/1563 [01:12<02:02,  8.02it/s]\u001b[A\n",
      " 37%|██████████████▉                         | 582/1563 [01:12<02:02,  8.03it/s]\u001b[A\n",
      " 37%|██████████████▉                         | 583/1563 [01:12<02:01,  8.05it/s]\u001b[A\n",
      " 37%|██████████████▉                         | 584/1563 [01:12<02:01,  8.05it/s]\u001b[A\n",
      " 37%|██████████████▉                         | 585/1563 [01:12<02:01,  8.07it/s]\u001b[A\n",
      " 37%|██████████████▉                         | 586/1563 [01:12<02:01,  8.06it/s]\u001b[A\n",
      " 38%|███████████████                         | 587/1563 [01:12<02:01,  8.03it/s]\u001b[A\n",
      " 38%|███████████████                         | 588/1563 [01:12<02:00,  8.06it/s]\u001b[A\n",
      " 38%|███████████████                         | 589/1563 [01:13<02:01,  8.03it/s]\u001b[A\n",
      " 38%|███████████████                         | 590/1563 [01:13<02:00,  8.05it/s]\u001b[A\n",
      " 38%|███████████████                         | 591/1563 [01:13<02:00,  8.07it/s]\u001b[A\n",
      " 38%|███████████████▏                        | 592/1563 [01:13<02:00,  8.08it/s]\u001b[A\n",
      " 38%|███████████████▏                        | 593/1563 [01:13<02:00,  8.05it/s]\u001b[A\n",
      " 38%|███████████████▏                        | 594/1563 [01:13<02:00,  8.02it/s]\u001b[A\n",
      " 38%|███████████████▏                        | 595/1563 [01:13<02:00,  8.03it/s]\u001b[A\n",
      " 38%|███████████████▎                        | 596/1563 [01:13<02:00,  8.05it/s]\u001b[A\n",
      " 38%|███████████████▎                        | 597/1563 [01:14<01:59,  8.06it/s]\u001b[A\n",
      " 38%|███████████████▎                        | 598/1563 [01:14<02:00,  8.02it/s]\u001b[A\n",
      " 38%|███████████████▎                        | 599/1563 [01:14<02:00,  8.03it/s]\u001b[A\n",
      " 38%|███████████████▎                        | 600/1563 [01:14<02:00,  8.01it/s]\u001b[A\n",
      " 38%|███████████████▍                        | 601/1563 [01:14<02:00,  8.01it/s]\u001b[A\n",
      " 39%|███████████████▍                        | 602/1563 [01:14<02:00,  8.00it/s]\u001b[A\n",
      " 39%|███████████████▍                        | 603/1563 [01:14<01:58,  8.09it/s]\u001b[A\n",
      " 39%|███████████████▍                        | 604/1563 [01:14<01:57,  8.13it/s]\u001b[A\n",
      " 39%|███████████████▍                        | 605/1563 [01:15<01:58,  8.11it/s]\u001b[A\n",
      " 39%|███████████████▌                        | 606/1563 [01:15<01:57,  8.13it/s]\u001b[A\n",
      " 39%|███████████████▌                        | 607/1563 [01:15<01:57,  8.16it/s]\u001b[A\n",
      " 39%|███████████████▌                        | 608/1563 [01:15<01:56,  8.18it/s]\u001b[A\n",
      " 39%|███████████████▌                        | 609/1563 [01:15<01:56,  8.16it/s]\u001b[A\n",
      " 39%|███████████████▌                        | 610/1563 [01:15<01:57,  8.14it/s]\u001b[A\n",
      " 39%|███████████████▋                        | 611/1563 [01:15<01:57,  8.07it/s]\u001b[A\n",
      " 39%|███████████████▋                        | 612/1563 [01:15<01:58,  8.05it/s]\u001b[A\n",
      " 39%|███████████████▋                        | 613/1563 [01:16<01:58,  8.02it/s]\u001b[A\n",
      " 39%|███████████████▋                        | 614/1563 [01:16<01:57,  8.05it/s]\u001b[A\n",
      " 39%|███████████████▋                        | 615/1563 [01:16<01:56,  8.11it/s]\u001b[A\n",
      " 39%|███████████████▊                        | 616/1563 [01:16<01:55,  8.17it/s]\u001b[A\n",
      " 39%|███████████████▊                        | 617/1563 [01:16<01:55,  8.20it/s]\u001b[A\n",
      " 40%|███████████████▊                        | 618/1563 [01:16<01:55,  8.18it/s]\u001b[A\n",
      " 40%|███████████████▊                        | 619/1563 [01:16<01:55,  8.17it/s]\u001b[A\n",
      " 40%|███████████████▊                        | 620/1563 [01:16<01:55,  8.20it/s]\u001b[A\n",
      " 40%|███████████████▉                        | 621/1563 [01:16<01:55,  8.18it/s]\u001b[A\n",
      " 40%|███████████████▉                        | 622/1563 [01:17<01:54,  8.19it/s]\u001b[A\n",
      " 40%|███████████████▉                        | 623/1563 [01:17<01:54,  8.20it/s]\u001b[A\n",
      " 40%|███████████████▉                        | 624/1563 [01:17<01:55,  8.16it/s]\u001b[A\n",
      " 40%|███████████████▉                        | 625/1563 [01:17<01:54,  8.17it/s]\u001b[A\n",
      " 40%|████████████████                        | 626/1563 [01:17<02:00,  7.79it/s]\u001b[A\n",
      " 40%|████████████████                        | 627/1563 [01:17<01:59,  7.82it/s]\u001b[A\n",
      " 40%|████████████████                        | 628/1563 [01:17<01:58,  7.89it/s]\u001b[A\n",
      " 40%|████████████████                        | 629/1563 [01:17<01:57,  7.92it/s]\u001b[A\n",
      " 40%|████████████████                        | 630/1563 [01:18<01:57,  7.95it/s]\u001b[A\n",
      " 40%|████████████████▏                       | 631/1563 [01:18<01:55,  8.04it/s]\u001b[A\n",
      " 40%|████████████████▏                       | 632/1563 [01:18<01:54,  8.10it/s]\u001b[A\n",
      " 40%|████████████████▏                       | 633/1563 [01:18<01:54,  8.10it/s]\u001b[A\n",
      " 41%|████████████████▏                       | 634/1563 [01:18<01:54,  8.14it/s]\u001b[A\n",
      " 41%|████████████████▎                       | 635/1563 [01:18<01:53,  8.16it/s]\u001b[A\n",
      " 41%|████████████████▎                       | 636/1563 [01:18<01:53,  8.14it/s]\u001b[A\n",
      " 41%|████████████████▎                       | 637/1563 [01:18<01:54,  8.06it/s]\u001b[A\n",
      " 41%|████████████████▎                       | 638/1563 [01:19<01:56,  7.97it/s]\u001b[A\n",
      " 41%|████████████████▎                       | 639/1563 [01:19<01:55,  8.00it/s]\u001b[A\n",
      " 41%|████████████████▍                       | 640/1563 [01:19<01:54,  8.04it/s]\u001b[A\n",
      " 41%|████████████████▍                       | 641/1563 [01:19<01:54,  8.07it/s]\u001b[A\n",
      " 41%|████████████████▍                       | 642/1563 [01:19<01:53,  8.11it/s]\u001b[A\n",
      " 41%|████████████████▍                       | 643/1563 [01:19<01:53,  8.11it/s]\u001b[A\n",
      " 41%|████████████████▍                       | 644/1563 [01:19<01:52,  8.14it/s]\u001b[A\n",
      " 41%|████████████████▌                       | 645/1563 [01:19<01:52,  8.13it/s]\u001b[A\n",
      " 41%|████████████████▌                       | 646/1563 [01:20<01:54,  7.98it/s]\u001b[A\n",
      " 41%|████████████████▌                       | 647/1563 [01:20<01:54,  7.98it/s]\u001b[A\n",
      " 41%|████████████████▌                       | 648/1563 [01:20<01:53,  8.05it/s]\u001b[A\n",
      " 42%|████████████████▌                       | 649/1563 [01:20<01:52,  8.10it/s]\u001b[A\n",
      " 42%|████████████████▋                       | 650/1563 [01:20<01:52,  8.12it/s]\u001b[A\n",
      " 42%|████████████████▋                       | 651/1563 [01:20<01:52,  8.12it/s]\u001b[A\n",
      " 42%|████████████████▋                       | 652/1563 [01:20<01:52,  8.10it/s]\u001b[A\n",
      " 42%|████████████████▋                       | 653/1563 [01:20<01:51,  8.14it/s]\u001b[A\n",
      " 42%|████████████████▋                       | 654/1563 [01:21<01:52,  8.05it/s]\u001b[A\n",
      " 42%|████████████████▊                       | 655/1563 [01:21<01:53,  7.98it/s]\u001b[A\n",
      " 42%|████████████████▊                       | 656/1563 [01:21<01:52,  8.06it/s]\u001b[A\n",
      " 42%|████████████████▊                       | 657/1563 [01:21<01:51,  8.12it/s]\u001b[A\n",
      " 42%|████████████████▊                       | 658/1563 [01:21<01:51,  8.14it/s]\u001b[A\n",
      " 42%|████████████████▊                       | 659/1563 [01:21<01:50,  8.16it/s]\u001b[A\n",
      " 42%|████████████████▉                       | 660/1563 [01:21<01:50,  8.18it/s]\u001b[A\n",
      " 42%|████████████████▉                       | 661/1563 [01:21<01:49,  8.20it/s]\u001b[A\n",
      " 42%|████████████████▉                       | 662/1563 [01:22<01:49,  8.22it/s]\u001b[A\n",
      " 42%|████████████████▉                       | 663/1563 [01:22<01:50,  8.13it/s]\u001b[A\n",
      " 42%|████████████████▉                       | 664/1563 [01:22<01:51,  8.10it/s]\u001b[A\n",
      " 43%|█████████████████                       | 665/1563 [01:22<01:51,  8.04it/s]\u001b[A\n",
      " 43%|█████████████████                       | 666/1563 [01:22<01:51,  8.04it/s]\u001b[A\n",
      " 43%|█████████████████                       | 667/1563 [01:22<01:51,  8.05it/s]\u001b[A\n",
      " 43%|█████████████████                       | 668/1563 [01:22<01:50,  8.07it/s]\u001b[A\n",
      " 43%|█████████████████                       | 669/1563 [01:22<01:49,  8.13it/s]\u001b[A\n",
      " 43%|█████████████████▏                      | 670/1563 [01:23<01:49,  8.13it/s]\u001b[A\n",
      " 43%|█████████████████▏                      | 671/1563 [01:23<01:49,  8.13it/s]\u001b[A\n",
      " 43%|█████████████████▏                      | 672/1563 [01:23<01:49,  8.12it/s]\u001b[A\n",
      " 43%|█████████████████▏                      | 673/1563 [01:23<01:49,  8.12it/s]\u001b[A\n",
      " 43%|█████████████████▏                      | 674/1563 [01:23<01:50,  8.05it/s]\u001b[A\n",
      " 43%|█████████████████▎                      | 675/1563 [01:23<01:50,  8.04it/s]\u001b[A\n",
      " 43%|█████████████████▎                      | 676/1563 [01:23<01:50,  8.04it/s]\u001b[A\n",
      " 43%|█████████████████▎                      | 677/1563 [01:23<01:49,  8.08it/s]\u001b[A\n",
      " 43%|█████████████████▎                      | 678/1563 [01:24<01:49,  8.10it/s]\u001b[A\n",
      " 43%|█████████████████▍                      | 679/1563 [01:24<01:48,  8.11it/s]\u001b[A\n",
      " 44%|█████████████████▍                      | 680/1563 [01:24<01:47,  8.21it/s]\u001b[A\n",
      " 44%|█████████████████▍                      | 681/1563 [01:24<01:47,  8.22it/s]\u001b[A\n",
      " 44%|█████████████████▍                      | 682/1563 [01:24<01:47,  8.17it/s]\u001b[A\n",
      " 44%|█████████████████▍                      | 683/1563 [01:24<01:47,  8.19it/s]\u001b[A\n",
      " 44%|█████████████████▌                      | 684/1563 [01:24<01:47,  8.17it/s]\u001b[A\n",
      " 44%|█████████████████▌                      | 685/1563 [01:24<01:47,  8.15it/s]\u001b[A\n",
      " 44%|█████████████████▌                      | 686/1563 [01:25<01:47,  8.13it/s]\u001b[A\n",
      " 44%|█████████████████▌                      | 687/1563 [01:25<01:48,  8.04it/s]\u001b[A\n",
      " 44%|█████████████████▌                      | 688/1563 [01:25<01:52,  7.75it/s]\u001b[A\n",
      " 44%|█████████████████▋                      | 689/1563 [01:25<01:50,  7.91it/s]\u001b[A\n",
      " 44%|█████████████████▋                      | 690/1563 [01:25<01:50,  7.93it/s]\u001b[A\n",
      " 44%|█████████████████▋                      | 691/1563 [01:25<01:49,  7.97it/s]\u001b[A\n",
      " 44%|█████████████████▋                      | 692/1563 [01:25<01:48,  8.04it/s]\u001b[A\n",
      " 44%|█████████████████▋                      | 693/1563 [01:25<01:47,  8.06it/s]\u001b[A\n",
      " 44%|█████████████████▊                      | 694/1563 [01:26<01:47,  8.11it/s]\u001b[A\n",
      " 44%|█████████████████▊                      | 695/1563 [01:26<01:48,  7.99it/s]\u001b[A\n",
      " 45%|█████████████████▊                      | 696/1563 [01:26<01:47,  8.07it/s]\u001b[A\n",
      " 45%|█████████████████▊                      | 697/1563 [01:26<01:47,  8.06it/s]\u001b[A\n",
      " 45%|█████████████████▊                      | 698/1563 [01:26<01:46,  8.12it/s]\u001b[A\n",
      " 45%|█████████████████▉                      | 699/1563 [01:26<01:47,  8.06it/s]\u001b[A\n",
      " 45%|█████████████████▉                      | 700/1563 [01:26<01:47,  8.02it/s]\u001b[A\n",
      " 45%|█████████████████▉                      | 701/1563 [01:26<01:46,  8.07it/s]\u001b[A\n",
      " 45%|█████████████████▉                      | 702/1563 [01:27<01:46,  8.06it/s]\u001b[A\n",
      " 45%|█████████████████▉                      | 703/1563 [01:27<01:46,  8.10it/s]\u001b[A\n",
      " 45%|██████████████████                      | 704/1563 [01:27<01:45,  8.13it/s]\u001b[A\n",
      " 45%|██████████████████                      | 705/1563 [01:27<01:45,  8.14it/s]\u001b[A\n",
      " 45%|██████████████████                      | 706/1563 [01:27<01:46,  8.07it/s]\u001b[A\n",
      " 45%|██████████████████                      | 707/1563 [01:27<01:45,  8.09it/s]\u001b[A\n",
      " 45%|██████████████████                      | 708/1563 [01:27<01:46,  8.01it/s]\u001b[A\n",
      " 45%|██████████████████▏                     | 709/1563 [01:27<01:46,  8.04it/s]\u001b[A\n",
      " 45%|██████████████████▏                     | 710/1563 [01:28<01:45,  8.07it/s]\u001b[A\n",
      " 45%|██████████████████▏                     | 711/1563 [01:28<01:45,  8.10it/s]\u001b[A\n",
      " 46%|██████████████████▏                     | 712/1563 [01:28<01:44,  8.18it/s]\u001b[A\n",
      " 46%|██████████████████▏                     | 713/1563 [01:28<01:43,  8.18it/s]\u001b[A\n",
      " 46%|██████████████████▎                     | 714/1563 [01:28<01:43,  8.19it/s]\u001b[A\n",
      " 46%|██████████████████▎                     | 715/1563 [01:28<01:43,  8.20it/s]\u001b[A\n",
      " 46%|██████████████████▎                     | 716/1563 [01:28<01:43,  8.17it/s]\u001b[A\n",
      " 46%|██████████████████▎                     | 717/1563 [01:28<01:43,  8.14it/s]\u001b[A\n",
      " 46%|██████████████████▎                     | 718/1563 [01:28<01:44,  8.09it/s]\u001b[A\n",
      " 46%|██████████████████▍                     | 719/1563 [01:29<01:44,  8.04it/s]\u001b[A\n",
      " 46%|██████████████████▍                     | 720/1563 [01:29<01:44,  8.05it/s]\u001b[A\n",
      " 46%|██████████████████▍                     | 721/1563 [01:29<01:44,  8.09it/s]\u001b[A\n",
      " 46%|██████████████████▍                     | 722/1563 [01:29<01:43,  8.12it/s]\u001b[A\n",
      " 46%|██████████████████▌                     | 723/1563 [01:29<01:43,  8.14it/s]\u001b[A\n",
      " 46%|██████████████████▌                     | 724/1563 [01:29<01:42,  8.18it/s]\u001b[A\n",
      " 46%|██████████████████▌                     | 725/1563 [01:29<01:42,  8.18it/s]\u001b[A\n",
      " 46%|██████████████████▌                     | 726/1563 [01:29<01:42,  8.18it/s]\u001b[A\n",
      " 47%|██████████████████▌                     | 727/1563 [01:30<01:42,  8.17it/s]\u001b[A\n",
      " 47%|██████████████████▋                     | 728/1563 [01:30<01:43,  8.11it/s]\u001b[A\n",
      " 47%|██████████████████▋                     | 729/1563 [01:30<01:43,  8.05it/s]\u001b[A\n",
      " 47%|██████████████████▋                     | 730/1563 [01:30<01:43,  8.04it/s]\u001b[A\n",
      " 47%|██████████████████▋                     | 731/1563 [01:30<01:42,  8.08it/s]\u001b[A\n",
      " 47%|██████████████████▋                     | 732/1563 [01:30<01:42,  8.10it/s]\u001b[A\n",
      " 47%|██████████████████▊                     | 733/1563 [01:30<01:42,  8.10it/s]\u001b[A\n",
      " 47%|██████████████████▊                     | 734/1563 [01:30<01:41,  8.14it/s]\u001b[A\n",
      " 47%|██████████████████▊                     | 735/1563 [01:31<01:41,  8.18it/s]\u001b[A\n",
      " 47%|██████████████████▊                     | 736/1563 [01:31<01:40,  8.20it/s]\u001b[A\n",
      " 47%|██████████████████▊                     | 737/1563 [01:31<01:40,  8.19it/s]\u001b[A\n",
      " 47%|██████████████████▉                     | 738/1563 [01:31<01:40,  8.20it/s]\u001b[A\n",
      " 47%|██████████████████▉                     | 739/1563 [01:31<01:40,  8.20it/s]\u001b[A\n",
      " 47%|██████████████████▉                     | 740/1563 [01:31<01:40,  8.20it/s]\u001b[A\n",
      " 47%|██████████████████▉                     | 741/1563 [01:31<01:40,  8.18it/s]\u001b[A\n",
      " 47%|██████████████████▉                     | 742/1563 [01:31<01:40,  8.17it/s]\u001b[A\n",
      " 48%|███████████████████                     | 743/1563 [01:32<01:40,  8.12it/s]\u001b[A\n",
      " 48%|███████████████████                     | 744/1563 [01:32<01:40,  8.11it/s]\u001b[A\n",
      " 48%|███████████████████                     | 745/1563 [01:32<01:41,  8.09it/s]\u001b[A\n",
      " 48%|███████████████████                     | 746/1563 [01:32<01:41,  8.09it/s]\u001b[A\n",
      " 48%|███████████████████                     | 747/1563 [01:32<01:41,  8.07it/s]\u001b[A\n",
      " 48%|███████████████████▏                    | 748/1563 [01:32<01:40,  8.08it/s]\u001b[A\n",
      " 48%|███████████████████▏                    | 749/1563 [01:32<01:40,  8.12it/s]\u001b[A\n",
      " 48%|███████████████████▏                    | 750/1563 [01:32<01:39,  8.14it/s]\u001b[A\n",
      " 48%|███████████████████▏                    | 751/1563 [01:33<01:43,  7.83it/s]\u001b[A\n",
      " 48%|███████████████████▏                    | 752/1563 [01:33<01:41,  7.96it/s]\u001b[A\n",
      " 48%|███████████████████▎                    | 753/1563 [01:33<01:40,  8.02it/s]\u001b[A\n",
      " 48%|███████████████████▎                    | 754/1563 [01:33<01:40,  8.09it/s]\u001b[A\n",
      " 48%|███████████████████▎                    | 755/1563 [01:33<01:39,  8.11it/s]\u001b[A\n",
      " 48%|███████████████████▎                    | 756/1563 [01:33<01:39,  8.12it/s]\u001b[A\n",
      " 48%|███████████████████▎                    | 757/1563 [01:33<01:39,  8.12it/s]\u001b[A\n",
      " 48%|███████████████████▍                    | 758/1563 [01:33<01:40,  8.02it/s]\u001b[A\n",
      " 49%|███████████████████▍                    | 759/1563 [01:34<01:40,  8.02it/s]\u001b[A\n",
      " 49%|███████████████████▍                    | 760/1563 [01:34<01:39,  8.07it/s]\u001b[A\n",
      " 49%|███████████████████▍                    | 761/1563 [01:34<01:39,  8.06it/s]\u001b[A\n",
      " 49%|███████████████████▌                    | 762/1563 [01:34<01:38,  8.10it/s]\u001b[A\n",
      " 49%|███████████████████▌                    | 763/1563 [01:34<01:38,  8.11it/s]\u001b[A\n",
      " 49%|███████████████████▌                    | 764/1563 [01:34<01:38,  8.13it/s]\u001b[A\n",
      " 49%|███████████████████▌                    | 765/1563 [01:34<01:38,  8.12it/s]\u001b[A\n",
      " 49%|███████████████████▌                    | 766/1563 [01:34<01:38,  8.12it/s]\u001b[A\n",
      " 49%|███████████████████▋                    | 767/1563 [01:35<01:38,  8.10it/s]\u001b[A\n",
      " 49%|███████████████████▋                    | 768/1563 [01:35<01:38,  8.09it/s]\u001b[A\n",
      " 49%|███████████████████▋                    | 769/1563 [01:35<01:38,  8.07it/s]\u001b[A\n",
      " 49%|███████████████████▋                    | 770/1563 [01:35<01:38,  8.03it/s]\u001b[A\n",
      " 49%|███████████████████▋                    | 771/1563 [01:35<01:37,  8.10it/s]\u001b[A\n",
      " 49%|███████████████████▊                    | 772/1563 [01:35<01:37,  8.08it/s]\u001b[A\n",
      " 49%|███████████████████▊                    | 773/1563 [01:35<01:37,  8.08it/s]\u001b[A\n",
      " 50%|███████████████████▊                    | 774/1563 [01:35<01:37,  8.10it/s]\u001b[A\n",
      " 50%|███████████████████▊                    | 775/1563 [01:36<01:37,  8.10it/s]\u001b[A\n",
      " 50%|███████████████████▊                    | 776/1563 [01:36<01:37,  8.08it/s]\u001b[A\n",
      " 50%|███████████████████▉                    | 777/1563 [01:36<01:36,  8.13it/s]\u001b[A\n",
      " 50%|███████████████████▉                    | 778/1563 [01:36<01:37,  8.02it/s]\u001b[A\n",
      " 50%|███████████████████▉                    | 779/1563 [01:36<01:37,  8.06it/s]\u001b[A\n",
      " 50%|███████████████████▉                    | 780/1563 [01:36<01:37,  8.05it/s]\u001b[A\n",
      " 50%|███████████████████▉                    | 781/1563 [01:36<01:36,  8.11it/s]\u001b[A\n",
      " 50%|████████████████████                    | 782/1563 [01:36<01:36,  8.12it/s]\u001b[A\n",
      " 50%|████████████████████                    | 783/1563 [01:37<01:35,  8.18it/s]\u001b[A\n",
      " 50%|████████████████████                    | 784/1563 [01:37<01:34,  8.20it/s]\u001b[A\n",
      " 50%|████████████████████                    | 785/1563 [01:37<01:34,  8.23it/s]\u001b[A\n",
      " 50%|████████████████████                    | 786/1563 [01:37<01:34,  8.20it/s]\u001b[A\n",
      " 50%|████████████████████▏                   | 787/1563 [01:37<01:34,  8.22it/s]\u001b[A\n",
      " 50%|████████████████████▏                   | 788/1563 [01:37<01:34,  8.19it/s]\u001b[A\n",
      " 50%|████████████████████▏                   | 789/1563 [01:37<01:34,  8.21it/s]\u001b[A\n",
      " 51%|████████████████████▏                   | 790/1563 [01:37<01:34,  8.22it/s]\u001b[A\n",
      " 51%|████████████████████▏                   | 791/1563 [01:37<01:33,  8.25it/s]\u001b[A\n",
      " 51%|████████████████████▎                   | 792/1563 [01:38<01:33,  8.24it/s]\u001b[A\n",
      " 51%|████████████████████▎                   | 793/1563 [01:38<01:33,  8.24it/s]\u001b[A\n",
      " 51%|████████████████████▎                   | 794/1563 [01:38<01:33,  8.23it/s]\u001b[A\n",
      " 51%|████████████████████▎                   | 795/1563 [01:38<01:33,  8.22it/s]\u001b[A\n",
      " 51%|████████████████████▎                   | 796/1563 [01:38<01:33,  8.20it/s]\u001b[A\n",
      " 51%|████████████████████▍                   | 797/1563 [01:38<01:33,  8.19it/s]\u001b[A\n",
      " 51%|████████████████████▍                   | 798/1563 [01:38<01:33,  8.18it/s]\u001b[A\n",
      " 51%|████████████████████▍                   | 799/1563 [01:38<01:34,  8.11it/s]\u001b[A\n",
      " 51%|████████████████████▍                   | 800/1563 [01:39<01:34,  8.05it/s]\u001b[A\n",
      " 51%|████████████████████▍                   | 801/1563 [01:39<01:34,  8.05it/s]\u001b[A\n",
      " 51%|████████████████████▌                   | 802/1563 [01:39<01:34,  8.08it/s]\u001b[A\n",
      " 51%|████████████████████▌                   | 803/1563 [01:39<01:33,  8.11it/s]\u001b[A\n",
      " 51%|████████████████████▌                   | 804/1563 [01:39<01:33,  8.12it/s]\u001b[A\n",
      " 52%|████████████████████▌                   | 805/1563 [01:39<01:32,  8.15it/s]\u001b[A\n",
      " 52%|████████████████████▋                   | 806/1563 [01:39<01:32,  8.16it/s]\u001b[A\n",
      " 52%|████████████████████▋                   | 807/1563 [01:39<01:32,  8.14it/s]\u001b[A\n",
      " 52%|████████████████████▋                   | 808/1563 [01:40<01:32,  8.15it/s]\u001b[A\n",
      " 52%|████████████████████▋                   | 809/1563 [01:40<01:32,  8.12it/s]\u001b[A\n",
      " 52%|████████████████████▋                   | 810/1563 [01:40<01:33,  8.08it/s]\u001b[A\n",
      " 52%|████████████████████▊                   | 811/1563 [01:40<01:33,  8.03it/s]\u001b[A\n",
      " 52%|████████████████████▊                   | 812/1563 [01:40<01:33,  8.01it/s]\u001b[A\n",
      " 52%|████████████████████▊                   | 813/1563 [01:40<01:49,  6.87it/s]\u001b[A\n",
      " 52%|████████████████████▊                   | 814/1563 [01:40<01:43,  7.21it/s]\u001b[A\n",
      " 52%|████████████████████▊                   | 815/1563 [01:41<01:39,  7.49it/s]\u001b[A\n",
      " 52%|████████████████████▉                   | 816/1563 [01:41<01:37,  7.67it/s]\u001b[A\n",
      " 52%|████████████████████▉                   | 817/1563 [01:41<01:35,  7.84it/s]\u001b[A\n",
      " 52%|████████████████████▉                   | 818/1563 [01:41<01:33,  7.95it/s]\u001b[A\n",
      " 52%|████████████████████▉                   | 819/1563 [01:41<01:33,  7.96it/s]\u001b[A\n",
      " 52%|████████████████████▉                   | 820/1563 [01:41<01:38,  7.58it/s]\u001b[A\n",
      " 53%|█████████████████████                   | 821/1563 [01:41<01:34,  7.82it/s]\u001b[A\n",
      " 53%|█████████████████████                   | 822/1563 [01:41<01:33,  7.96it/s]\u001b[A\n",
      " 53%|█████████████████████                   | 823/1563 [01:42<01:32,  8.04it/s]\u001b[A\n",
      " 53%|█████████████████████                   | 824/1563 [01:42<01:31,  8.09it/s]\u001b[A\n",
      " 53%|█████████████████████                   | 825/1563 [01:42<01:30,  8.13it/s]\u001b[A\n",
      " 53%|█████████████████████▏                  | 826/1563 [01:42<01:30,  8.19it/s]\u001b[A\n",
      " 53%|█████████████████████▏                  | 827/1563 [01:42<01:31,  8.07it/s]\u001b[A\n",
      " 53%|█████████████████████▏                  | 828/1563 [01:42<01:32,  7.94it/s]\u001b[A\n",
      " 53%|█████████████████████▏                  | 829/1563 [01:42<01:32,  7.94it/s]\u001b[A\n",
      " 53%|█████████████████████▏                  | 830/1563 [01:42<01:31,  8.03it/s]\u001b[A\n",
      " 53%|█████████████████████▎                  | 831/1563 [01:42<01:30,  8.09it/s]\u001b[A\n",
      " 53%|█████████████████████▎                  | 832/1563 [01:43<01:30,  8.11it/s]\u001b[A\n",
      " 53%|█████████████████████▎                  | 833/1563 [01:43<01:29,  8.15it/s]\u001b[A\n",
      " 53%|█████████████████████▎                  | 834/1563 [01:43<01:29,  8.18it/s]\u001b[A\n",
      " 53%|█████████████████████▎                  | 835/1563 [01:43<01:29,  8.10it/s]\u001b[A\n",
      " 53%|█████████████████████▍                  | 836/1563 [01:43<01:29,  8.09it/s]\u001b[A\n",
      " 54%|█████████████████████▍                  | 837/1563 [01:43<01:30,  8.02it/s]\u001b[A\n",
      " 54%|█████████████████████▍                  | 838/1563 [01:43<01:30,  8.03it/s]\u001b[A\n",
      " 54%|█████████████████████▍                  | 839/1563 [01:43<01:29,  8.05it/s]\u001b[A\n",
      " 54%|█████████████████████▍                  | 840/1563 [01:44<01:29,  8.08it/s]\u001b[A\n",
      " 54%|█████████████████████▌                  | 841/1563 [01:44<01:29,  8.11it/s]\u001b[A\n",
      " 54%|█████████████████████▌                  | 842/1563 [01:44<01:28,  8.13it/s]\u001b[A\n",
      " 54%|█████████████████████▌                  | 843/1563 [01:44<01:29,  8.09it/s]\u001b[A\n",
      " 54%|█████████████████████▌                  | 844/1563 [01:44<01:28,  8.11it/s]\u001b[A\n",
      " 54%|█████████████████████▋                  | 845/1563 [01:44<01:28,  8.13it/s]\u001b[A\n",
      " 54%|█████████████████████▋                  | 846/1563 [01:44<01:28,  8.15it/s]\u001b[A\n",
      " 54%|█████████████████████▋                  | 847/1563 [01:44<01:27,  8.15it/s]\u001b[A\n",
      " 54%|█████████████████████▋                  | 848/1563 [01:45<01:28,  8.09it/s]\u001b[A\n",
      " 54%|█████████████████████▋                  | 849/1563 [01:45<01:27,  8.12it/s]\u001b[A\n",
      " 54%|█████████████████████▊                  | 850/1563 [01:45<01:28,  8.05it/s]\u001b[A\n",
      " 54%|█████████████████████▊                  | 851/1563 [01:45<01:28,  8.03it/s]\u001b[A\n",
      " 55%|█████████████████████▊                  | 852/1563 [01:45<01:28,  8.06it/s]\u001b[A\n",
      " 55%|█████████████████████▊                  | 853/1563 [01:45<01:27,  8.08it/s]\u001b[A\n",
      " 55%|█████████████████████▊                  | 854/1563 [01:45<01:27,  8.13it/s]\u001b[A\n",
      " 55%|█████████████████████▉                  | 855/1563 [01:45<01:26,  8.16it/s]\u001b[A\n",
      " 55%|█████████████████████▉                  | 856/1563 [01:46<01:26,  8.20it/s]\u001b[A\n",
      " 55%|█████████████████████▉                  | 857/1563 [01:46<01:25,  8.23it/s]\u001b[A\n",
      " 55%|█████████████████████▉                  | 858/1563 [01:46<01:26,  8.18it/s]\u001b[A\n",
      " 55%|█████████████████████▉                  | 859/1563 [01:46<01:26,  8.16it/s]\u001b[A\n",
      " 55%|██████████████████████                  | 860/1563 [01:46<01:26,  8.15it/s]\u001b[A\n",
      " 55%|██████████████████████                  | 861/1563 [01:46<01:26,  8.09it/s]\u001b[A\n",
      " 55%|██████████████████████                  | 862/1563 [01:46<01:26,  8.08it/s]\u001b[A\n",
      " 55%|██████████████████████                  | 863/1563 [01:46<01:27,  8.03it/s]\u001b[A\n",
      " 55%|██████████████████████                  | 864/1563 [01:47<01:26,  8.05it/s]\u001b[A\n",
      " 55%|██████████████████████▏                 | 865/1563 [01:47<01:26,  8.08it/s]\u001b[A\n",
      " 55%|██████████████████████▏                 | 866/1563 [01:47<01:26,  8.10it/s]\u001b[A\n",
      " 55%|██████████████████████▏                 | 867/1563 [01:47<01:25,  8.13it/s]\u001b[A\n",
      " 56%|██████████████████████▏                 | 868/1563 [01:47<01:25,  8.12it/s]\u001b[A\n",
      " 56%|██████████████████████▏                 | 869/1563 [01:47<01:25,  8.11it/s]\u001b[A\n",
      " 56%|██████████████████████▎                 | 870/1563 [01:47<01:25,  8.09it/s]\u001b[A\n",
      " 56%|██████████████████████▎                 | 871/1563 [01:47<01:25,  8.09it/s]\u001b[A\n",
      " 56%|██████████████████████▎                 | 872/1563 [01:48<01:26,  8.02it/s]\u001b[A\n",
      " 56%|██████████████████████▎                 | 873/1563 [01:48<01:25,  8.03it/s]\u001b[A\n",
      " 56%|██████████████████████▎                 | 874/1563 [01:48<01:25,  8.08it/s]\u001b[A\n",
      " 56%|██████████████████████▍                 | 875/1563 [01:48<01:24,  8.10it/s]\u001b[A\n",
      " 56%|██████████████████████▍                 | 876/1563 [01:48<01:26,  7.95it/s]\u001b[A\n",
      " 56%|██████████████████████▍                 | 877/1563 [01:48<01:25,  7.98it/s]\u001b[A\n",
      " 56%|██████████████████████▍                 | 878/1563 [01:48<01:25,  8.01it/s]\u001b[A\n",
      " 56%|██████████████████████▍                 | 879/1563 [01:48<01:25,  8.04it/s]\u001b[A\n",
      " 56%|██████████████████████▌                 | 880/1563 [01:49<01:25,  8.03it/s]\u001b[A\n",
      " 56%|██████████████████████▌                 | 881/1563 [01:49<01:24,  8.06it/s]\u001b[A\n",
      " 56%|██████████████████████▌                 | 882/1563 [01:49<01:23,  8.14it/s]\u001b[A\n",
      " 56%|██████████████████████▌                 | 883/1563 [01:49<01:24,  8.09it/s]\u001b[A\n",
      " 57%|██████████████████████▌                 | 884/1563 [01:49<01:23,  8.14it/s]\u001b[A\n",
      " 57%|██████████████████████▋                 | 885/1563 [01:49<01:22,  8.17it/s]\u001b[A\n",
      " 57%|██████████████████████▋                 | 886/1563 [01:49<01:22,  8.19it/s]\u001b[A\n",
      " 57%|██████████████████████▋                 | 887/1563 [01:49<01:22,  8.17it/s]\u001b[A\n",
      " 57%|██████████████████████▋                 | 888/1563 [01:50<01:23,  8.11it/s]\u001b[A\n",
      " 57%|██████████████████████▊                 | 889/1563 [01:50<01:23,  8.06it/s]\u001b[A\n",
      " 57%|██████████████████████▊                 | 890/1563 [01:50<01:24,  7.97it/s]\u001b[A\n",
      " 57%|██████████████████████▊                 | 891/1563 [01:50<01:23,  8.05it/s]\u001b[A\n",
      " 57%|██████████████████████▊                 | 892/1563 [01:50<01:22,  8.10it/s]\u001b[A\n",
      " 57%|██████████████████████▊                 | 893/1563 [01:50<01:22,  8.13it/s]\u001b[A\n",
      " 57%|██████████████████████▉                 | 894/1563 [01:50<01:21,  8.19it/s]\u001b[A\n",
      " 57%|██████████████████████▉                 | 895/1563 [01:50<01:21,  8.22it/s]\u001b[A\n",
      " 57%|██████████████████████▉                 | 896/1563 [01:51<01:21,  8.19it/s]\u001b[A\n",
      " 57%|██████████████████████▉                 | 897/1563 [01:51<01:21,  8.17it/s]\u001b[A\n",
      " 57%|██████████████████████▉                 | 898/1563 [01:51<01:22,  8.09it/s]\u001b[A\n",
      " 58%|███████████████████████                 | 899/1563 [01:51<01:22,  8.07it/s]\u001b[A\n",
      " 58%|███████████████████████                 | 900/1563 [01:51<01:21,  8.12it/s]\u001b[A\n",
      " 58%|███████████████████████                 | 901/1563 [01:51<01:21,  8.11it/s]\u001b[A\n",
      " 58%|███████████████████████                 | 902/1563 [01:51<01:21,  8.07it/s]\u001b[A\n",
      " 58%|███████████████████████                 | 903/1563 [01:51<01:22,  8.04it/s]\u001b[A\n",
      " 58%|███████████████████████▏                | 904/1563 [01:52<01:21,  8.08it/s]\u001b[A\n",
      " 58%|███████████████████████▏                | 905/1563 [01:52<01:21,  8.10it/s]\u001b[A\n",
      " 58%|███████████████████████▏                | 906/1563 [01:52<01:20,  8.12it/s]\u001b[A\n",
      " 58%|███████████████████████▏                | 907/1563 [01:52<01:20,  8.14it/s]\u001b[A\n",
      " 58%|███████████████████████▏                | 908/1563 [01:52<01:19,  8.19it/s]\u001b[A\n",
      " 58%|███████████████████████▎                | 909/1563 [01:52<01:19,  8.23it/s]\u001b[A\n",
      " 58%|███████████████████████▎                | 910/1563 [01:52<01:19,  8.18it/s]\u001b[A\n",
      " 58%|███████████████████████▎                | 911/1563 [01:52<01:19,  8.18it/s]\u001b[A\n",
      " 58%|███████████████████████▎                | 912/1563 [01:52<01:19,  8.20it/s]\u001b[A\n",
      " 58%|███████████████████████▎                | 913/1563 [01:53<01:19,  8.20it/s]\u001b[A\n",
      " 58%|███████████████████████▍                | 914/1563 [01:53<01:19,  8.20it/s]\u001b[A\n",
      " 59%|███████████████████████▍                | 915/1563 [01:53<01:18,  8.20it/s]\u001b[A\n",
      " 59%|███████████████████████▍                | 916/1563 [01:53<01:18,  8.27it/s]\u001b[A\n",
      " 59%|███████████████████████▍                | 917/1563 [01:53<01:18,  8.25it/s]\u001b[A\n",
      " 59%|███████████████████████▍                | 918/1563 [01:53<01:18,  8.24it/s]\u001b[A\n",
      " 59%|███████████████████████▌                | 919/1563 [01:53<01:18,  8.22it/s]\u001b[A\n",
      " 59%|███████████████████████▌                | 920/1563 [01:53<01:18,  8.23it/s]\u001b[A\n",
      " 59%|███████████████████████▌                | 921/1563 [01:54<01:18,  8.23it/s]\u001b[A\n",
      " 59%|███████████████████████▌                | 922/1563 [01:54<01:18,  8.18it/s]\u001b[A\n",
      " 59%|███████████████████████▌                | 923/1563 [01:54<01:18,  8.19it/s]\u001b[A\n",
      " 59%|███████████████████████▋                | 924/1563 [01:54<01:17,  8.21it/s]\u001b[A\n",
      " 59%|███████████████████████▋                | 925/1563 [01:54<01:17,  8.20it/s]\u001b[A\n",
      " 59%|███████████████████████▋                | 926/1563 [01:54<01:17,  8.22it/s]\u001b[A\n",
      " 59%|███████████████████████▋                | 927/1563 [01:54<01:17,  8.22it/s]\u001b[A\n",
      " 59%|███████████████████████▋                | 928/1563 [01:54<01:17,  8.22it/s]\u001b[A\n",
      " 59%|███████████████████████▊                | 929/1563 [01:55<01:17,  8.21it/s]\u001b[A\n",
      " 60%|███████████████████████▊                | 930/1563 [01:55<01:17,  8.18it/s]\u001b[A\n",
      " 60%|███████████████████████▊                | 931/1563 [01:55<01:17,  8.12it/s]\u001b[A\n",
      " 60%|███████████████████████▊                | 932/1563 [01:55<01:18,  8.07it/s]\u001b[A\n",
      " 60%|███████████████████████▉                | 933/1563 [01:55<01:18,  8.06it/s]\u001b[A\n",
      " 60%|███████████████████████▉                | 934/1563 [01:55<01:18,  8.06it/s]\u001b[A\n",
      " 60%|███████████████████████▉                | 935/1563 [01:55<01:17,  8.07it/s]\u001b[A\n",
      " 60%|███████████████████████▉                | 936/1563 [01:55<01:17,  8.10it/s]\u001b[A\n",
      " 60%|███████████████████████▉                | 937/1563 [01:56<01:16,  8.13it/s]\u001b[A\n",
      " 60%|████████████████████████                | 938/1563 [01:56<01:19,  7.84it/s]\u001b[A\n",
      " 60%|████████████████████████                | 939/1563 [01:56<01:18,  7.92it/s]\u001b[A\n",
      " 60%|████████████████████████                | 940/1563 [01:56<01:17,  7.99it/s]\u001b[A\n",
      " 60%|████████████████████████                | 941/1563 [01:56<01:17,  8.06it/s]\u001b[A\n",
      " 60%|████████████████████████                | 942/1563 [01:56<01:16,  8.08it/s]\u001b[A\n",
      " 60%|████████████████████████▏               | 943/1563 [01:56<01:16,  8.13it/s]\u001b[A\n",
      " 60%|████████████████████████▏               | 944/1563 [01:56<01:15,  8.18it/s]\u001b[A\n",
      " 60%|████████████████████████▏               | 945/1563 [01:57<01:16,  8.03it/s]\u001b[A\n",
      " 61%|████████████████████████▏               | 946/1563 [01:57<01:16,  8.05it/s]\u001b[A\n",
      " 61%|████████████████████████▏               | 947/1563 [01:57<01:16,  8.02it/s]\u001b[A\n",
      " 61%|████████████████████████▎               | 948/1563 [01:57<01:16,  8.05it/s]\u001b[A\n",
      " 61%|████████████████████████▎               | 949/1563 [01:57<01:16,  8.07it/s]\u001b[A\n",
      " 61%|████████████████████████▎               | 950/1563 [01:57<01:15,  8.08it/s]\u001b[A\n",
      " 61%|████████████████████████▎               | 951/1563 [01:57<01:15,  8.06it/s]\u001b[A\n",
      " 61%|████████████████████████▎               | 952/1563 [01:57<01:15,  8.05it/s]\u001b[A\n",
      " 61%|████████████████████████▍               | 953/1563 [01:58<01:15,  8.09it/s]\u001b[A\n",
      " 61%|████████████████████████▍               | 954/1563 [01:58<01:15,  8.11it/s]\u001b[A\n",
      " 61%|████████████████████████▍               | 955/1563 [01:58<01:14,  8.13it/s]\u001b[A\n",
      " 61%|████████████████████████▍               | 956/1563 [01:58<01:14,  8.13it/s]\u001b[A\n",
      " 61%|████████████████████████▍               | 957/1563 [01:58<01:14,  8.10it/s]\u001b[A\n",
      " 61%|████████████████████████▌               | 958/1563 [01:58<01:14,  8.10it/s]\u001b[A\n",
      " 61%|████████████████████████▌               | 959/1563 [01:58<01:14,  8.07it/s]\u001b[A\n",
      " 61%|████████████████████████▌               | 960/1563 [01:58<01:15,  7.97it/s]\u001b[A\n",
      " 61%|████████████████████████▌               | 961/1563 [01:59<01:14,  8.05it/s]\u001b[A\n",
      " 62%|████████████████████████▌               | 962/1563 [01:59<01:14,  8.09it/s]\u001b[A\n",
      " 62%|████████████████████████▋               | 963/1563 [01:59<01:13,  8.14it/s]\u001b[A\n",
      " 62%|████████████████████████▋               | 964/1563 [01:59<01:13,  8.19it/s]\u001b[A\n",
      " 62%|████████████████████████▋               | 965/1563 [01:59<01:13,  8.19it/s]\u001b[A\n",
      " 62%|████████████████████████▋               | 966/1563 [01:59<01:13,  8.17it/s]\u001b[A\n",
      " 62%|████████████████████████▋               | 967/1563 [01:59<01:12,  8.19it/s]\u001b[A\n",
      " 62%|████████████████████████▊               | 968/1563 [01:59<01:12,  8.16it/s]\u001b[A\n",
      " 62%|████████████████████████▊               | 969/1563 [02:00<01:12,  8.16it/s]\u001b[A\n",
      " 62%|████████████████████████▊               | 970/1563 [02:00<01:12,  8.13it/s]\u001b[A\n",
      " 62%|████████████████████████▊               | 971/1563 [02:00<01:13,  8.05it/s]\u001b[A\n",
      " 62%|████████████████████████▉               | 972/1563 [02:00<01:13,  8.02it/s]\u001b[A\n",
      " 62%|████████████████████████▉               | 973/1563 [02:00<01:13,  8.03it/s]\u001b[A\n",
      " 62%|████████████████████████▉               | 974/1563 [02:00<01:13,  8.06it/s]\u001b[A\n",
      " 62%|████████████████████████▉               | 975/1563 [02:00<01:12,  8.09it/s]\u001b[A\n",
      " 62%|████████████████████████▉               | 976/1563 [02:00<01:12,  8.12it/s]\u001b[A\n",
      " 63%|█████████████████████████               | 977/1563 [02:00<01:11,  8.15it/s]\u001b[A\n",
      " 63%|█████████████████████████               | 978/1563 [02:01<01:11,  8.17it/s]\u001b[A\n",
      " 63%|█████████████████████████               | 979/1563 [02:01<01:11,  8.20it/s]\u001b[A\n",
      " 63%|█████████████████████████               | 980/1563 [02:01<01:10,  8.21it/s]\u001b[A\n",
      " 63%|█████████████████████████               | 981/1563 [02:01<01:10,  8.20it/s]\u001b[A\n",
      " 63%|█████████████████████████▏              | 982/1563 [02:01<01:10,  8.21it/s]\u001b[A\n",
      " 63%|█████████████████████████▏              | 983/1563 [02:01<01:10,  8.20it/s]\u001b[A\n",
      " 63%|█████████████████████████▏              | 984/1563 [02:01<01:10,  8.19it/s]\u001b[A\n",
      " 63%|█████████████████████████▏              | 985/1563 [02:01<01:10,  8.20it/s]\u001b[A\n",
      " 63%|█████████████████████████▏              | 986/1563 [02:02<01:10,  8.21it/s]\u001b[A\n",
      " 63%|█████████████████████████▎              | 987/1563 [02:02<01:10,  8.19it/s]\u001b[A\n",
      " 63%|█████████████████████████▎              | 988/1563 [02:02<01:10,  8.18it/s]\u001b[A\n",
      " 63%|█████████████████████████▎              | 989/1563 [02:02<01:10,  8.11it/s]\u001b[A\n",
      " 63%|█████████████████████████▎              | 990/1563 [02:02<01:10,  8.11it/s]\u001b[A\n",
      " 63%|█████████████████████████▎              | 991/1563 [02:02<01:11,  8.05it/s]\u001b[A\n",
      " 63%|█████████████████████████▍              | 992/1563 [02:02<01:11,  8.04it/s]\u001b[A\n",
      " 64%|█████████████████████████▍              | 993/1563 [02:02<01:10,  8.07it/s]\u001b[A\n",
      " 64%|█████████████████████████▍              | 994/1563 [02:03<01:10,  8.11it/s]\u001b[A\n",
      " 64%|█████████████████████████▍              | 995/1563 [02:03<01:09,  8.12it/s]\u001b[A\n",
      " 64%|█████████████████████████▍              | 996/1563 [02:03<01:09,  8.11it/s]\u001b[A\n",
      " 64%|█████████████████████████▌              | 997/1563 [02:03<01:10,  8.06it/s]\u001b[A\n",
      " 64%|█████████████████████████▌              | 998/1563 [02:03<01:09,  8.09it/s]\u001b[A\n",
      " 64%|█████████████████████████▌              | 999/1563 [02:03<01:10,  7.99it/s]\u001b[A\n",
      " 64%|████████████████████████▉              | 1000/1563 [02:03<01:10,  8.04it/s]\u001b[A\n",
      " 64%|████████████████████████▉              | 1001/1563 [02:03<01:17,  7.25it/s]\u001b[A\n",
      " 64%|█████████████████████████              | 1002/1563 [02:04<01:15,  7.47it/s]\u001b[A\n",
      " 64%|█████████████████████████              | 1003/1563 [02:04<01:12,  7.71it/s]\u001b[A\n",
      " 64%|█████████████████████████              | 1004/1563 [02:04<01:11,  7.85it/s]\u001b[A\n",
      " 64%|█████████████████████████              | 1005/1563 [02:04<01:10,  7.91it/s]\u001b[A\n",
      " 64%|█████████████████████████              | 1006/1563 [02:04<01:10,  7.91it/s]\u001b[A\n",
      " 64%|█████████████████████████▏             | 1007/1563 [02:04<01:10,  7.93it/s]\u001b[A\n",
      " 64%|█████████████████████████▏             | 1008/1563 [02:04<01:12,  7.69it/s]\u001b[A\n",
      " 65%|█████████████████████████▏             | 1009/1563 [02:04<01:10,  7.84it/s]\u001b[A\n",
      " 65%|█████████████████████████▏             | 1010/1563 [02:05<01:09,  7.95it/s]\u001b[A\n",
      " 65%|█████████████████████████▏             | 1011/1563 [02:05<01:08,  8.03it/s]\u001b[A\n",
      " 65%|█████████████████████████▎             | 1012/1563 [02:05<01:08,  8.09it/s]\u001b[A\n",
      " 65%|█████████████████████████▎             | 1013/1563 [02:05<01:07,  8.14it/s]\u001b[A\n",
      " 65%|█████████████████████████▎             | 1014/1563 [02:05<01:07,  8.18it/s]\u001b[A\n",
      " 65%|█████████████████████████▎             | 1015/1563 [02:05<01:07,  8.09it/s]\u001b[A\n",
      " 65%|█████████████████████████▎             | 1016/1563 [02:05<01:08,  8.01it/s]\u001b[A\n",
      " 65%|█████████████████████████▍             | 1017/1563 [02:05<01:08,  7.97it/s]\u001b[A\n",
      " 65%|█████████████████████████▍             | 1018/1563 [02:06<01:07,  8.06it/s]\u001b[A\n",
      " 65%|█████████████████████████▍             | 1019/1563 [02:06<01:07,  8.05it/s]\u001b[A\n",
      " 65%|█████████████████████████▍             | 1020/1563 [02:06<01:06,  8.11it/s]\u001b[A\n",
      " 65%|█████████████████████████▍             | 1021/1563 [02:06<01:06,  8.16it/s]\u001b[A\n",
      " 65%|█████████████████████████▌             | 1022/1563 [02:06<01:06,  8.19it/s]\u001b[A\n",
      " 65%|█████████████████████████▌             | 1023/1563 [02:06<01:06,  8.08it/s]\u001b[A\n",
      " 66%|█████████████████████████▌             | 1024/1563 [02:06<01:06,  8.07it/s]\u001b[A\n",
      " 66%|█████████████████████████▌             | 1025/1563 [02:06<01:07,  8.03it/s]\u001b[A\n",
      " 66%|█████████████████████████▌             | 1026/1563 [02:07<01:07,  8.01it/s]\u001b[A\n",
      " 66%|█████████████████████████▋             | 1027/1563 [02:07<01:06,  8.06it/s]\u001b[A\n",
      " 66%|█████████████████████████▋             | 1028/1563 [02:07<01:06,  8.10it/s]\u001b[A\n",
      " 66%|█████████████████████████▋             | 1029/1563 [02:07<01:05,  8.14it/s]\u001b[A\n",
      " 66%|█████████████████████████▋             | 1030/1563 [02:07<01:05,  8.14it/s]\u001b[A\n",
      " 66%|█████████████████████████▋             | 1031/1563 [02:07<01:05,  8.13it/s]\u001b[A\n",
      " 66%|█████████████████████████▊             | 1032/1563 [02:07<01:05,  8.15it/s]\u001b[A\n",
      " 66%|█████████████████████████▊             | 1033/1563 [02:07<01:04,  8.20it/s]\u001b[A\n",
      " 66%|█████████████████████████▊             | 1034/1563 [02:08<01:04,  8.21it/s]\u001b[A\n",
      " 66%|█████████████████████████▊             | 1035/1563 [02:08<01:04,  8.20it/s]\u001b[A\n",
      " 66%|█████████████████████████▊             | 1036/1563 [02:08<01:04,  8.19it/s]\u001b[A\n",
      " 66%|█████████████████████████▉             | 1037/1563 [02:08<01:03,  8.23it/s]\u001b[A\n",
      " 66%|█████████████████████████▉             | 1038/1563 [02:08<01:03,  8.22it/s]\u001b[A\n",
      " 66%|█████████████████████████▉             | 1039/1563 [02:08<01:03,  8.22it/s]\u001b[A\n",
      " 67%|█████████████████████████▉             | 1040/1563 [02:08<01:03,  8.22it/s]\u001b[A\n",
      " 67%|█████████████████████████▉             | 1041/1563 [02:08<01:03,  8.24it/s]\u001b[A\n",
      " 67%|██████████████████████████             | 1042/1563 [02:09<01:03,  8.22it/s]\u001b[A\n",
      " 67%|██████████████████████████             | 1043/1563 [02:09<01:03,  8.21it/s]\u001b[A\n",
      " 67%|██████████████████████████             | 1044/1563 [02:09<01:03,  8.19it/s]\u001b[A\n",
      " 67%|██████████████████████████             | 1045/1563 [02:09<01:03,  8.17it/s]\u001b[A\n",
      " 67%|██████████████████████████             | 1046/1563 [02:09<01:03,  8.12it/s]\u001b[A\n",
      " 67%|██████████████████████████             | 1047/1563 [02:09<01:04,  8.06it/s]\u001b[A\n",
      " 67%|██████████████████████████▏            | 1048/1563 [02:09<01:04,  8.02it/s]\u001b[A\n",
      " 67%|██████████████████████████▏            | 1049/1563 [02:09<01:03,  8.08it/s]\u001b[A\n",
      " 67%|██████████████████████████▏            | 1050/1563 [02:10<01:03,  8.12it/s]\u001b[A\n",
      " 67%|██████████████████████████▏            | 1051/1563 [02:10<01:02,  8.14it/s]\u001b[A\n",
      " 67%|██████████████████████████▏            | 1052/1563 [02:10<01:02,  8.19it/s]\u001b[A\n",
      " 67%|██████████████████████████▎            | 1053/1563 [02:10<01:02,  8.19it/s]\u001b[A\n",
      " 67%|██████████████████████████▎            | 1054/1563 [02:10<01:01,  8.25it/s]\u001b[A\n",
      " 67%|██████████████████████████▎            | 1055/1563 [02:10<01:01,  8.22it/s]\u001b[A\n",
      " 68%|██████████████████████████▎            | 1056/1563 [02:10<01:02,  8.16it/s]\u001b[A\n",
      " 68%|██████████████████████████▎            | 1057/1563 [02:10<01:01,  8.16it/s]\u001b[A\n",
      " 68%|██████████████████████████▍            | 1058/1563 [02:11<01:01,  8.17it/s]\u001b[A\n",
      " 68%|██████████████████████████▍            | 1059/1563 [02:11<01:01,  8.18it/s]\u001b[A\n",
      " 68%|██████████████████████████▍            | 1060/1563 [02:11<01:01,  8.13it/s]\u001b[A\n",
      " 68%|██████████████████████████▍            | 1061/1563 [02:11<01:02,  8.06it/s]\u001b[A\n",
      " 68%|██████████████████████████▍            | 1062/1563 [02:11<01:01,  8.09it/s]\u001b[A\n",
      " 68%|██████████████████████████▌            | 1063/1563 [02:11<01:11,  7.03it/s]\u001b[A\n",
      " 68%|██████████████████████████▌            | 1064/1563 [02:11<01:07,  7.34it/s]\u001b[A\n",
      " 68%|██████████████████████████▌            | 1065/1563 [02:11<01:05,  7.58it/s]\u001b[A\n",
      " 68%|██████████████████████████▌            | 1066/1563 [02:12<01:03,  7.77it/s]\u001b[A\n",
      " 68%|██████████████████████████▌            | 1067/1563 [02:12<01:02,  7.91it/s]\u001b[A\n",
      " 68%|██████████████████████████▋            | 1068/1563 [02:12<01:01,  8.01it/s]\u001b[A\n",
      " 68%|██████████████████████████▋            | 1069/1563 [02:12<01:01,  8.03it/s]\u001b[A\n",
      " 68%|██████████████████████████▋            | 1070/1563 [02:12<01:03,  7.72it/s]\u001b[A\n",
      " 69%|██████████████████████████▋            | 1071/1563 [02:12<01:02,  7.87it/s]\u001b[A\n",
      " 69%|██████████████████████████▋            | 1072/1563 [02:12<01:01,  8.01it/s]\u001b[A\n",
      " 69%|██████████████████████████▊            | 1073/1563 [02:12<01:00,  8.10it/s]\u001b[A\n",
      " 69%|██████████████████████████▊            | 1074/1563 [02:13<01:00,  8.13it/s]\u001b[A\n",
      " 69%|██████████████████████████▊            | 1075/1563 [02:13<00:59,  8.16it/s]\u001b[A\n",
      " 69%|██████████████████████████▊            | 1076/1563 [02:13<00:59,  8.22it/s]\u001b[A\n",
      " 69%|██████████████████████████▊            | 1077/1563 [02:13<00:59,  8.10it/s]\u001b[A\n",
      " 69%|██████████████████████████▉            | 1078/1563 [02:13<01:00,  7.98it/s]\u001b[A\n",
      " 69%|██████████████████████████▉            | 1079/1563 [02:13<01:00,  7.94it/s]\u001b[A\n",
      " 69%|██████████████████████████▉            | 1080/1563 [02:13<01:00,  7.95it/s]\u001b[A\n",
      " 69%|██████████████████████████▉            | 1081/1563 [02:13<00:59,  8.04it/s]\u001b[A\n",
      " 69%|██████████████████████████▉            | 1082/1563 [02:14<00:59,  8.14it/s]\u001b[A\n",
      " 69%|███████████████████████████            | 1083/1563 [02:14<00:58,  8.16it/s]\u001b[A\n",
      " 69%|███████████████████████████            | 1084/1563 [02:14<00:58,  8.16it/s]\u001b[A\n",
      " 69%|███████████████████████████            | 1085/1563 [02:14<00:59,  8.08it/s]\u001b[A\n",
      " 69%|███████████████████████████            | 1086/1563 [02:14<00:58,  8.11it/s]\u001b[A\n",
      " 70%|███████████████████████████            | 1087/1563 [02:14<00:58,  8.09it/s]\u001b[A\n",
      " 70%|███████████████████████████▏           | 1088/1563 [02:14<00:59,  8.03it/s]\u001b[A\n",
      " 70%|███████████████████████████▏           | 1089/1563 [02:14<00:59,  7.98it/s]\u001b[A\n",
      " 70%|███████████████████████████▏           | 1090/1563 [02:15<00:58,  8.05it/s]\u001b[A\n",
      " 70%|███████████████████████████▏           | 1091/1563 [02:15<00:58,  8.11it/s]\u001b[A\n",
      " 70%|███████████████████████████▏           | 1092/1563 [02:15<00:57,  8.15it/s]\u001b[A\n",
      " 70%|███████████████████████████▎           | 1093/1563 [02:15<00:58,  8.07it/s]\u001b[A\n",
      " 70%|███████████████████████████▎           | 1094/1563 [02:15<00:58,  8.08it/s]\u001b[A\n",
      " 70%|███████████████████████████▎           | 1095/1563 [02:15<00:58,  8.05it/s]\u001b[A\n",
      " 70%|███████████████████████████▎           | 1096/1563 [02:15<00:58,  7.99it/s]\u001b[A\n",
      " 70%|███████████████████████████▎           | 1097/1563 [02:15<00:58,  7.98it/s]\u001b[A\n",
      " 70%|███████████████████████████▍           | 1098/1563 [02:16<00:57,  8.07it/s]\u001b[A\n",
      " 70%|███████████████████████████▍           | 1099/1563 [02:16<00:57,  8.10it/s]\u001b[A\n",
      " 70%|███████████████████████████▍           | 1100/1563 [02:16<00:57,  8.11it/s]\u001b[A\n",
      " 70%|███████████████████████████▍           | 1101/1563 [02:16<00:56,  8.14it/s]\u001b[A\n",
      " 71%|███████████████████████████▍           | 1102/1563 [02:16<00:56,  8.16it/s]\u001b[A\n",
      " 71%|███████████████████████████▌           | 1103/1563 [02:16<00:56,  8.19it/s]\u001b[A\n",
      " 71%|███████████████████████████▌           | 1104/1563 [02:16<00:55,  8.20it/s]\u001b[A\n",
      " 71%|███████████████████████████▌           | 1105/1563 [02:16<00:55,  8.19it/s]\u001b[A\n",
      " 71%|███████████████████████████▌           | 1106/1563 [02:16<00:55,  8.26it/s]\u001b[A\n",
      " 71%|███████████████████████████▌           | 1107/1563 [02:17<00:55,  8.22it/s]\u001b[A\n",
      " 71%|███████████████████████████▋           | 1108/1563 [02:17<00:55,  8.22it/s]\u001b[A\n",
      " 71%|███████████████████████████▋           | 1109/1563 [02:17<00:54,  8.26it/s]\u001b[A\n",
      " 71%|███████████████████████████▋           | 1110/1563 [02:17<00:54,  8.28it/s]\u001b[A\n",
      " 71%|███████████████████████████▋           | 1111/1563 [02:17<00:55,  8.21it/s]\u001b[A\n",
      " 71%|███████████████████████████▋           | 1112/1563 [02:17<00:54,  8.21it/s]\u001b[A\n",
      " 71%|███████████████████████████▊           | 1113/1563 [02:17<00:54,  8.19it/s]\u001b[A\n",
      " 71%|███████████████████████████▊           | 1114/1563 [02:17<00:54,  8.20it/s]\u001b[A\n",
      " 71%|███████████████████████████▊           | 1115/1563 [02:18<00:54,  8.22it/s]\u001b[A\n",
      " 71%|███████████████████████████▊           | 1116/1563 [02:18<00:54,  8.22it/s]\u001b[A\n",
      " 71%|███████████████████████████▊           | 1117/1563 [02:18<00:54,  8.22it/s]\u001b[A\n",
      " 72%|███████████████████████████▉           | 1118/1563 [02:18<00:54,  8.18it/s]\u001b[A\n",
      " 72%|███████████████████████████▉           | 1119/1563 [02:18<00:54,  8.18it/s]\u001b[A\n",
      " 72%|███████████████████████████▉           | 1120/1563 [02:18<00:54,  8.08it/s]\u001b[A\n",
      " 72%|███████████████████████████▉           | 1121/1563 [02:18<00:55,  8.03it/s]\u001b[A\n",
      " 72%|███████████████████████████▉           | 1122/1563 [02:18<00:54,  8.04it/s]\u001b[A\n",
      " 72%|████████████████████████████           | 1123/1563 [02:19<00:54,  8.08it/s]\u001b[A\n",
      " 72%|████████████████████████████           | 1124/1563 [02:19<00:54,  8.12it/s]\u001b[A\n",
      " 72%|████████████████████████████           | 1125/1563 [02:19<00:53,  8.13it/s]\u001b[A\n",
      " 72%|████████████████████████████           | 1126/1563 [02:19<00:53,  8.10it/s]\u001b[A\n",
      " 72%|████████████████████████████           | 1127/1563 [02:19<00:53,  8.10it/s]\u001b[A\n",
      " 72%|████████████████████████████▏          | 1128/1563 [02:19<00:54,  8.04it/s]\u001b[A\n",
      " 72%|████████████████████████████▏          | 1129/1563 [02:19<00:54,  8.02it/s]\u001b[A\n",
      " 72%|████████████████████████████▏          | 1130/1563 [02:19<00:53,  8.03it/s]\u001b[A\n",
      " 72%|████████████████████████████▏          | 1131/1563 [02:20<00:53,  8.05it/s]\u001b[A\n",
      " 72%|████████████████████████████▏          | 1132/1563 [02:20<00:53,  8.11it/s]\u001b[A\n",
      " 72%|████████████████████████████▎          | 1133/1563 [02:20<00:52,  8.14it/s]\u001b[A\n",
      " 73%|████████████████████████████▎          | 1134/1563 [02:20<00:52,  8.19it/s]\u001b[A\n",
      " 73%|████████████████████████████▎          | 1135/1563 [02:20<00:51,  8.24it/s]\u001b[A\n",
      " 73%|████████████████████████████▎          | 1136/1563 [02:20<00:52,  8.20it/s]\u001b[A\n",
      " 73%|████████████████████████████▎          | 1137/1563 [02:20<00:51,  8.20it/s]\u001b[A\n",
      " 73%|████████████████████████████▍          | 1138/1563 [02:20<00:51,  8.22it/s]\u001b[A\n",
      " 73%|████████████████████████████▍          | 1139/1563 [02:21<00:51,  8.20it/s]\u001b[A\n",
      " 73%|████████████████████████████▍          | 1140/1563 [02:21<00:51,  8.18it/s]\u001b[A\n",
      " 73%|████████████████████████████▍          | 1141/1563 [02:21<00:51,  8.15it/s]\u001b[A\n",
      " 73%|████████████████████████████▍          | 1142/1563 [02:21<00:51,  8.13it/s]\u001b[A\n",
      " 73%|████████████████████████████▌          | 1143/1563 [02:21<00:51,  8.10it/s]\u001b[A\n",
      " 73%|████████████████████████████▌          | 1144/1563 [02:21<00:51,  8.07it/s]\u001b[A\n",
      " 73%|████████████████████████████▌          | 1145/1563 [02:21<00:51,  8.05it/s]\u001b[A\n",
      " 73%|████████████████████████████▌          | 1146/1563 [02:21<00:51,  8.07it/s]\u001b[A\n",
      " 73%|████████████████████████████▌          | 1147/1563 [02:22<00:51,  8.10it/s]\u001b[A\n",
      " 73%|████████████████████████████▋          | 1148/1563 [02:22<00:51,  8.08it/s]\u001b[A\n",
      " 74%|████████████████████████████▋          | 1149/1563 [02:22<00:51,  8.07it/s]\u001b[A\n",
      " 74%|████████████████████████████▋          | 1150/1563 [02:22<00:51,  8.04it/s]\u001b[A\n",
      " 74%|████████████████████████████▋          | 1151/1563 [02:22<00:51,  8.01it/s]\u001b[A\n",
      " 74%|████████████████████████████▋          | 1152/1563 [02:22<00:51,  8.04it/s]\u001b[A\n",
      " 74%|████████████████████████████▊          | 1153/1563 [02:22<00:50,  8.09it/s]\u001b[A\n",
      " 74%|████████████████████████████▊          | 1154/1563 [02:22<00:50,  8.17it/s]\u001b[A\n",
      " 74%|████████████████████████████▊          | 1155/1563 [02:23<00:49,  8.16it/s]\u001b[A\n",
      " 74%|████████████████████████████▊          | 1156/1563 [02:23<00:49,  8.17it/s]\u001b[A\n",
      " 74%|████████████████████████████▊          | 1157/1563 [02:23<00:49,  8.22it/s]\u001b[A\n",
      " 74%|████████████████████████████▉          | 1158/1563 [02:23<00:49,  8.21it/s]\u001b[A\n",
      " 74%|████████████████████████████▉          | 1159/1563 [02:23<00:49,  8.19it/s]\u001b[A\n",
      " 74%|████████████████████████████▉          | 1160/1563 [02:23<00:49,  8.19it/s]\u001b[A\n",
      " 74%|████████████████████████████▉          | 1161/1563 [02:23<00:49,  8.18it/s]\u001b[A\n",
      " 74%|████████████████████████████▉          | 1162/1563 [02:23<00:49,  8.11it/s]\u001b[A\n",
      " 74%|█████████████████████████████          | 1163/1563 [02:24<00:49,  8.09it/s]\u001b[A\n",
      " 74%|█████████████████████████████          | 1164/1563 [02:24<00:49,  8.11it/s]\u001b[A\n",
      " 75%|█████████████████████████████          | 1165/1563 [02:24<00:49,  8.08it/s]\u001b[A\n",
      " 75%|█████████████████████████████          | 1166/1563 [02:24<00:49,  8.06it/s]\u001b[A\n",
      " 75%|█████████████████████████████          | 1167/1563 [02:24<00:49,  8.08it/s]\u001b[A\n",
      " 75%|█████████████████████████████▏         | 1168/1563 [02:24<00:48,  8.12it/s]\u001b[A\n",
      " 75%|█████████████████████████████▏         | 1169/1563 [02:24<00:48,  8.15it/s]\u001b[A\n",
      " 75%|█████████████████████████████▏         | 1170/1563 [02:24<00:48,  8.14it/s]\u001b[A\n",
      " 75%|█████████████████████████████▏         | 1171/1563 [02:24<00:48,  8.13it/s]\u001b[A\n",
      " 75%|█████████████████████████████▏         | 1172/1563 [02:25<00:48,  8.10it/s]\u001b[A\n",
      " 75%|█████████████████████████████▎         | 1173/1563 [02:25<00:48,  8.06it/s]\u001b[A\n",
      " 75%|█████████████████████████████▎         | 1174/1563 [02:25<00:48,  8.01it/s]\u001b[A\n",
      " 75%|█████████████████████████████▎         | 1175/1563 [02:25<00:48,  8.04it/s]\u001b[A\n",
      " 75%|█████████████████████████████▎         | 1176/1563 [02:25<00:48,  8.05it/s]\u001b[A\n",
      " 75%|█████████████████████████████▎         | 1177/1563 [02:25<00:47,  8.11it/s]\u001b[A\n",
      " 75%|█████████████████████████████▍         | 1178/1563 [02:25<00:47,  8.15it/s]\u001b[A\n",
      " 75%|█████████████████████████████▍         | 1179/1563 [02:25<00:47,  8.16it/s]\u001b[A\n",
      " 75%|█████████████████████████████▍         | 1180/1563 [02:26<00:46,  8.17it/s]\u001b[A\n",
      " 76%|█████████████████████████████▍         | 1181/1563 [02:26<00:47,  8.11it/s]\u001b[A\n",
      " 76%|█████████████████████████████▍         | 1182/1563 [02:26<00:47,  8.04it/s]\u001b[A\n",
      " 76%|█████████████████████████████▌         | 1183/1563 [02:26<00:47,  7.97it/s]\u001b[A\n",
      " 76%|█████████████████████████████▌         | 1184/1563 [02:26<00:47,  8.02it/s]\u001b[A\n",
      " 76%|█████████████████████████████▌         | 1185/1563 [02:26<00:46,  8.07it/s]\u001b[A\n",
      " 76%|█████████████████████████████▌         | 1186/1563 [02:26<00:46,  8.10it/s]\u001b[A\n",
      " 76%|█████████████████████████████▌         | 1187/1563 [02:26<00:46,  8.12it/s]\u001b[A\n",
      " 76%|█████████████████████████████▋         | 1188/1563 [02:27<00:48,  7.66it/s]\u001b[A\n",
      " 76%|█████████████████████████████▋         | 1189/1563 [02:27<00:48,  7.77it/s]\u001b[A\n",
      " 76%|█████████████████████████████▋         | 1190/1563 [02:27<00:47,  7.80it/s]\u001b[A\n",
      " 76%|█████████████████████████████▋         | 1191/1563 [02:27<00:47,  7.89it/s]\u001b[A\n",
      " 76%|█████████████████████████████▋         | 1192/1563 [02:27<00:46,  7.96it/s]\u001b[A\n",
      " 76%|█████████████████████████████▊         | 1193/1563 [02:27<00:46,  8.04it/s]\u001b[A\n",
      " 76%|█████████████████████████████▊         | 1194/1563 [02:27<00:45,  8.09it/s]\u001b[A\n",
      " 76%|█████████████████████████████▊         | 1195/1563 [02:27<00:46,  8.00it/s]\u001b[A\n",
      " 77%|█████████████████████████████▊         | 1196/1563 [02:28<00:45,  8.08it/s]\u001b[A\n",
      " 77%|█████████████████████████████▊         | 1197/1563 [02:28<00:45,  8.07it/s]\u001b[A\n",
      " 77%|█████████████████████████████▉         | 1198/1563 [02:28<00:45,  8.01it/s]\u001b[A\n",
      " 77%|█████████████████████████████▉         | 1199/1563 [02:28<00:45,  7.99it/s]\u001b[A\n",
      " 77%|█████████████████████████████▉         | 1200/1563 [02:28<00:45,  8.03it/s]\u001b[A\n",
      " 77%|█████████████████████████████▉         | 1201/1563 [02:28<00:44,  8.06it/s]\u001b[A\n",
      " 77%|█████████████████████████████▉         | 1202/1563 [02:28<00:45,  7.99it/s]\u001b[A\n",
      " 77%|██████████████████████████████         | 1203/1563 [02:28<00:44,  8.05it/s]\u001b[A\n",
      " 77%|██████████████████████████████         | 1204/1563 [02:29<00:44,  8.09it/s]\u001b[A\n",
      " 77%|██████████████████████████████         | 1205/1563 [02:29<00:44,  8.08it/s]\u001b[A\n",
      " 77%|██████████████████████████████         | 1206/1563 [02:29<00:44,  8.05it/s]\u001b[A\n",
      " 77%|██████████████████████████████         | 1207/1563 [02:29<00:44,  8.08it/s]\u001b[A\n",
      " 77%|██████████████████████████████▏        | 1208/1563 [02:29<00:43,  8.12it/s]\u001b[A\n",
      " 77%|██████████████████████████████▏        | 1209/1563 [02:29<00:43,  8.11it/s]\u001b[A\n",
      " 77%|██████████████████████████████▏        | 1210/1563 [02:29<00:43,  8.08it/s]\u001b[A\n",
      " 77%|██████████████████████████████▏        | 1211/1563 [02:29<00:43,  8.04it/s]\u001b[A\n",
      " 78%|██████████████████████████████▏        | 1212/1563 [02:30<00:43,  8.05it/s]\u001b[A\n",
      " 78%|██████████████████████████████▎        | 1213/1563 [02:30<00:43,  8.07it/s]\u001b[A\n",
      " 78%|██████████████████████████████▎        | 1214/1563 [02:30<00:43,  8.06it/s]\u001b[A\n",
      " 78%|██████████████████████████████▎        | 1215/1563 [02:30<00:43,  8.07it/s]\u001b[A\n",
      " 78%|██████████████████████████████▎        | 1216/1563 [02:30<00:42,  8.11it/s]\u001b[A\n",
      " 78%|██████████████████████████████▎        | 1217/1563 [02:30<00:42,  8.14it/s]\u001b[A\n",
      " 78%|██████████████████████████████▍        | 1218/1563 [02:30<00:42,  8.18it/s]\u001b[A\n",
      " 78%|██████████████████████████████▍        | 1219/1563 [02:30<00:42,  8.18it/s]\u001b[A\n",
      " 78%|██████████████████████████████▍        | 1220/1563 [02:31<00:41,  8.21it/s]\u001b[A\n",
      " 78%|██████████████████████████████▍        | 1221/1563 [02:31<00:41,  8.22it/s]\u001b[A\n",
      " 78%|██████████████████████████████▍        | 1222/1563 [02:31<00:41,  8.22it/s]\u001b[A\n",
      " 78%|██████████████████████████████▌        | 1223/1563 [02:31<00:41,  8.18it/s]\u001b[A\n",
      " 78%|██████████████████████████████▌        | 1224/1563 [02:31<00:41,  8.15it/s]\u001b[A\n",
      " 78%|██████████████████████████████▌        | 1225/1563 [02:31<00:41,  8.10it/s]\u001b[A\n",
      " 78%|██████████████████████████████▌        | 1226/1563 [02:31<00:41,  8.09it/s]\u001b[A\n",
      " 79%|██████████████████████████████▌        | 1227/1563 [02:31<00:41,  8.06it/s]\u001b[A\n",
      " 79%|██████████████████████████████▋        | 1228/1563 [02:32<00:41,  8.13it/s]\u001b[A\n",
      " 79%|██████████████████████████████▋        | 1229/1563 [02:32<00:41,  8.09it/s]\u001b[A\n",
      " 79%|██████████████████████████████▋        | 1230/1563 [02:32<00:41,  8.09it/s]\u001b[A\n",
      " 79%|██████████████████████████████▋        | 1231/1563 [02:32<00:40,  8.11it/s]\u001b[A\n",
      " 79%|██████████████████████████████▋        | 1232/1563 [02:32<00:40,  8.11it/s]\u001b[A\n",
      " 79%|██████████████████████████████▊        | 1233/1563 [02:32<00:40,  8.07it/s]\u001b[A\n",
      " 79%|██████████████████████████████▊        | 1234/1563 [02:32<00:40,  8.10it/s]\u001b[A\n",
      " 79%|██████████████████████████████▊        | 1235/1563 [02:32<00:40,  8.07it/s]\u001b[A\n",
      " 79%|██████████████████████████████▊        | 1236/1563 [02:33<00:40,  8.02it/s]\u001b[A\n",
      " 79%|██████████████████████████████▊        | 1237/1563 [02:33<00:40,  8.02it/s]\u001b[A\n",
      " 79%|██████████████████████████████▉        | 1238/1563 [02:33<00:40,  8.08it/s]\u001b[A\n",
      " 79%|██████████████████████████████▉        | 1239/1563 [02:33<00:39,  8.13it/s]\u001b[A\n",
      " 79%|██████████████████████████████▉        | 1240/1563 [02:33<00:39,  8.13it/s]\u001b[A\n",
      " 79%|██████████████████████████████▉        | 1241/1563 [02:33<00:39,  8.16it/s]\u001b[A\n",
      " 79%|██████████████████████████████▉        | 1242/1563 [02:33<00:39,  8.17it/s]\u001b[A\n",
      " 80%|███████████████████████████████        | 1243/1563 [02:33<00:38,  8.22it/s]\u001b[A\n",
      " 80%|███████████████████████████████        | 1244/1563 [02:34<00:39,  8.16it/s]\u001b[A\n",
      " 80%|███████████████████████████████        | 1245/1563 [02:34<00:39,  8.11it/s]\u001b[A\n",
      " 80%|███████████████████████████████        | 1246/1563 [02:34<00:39,  8.02it/s]\u001b[A\n",
      " 80%|███████████████████████████████        | 1247/1563 [02:34<00:39,  8.02it/s]\u001b[A\n",
      " 80%|███████████████████████████████▏       | 1248/1563 [02:34<00:39,  8.06it/s]\u001b[A\n",
      " 80%|███████████████████████████████▏       | 1249/1563 [02:34<00:38,  8.09it/s]\u001b[A\n",
      " 80%|███████████████████████████████▏       | 1250/1563 [02:34<00:38,  8.15it/s]\u001b[A\n",
      " 80%|███████████████████████████████▏       | 1251/1563 [02:34<00:40,  7.69it/s]\u001b[A\n",
      " 80%|███████████████████████████████▏       | 1252/1563 [02:35<00:39,  7.88it/s]\u001b[A\n",
      " 80%|███████████████████████████████▎       | 1253/1563 [02:35<00:38,  7.97it/s]\u001b[A\n",
      " 80%|███████████████████████████████▎       | 1254/1563 [02:35<00:38,  8.01it/s]\u001b[A\n",
      " 80%|███████████████████████████████▎       | 1255/1563 [02:35<00:38,  7.99it/s]\u001b[A\n",
      " 80%|███████████████████████████████▎       | 1256/1563 [02:35<00:38,  8.02it/s]\u001b[A\n",
      " 80%|███████████████████████████████▎       | 1257/1563 [02:35<00:38,  7.98it/s]\u001b[A\n",
      " 80%|███████████████████████████████▍       | 1258/1563 [02:35<00:38,  7.87it/s]\u001b[A\n",
      " 81%|███████████████████████████████▍       | 1259/1563 [02:35<00:38,  7.95it/s]\u001b[A\n",
      " 81%|███████████████████████████████▍       | 1260/1563 [02:36<00:37,  7.99it/s]\u001b[A\n",
      " 81%|███████████████████████████████▍       | 1261/1563 [02:36<00:37,  8.00it/s]\u001b[A\n",
      " 81%|███████████████████████████████▍       | 1262/1563 [02:36<00:37,  8.02it/s]\u001b[A\n",
      " 81%|███████████████████████████████▌       | 1263/1563 [02:36<00:37,  8.00it/s]\u001b[A\n",
      " 81%|███████████████████████████████▌       | 1264/1563 [02:36<00:37,  8.03it/s]\u001b[A\n",
      " 81%|███████████████████████████████▌       | 1265/1563 [02:36<00:37,  8.01it/s]\u001b[A\n",
      " 81%|███████████████████████████████▌       | 1266/1563 [02:36<00:37,  8.00it/s]\u001b[A\n",
      " 81%|███████████████████████████████▌       | 1267/1563 [02:36<00:36,  8.01it/s]\u001b[A\n",
      " 81%|███████████████████████████████▋       | 1268/1563 [02:37<00:36,  8.03it/s]\u001b[A\n",
      " 81%|███████████████████████████████▋       | 1269/1563 [02:37<00:36,  8.06it/s]\u001b[A\n",
      " 81%|███████████████████████████████▋       | 1270/1563 [02:37<00:36,  8.10it/s]\u001b[A\n",
      " 81%|███████████████████████████████▋       | 1271/1563 [02:37<00:36,  8.11it/s]\u001b[A\n",
      " 81%|███████████████████████████████▋       | 1272/1563 [02:37<00:35,  8.13it/s]\u001b[A\n",
      " 81%|███████████████████████████████▊       | 1273/1563 [02:37<00:35,  8.15it/s]\u001b[A\n",
      " 82%|███████████████████████████████▊       | 1274/1563 [02:37<00:35,  8.14it/s]\u001b[A\n",
      " 82%|███████████████████████████████▊       | 1275/1563 [02:37<00:35,  8.16it/s]\u001b[A\n",
      " 82%|███████████████████████████████▊       | 1276/1563 [02:38<00:35,  8.16it/s]\u001b[A\n",
      " 82%|███████████████████████████████▊       | 1277/1563 [02:38<00:35,  8.11it/s]\u001b[A\n",
      " 82%|███████████████████████████████▉       | 1278/1563 [02:38<00:35,  8.06it/s]\u001b[A\n",
      " 82%|███████████████████████████████▉       | 1279/1563 [02:38<00:35,  8.01it/s]\u001b[A\n",
      " 82%|███████████████████████████████▉       | 1280/1563 [02:38<00:34,  8.09it/s]\u001b[A\n",
      " 82%|███████████████████████████████▉       | 1281/1563 [02:38<00:34,  8.07it/s]\u001b[A\n",
      " 82%|███████████████████████████████▉       | 1282/1563 [02:38<00:34,  8.12it/s]\u001b[A\n",
      " 82%|████████████████████████████████       | 1283/1563 [02:38<00:34,  8.17it/s]\u001b[A\n",
      " 82%|████████████████████████████████       | 1284/1563 [02:39<00:33,  8.22it/s]\u001b[A\n",
      " 82%|████████████████████████████████       | 1285/1563 [02:39<00:33,  8.23it/s]\u001b[A\n",
      " 82%|████████████████████████████████       | 1286/1563 [02:39<00:33,  8.21it/s]\u001b[A\n",
      " 82%|████████████████████████████████       | 1287/1563 [02:39<00:33,  8.20it/s]\u001b[A\n",
      " 82%|████████████████████████████████▏      | 1288/1563 [02:39<00:33,  8.21it/s]\u001b[A\n",
      " 82%|████████████████████████████████▏      | 1289/1563 [02:39<00:33,  8.18it/s]\u001b[A\n",
      " 83%|████████████████████████████████▏      | 1290/1563 [02:39<00:33,  8.19it/s]\u001b[A\n",
      " 83%|████████████████████████████████▏      | 1291/1563 [02:39<00:33,  8.17it/s]\u001b[A\n",
      " 83%|████████████████████████████████▏      | 1292/1563 [02:39<00:33,  8.18it/s]\u001b[A\n",
      " 83%|████████████████████████████████▎      | 1293/1563 [02:40<00:33,  8.11it/s]\u001b[A\n",
      " 83%|████████████████████████████████▎      | 1294/1563 [02:40<00:33,  8.05it/s]\u001b[A\n",
      " 83%|████████████████████████████████▎      | 1295/1563 [02:40<00:33,  8.00it/s]\u001b[A\n",
      " 83%|████████████████████████████████▎      | 1296/1563 [02:40<00:33,  8.04it/s]\u001b[A\n",
      " 83%|████████████████████████████████▎      | 1297/1563 [02:40<00:32,  8.07it/s]\u001b[A\n",
      " 83%|████████████████████████████████▍      | 1298/1563 [02:40<00:32,  8.09it/s]\u001b[A\n",
      " 83%|████████████████████████████████▍      | 1299/1563 [02:40<00:32,  8.10it/s]\u001b[A\n",
      " 83%|████████████████████████████████▍      | 1300/1563 [02:40<00:32,  8.09it/s]\u001b[A\n",
      " 83%|████████████████████████████████▍      | 1301/1563 [02:41<00:32,  8.11it/s]\u001b[A\n",
      " 83%|████████████████████████████████▍      | 1302/1563 [02:41<00:32,  8.09it/s]\u001b[A\n",
      " 83%|████████████████████████████████▌      | 1303/1563 [02:41<00:32,  8.05it/s]\u001b[A\n",
      " 83%|████████████████████████████████▌      | 1304/1563 [02:41<00:32,  8.00it/s]\u001b[A\n",
      " 83%|████████████████████████████████▌      | 1305/1563 [02:41<00:31,  8.06it/s]\u001b[A\n",
      " 84%|████████████████████████████████▌      | 1306/1563 [02:41<00:31,  8.07it/s]\u001b[A\n",
      " 84%|████████████████████████████████▌      | 1307/1563 [02:41<00:31,  8.16it/s]\u001b[A\n",
      " 84%|████████████████████████████████▋      | 1308/1563 [02:41<00:31,  8.17it/s]\u001b[A\n",
      " 84%|████████████████████████████████▋      | 1309/1563 [02:42<00:30,  8.20it/s]\u001b[A\n",
      " 84%|████████████████████████████████▋      | 1310/1563 [02:42<00:30,  8.17it/s]\u001b[A\n",
      " 84%|████████████████████████████████▋      | 1311/1563 [02:42<00:31,  8.09it/s]\u001b[A\n",
      " 84%|████████████████████████████████▋      | 1312/1563 [02:42<00:31,  7.98it/s]\u001b[A\n",
      " 84%|████████████████████████████████▊      | 1313/1563 [02:42<00:34,  7.35it/s]\u001b[A\n",
      " 84%|████████████████████████████████▊      | 1314/1563 [02:42<00:32,  7.60it/s]\u001b[A\n",
      " 84%|████████████████████████████████▊      | 1315/1563 [02:42<00:31,  7.77it/s]\u001b[A\n",
      " 84%|████████████████████████████████▊      | 1316/1563 [02:42<00:31,  7.91it/s]\u001b[A\n",
      " 84%|████████████████████████████████▊      | 1317/1563 [02:43<00:30,  7.97it/s]\u001b[A\n",
      " 84%|████████████████████████████████▉      | 1318/1563 [02:43<00:30,  8.03it/s]\u001b[A\n",
      " 84%|████████████████████████████████▉      | 1319/1563 [02:43<00:30,  8.04it/s]\u001b[A\n",
      " 84%|████████████████████████████████▉      | 1320/1563 [02:43<00:31,  7.81it/s]\u001b[A\n",
      " 85%|████████████████████████████████▉      | 1321/1563 [02:43<00:30,  7.91it/s]\u001b[A\n",
      " 85%|████████████████████████████████▉      | 1322/1563 [02:43<00:30,  7.99it/s]\u001b[A\n",
      " 85%|█████████████████████████████████      | 1323/1563 [02:43<00:29,  8.06it/s]\u001b[A\n",
      " 85%|█████████████████████████████████      | 1324/1563 [02:43<00:29,  8.12it/s]\u001b[A\n",
      " 85%|█████████████████████████████████      | 1325/1563 [02:44<00:29,  8.14it/s]\u001b[A\n",
      " 85%|█████████████████████████████████      | 1326/1563 [02:44<00:29,  8.16it/s]\u001b[A\n",
      " 85%|█████████████████████████████████      | 1327/1563 [02:44<00:29,  8.08it/s]\u001b[A\n",
      " 85%|█████████████████████████████████▏     | 1328/1563 [02:44<00:29,  7.96it/s]\u001b[A\n",
      " 85%|█████████████████████████████████▏     | 1329/1563 [02:44<00:29,  8.01it/s]\u001b[A\n",
      " 85%|█████████████████████████████████▏     | 1330/1563 [02:44<00:28,  8.04it/s]\u001b[A\n",
      " 85%|█████████████████████████████████▏     | 1331/1563 [02:44<00:28,  8.08it/s]\u001b[A\n",
      " 85%|█████████████████████████████████▏     | 1332/1563 [02:44<00:28,  8.11it/s]\u001b[A\n",
      " 85%|█████████████████████████████████▎     | 1333/1563 [02:45<00:28,  8.12it/s]\u001b[A\n",
      " 85%|█████████████████████████████████▎     | 1334/1563 [02:45<00:27,  8.19it/s]\u001b[A\n",
      " 85%|█████████████████████████████████▎     | 1335/1563 [02:45<00:27,  8.14it/s]\u001b[A\n",
      " 85%|█████████████████████████████████▎     | 1336/1563 [02:45<00:27,  8.15it/s]\u001b[A\n",
      " 86%|█████████████████████████████████▎     | 1337/1563 [02:45<00:27,  8.10it/s]\u001b[A\n",
      " 86%|█████████████████████████████████▍     | 1338/1563 [02:45<00:27,  8.07it/s]\u001b[A\n",
      " 86%|█████████████████████████████████▍     | 1339/1563 [02:45<00:27,  8.04it/s]\u001b[A\n",
      " 86%|█████████████████████████████████▍     | 1340/1563 [02:45<00:27,  8.06it/s]\u001b[A\n",
      " 86%|█████████████████████████████████▍     | 1341/1563 [02:46<00:27,  8.10it/s]\u001b[A\n",
      " 86%|█████████████████████████████████▍     | 1342/1563 [02:46<00:27,  8.11it/s]\u001b[A\n",
      " 86%|█████████████████████████████████▌     | 1343/1563 [02:46<00:27,  8.04it/s]\u001b[A\n",
      " 86%|█████████████████████████████████▌     | 1344/1563 [02:46<00:27,  8.06it/s]\u001b[A\n",
      " 86%|█████████████████████████████████▌     | 1345/1563 [02:46<00:27,  8.04it/s]\u001b[A\n",
      " 86%|█████████████████████████████████▌     | 1346/1563 [02:46<00:26,  8.04it/s]\u001b[A\n",
      " 86%|█████████████████████████████████▌     | 1347/1563 [02:46<00:27,  8.00it/s]\u001b[A\n",
      " 86%|█████████████████████████████████▋     | 1348/1563 [02:46<00:26,  8.02it/s]\u001b[A\n",
      " 86%|█████████████████████████████████▋     | 1349/1563 [02:47<00:26,  8.08it/s]\u001b[A\n",
      " 86%|█████████████████████████████████▋     | 1350/1563 [02:47<00:26,  8.12it/s]\u001b[A\n",
      " 86%|█████████████████████████████████▋     | 1351/1563 [02:47<00:26,  8.13it/s]\u001b[A\n",
      " 87%|█████████████████████████████████▋     | 1352/1563 [02:47<00:25,  8.20it/s]\u001b[A\n",
      " 87%|█████████████████████████████████▊     | 1353/1563 [02:47<00:25,  8.20it/s]\u001b[A\n",
      " 87%|█████████████████████████████████▊     | 1354/1563 [02:47<00:25,  8.22it/s]\u001b[A\n",
      " 87%|█████████████████████████████████▊     | 1355/1563 [02:47<00:25,  8.22it/s]\u001b[A\n",
      " 87%|█████████████████████████████████▊     | 1356/1563 [02:47<00:25,  8.15it/s]\u001b[A\n",
      " 87%|█████████████████████████████████▊     | 1357/1563 [02:48<00:25,  8.14it/s]\u001b[A\n",
      " 87%|█████████████████████████████████▉     | 1358/1563 [02:48<00:25,  8.05it/s]\u001b[A\n",
      " 87%|█████████████████████████████████▉     | 1359/1563 [02:48<00:25,  8.00it/s]\u001b[A\n",
      " 87%|█████████████████████████████████▉     | 1360/1563 [02:48<00:25,  8.02it/s]\u001b[A\n",
      " 87%|█████████████████████████████████▉     | 1361/1563 [02:48<00:25,  8.06it/s]\u001b[A\n",
      " 87%|█████████████████████████████████▉     | 1362/1563 [02:48<00:24,  8.09it/s]\u001b[A\n",
      " 87%|██████████████████████████████████     | 1363/1563 [02:48<00:24,  8.10it/s]\u001b[A\n",
      " 87%|██████████████████████████████████     | 1364/1563 [02:48<00:24,  8.07it/s]\u001b[A\n",
      " 87%|██████████████████████████████████     | 1365/1563 [02:49<00:24,  8.06it/s]\u001b[A\n",
      " 87%|██████████████████████████████████     | 1366/1563 [02:49<00:24,  8.01it/s]\u001b[A\n",
      " 87%|██████████████████████████████████     | 1367/1563 [02:49<00:24,  8.01it/s]\u001b[A\n",
      " 88%|██████████████████████████████████▏    | 1368/1563 [02:49<00:24,  8.10it/s]\u001b[A\n",
      " 88%|██████████████████████████████████▏    | 1369/1563 [02:49<00:23,  8.13it/s]\u001b[A\n",
      " 88%|██████████████████████████████████▏    | 1370/1563 [02:49<00:23,  8.12it/s]\u001b[A\n",
      " 88%|██████████████████████████████████▏    | 1371/1563 [02:49<00:23,  8.16it/s]\u001b[A\n",
      " 88%|██████████████████████████████████▏    | 1372/1563 [02:49<00:23,  8.18it/s]\u001b[A\n",
      " 88%|██████████████████████████████████▎    | 1373/1563 [02:50<00:23,  8.23it/s]\u001b[A\n",
      " 88%|██████████████████████████████████▎    | 1374/1563 [02:50<00:22,  8.23it/s]\u001b[A\n",
      " 88%|██████████████████████████████████▎    | 1375/1563 [02:50<00:22,  8.18it/s]\u001b[A\n",
      " 88%|██████████████████████████████████▎    | 1376/1563 [02:50<00:23,  7.83it/s]\u001b[A\n",
      " 88%|██████████████████████████████████▎    | 1377/1563 [02:50<00:23,  7.96it/s]\u001b[A\n",
      " 88%|██████████████████████████████████▍    | 1378/1563 [02:50<00:23,  8.02it/s]\u001b[A\n",
      " 88%|██████████████████████████████████▍    | 1379/1563 [02:50<00:22,  8.07it/s]\u001b[A\n",
      " 88%|██████████████████████████████████▍    | 1380/1563 [02:50<00:22,  8.11it/s]\u001b[A\n",
      " 88%|██████████████████████████████████▍    | 1381/1563 [02:51<00:22,  8.14it/s]\u001b[A\n",
      " 88%|██████████████████████████████████▍    | 1382/1563 [02:51<00:22,  8.12it/s]\u001b[A\n",
      " 88%|██████████████████████████████████▌    | 1383/1563 [02:51<00:22,  7.99it/s]\u001b[A\n",
      " 89%|██████████████████████████████████▌    | 1384/1563 [02:51<00:22,  7.97it/s]\u001b[A\n",
      " 89%|██████████████████████████████████▌    | 1385/1563 [02:51<00:22,  8.01it/s]\u001b[A\n",
      " 89%|██████████████████████████████████▌    | 1386/1563 [02:51<00:21,  8.05it/s]\u001b[A\n",
      " 89%|██████████████████████████████████▌    | 1387/1563 [02:51<00:21,  8.09it/s]\u001b[A\n",
      " 89%|██████████████████████████████████▋    | 1388/1563 [02:51<00:21,  8.12it/s]\u001b[A\n",
      " 89%|██████████████████████████████████▋    | 1389/1563 [02:52<00:21,  8.13it/s]\u001b[A\n",
      " 89%|██████████████████████████████████▋    | 1390/1563 [02:52<00:21,  8.13it/s]\u001b[A\n",
      " 89%|██████████████████████████████████▋    | 1391/1563 [02:52<00:21,  8.10it/s]\u001b[A\n",
      " 89%|██████████████████████████████████▋    | 1392/1563 [02:52<00:21,  8.04it/s]\u001b[A\n",
      " 89%|██████████████████████████████████▊    | 1393/1563 [02:52<00:21,  8.07it/s]\u001b[A\n",
      " 89%|██████████████████████████████████▊    | 1394/1563 [02:52<00:21,  8.04it/s]\u001b[A\n",
      " 89%|██████████████████████████████████▊    | 1395/1563 [02:52<00:20,  8.03it/s]\u001b[A\n",
      " 89%|██████████████████████████████████▊    | 1396/1563 [02:52<00:20,  8.09it/s]\u001b[A\n",
      " 89%|██████████████████████████████████▊    | 1397/1563 [02:53<00:20,  8.12it/s]\u001b[A\n",
      " 89%|██████████████████████████████████▉    | 1398/1563 [02:53<00:20,  8.11it/s]\u001b[A\n",
      " 90%|██████████████████████████████████▉    | 1399/1563 [02:53<00:20,  8.14it/s]\u001b[A\n",
      " 90%|██████████████████████████████████▉    | 1400/1563 [02:53<00:19,  8.17it/s]\u001b[A\n",
      " 90%|██████████████████████████████████▉    | 1401/1563 [02:53<00:19,  8.21it/s]\u001b[A\n",
      " 90%|██████████████████████████████████▉    | 1402/1563 [02:53<00:19,  8.22it/s]\u001b[A\n",
      " 90%|███████████████████████████████████    | 1403/1563 [02:53<00:19,  8.19it/s]\u001b[A\n",
      " 90%|███████████████████████████████████    | 1404/1563 [02:53<00:19,  8.19it/s]\u001b[A\n",
      " 90%|███████████████████████████████████    | 1405/1563 [02:53<00:19,  8.19it/s]\u001b[A\n",
      " 90%|███████████████████████████████████    | 1406/1563 [02:54<00:19,  8.18it/s]\u001b[A\n",
      " 90%|███████████████████████████████████    | 1407/1563 [02:54<00:19,  8.18it/s]\u001b[A\n",
      " 90%|███████████████████████████████████▏   | 1408/1563 [02:54<00:18,  8.16it/s]\u001b[A\n",
      " 90%|███████████████████████████████████▏   | 1409/1563 [02:54<00:18,  8.12it/s]\u001b[A\n",
      " 90%|███████████████████████████████████▏   | 1410/1563 [02:54<00:18,  8.07it/s]\u001b[A\n",
      " 90%|███████████████████████████████████▏   | 1411/1563 [02:54<00:18,  8.01it/s]\u001b[A\n",
      " 90%|███████████████████████████████████▏   | 1412/1563 [02:54<00:18,  8.04it/s]\u001b[A\n",
      " 90%|███████████████████████████████████▎   | 1413/1563 [02:54<00:18,  8.09it/s]\u001b[A\n",
      " 90%|███████████████████████████████████▎   | 1414/1563 [02:55<00:18,  8.11it/s]\u001b[A\n",
      " 91%|███████████████████████████████████▎   | 1415/1563 [02:55<00:18,  8.15it/s]\u001b[A\n",
      " 91%|███████████████████████████████████▎   | 1416/1563 [02:55<00:17,  8.17it/s]\u001b[A\n",
      " 91%|███████████████████████████████████▎   | 1417/1563 [02:55<00:17,  8.23it/s]\u001b[A\n",
      " 91%|███████████████████████████████████▍   | 1418/1563 [02:55<00:17,  8.22it/s]\u001b[A\n",
      " 91%|███████████████████████████████████▍   | 1419/1563 [02:55<00:17,  8.20it/s]\u001b[A\n",
      " 91%|███████████████████████████████████▍   | 1420/1563 [02:55<00:17,  8.18it/s]\u001b[A\n",
      " 91%|███████████████████████████████████▍   | 1421/1563 [02:55<00:17,  8.20it/s]\u001b[A\n",
      " 91%|███████████████████████████████████▍   | 1422/1563 [02:56<00:17,  8.19it/s]\u001b[A\n",
      " 91%|███████████████████████████████████▌   | 1423/1563 [02:56<00:17,  8.18it/s]\u001b[A\n",
      " 91%|███████████████████████████████████▌   | 1424/1563 [02:56<00:16,  8.18it/s]\u001b[A\n",
      " 91%|███████████████████████████████████▌   | 1425/1563 [02:56<00:16,  8.15it/s]\u001b[A\n",
      " 91%|███████████████████████████████████▌   | 1426/1563 [02:56<00:16,  8.07it/s]\u001b[A\n",
      " 91%|███████████████████████████████████▌   | 1427/1563 [02:56<00:16,  8.01it/s]\u001b[A\n",
      " 91%|███████████████████████████████████▋   | 1428/1563 [02:56<00:16,  7.99it/s]\u001b[A\n",
      " 91%|███████████████████████████████████▋   | 1429/1563 [02:56<00:16,  7.98it/s]\u001b[A\n",
      " 91%|███████████████████████████████████▋   | 1430/1563 [02:57<00:16,  8.02it/s]\u001b[A\n",
      " 92%|███████████████████████████████████▋   | 1431/1563 [02:57<00:16,  8.04it/s]\u001b[A\n",
      " 92%|███████████████████████████████████▋   | 1432/1563 [02:57<00:16,  8.06it/s]\u001b[A\n",
      " 92%|███████████████████████████████████▊   | 1433/1563 [02:57<00:16,  8.05it/s]\u001b[A\n",
      " 92%|███████████████████████████████████▊   | 1434/1563 [02:57<00:16,  8.03it/s]\u001b[A\n",
      " 92%|███████████████████████████████████▊   | 1435/1563 [02:57<00:15,  8.06it/s]\u001b[A\n",
      " 92%|███████████████████████████████████▊   | 1436/1563 [02:57<00:15,  8.09it/s]\u001b[A\n",
      " 92%|███████████████████████████████████▊   | 1437/1563 [02:57<00:15,  8.07it/s]\u001b[A\n",
      " 92%|███████████████████████████████████▉   | 1438/1563 [02:58<00:16,  7.59it/s]\u001b[A\n",
      " 92%|███████████████████████████████████▉   | 1439/1563 [02:58<00:15,  7.80it/s]\u001b[A\n",
      " 92%|███████████████████████████████████▉   | 1440/1563 [02:58<00:15,  7.92it/s]\u001b[A\n",
      " 92%|███████████████████████████████████▉   | 1441/1563 [02:58<00:15,  7.94it/s]\u001b[A\n",
      " 92%|███████████████████████████████████▉   | 1442/1563 [02:58<00:15,  7.95it/s]\u001b[A\n",
      " 92%|████████████████████████████████████   | 1443/1563 [02:58<00:14,  8.00it/s]\u001b[A\n",
      " 92%|████████████████████████████████████   | 1444/1563 [02:58<00:14,  8.03it/s]\u001b[A\n",
      " 92%|████████████████████████████████████   | 1445/1563 [02:58<00:14,  7.87it/s]\u001b[A\n",
      " 93%|████████████████████████████████████   | 1446/1563 [02:59<00:14,  8.00it/s]\u001b[A\n",
      " 93%|████████████████████████████████████   | 1447/1563 [02:59<00:14,  8.02it/s]\u001b[A\n",
      " 93%|████████████████████████████████████▏  | 1448/1563 [02:59<00:14,  8.09it/s]\u001b[A\n",
      " 93%|████████████████████████████████████▏  | 1449/1563 [02:59<00:14,  8.06it/s]\u001b[A\n",
      " 93%|████████████████████████████████████▏  | 1450/1563 [02:59<00:14,  8.03it/s]\u001b[A\n",
      " 93%|████████████████████████████████████▏  | 1451/1563 [02:59<00:13,  8.07it/s]\u001b[A\n",
      " 93%|████████████████████████████████████▏  | 1452/1563 [02:59<00:13,  8.03it/s]\u001b[A\n",
      " 93%|████████████████████████████████████▎  | 1453/1563 [02:59<00:13,  8.00it/s]\u001b[A\n",
      " 93%|████████████████████████████████████▎  | 1454/1563 [03:00<00:13,  8.01it/s]\u001b[A\n",
      " 93%|████████████████████████████████████▎  | 1455/1563 [03:00<00:13,  8.03it/s]\u001b[A\n",
      " 93%|████████████████████████████████████▎  | 1456/1563 [03:00<00:13,  8.09it/s]\u001b[A\n",
      " 93%|████████████████████████████████████▎  | 1457/1563 [03:00<00:13,  8.09it/s]\u001b[A\n",
      " 93%|████████████████████████████████████▍  | 1458/1563 [03:00<00:13,  8.07it/s]\u001b[A\n",
      " 93%|████████████████████████████████████▍  | 1459/1563 [03:00<00:12,  8.07it/s]\u001b[A\n",
      " 93%|████████████████████████████████████▍  | 1460/1563 [03:00<00:12,  8.05it/s]\u001b[A\n",
      " 93%|████████████████████████████████████▍  | 1461/1563 [03:00<00:12,  8.03it/s]\u001b[A\n",
      " 94%|████████████████████████████████████▍  | 1462/1563 [03:01<00:12,  8.01it/s]\u001b[A\n",
      " 94%|████████████████████████████████████▌  | 1463/1563 [03:01<00:12,  8.04it/s]\u001b[A\n",
      " 94%|████████████████████████████████████▌  | 1464/1563 [03:01<00:12,  8.08it/s]\u001b[A\n",
      " 94%|████████████████████████████████████▌  | 1465/1563 [03:01<00:12,  8.08it/s]\u001b[A\n",
      " 94%|████████████████████████████████████▌  | 1466/1563 [03:01<00:12,  8.05it/s]\u001b[A\n",
      " 94%|████████████████████████████████████▌  | 1467/1563 [03:01<00:11,  8.08it/s]\u001b[A\n",
      " 94%|████████████████████████████████████▋  | 1468/1563 [03:01<00:11,  8.11it/s]\u001b[A\n",
      " 94%|████████████████████████████████████▋  | 1469/1563 [03:01<00:11,  8.10it/s]\u001b[A\n",
      " 94%|████████████████████████████████████▋  | 1470/1563 [03:02<00:11,  8.06it/s]\u001b[A\n",
      " 94%|████████████████████████████████████▋  | 1471/1563 [03:02<00:11,  8.08it/s]\u001b[A\n",
      " 94%|████████████████████████████████████▋  | 1472/1563 [03:02<00:11,  8.05it/s]\u001b[A\n",
      " 94%|████████████████████████████████████▊  | 1473/1563 [03:02<00:11,  8.04it/s]\u001b[A\n",
      " 94%|████████████████████████████████████▊  | 1474/1563 [03:02<00:11,  8.05it/s]\u001b[A\n",
      " 94%|████████████████████████████████████▊  | 1475/1563 [03:02<00:10,  8.06it/s]\u001b[A\n",
      " 94%|████████████████████████████████████▊  | 1476/1563 [03:02<00:10,  8.11it/s]\u001b[A\n",
      " 94%|████████████████████████████████████▊  | 1477/1563 [03:02<00:10,  8.15it/s]\u001b[A\n",
      " 95%|████████████████████████████████████▉  | 1478/1563 [03:03<00:10,  8.15it/s]\u001b[A\n",
      " 95%|████████████████████████████████████▉  | 1479/1563 [03:03<00:10,  8.18it/s]\u001b[A\n",
      " 95%|████████████████████████████████████▉  | 1480/1563 [03:03<00:10,  8.19it/s]\u001b[A\n",
      " 95%|████████████████████████████████████▉  | 1481/1563 [03:03<00:09,  8.20it/s]\u001b[A\n",
      " 95%|████████████████████████████████████▉  | 1482/1563 [03:03<00:09,  8.15it/s]\u001b[A\n",
      " 95%|█████████████████████████████████████  | 1483/1563 [03:03<00:09,  8.04it/s]\u001b[A\n",
      " 95%|█████████████████████████████████████  | 1484/1563 [03:03<00:09,  8.06it/s]\u001b[A\n",
      " 95%|█████████████████████████████████████  | 1485/1563 [03:03<00:09,  8.06it/s]\u001b[A\n",
      " 95%|█████████████████████████████████████  | 1486/1563 [03:04<00:09,  8.06it/s]\u001b[A\n",
      " 95%|█████████████████████████████████████  | 1487/1563 [03:04<00:09,  8.13it/s]\u001b[A\n",
      " 95%|█████████████████████████████████████▏ | 1488/1563 [03:04<00:09,  8.15it/s]\u001b[A\n",
      " 95%|█████████████████████████████████████▏ | 1489/1563 [03:04<00:09,  8.17it/s]\u001b[A\n",
      " 95%|█████████████████████████████████████▏ | 1490/1563 [03:04<00:08,  8.15it/s]\u001b[A\n",
      " 95%|█████████████████████████████████████▏ | 1491/1563 [03:04<00:08,  8.15it/s]\u001b[A\n",
      " 95%|█████████████████████████████████████▏ | 1492/1563 [03:04<00:08,  8.15it/s]\u001b[A\n",
      " 96%|█████████████████████████████████████▎ | 1493/1563 [03:04<00:08,  8.14it/s]\u001b[A\n",
      " 96%|█████████████████████████████████████▎ | 1494/1563 [03:05<00:08,  8.09it/s]\u001b[A\n",
      " 96%|█████████████████████████████████████▎ | 1495/1563 [03:05<00:08,  8.05it/s]\u001b[A\n",
      " 96%|█████████████████████████████████████▎ | 1496/1563 [03:05<00:08,  8.03it/s]\u001b[A\n",
      " 96%|█████████████████████████████████████▎ | 1497/1563 [03:05<00:08,  8.05it/s]\u001b[A\n",
      " 96%|█████████████████████████████████████▍ | 1498/1563 [03:05<00:08,  8.11it/s]\u001b[A\n",
      " 96%|█████████████████████████████████████▍ | 1499/1563 [03:05<00:07,  8.10it/s]\u001b[A\n",
      " 96%|█████████████████████████████████████▍ | 1500/1563 [03:05<00:07,  8.12it/s]\u001b[A\n",
      " 96%|█████████████████████████████████████▍ | 1501/1563 [03:05<00:08,  7.73it/s]\u001b[A\n",
      " 96%|█████████████████████████████████████▍ | 1502/1563 [03:06<00:07,  7.88it/s]\u001b[A\n",
      " 96%|█████████████████████████████████████▌ | 1503/1563 [03:06<00:07,  8.01it/s]\u001b[A\n",
      " 96%|█████████████████████████████████████▌ | 1504/1563 [03:06<00:07,  8.08it/s]\u001b[A\n",
      " 96%|█████████████████████████████████████▌ | 1505/1563 [03:06<00:07,  8.12it/s]\u001b[A\n",
      " 96%|█████████████████████████████████████▌ | 1506/1563 [03:06<00:06,  8.15it/s]\u001b[A\n",
      " 96%|█████████████████████████████████████▌ | 1507/1563 [03:06<00:06,  8.14it/s]\u001b[A\n",
      " 96%|█████████████████████████████████████▋ | 1508/1563 [03:06<00:06,  7.98it/s]\u001b[A\n",
      " 97%|█████████████████████████████████████▋ | 1509/1563 [03:06<00:06,  8.06it/s]\u001b[A\n",
      " 97%|█████████████████████████████████████▋ | 1510/1563 [03:07<00:06,  8.07it/s]\u001b[A\n",
      " 97%|█████████████████████████████████████▋ | 1511/1563 [03:07<00:06,  8.08it/s]\u001b[A\n",
      " 97%|█████████████████████████████████████▋ | 1512/1563 [03:07<00:06,  8.12it/s]\u001b[A\n",
      " 97%|█████████████████████████████████████▊ | 1513/1563 [03:07<00:06,  8.10it/s]\u001b[A\n",
      " 97%|█████████████████████████████████████▊ | 1514/1563 [03:07<00:06,  8.10it/s]\u001b[A\n",
      " 97%|█████████████████████████████████████▊ | 1515/1563 [03:07<00:05,  8.09it/s]\u001b[A\n",
      " 97%|█████████████████████████████████████▊ | 1516/1563 [03:07<00:05,  8.09it/s]\u001b[A\n",
      " 97%|█████████████████████████████████████▊ | 1517/1563 [03:07<00:05,  8.09it/s]\u001b[A\n",
      " 97%|█████████████████████████████████████▉ | 1518/1563 [03:07<00:05,  8.10it/s]\u001b[A\n",
      " 97%|█████████████████████████████████████▉ | 1519/1563 [03:08<00:05,  8.10it/s]\u001b[A\n",
      " 97%|█████████████████████████████████████▉ | 1520/1563 [03:08<00:05,  8.04it/s]\u001b[A\n",
      " 97%|█████████████████████████████████████▉ | 1521/1563 [03:08<00:05,  8.05it/s]\u001b[A\n",
      " 97%|█████████████████████████████████████▉ | 1522/1563 [03:08<00:05,  8.02it/s]\u001b[A\n",
      " 97%|██████████████████████████████████████ | 1523/1563 [03:08<00:04,  8.04it/s]\u001b[A\n",
      " 98%|██████████████████████████████████████ | 1524/1563 [03:08<00:04,  8.06it/s]\u001b[A\n",
      " 98%|██████████████████████████████████████ | 1525/1563 [03:08<00:04,  8.07it/s]\u001b[A\n",
      " 98%|██████████████████████████████████████ | 1526/1563 [03:08<00:04,  8.05it/s]\u001b[A\n",
      " 98%|██████████████████████████████████████ | 1527/1563 [03:09<00:04,  8.06it/s]\u001b[A\n",
      " 98%|██████████████████████████████████████▏| 1528/1563 [03:09<00:04,  8.02it/s]\u001b[A\n",
      " 98%|██████████████████████████████████████▏| 1529/1563 [03:09<00:04,  8.06it/s]\u001b[A\n",
      " 98%|██████████████████████████████████████▏| 1530/1563 [03:09<00:04,  8.01it/s]\u001b[A\n",
      " 98%|██████████████████████████████████████▏| 1531/1563 [03:09<00:03,  8.04it/s]\u001b[A\n",
      " 98%|██████████████████████████████████████▏| 1532/1563 [03:09<00:03,  8.02it/s]\u001b[A\n",
      " 98%|██████████████████████████████████████▎| 1533/1563 [03:09<00:03,  8.01it/s]\u001b[A\n",
      " 98%|██████████████████████████████████████▎| 1534/1563 [03:09<00:03,  8.06it/s]\u001b[A\n",
      " 98%|██████████████████████████████████████▎| 1535/1563 [03:10<00:03,  8.08it/s]\u001b[A\n",
      " 98%|██████████████████████████████████████▎| 1536/1563 [03:10<00:03,  8.06it/s]\u001b[A\n",
      " 98%|██████████████████████████████████████▎| 1537/1563 [03:10<00:03,  8.07it/s]\u001b[A\n",
      " 98%|██████████████████████████████████████▍| 1538/1563 [03:10<00:03,  8.10it/s]\u001b[A\n",
      " 98%|██████████████████████████████████████▍| 1539/1563 [03:10<00:02,  8.10it/s]\u001b[A\n",
      " 99%|██████████████████████████████████████▍| 1540/1563 [03:10<00:02,  8.09it/s]\u001b[A\n",
      " 99%|██████████████████████████████████████▍| 1541/1563 [03:10<00:02,  8.03it/s]\u001b[A\n",
      " 99%|██████████████████████████████████████▍| 1542/1563 [03:10<00:02,  8.03it/s]\u001b[A\n",
      " 99%|██████████████████████████████████████▌| 1543/1563 [03:11<00:02,  8.04it/s]\u001b[A\n",
      " 99%|██████████████████████████████████████▌| 1544/1563 [03:11<00:02,  8.07it/s]\u001b[A\n",
      " 99%|██████████████████████████████████████▌| 1545/1563 [03:11<00:02,  8.10it/s]\u001b[A\n",
      " 99%|██████████████████████████████████████▌| 1546/1563 [03:11<00:02,  8.12it/s]\u001b[A\n",
      " 99%|██████████████████████████████████████▌| 1547/1563 [03:11<00:01,  8.13it/s]\u001b[A\n",
      " 99%|██████████████████████████████████████▋| 1548/1563 [03:11<00:01,  8.17it/s]\u001b[A\n",
      " 99%|██████████████████████████████████████▋| 1549/1563 [03:11<00:01,  8.15it/s]\u001b[A\n",
      " 99%|██████████████████████████████████████▋| 1550/1563 [03:11<00:01,  8.10it/s]\u001b[A\n",
      " 99%|██████████████████████████████████████▋| 1551/1563 [03:12<00:01,  8.09it/s]\u001b[A\n",
      " 99%|██████████████████████████████████████▋| 1552/1563 [03:12<00:01,  8.08it/s]\u001b[A\n",
      " 99%|██████████████████████████████████████▊| 1553/1563 [03:12<00:01,  8.02it/s]\u001b[A\n",
      " 99%|██████████████████████████████████████▊| 1554/1563 [03:12<00:01,  8.06it/s]\u001b[A\n",
      " 99%|██████████████████████████████████████▊| 1555/1563 [03:12<00:00,  8.10it/s]\u001b[A\n",
      "100%|██████████████████████████████████████▊| 1556/1563 [03:12<00:00,  8.20it/s]\u001b[A\n",
      "100%|██████████████████████████████████████▊| 1557/1563 [03:12<00:00,  8.22it/s]\u001b[A\n",
      "100%|██████████████████████████████████████▉| 1558/1563 [03:12<00:00,  8.23it/s]\u001b[A\n",
      "100%|██████████████████████████████████████▉| 1559/1563 [03:13<00:00,  8.18it/s]\u001b[A\n",
      "100%|██████████████████████████████████████▉| 1560/1563 [03:13<00:00,  8.15it/s]\u001b[A\n",
      "100%|██████████████████████████████████████▉| 1561/1563 [03:13<00:00,  8.14it/s]\u001b[A\n",
      "                                                                                \u001b[A\n",
      "\u001b[A{'eval_loss': 0.2832242548465729, 'eval_accuracy': 0.8791199922561646, 'eval_runtime': 193.6751, 'eval_samples_per_second': 129.082, 'eval_steps_per_second': 8.07, 'epoch': 1.0}\n",
      "100%|███████████████████████████████████████| 1563/1563 [13:21<00:00,  2.96it/s]\n",
      "100%|███████████████████████████████████████| 1563/1563 [03:13<00:00,  8.04it/s]\u001b[A\n",
      "{'train_runtime': 801.7367, 'train_samples_per_second': 31.182, 'train_steps_per_second': 1.95, 'train_loss': 0.35422179550981187, 'epoch': 1.0}\n",
      "100%|███████████████████████████████████████| 1563/1563 [13:21<00:00,  1.95it/s]\n",
      "100%|███████████████████████████████████████| 1563/1563 [03:12<00:00,  8.10it/s]\n",
      "Saved model files at /tmp/finetuned-bert-classifier\n",
      "To save model files in GCS bucket, please specify job_dir starting with gs://\n"
     ]
    }
   ],
   "source": [
    "!cd {PYTHON_PACKAGE_APPLICATION_DIR} && python -m trainer.task"
   ]
  },
  {
   "cell_type": "code",
   "execution_count": null,
   "metadata": {},
   "outputs": [],
   "source": [
    "# before proceeding, backup the complete staging directory to Cloud Storage\n",
    "# do it in a JupyterLab terminal window!"
   ]
  },
  {
   "cell_type": "markdown",
   "metadata": {
    "id": "4a1a4281ff7f"
   },
   "source": [
    "#### **Run custom training job on Vertex AI**\n",
    "\n",
    "We use [Vertex AI SDK for Python](https://cloud.google.com/vertex-ai/docs/start/client-libraries#client_libraries) to create and submit training job to the Vertex AI training service."
   ]
  },
  {
   "cell_type": "markdown",
   "metadata": {
    "id": "5d2957ef04fd"
   },
   "source": [
    "##### **Initialize the Vertex AI SDK for Python**"
   ]
  },
  {
   "cell_type": "code",
   "execution_count": 49,
   "metadata": {
    "id": "c4a578b55943"
   },
   "outputs": [],
   "source": [
    "aiplatform.init(project=PROJECT_ID, staging_bucket=BUCKET_NAME)"
   ]
  },
  {
   "cell_type": "markdown",
   "metadata": {
    "id": "6b0fed34b728"
   },
   "source": [
    "##### **Configure and submit Custom Job to Vertex AI Training service**"
   ]
  },
  {
   "cell_type": "markdown",
   "metadata": {
    "id": "8f24d5bdc31d"
   },
   "source": [
    "Configure a [Custom Job](https://cloud.google.com/vertex-ai/docs/training/create-custom-job) with the [pre-built container](https://cloud.google.com/vertex-ai/docs/training/pre-built-containers) image for PyTorch and training code packaged as Python source distribution. \n",
    "\n",
    "**NOTE:** When using Vertex AI SDK for Python for submitting a training job, it creates a [Training Pipeline](https://cloud.google.com/vertex-ai/docs/training/create-training-pipeline) which launches the Custom Job on Vertex AI Training service."
   ]
  },
  {
   "cell_type": "code",
   "execution_count": 50,
   "metadata": {
    "id": "daababed95ac"
   },
   "outputs": [
    {
     "name": "stdout",
     "output_type": "stream",
     "text": [
      "APP_NAME=finetuned-bert-classifier\n",
      "PRE_BUILT_TRAINING_CONTAINER_IMAGE_URI=us-docker.pkg.dev/vertex-ai/training/pytorch-gpu.1-7:latest\n",
      "python_package_gcs_uri=gs://pytorch-text-classification-bucket/pytorch-on-gcp/finetuned-bert-classifier/train/python_package/trainer-0.1.tar.gz\n",
      "python_module_name=trainer.task\n"
     ]
    }
   ],
   "source": [
    "print(f\"APP_NAME={APP_NAME}\")\n",
    "print(\n",
    "    f\"PRE_BUILT_TRAINING_CONTAINER_IMAGE_URI={PRE_BUILT_TRAINING_CONTAINER_IMAGE_URI}\"\n",
    ")\n",
    "print(f\"python_package_gcs_uri={python_package_gcs_uri}\")\n",
    "print(f\"python_module_name={python_module_name}\")"
   ]
  },
  {
   "cell_type": "code",
   "execution_count": 51,
   "metadata": {
    "id": "1f7cff892eb8"
   },
   "outputs": [
    {
     "name": "stdout",
     "output_type": "stream",
     "text": [
      "JOB_NAME=finetuned-bert-classifier-pytorch-pkg-ar-20230802183204\n"
     ]
    }
   ],
   "source": [
    "JOB_NAME = f\"{APP_NAME}-pytorch-pkg-ar-{get_timestamp()}\"\n",
    "print(f\"JOB_NAME={JOB_NAME}\")"
   ]
  },
  {
   "cell_type": "code",
   "execution_count": 52,
   "metadata": {
    "id": "e7f68fec44ed"
   },
   "outputs": [],
   "source": [
    "job = aiplatform.CustomPythonPackageTrainingJob(\n",
    "    display_name=f\"{JOB_NAME}\",\n",
    "    python_package_gcs_uri=python_package_gcs_uri,\n",
    "    python_module_name=python_module_name,\n",
    "    container_uri=PRE_BUILT_TRAINING_CONTAINER_IMAGE_URI,\n",
    ")"
   ]
  },
  {
   "cell_type": "code",
   "execution_count": 54,
   "metadata": {
    "id": "aaeb607c356e"
   },
   "outputs": [
    {
     "ename": "FailedPrecondition",
     "evalue": "400 The Cloud Storage bucket of `gs://pytorch-text-classification-bucket/aiplatform-custom-training-2023-08-02-18:32:30.268` is in location `us-west4`. It must be in the same regional location as the service location `us-central1`.",
     "output_type": "error",
     "traceback": [
      "\u001b[0;31m---------------------------------------------------------------------------\u001b[0m",
      "\u001b[0;31m_InactiveRpcError\u001b[0m                         Traceback (most recent call last)",
      "\u001b[0;32m~/.local/lib/python3.7/site-packages/google/api_core/grpc_helpers.py\u001b[0m in \u001b[0;36merror_remapped_callable\u001b[0;34m(*args, **kwargs)\u001b[0m\n\u001b[1;32m     71\u001b[0m         \u001b[0;32mtry\u001b[0m\u001b[0;34m:\u001b[0m\u001b[0;34m\u001b[0m\u001b[0;34m\u001b[0m\u001b[0m\n\u001b[0;32m---> 72\u001b[0;31m             \u001b[0;32mreturn\u001b[0m \u001b[0mcallable_\u001b[0m\u001b[0;34m(\u001b[0m\u001b[0;34m*\u001b[0m\u001b[0margs\u001b[0m\u001b[0;34m,\u001b[0m \u001b[0;34m**\u001b[0m\u001b[0mkwargs\u001b[0m\u001b[0;34m)\u001b[0m\u001b[0;34m\u001b[0m\u001b[0;34m\u001b[0m\u001b[0m\n\u001b[0m\u001b[1;32m     73\u001b[0m         \u001b[0;32mexcept\u001b[0m \u001b[0mgrpc\u001b[0m\u001b[0;34m.\u001b[0m\u001b[0mRpcError\u001b[0m \u001b[0;32mas\u001b[0m \u001b[0mexc\u001b[0m\u001b[0;34m:\u001b[0m\u001b[0;34m\u001b[0m\u001b[0;34m\u001b[0m\u001b[0m\n",
      "\u001b[0;32m~/.local/lib/python3.7/site-packages/grpc/_channel.py\u001b[0m in \u001b[0;36m__call__\u001b[0;34m(self, request, timeout, metadata, credentials, wait_for_ready, compression)\u001b[0m\n\u001b[1;32m   1029\u001b[0m                                       wait_for_ready, compression)\n\u001b[0;32m-> 1030\u001b[0;31m         \u001b[0;32mreturn\u001b[0m \u001b[0m_end_unary_response_blocking\u001b[0m\u001b[0;34m(\u001b[0m\u001b[0mstate\u001b[0m\u001b[0;34m,\u001b[0m \u001b[0mcall\u001b[0m\u001b[0;34m,\u001b[0m \u001b[0;32mFalse\u001b[0m\u001b[0;34m,\u001b[0m \u001b[0;32mNone\u001b[0m\u001b[0;34m)\u001b[0m\u001b[0;34m\u001b[0m\u001b[0;34m\u001b[0m\u001b[0m\n\u001b[0m\u001b[1;32m   1031\u001b[0m \u001b[0;34m\u001b[0m\u001b[0m\n",
      "\u001b[0;32m~/.local/lib/python3.7/site-packages/grpc/_channel.py\u001b[0m in \u001b[0;36m_end_unary_response_blocking\u001b[0;34m(state, call, with_call, deadline)\u001b[0m\n\u001b[1;32m    909\u001b[0m     \u001b[0;32melse\u001b[0m\u001b[0;34m:\u001b[0m\u001b[0;34m\u001b[0m\u001b[0;34m\u001b[0m\u001b[0m\n\u001b[0;32m--> 910\u001b[0;31m         \u001b[0;32mraise\u001b[0m \u001b[0m_InactiveRpcError\u001b[0m\u001b[0;34m(\u001b[0m\u001b[0mstate\u001b[0m\u001b[0;34m)\u001b[0m  \u001b[0;31m# pytype: disable=not-instantiable\u001b[0m\u001b[0;34m\u001b[0m\u001b[0;34m\u001b[0m\u001b[0m\n\u001b[0m\u001b[1;32m    911\u001b[0m \u001b[0;34m\u001b[0m\u001b[0m\n",
      "\u001b[0;31m_InactiveRpcError\u001b[0m: <_InactiveRpcError of RPC that terminated with:\n\tstatus = StatusCode.FAILED_PRECONDITION\n\tdetails = \"The Cloud Storage bucket of `gs://pytorch-text-classification-bucket/aiplatform-custom-training-2023-08-02-18:32:30.268` is in location `us-west4`. It must be in the same regional location as the service location `us-central1`.\"\n\tdebug_error_string = \"UNKNOWN:Error received from peer ipv4:142.250.141.95:443 {grpc_message:\"The Cloud Storage bucket of `gs://pytorch-text-classification-bucket/aiplatform-custom-training-2023-08-02-18:32:30.268` is in location `us-west4`. It must be in the same regional location as the service location `us-central1`.\", grpc_status:9, created_time:\"2023-08-02T18:32:31.226885566+00:00\"}\"\n>",
      "\nThe above exception was the direct cause of the following exception:\n",
      "\u001b[0;31mFailedPrecondition\u001b[0m                        Traceback (most recent call last)",
      "\u001b[0;32m/tmp/ipykernel_8398/1787787341.py\u001b[0m in \u001b[0;36m<module>\u001b[0;34m\u001b[0m\n\u001b[1;32m      8\u001b[0m     \u001b[0maccelerator_count\u001b[0m\u001b[0;34m=\u001b[0m\u001b[0;36m1\u001b[0m\u001b[0;34m,\u001b[0m\u001b[0;34m\u001b[0m\u001b[0;34m\u001b[0m\u001b[0m\n\u001b[1;32m      9\u001b[0m     \u001b[0margs\u001b[0m\u001b[0;34m=\u001b[0m\u001b[0mtraining_args\u001b[0m\u001b[0;34m,\u001b[0m\u001b[0;34m\u001b[0m\u001b[0;34m\u001b[0m\u001b[0m\n\u001b[0;32m---> 10\u001b[0;31m     \u001b[0msync\u001b[0m\u001b[0;34m=\u001b[0m\u001b[0;32mFalse\u001b[0m\u001b[0;34m,\u001b[0m\u001b[0;34m\u001b[0m\u001b[0;34m\u001b[0m\u001b[0m\n\u001b[0m\u001b[1;32m     11\u001b[0m )\n",
      "\u001b[0;32m~/.local/lib/python3.7/site-packages/google/cloud/aiplatform/training_jobs.py\u001b[0m in \u001b[0;36mrun\u001b[0;34m(self, dataset, annotation_schema_uri, model_display_name, model_labels, model_id, parent_model, is_default_version, model_version_aliases, model_version_description, base_output_dir, service_account, network, bigquery_destination, args, environment_variables, replica_count, machine_type, accelerator_type, accelerator_count, boot_disk_type, boot_disk_size_gb, reduction_server_replica_count, reduction_server_machine_type, reduction_server_container_uri, training_fraction_split, validation_fraction_split, test_fraction_split, training_filter_split, validation_filter_split, test_filter_split, predefined_split_column_name, timestamp_split_column_name, timeout, restart_job_on_worker_restart, enable_web_access, enable_dashboard_access, tensorboard, sync, create_request_timeout)\u001b[0m\n\u001b[1;32m   7466\u001b[0m             \u001b[0mboot_disk_size_gb\u001b[0m\u001b[0;34m=\u001b[0m\u001b[0mboot_disk_size_gb\u001b[0m\u001b[0;34m,\u001b[0m\u001b[0;34m\u001b[0m\u001b[0;34m\u001b[0m\u001b[0m\n\u001b[1;32m   7467\u001b[0m             \u001b[0mreduction_server_replica_count\u001b[0m\u001b[0;34m=\u001b[0m\u001b[0mreduction_server_replica_count\u001b[0m\u001b[0;34m,\u001b[0m\u001b[0;34m\u001b[0m\u001b[0;34m\u001b[0m\u001b[0m\n\u001b[0;32m-> 7468\u001b[0;31m             \u001b[0mreduction_server_machine_type\u001b[0m\u001b[0;34m=\u001b[0m\u001b[0mreduction_server_machine_type\u001b[0m\u001b[0;34m,\u001b[0m\u001b[0;34m\u001b[0m\u001b[0;34m\u001b[0m\u001b[0m\n\u001b[0m\u001b[1;32m   7469\u001b[0m         )\n\u001b[1;32m   7470\u001b[0m \u001b[0;34m\u001b[0m\u001b[0m\n",
      "\u001b[0;32m~/.local/lib/python3.7/site-packages/google/cloud/aiplatform/training_jobs.py\u001b[0m in \u001b[0;36m_prepare_and_validate_run\u001b[0;34m(self, model_display_name, model_labels, replica_count, machine_type, accelerator_type, accelerator_count, boot_disk_type, boot_disk_size_gb, reduction_server_replica_count, reduction_server_machine_type)\u001b[0m\n\u001b[1;32m   1426\u001b[0m         \"\"\"\n\u001b[1;32m   1427\u001b[0m \u001b[0;34m\u001b[0m\u001b[0m\n\u001b[0;32m-> 1428\u001b[0;31m         \u001b[0;32mif\u001b[0m \u001b[0mself\u001b[0m\u001b[0;34m.\u001b[0m\u001b[0m_is_waiting_to_run\u001b[0m\u001b[0;34m(\u001b[0m\u001b[0;34m)\u001b[0m\u001b[0;34m:\u001b[0m\u001b[0;34m\u001b[0m\u001b[0;34m\u001b[0m\u001b[0m\n\u001b[0m\u001b[1;32m   1429\u001b[0m             \u001b[0;32mraise\u001b[0m \u001b[0mRuntimeError\u001b[0m\u001b[0;34m(\u001b[0m\u001b[0;34m\"Custom Training is already scheduled to run.\"\u001b[0m\u001b[0;34m)\u001b[0m\u001b[0;34m\u001b[0m\u001b[0;34m\u001b[0m\u001b[0m\n\u001b[1;32m   1430\u001b[0m \u001b[0;34m\u001b[0m\u001b[0m\n",
      "\u001b[0;32m~/.local/lib/python3.7/site-packages/google/cloud/aiplatform/training_jobs.py\u001b[0m in \u001b[0;36m_is_waiting_to_run\u001b[0;34m(self)\u001b[0m\n\u001b[1;32m    841\u001b[0m         \"\"\"Returns True if the Job is pending on upstream tasks False\n\u001b[1;32m    842\u001b[0m         otherwise.\"\"\"\n\u001b[0;32m--> 843\u001b[0;31m         \u001b[0mself\u001b[0m\u001b[0;34m.\u001b[0m\u001b[0m_raise_future_exception\u001b[0m\u001b[0;34m(\u001b[0m\u001b[0;34m)\u001b[0m\u001b[0;34m\u001b[0m\u001b[0;34m\u001b[0m\u001b[0m\n\u001b[0m\u001b[1;32m    844\u001b[0m         \u001b[0;32mif\u001b[0m \u001b[0mself\u001b[0m\u001b[0;34m.\u001b[0m\u001b[0m_latest_future\u001b[0m\u001b[0;34m:\u001b[0m\u001b[0;34m\u001b[0m\u001b[0;34m\u001b[0m\u001b[0m\n\u001b[1;32m    845\u001b[0m             _LOGGER.info(\n",
      "\u001b[0;32m~/.local/lib/python3.7/site-packages/google/cloud/aiplatform/base.py\u001b[0m in \u001b[0;36m_raise_future_exception\u001b[0;34m(self)\u001b[0m\n\u001b[1;32m    221\u001b[0m         \u001b[0;32mwith\u001b[0m \u001b[0mself\u001b[0m\u001b[0;34m.\u001b[0m\u001b[0m__latest_future_lock\u001b[0m\u001b[0;34m:\u001b[0m\u001b[0;34m\u001b[0m\u001b[0;34m\u001b[0m\u001b[0m\n\u001b[1;32m    222\u001b[0m             \u001b[0;32mif\u001b[0m \u001b[0mself\u001b[0m\u001b[0;34m.\u001b[0m\u001b[0m_exception\u001b[0m\u001b[0;34m:\u001b[0m\u001b[0;34m\u001b[0m\u001b[0;34m\u001b[0m\u001b[0m\n\u001b[0;32m--> 223\u001b[0;31m                 \u001b[0;32mraise\u001b[0m \u001b[0mself\u001b[0m\u001b[0;34m.\u001b[0m\u001b[0m_exception\u001b[0m\u001b[0;34m\u001b[0m\u001b[0;34m\u001b[0m\u001b[0m\n\u001b[0m\u001b[1;32m    224\u001b[0m \u001b[0;34m\u001b[0m\u001b[0m\n\u001b[1;32m    225\u001b[0m     \u001b[0;32mdef\u001b[0m \u001b[0m_complete_future\u001b[0m\u001b[0;34m(\u001b[0m\u001b[0mself\u001b[0m\u001b[0;34m,\u001b[0m \u001b[0mfuture\u001b[0m\u001b[0;34m:\u001b[0m \u001b[0mfutures\u001b[0m\u001b[0;34m.\u001b[0m\u001b[0mFuture\u001b[0m\u001b[0;34m)\u001b[0m\u001b[0;34m:\u001b[0m\u001b[0;34m\u001b[0m\u001b[0;34m\u001b[0m\u001b[0m\n",
      "\u001b[0;32m~/.local/lib/python3.7/site-packages/google/cloud/aiplatform/base.py\u001b[0m in \u001b[0;36m_complete_future\u001b[0;34m(self, future)\u001b[0m\n\u001b[1;32m    233\u001b[0m         \u001b[0;32mwith\u001b[0m \u001b[0mself\u001b[0m\u001b[0;34m.\u001b[0m\u001b[0m__latest_future_lock\u001b[0m\u001b[0;34m:\u001b[0m\u001b[0;34m\u001b[0m\u001b[0;34m\u001b[0m\u001b[0m\n\u001b[1;32m    234\u001b[0m             \u001b[0;32mtry\u001b[0m\u001b[0;34m:\u001b[0m\u001b[0;34m\u001b[0m\u001b[0;34m\u001b[0m\u001b[0m\n\u001b[0;32m--> 235\u001b[0;31m                 \u001b[0mfuture\u001b[0m\u001b[0;34m.\u001b[0m\u001b[0mresult\u001b[0m\u001b[0;34m(\u001b[0m\u001b[0;34m)\u001b[0m  \u001b[0;31m# raises\u001b[0m\u001b[0;34m\u001b[0m\u001b[0;34m\u001b[0m\u001b[0m\n\u001b[0m\u001b[1;32m    236\u001b[0m             \u001b[0;32mexcept\u001b[0m \u001b[0mException\u001b[0m \u001b[0;32mas\u001b[0m \u001b[0me\u001b[0m\u001b[0;34m:\u001b[0m\u001b[0;34m\u001b[0m\u001b[0;34m\u001b[0m\u001b[0m\n\u001b[1;32m    237\u001b[0m                 \u001b[0mself\u001b[0m\u001b[0;34m.\u001b[0m\u001b[0m_exception\u001b[0m \u001b[0;34m=\u001b[0m \u001b[0me\u001b[0m\u001b[0;34m\u001b[0m\u001b[0;34m\u001b[0m\u001b[0m\n",
      "\u001b[0;32m/opt/conda/lib/python3.7/concurrent/futures/_base.py\u001b[0m in \u001b[0;36mresult\u001b[0;34m(self, timeout)\u001b[0m\n\u001b[1;32m    426\u001b[0m                 \u001b[0;32mraise\u001b[0m \u001b[0mCancelledError\u001b[0m\u001b[0;34m(\u001b[0m\u001b[0;34m)\u001b[0m\u001b[0;34m\u001b[0m\u001b[0;34m\u001b[0m\u001b[0m\n\u001b[1;32m    427\u001b[0m             \u001b[0;32melif\u001b[0m \u001b[0mself\u001b[0m\u001b[0;34m.\u001b[0m\u001b[0m_state\u001b[0m \u001b[0;34m==\u001b[0m \u001b[0mFINISHED\u001b[0m\u001b[0;34m:\u001b[0m\u001b[0;34m\u001b[0m\u001b[0;34m\u001b[0m\u001b[0m\n\u001b[0;32m--> 428\u001b[0;31m                 \u001b[0;32mreturn\u001b[0m \u001b[0mself\u001b[0m\u001b[0;34m.\u001b[0m\u001b[0m__get_result\u001b[0m\u001b[0;34m(\u001b[0m\u001b[0;34m)\u001b[0m\u001b[0;34m\u001b[0m\u001b[0;34m\u001b[0m\u001b[0m\n\u001b[0m\u001b[1;32m    429\u001b[0m \u001b[0;34m\u001b[0m\u001b[0m\n\u001b[1;32m    430\u001b[0m             \u001b[0mself\u001b[0m\u001b[0;34m.\u001b[0m\u001b[0m_condition\u001b[0m\u001b[0;34m.\u001b[0m\u001b[0mwait\u001b[0m\u001b[0;34m(\u001b[0m\u001b[0mtimeout\u001b[0m\u001b[0;34m)\u001b[0m\u001b[0;34m\u001b[0m\u001b[0;34m\u001b[0m\u001b[0m\n",
      "\u001b[0;32m/opt/conda/lib/python3.7/concurrent/futures/_base.py\u001b[0m in \u001b[0;36m__get_result\u001b[0;34m(self)\u001b[0m\n\u001b[1;32m    382\u001b[0m     \u001b[0;32mdef\u001b[0m \u001b[0m__get_result\u001b[0m\u001b[0;34m(\u001b[0m\u001b[0mself\u001b[0m\u001b[0;34m)\u001b[0m\u001b[0;34m:\u001b[0m\u001b[0;34m\u001b[0m\u001b[0;34m\u001b[0m\u001b[0m\n\u001b[1;32m    383\u001b[0m         \u001b[0;32mif\u001b[0m \u001b[0mself\u001b[0m\u001b[0;34m.\u001b[0m\u001b[0m_exception\u001b[0m\u001b[0;34m:\u001b[0m\u001b[0;34m\u001b[0m\u001b[0;34m\u001b[0m\u001b[0m\n\u001b[0;32m--> 384\u001b[0;31m             \u001b[0;32mraise\u001b[0m \u001b[0mself\u001b[0m\u001b[0;34m.\u001b[0m\u001b[0m_exception\u001b[0m\u001b[0;34m\u001b[0m\u001b[0;34m\u001b[0m\u001b[0m\n\u001b[0m\u001b[1;32m    385\u001b[0m         \u001b[0;32melse\u001b[0m\u001b[0;34m:\u001b[0m\u001b[0;34m\u001b[0m\u001b[0;34m\u001b[0m\u001b[0m\n\u001b[1;32m    386\u001b[0m             \u001b[0;32mreturn\u001b[0m \u001b[0mself\u001b[0m\u001b[0;34m.\u001b[0m\u001b[0m_result\u001b[0m\u001b[0;34m\u001b[0m\u001b[0;34m\u001b[0m\u001b[0m\n",
      "\u001b[0;32m/opt/conda/lib/python3.7/concurrent/futures/thread.py\u001b[0m in \u001b[0;36mrun\u001b[0;34m(self)\u001b[0m\n\u001b[1;32m     55\u001b[0m \u001b[0;34m\u001b[0m\u001b[0m\n\u001b[1;32m     56\u001b[0m         \u001b[0;32mtry\u001b[0m\u001b[0;34m:\u001b[0m\u001b[0;34m\u001b[0m\u001b[0;34m\u001b[0m\u001b[0m\n\u001b[0;32m---> 57\u001b[0;31m             \u001b[0mresult\u001b[0m \u001b[0;34m=\u001b[0m \u001b[0mself\u001b[0m\u001b[0;34m.\u001b[0m\u001b[0mfn\u001b[0m\u001b[0;34m(\u001b[0m\u001b[0;34m*\u001b[0m\u001b[0mself\u001b[0m\u001b[0;34m.\u001b[0m\u001b[0margs\u001b[0m\u001b[0;34m,\u001b[0m \u001b[0;34m**\u001b[0m\u001b[0mself\u001b[0m\u001b[0;34m.\u001b[0m\u001b[0mkwargs\u001b[0m\u001b[0;34m)\u001b[0m\u001b[0;34m\u001b[0m\u001b[0;34m\u001b[0m\u001b[0m\n\u001b[0m\u001b[1;32m     58\u001b[0m         \u001b[0;32mexcept\u001b[0m \u001b[0mBaseException\u001b[0m \u001b[0;32mas\u001b[0m \u001b[0mexc\u001b[0m\u001b[0;34m:\u001b[0m\u001b[0;34m\u001b[0m\u001b[0;34m\u001b[0m\u001b[0m\n\u001b[1;32m     59\u001b[0m             \u001b[0mself\u001b[0m\u001b[0;34m.\u001b[0m\u001b[0mfuture\u001b[0m\u001b[0;34m.\u001b[0m\u001b[0mset_exception\u001b[0m\u001b[0;34m(\u001b[0m\u001b[0mexc\u001b[0m\u001b[0;34m)\u001b[0m\u001b[0;34m\u001b[0m\u001b[0;34m\u001b[0m\u001b[0m\n",
      "\u001b[0;32m~/.local/lib/python3.7/site-packages/google/cloud/aiplatform/base.py\u001b[0m in \u001b[0;36mwait_for_dependencies_and_invoke\u001b[0;34m(deps, method, args, kwargs, internal_callbacks)\u001b[0m\n\u001b[1;32m    323\u001b[0m                 \u001b[0mfuture\u001b[0m\u001b[0;34m.\u001b[0m\u001b[0mresult\u001b[0m\u001b[0;34m(\u001b[0m\u001b[0;34m)\u001b[0m\u001b[0;34m\u001b[0m\u001b[0;34m\u001b[0m\u001b[0m\n\u001b[1;32m    324\u001b[0m \u001b[0;34m\u001b[0m\u001b[0m\n\u001b[0;32m--> 325\u001b[0;31m             \u001b[0mresult\u001b[0m \u001b[0;34m=\u001b[0m \u001b[0mmethod\u001b[0m\u001b[0;34m(\u001b[0m\u001b[0;34m*\u001b[0m\u001b[0margs\u001b[0m\u001b[0;34m,\u001b[0m \u001b[0;34m**\u001b[0m\u001b[0mkwargs\u001b[0m\u001b[0;34m)\u001b[0m\u001b[0;34m\u001b[0m\u001b[0;34m\u001b[0m\u001b[0m\n\u001b[0m\u001b[1;32m    326\u001b[0m \u001b[0;34m\u001b[0m\u001b[0m\n\u001b[1;32m    327\u001b[0m             \u001b[0;31m# call callbacks from within future\u001b[0m\u001b[0;34m\u001b[0m\u001b[0;34m\u001b[0m\u001b[0;34m\u001b[0m\u001b[0m\n",
      "\u001b[0;32m~/.local/lib/python3.7/site-packages/google/cloud/aiplatform/training_jobs.py\u001b[0m in \u001b[0;36m_run\u001b[0;34m(self, dataset, annotation_schema_uri, worker_pool_specs, managed_model, model_id, parent_model, is_default_version, model_version_aliases, model_version_description, args, environment_variables, base_output_dir, service_account, network, training_fraction_split, validation_fraction_split, test_fraction_split, training_filter_split, validation_filter_split, test_filter_split, predefined_split_column_name, timestamp_split_column_name, bigquery_destination, timeout, restart_job_on_worker_restart, enable_web_access, enable_dashboard_access, tensorboard, reduction_server_container_uri, sync, create_request_timeout)\u001b[0m\n\u001b[1;32m   7781\u001b[0m             \u001b[0mgcs_destination_uri_prefix\u001b[0m\u001b[0;34m=\u001b[0m\u001b[0mbase_output_dir\u001b[0m\u001b[0;34m,\u001b[0m\u001b[0;34m\u001b[0m\u001b[0;34m\u001b[0m\u001b[0m\n\u001b[1;32m   7782\u001b[0m             \u001b[0mbigquery_destination\u001b[0m\u001b[0;34m=\u001b[0m\u001b[0mbigquery_destination\u001b[0m\u001b[0;34m,\u001b[0m\u001b[0;34m\u001b[0m\u001b[0;34m\u001b[0m\u001b[0m\n\u001b[0;32m-> 7783\u001b[0;31m             \u001b[0mcreate_request_timeout\u001b[0m\u001b[0;34m=\u001b[0m\u001b[0mcreate_request_timeout\u001b[0m\u001b[0;34m,\u001b[0m\u001b[0;34m\u001b[0m\u001b[0;34m\u001b[0m\u001b[0m\n\u001b[0m\u001b[1;32m   7784\u001b[0m         )\n\u001b[1;32m   7785\u001b[0m \u001b[0;34m\u001b[0m\u001b[0m\n",
      "\u001b[0;32m~/.local/lib/python3.7/site-packages/google/cloud/aiplatform/training_jobs.py\u001b[0m in \u001b[0;36m_run_job\u001b[0;34m(self, training_task_definition, training_task_inputs, dataset, training_fraction_split, validation_fraction_split, test_fraction_split, training_filter_split, validation_filter_split, test_filter_split, predefined_split_column_name, timestamp_split_column_name, annotation_schema_uri, model, model_id, parent_model, is_default_version, model_version_aliases, model_version_description, gcs_destination_uri_prefix, bigquery_destination, create_request_timeout, block)\u001b[0m\n\u001b[1;32m    821\u001b[0m             ),\n\u001b[1;32m    822\u001b[0m             \u001b[0mtraining_pipeline\u001b[0m\u001b[0;34m=\u001b[0m\u001b[0mtraining_pipeline\u001b[0m\u001b[0;34m,\u001b[0m\u001b[0;34m\u001b[0m\u001b[0;34m\u001b[0m\u001b[0m\n\u001b[0;32m--> 823\u001b[0;31m             \u001b[0mtimeout\u001b[0m\u001b[0;34m=\u001b[0m\u001b[0mcreate_request_timeout\u001b[0m\u001b[0;34m,\u001b[0m\u001b[0;34m\u001b[0m\u001b[0;34m\u001b[0m\u001b[0m\n\u001b[0m\u001b[1;32m    824\u001b[0m         )\n\u001b[1;32m    825\u001b[0m \u001b[0;34m\u001b[0m\u001b[0m\n",
      "\u001b[0;32m~/.local/lib/python3.7/site-packages/google/cloud/aiplatform_v1/services/pipeline_service/client.py\u001b[0m in \u001b[0;36mcreate_training_pipeline\u001b[0;34m(self, request, parent, training_pipeline, retry, timeout, metadata)\u001b[0m\n\u001b[1;32m    762\u001b[0m             \u001b[0mretry\u001b[0m\u001b[0;34m=\u001b[0m\u001b[0mretry\u001b[0m\u001b[0;34m,\u001b[0m\u001b[0;34m\u001b[0m\u001b[0;34m\u001b[0m\u001b[0m\n\u001b[1;32m    763\u001b[0m             \u001b[0mtimeout\u001b[0m\u001b[0;34m=\u001b[0m\u001b[0mtimeout\u001b[0m\u001b[0;34m,\u001b[0m\u001b[0;34m\u001b[0m\u001b[0;34m\u001b[0m\u001b[0m\n\u001b[0;32m--> 764\u001b[0;31m             \u001b[0mmetadata\u001b[0m\u001b[0;34m=\u001b[0m\u001b[0mmetadata\u001b[0m\u001b[0;34m,\u001b[0m\u001b[0;34m\u001b[0m\u001b[0;34m\u001b[0m\u001b[0m\n\u001b[0m\u001b[1;32m    765\u001b[0m         )\n\u001b[1;32m    766\u001b[0m \u001b[0;34m\u001b[0m\u001b[0m\n",
      "\u001b[0;32m~/.local/lib/python3.7/site-packages/google/api_core/gapic_v1/method.py\u001b[0m in \u001b[0;36m__call__\u001b[0;34m(self, timeout, retry, *args, **kwargs)\u001b[0m\n\u001b[1;32m    111\u001b[0m             \u001b[0mkwargs\u001b[0m\u001b[0;34m[\u001b[0m\u001b[0;34m\"metadata\"\u001b[0m\u001b[0;34m]\u001b[0m \u001b[0;34m=\u001b[0m \u001b[0mmetadata\u001b[0m\u001b[0;34m\u001b[0m\u001b[0;34m\u001b[0m\u001b[0m\n\u001b[1;32m    112\u001b[0m \u001b[0;34m\u001b[0m\u001b[0m\n\u001b[0;32m--> 113\u001b[0;31m         \u001b[0;32mreturn\u001b[0m \u001b[0mwrapped_func\u001b[0m\u001b[0;34m(\u001b[0m\u001b[0;34m*\u001b[0m\u001b[0margs\u001b[0m\u001b[0;34m,\u001b[0m \u001b[0;34m**\u001b[0m\u001b[0mkwargs\u001b[0m\u001b[0;34m)\u001b[0m\u001b[0;34m\u001b[0m\u001b[0;34m\u001b[0m\u001b[0m\n\u001b[0m\u001b[1;32m    114\u001b[0m \u001b[0;34m\u001b[0m\u001b[0m\n\u001b[1;32m    115\u001b[0m \u001b[0;34m\u001b[0m\u001b[0m\n",
      "\u001b[0;32m~/.local/lib/python3.7/site-packages/google/api_core/grpc_helpers.py\u001b[0m in \u001b[0;36merror_remapped_callable\u001b[0;34m(*args, **kwargs)\u001b[0m\n\u001b[1;32m     72\u001b[0m             \u001b[0;32mreturn\u001b[0m \u001b[0mcallable_\u001b[0m\u001b[0;34m(\u001b[0m\u001b[0;34m*\u001b[0m\u001b[0margs\u001b[0m\u001b[0;34m,\u001b[0m \u001b[0;34m**\u001b[0m\u001b[0mkwargs\u001b[0m\u001b[0;34m)\u001b[0m\u001b[0;34m\u001b[0m\u001b[0;34m\u001b[0m\u001b[0m\n\u001b[1;32m     73\u001b[0m         \u001b[0;32mexcept\u001b[0m \u001b[0mgrpc\u001b[0m\u001b[0;34m.\u001b[0m\u001b[0mRpcError\u001b[0m \u001b[0;32mas\u001b[0m \u001b[0mexc\u001b[0m\u001b[0;34m:\u001b[0m\u001b[0;34m\u001b[0m\u001b[0;34m\u001b[0m\u001b[0m\n\u001b[0;32m---> 74\u001b[0;31m             \u001b[0;32mraise\u001b[0m \u001b[0mexceptions\u001b[0m\u001b[0;34m.\u001b[0m\u001b[0mfrom_grpc_error\u001b[0m\u001b[0;34m(\u001b[0m\u001b[0mexc\u001b[0m\u001b[0;34m)\u001b[0m \u001b[0;32mfrom\u001b[0m \u001b[0mexc\u001b[0m\u001b[0;34m\u001b[0m\u001b[0;34m\u001b[0m\u001b[0m\n\u001b[0m\u001b[1;32m     75\u001b[0m \u001b[0;34m\u001b[0m\u001b[0m\n\u001b[1;32m     76\u001b[0m     \u001b[0;32mreturn\u001b[0m \u001b[0merror_remapped_callable\u001b[0m\u001b[0;34m\u001b[0m\u001b[0;34m\u001b[0m\u001b[0m\n",
      "\u001b[0;31mFailedPrecondition\u001b[0m: 400 The Cloud Storage bucket of `gs://pytorch-text-classification-bucket/aiplatform-custom-training-2023-08-02-18:32:30.268` is in location `us-west4`. It must be in the same regional location as the service location `us-central1`."
     ]
    }
   ],
   "source": [
    "training_args = [\"--num-epochs\", \"2\", \"--model-name\", \"finetuned-bert-classifier\"]\n",
    "\n",
    "model = job.run(\n",
    "    replica_count=1,\n",
    "    machine_type=\"n1-standard-8\",\n",
    "    # accelerator_type=\"NVIDIA_TESLA_V100\",\n",
    "    accelerator_type=\"NVIDIA_TESLA_T4\",\n",
    "    accelerator_count=1,\n",
    "    args=training_args,\n",
    "    sync=False,\n",
    ")"
   ]
  },
  {
   "cell_type": "markdown",
   "metadata": {
    "id": "bff8906cce7b"
   },
   "source": [
    "##### **Monitoring progress of the Custom Job**\n",
    "\n",
    "You can monitor the custom job launched from Cloud Console following the link [here](https://console.cloud.google.com/vertex-ai/training/training-pipelines/) or use gcloud CLI command [`gcloud beta ai custom-jobs stream-logs`](https://cloud.google.com/sdk/gcloud/reference/beta/ai/custom-jobs/stream-logs)\n",
    "\n",
    "![Monitor custom job progress in Vertex AI Training](./images/vertex-training-monitor-custom-job.png)"
   ]
  },
  {
   "cell_type": "markdown",
   "metadata": {
    "id": "760ab4b88042"
   },
   "source": [
    "Validate the model artifacts written to GCS by the training code after the job completes successfully"
   ]
  },
  {
   "cell_type": "code",
   "execution_count": null,
   "metadata": {
    "id": "39570bd8def9"
   },
   "outputs": [],
   "source": [
    "job_response = MessageToDict(job._gca_resource._pb)\n",
    "gcs_model_artifacts_uri = job_response[\"trainingTaskInputs\"][\"baseOutputDirectory\"][\n",
    "    \"outputUriPrefix\"\n",
    "]\n",
    "print(f\"Model artifacts are available at {gcs_model_artifacts_uri}\")"
   ]
  },
  {
   "cell_type": "code",
   "execution_count": null,
   "metadata": {
    "id": "09eaae731189"
   },
   "outputs": [],
   "source": [
    "!gsutil ls -lr $gcs_model_artifacts_uri/"
   ]
  },
  {
   "cell_type": "markdown",
   "metadata": {
    "id": "813e2b1e6185"
   },
   "source": [
    "#### ***[Optional]*** **Submit custom job using gcloud CLI using Python source distribution**\n",
    "You can submit the training job to Vertex AI training service using [`gcloud beta ai custom-jobs create`](https://cloud.google.com/sdk/gcloud/reference/beta/ai/custom-jobs/create). `gcloud` command stages your training application on GCS bucket and submits the training job.\n",
    "\n",
    "\n",
    "```\n",
    "gcloud beta ai custom-jobs create \\\n",
    "    --display-name=${JOB_NAME} \\\n",
    "    --region ${REGION} \\\n",
    "    --python-package-uris=${PACKAGE_PATH} \\\n",
    "    --worker-pool-spec=replica-count=1,machine-type='n1-standard-8',accelerator-type='NVIDIA_TESLA_T4',accelerator-count=1,executor-image-uri=${IMAGE_URI},python-module='trainer.task',local-package-path=\"../python_package/\" \\\n",
    "    --args=\"--model-name\",\"finetuned-bert-classifier\",\"--job-dir\",$JOB_DIR\n",
    "```\n",
    "\n",
    "- `worker-pool-spec` parameter defines the worker pool configuration used by the custom job. Following are the fields within `worker-pool-spec`:\n",
    "    - Set the `executor-image-uri` to `us-docker.pkg.dev/vertex-ai/training/pytorch-gpu.1-7:latest` for training on pre-built PyTorch v1.7 image for GPU\n",
    "    - Set the `local-package-path` to the path to the training code\n",
    "    - Set the `python-module` to the `trainer.task` which is the main module to start your application\n",
    "    - Set the `accelerator-type` and `machine-type` to set the compute type to run the application\n",
    " \n",
    "Refer [documentation](https://cloud.google.com/sdk/gcloud/reference/beta/ai/custom-jobs/create#--args) for further details.\n",
    "\n",
    "The script at `./python_package/scripts/train-cloud.sh` contains the `gcloud` commands to launch the custom job and monitor the logs."
   ]
  },
  {
   "cell_type": "code",
   "execution_count": null,
   "metadata": {
    "id": "d974c52416b8"
   },
   "outputs": [],
   "source": [
    "!cd python_package && ./scripts/train-cloud.sh"
   ]
  },
  {
   "cell_type": "markdown",
   "metadata": {
    "id": "edafdf2321d5"
   },
   "source": [
    "In addition to Cloud Console, you can monitor job progress by streaming logs using [gcloud CLI](https://cloud.google.com/sdk/gcloud/reference/beta/ai/custom-jobs/stream-logs) by passing the job id:\n",
    "\n",
    "\n",
    "```\n",
    "gcloud ai custom-jobs stream-logs <job_id> --region=$REGION\n",
    "```"
   ]
  },
  {
   "cell_type": "markdown",
   "metadata": {
    "id": "06eb6c334000"
   },
   "source": [
    "You can validate the model artifacts written to GCS by the training code by running the following command:\n",
    "\n",
    "```\n",
    "!gsutil ls -l $JOB_DIR/\n",
    "```"
   ]
  },
  {
   "cell_type": "markdown",
   "metadata": {
    "id": "c170d386492b"
   },
   "source": [
    "### Run Custom Job on Vertex AI Training with custom container"
   ]
  },
  {
   "cell_type": "markdown",
   "metadata": {
    "id": "035227b6e581"
   },
   "source": [
    "To create a [training job with custom container](https://cloud.google.com/vertex-ai/docs/training/create-custom-container?hl=hr), you define a `Dockerfile` to install or add the dependencies required for the training job. Then, you build and test your Docker image locally to verify, push the image to Container Registry and submit a Custom Job to Vertex AI Training service.\n",
    "\n",
    "![Training with custom containers on Vertex AI](./images/training-with-custom-containers-on-vertex-training.png)"
   ]
  },
  {
   "cell_type": "markdown",
   "metadata": {
    "id": "95ea5367dc42"
   },
   "source": [
    "#### **Build your container using Dockerfile with Training Code and Dependencies**\n",
    "\n",
    "In the previous section, we wrapped the training application code and dependencies as Python source distribution. An alternate way to package the training application and dependencies is to [create a custom container](https://cloud.google.com/vertex-ai/docs/training/create-custom-container?hl=hr) using Dockerfile. We create a Dockerfile with a [pre-built PyTorch container image provided by Vertex AI](https://cloud.google.com/vertex-ai/docs/training/pre-built-containers#available_container_images) as the base image, install the dependencies - `transformers`, `datasets` , `tqdm` and `cloudml-hypertune` and copy the training application code."
   ]
  },
  {
   "cell_type": "code",
   "execution_count": null,
   "metadata": {
    "id": "59cf98db5792"
   },
   "outputs": [],
   "source": [
    "%%writefile ./custom_container/Dockerfile\n",
    "\n",
    "# Use pytorch GPU base image\n",
    "FROM us-docker.pkg.dev/vertex-ai/training/pytorch-gpu.1-10:latest\n",
    "\n",
    "# set working directory\n",
    "WORKDIR /app\n",
    "\n",
    "# Install required packages\n",
    "RUN pip install google-cloud-storage transformers datasets tqdm cloudml-hypertune\n",
    "\n",
    "# Copies the trainer code to the docker image.\n",
    "COPY ./trainer/__init__.py /app/trainer/__init__.py\n",
    "COPY ./trainer/experiment.py /app/trainer/experiment.py\n",
    "COPY ./trainer/utils.py /app/trainer/utils.py\n",
    "COPY ./trainer/metadata.py /app/trainer/metadata.py\n",
    "COPY ./trainer/model.py /app/trainer/model.py\n",
    "COPY ./trainer/task.py /app/trainer/task.py\n",
    "\n",
    "# Set up the entry point to invoke the trainer.\n",
    "ENTRYPOINT [\"python\", \"-m\", \"trainer.task\"]"
   ]
  },
  {
   "cell_type": "markdown",
   "metadata": {
    "id": "1f8d15e545e7"
   },
   "source": [
    "Build the image and tag the Container Registry path (gcr.io) that you will push to."
   ]
  },
  {
   "cell_type": "code",
   "execution_count": null,
   "metadata": {
    "id": "03442268f05d"
   },
   "outputs": [],
   "source": [
    "CUSTOM_TRAIN_IMAGE_URI = f\"gcr.io/{PROJECT_ID}/pytorch_gpu_train_{APP_NAME}\""
   ]
  },
  {
   "cell_type": "code",
   "execution_count": null,
   "metadata": {
    "id": "99d59a1f072c"
   },
   "outputs": [],
   "source": [
    "!cd ./custom_container/ && docker build -f Dockerfile -t $CUSTOM_TRAIN_IMAGE_URI ../python_package"
   ]
  },
  {
   "cell_type": "markdown",
   "metadata": {
    "id": "169b86d50c45"
   },
   "source": [
    "#### *[Optional]* **Run Training Job Locally with Custom Container**\n",
    "\n",
    "Run the container locally in detached mode to test. When running with machine with GPUs, you can use `--gpus all` command line flag."
   ]
  },
  {
   "cell_type": "code",
   "execution_count": null,
   "metadata": {
    "id": "1361941a46d9"
   },
   "outputs": [],
   "source": [
    "!docker run --gpus all -it --rm $CUSTOM_TRAIN_IMAGE_URI"
   ]
  },
  {
   "cell_type": "markdown",
   "metadata": {
    "id": "1873a991a40f"
   },
   "source": [
    "#### **Run custom training job on Vertex AI with Custom Container**\n",
    "\n",
    "Before submitting the training job to Vertex AI, push the custom container image to Google Cloud Container Registry and then submit the training job to Vertex AI. \n",
    "\n",
    "**NOTE:** *[Container Registry](https://cloud.google.com/container-registry) is a central repository to store, manage, and secure your Docker container images.*"
   ]
  },
  {
   "cell_type": "markdown",
   "metadata": {
    "id": "d5e11e1319b6"
   },
   "source": [
    "##### **Push the container to Container Registry**\n",
    "\n",
    "Push your container image with training application code and dependencies to your Container Registry. "
   ]
  },
  {
   "cell_type": "code",
   "execution_count": null,
   "metadata": {
    "id": "11fbe35013f9"
   },
   "outputs": [],
   "source": [
    "!docker push $CUSTOM_TRAIN_IMAGE_URI"
   ]
  },
  {
   "cell_type": "markdown",
   "metadata": {
    "id": "0d157a91a792"
   },
   "source": [
    "Validate the custom container image in Container Registry"
   ]
  },
  {
   "cell_type": "code",
   "execution_count": null,
   "metadata": {
    "id": "a23a4c447117"
   },
   "outputs": [],
   "source": [
    "!gcloud container images describe $CUSTOM_TRAIN_IMAGE_URI"
   ]
  },
  {
   "cell_type": "markdown",
   "metadata": {
    "id": "a23e5e34bea9"
   },
   "source": [
    "##### **Initialize the Vertex AI SDK for Python**"
   ]
  },
  {
   "cell_type": "code",
   "execution_count": null,
   "metadata": {
    "id": "52f180952ca0"
   },
   "outputs": [],
   "source": [
    "aiplatform.init(project=PROJECT_ID, staging_bucket=BUCKET_NAME)"
   ]
  },
  {
   "cell_type": "markdown",
   "metadata": {
    "id": "abf1fa4085cb"
   },
   "source": [
    "##### **Configure and submit Custom Job to Vertex AI Training service**\n",
    "\n",
    "Configure a [Custom Job](https://cloud.google.com/vertex-ai/docs/training/create-custom-job) with the [custom container](https://cloud.google.com/vertex-ai/docs/training/create-custom-container) image with training code and other dependencies\n",
    "\n",
    "**NOTE:** When using Vertex AI SDK for Python for submitting a training job, it creates a [Training Pipeline](https://cloud.google.com/vertex-ai/docs/training/create-training-pipeline) which launches the Custom Job to train on Vertex AI Training."
   ]
  },
  {
   "cell_type": "code",
   "execution_count": null,
   "metadata": {
    "id": "e5e048cc0500"
   },
   "outputs": [],
   "source": [
    "JOB_NAME = f\"{APP_NAME}-pytorch-cstm-cntr-{get_timestamp()}\"\n",
    "\n",
    "print(f\"APP_NAME={APP_NAME}\")\n",
    "print(f\"CUSTOM_TRAIN_IMAGE_URI={CUSTOM_TRAIN_IMAGE_URI}\")\n",
    "print(f\"JOB_NAME={JOB_NAME}\")"
   ]
  },
  {
   "cell_type": "code",
   "execution_count": null,
   "metadata": {
    "id": "6946d8ad77f6"
   },
   "outputs": [],
   "source": [
    "# configure the job with container image spec\n",
    "job = aiplatform.CustomContainerTrainingJob(\n",
    "    display_name=f\"{JOB_NAME}\", container_uri=f\"{CUSTOM_TRAIN_IMAGE_URI}\"\n",
    ")"
   ]
  },
  {
   "cell_type": "code",
   "execution_count": null,
   "metadata": {
    "id": "b7a24d15e8e9"
   },
   "outputs": [],
   "source": [
    "# define training code arguments\n",
    "training_args = [\"--num-epochs\", \"2\", \"--model-name\", \"finetuned-bert-classifier\"]"
   ]
  },
  {
   "cell_type": "code",
   "execution_count": null,
   "metadata": {
    "id": "7459d3261450"
   },
   "outputs": [],
   "source": [
    "# submit the custom job to Vertex AI training service\n",
    "model = job.run(\n",
    "    replica_count=1,\n",
    "    machine_type=\"n1-standard-8\",\n",
    "    accelerator_type=\"NVIDIA_TESLA_T4\",\n",
    "    accelerator_count=1,\n",
    "    args=training_args,\n",
    "    sync=False,\n",
    ")"
   ]
  },
  {
   "cell_type": "markdown",
   "metadata": {
    "id": "d694283ad14c"
   },
   "source": [
    "##### **Monitoring progress of the Custom Job**\n",
    "\n",
    "You can monitor the custom job launched from Cloud Console following the link [here](https://console.cloud.google.com/vertex-ai/training/training-pipelines/) or use gcloud CLI command [`gcloud beta ai custom-jobs stream-logs`](https://cloud.google.com/sdk/gcloud/reference/beta/ai/custom-jobs/stream-logs)\n",
    "\n",
    "![Monitor custom job progress in Vertex AI Training](./images/vertex-training-monitor-custom-job-container.png)"
   ]
  },
  {
   "cell_type": "markdown",
   "metadata": {
    "id": "17d146293583"
   },
   "source": [
    "##### ***[Optional]*** **Submit Custom Job using gcloud CLI using custom container**\n",
    "You can submit the training job to Vertex AI training service using [`gcloud beta ai custom-jobs create`](https://cloud.google.com/sdk/gcloud/reference/beta/ai/custom-jobs/create) with custom container spec. `gcloud` command submits the training job and launches worker pool with the custom container image specified.\n",
    "\n",
    "\n",
    "```\n",
    "gcloud beta ai custom-jobs create \\\n",
    "    --display-name=${JOB_NAME} \\\n",
    "    --region ${REGION} \\\n",
    "    --worker-pool-spec=replica-count=1,machine-type='n1-standard-8',accelerator-type='NVIDIA_TESLA_V100',accelerator-count=1,container-image-uri=${CUSTOM_TRAIN_IMAGE_URI} \\\n",
    "    --args=\"--model-name\",\"finetuned-bert-classifier\",\"--job-dir\",$JOB_DIR\n",
    "```\n",
    "\n",
    "- `worker-pool-spec` parameter defines the worker pool configuration used by the custom job. Following are the fields within `worker-pool-spec`:\n",
    "    - Set the `container-image-uri` to the custom container image pushed to Google Cloud Container Registry for training\n",
    "    - Set the `accelerator-type` and `machine-type` to set the compute type to run the application\n",
    " \n",
    "Refer [documentation](https://cloud.google.com/sdk/gcloud/reference/beta/ai/custom-jobs/create#--args) for further details.\n",
    "\n",
    "The script at `./custom_container/scripts/train-cloud.sh` contains the `gcloud` commands to launch the custom job and monitor the logs."
   ]
  },
  {
   "cell_type": "code",
   "execution_count": null,
   "metadata": {
    "id": "45c0f675d26a"
   },
   "outputs": [],
   "source": [
    "!cd custom_container && ./scripts/train-cloud.sh"
   ]
  },
  {
   "cell_type": "markdown",
   "metadata": {
    "id": "69d723da4f80"
   },
   "source": [
    "In addition to Cloud Console, you can monitor job progress by streaming logs using [gcloud CLI](https://cloud.google.com/sdk/gcloud/reference/beta/ai/custom-jobs/stream-logs) by passing the job id:\n",
    "\n",
    "\n",
    "```\n",
    "gcloud ai custom-jobs stream-logs <job_id> --region=$REGION\n",
    "```"
   ]
  },
  {
   "cell_type": "markdown",
   "metadata": {
    "id": "cffb0f2e5d4a"
   },
   "source": [
    "You can validate the model artifacts written to GCS by the training code by running the following command:\n",
    "\n",
    "```\n",
    "!gsutil ls -l $JOB_DIR/\n",
    "```"
   ]
  },
  {
   "cell_type": "markdown",
   "metadata": {
    "id": "409c7472fd4f"
   },
   "source": [
    "## Hyperparameter Tuning"
   ]
  },
  {
   "cell_type": "markdown",
   "metadata": {
    "id": "ba6122f929e3"
   },
   "source": [
    "The training application code for fine-tuning a transformer model for sentiment analysis task uses hyperparameters such as learning rate and weight decay. These hyperparameters control the behavior of the training algorithm and can have a significant effect on the performance of the resulting model. This part of the notebook show how you can automate tuning these hyperparameters with Vertex AI Training service.\n",
    "\n",
    "We submit a [Hyperparameter Tuning job](https://cloud.google.com/vertex-ai/docs/training/hyperparameter-tuning-overview) to Vertex AI Training service by packaging the training application code and dependencies in a Docker container and push the container to Google Container Registry, similar to running a Custom Job on Vertex AI with Custom Container.\n",
    "\n",
    "![Hyperparameter Tuning with Custom Containers on Vertex AI Training](./images/hp-tuning-with-custom-containers-on-vertex-training.png)"
   ]
  },
  {
   "cell_type": "markdown",
   "metadata": {
    "id": "e1570be63a7c"
   },
   "source": [
    "### How hyperparameter tuning works in Vertex AI?\n",
    "\n",
    "Following are the high level steps involved in running a Hyperparameter Tuning job on Vertex AI Training service:\n",
    "\n",
    "- You define the hyperparameters to tune the model along with the metric (or goal) to optimize\n",
    "- Vertex AI runs multiple trials of your training application with the hyperparameters and limits you specified - maximum number of trials to run and number of parallel trials. \n",
    "- Vertex AI keeps track of the results from each trial and makes adjustments for subsequent trials. This requires your training application to report the metrics to Vertex AI using the Python package [`cloudml-hypertune`](https://github.com/GoogleCloudPlatform/cloudml-hypertune). \n",
    "- When the job is finished, get the summary of all the trials with the most effective configuration of values based on the criteria you configured\n",
    "\n",
    "Refer to the [Vertex AI documentation](https://cloud.google.com/vertex-ai/docs/training/hyperparameter-tuning-overview) to understand how to configure and select hyperparameters for tuning, configure tuning strategy and how Vertex AI optimizes the hyperparameter tuning jobs. The default tuning strategy uses results of previous trials to inform the assignment of values in subsequent trials. "
   ]
  },
  {
   "cell_type": "markdown",
   "metadata": {
    "id": "d4dc37f4aab3"
   },
   "source": [
    "### Changes to training application code for hyperparameter tuning\n",
    "\n",
    "There are few [requirements](https://cloud.google.com/vertex-ai/docs/training/hyperparameter-tuning-overview#the_flow_of_hyperparameter_values) to follow specific to hyperparameter tuning in Vertex AI:\n",
    "\n",
    "1. To pass the hyperparameter values to training code, you mist define a command-line argument in the main training module for each tuned hyperparameter. Use the value passed in those arguments to set the corresponding hyperparameter in the training application's code\n",
    "1. You must pass metrics from the training application to Vertex AI to evaluate the effectiveness of a trial. You can use [`cloudml-hypertune` Python package](https://github.com/GoogleCloudPlatform/cloudml-hypertune) to report metrics."
   ]
  },
  {
   "cell_type": "markdown",
   "metadata": {
    "id": "4b0331ad2e11"
   },
   "source": [
    "Previously, in the training application code to fine-tune the transformer model for sentiment analysis task, we instantiated [`Trainer`](https://huggingface.co/transformers/main_classes/trainer.html) with hyperparameters passed as training arguments (`training_args`). \n",
    "\n",
    "```\n",
    "    # Estimator arguments\n",
    "    args_parser.add_argument(\n",
    "        '--learning-rate',\n",
    "        help='Learning rate value for the optimizers.',\n",
    "        default=2e-5,\n",
    "        type=float)\n",
    "    args_parser.add_argument(\n",
    "        '--weight-decay',\n",
    "        help=\"\"\"\n",
    "      The factor by which the learning rate should decay by the end of the\n",
    "      training.\n",
    "\n",
    "      decayed_learning_rate =\n",
    "        learning_rate * decay_rate ^ (global_step / decay_steps)\n",
    "\n",
    "      If set to 0 (default), then no decay will occur.\n",
    "      If set to 0.5, then the learning rate should reach 0.5 of its original\n",
    "          value at the end of the training.\n",
    "      Note that decay_steps is set to train_steps.\n",
    "      \"\"\",\n",
    "        default=0.01,\n",
    "        type=float)\n",
    "\n",
    "    # Enable hyperparameter\n",
    "    args_parser.add_argument(\n",
    "        '--hp-tune',\n",
    "        default=\"n\",\n",
    "        help='Enable hyperparameter tuning. Valida values are: \"y\" - enable, \"n\" - disable')\n",
    "\n",
    "```\n",
    "\n",
    "\n",
    "These hyperparameters are passed as command line arguments to the training module `trainer.task` which are then passed to the `training_args`. Refer to `./python_package/trainer` module for training application code.\n",
    "\n",
    "```\n",
    "    # set training arguments\n",
    "    training_args = TrainingArguments(\n",
    "        evaluation_strategy=\"epoch\",\n",
    "        learning_rate=args.learning_rate,\n",
    "        per_device_train_batch_size=args.batch_size,\n",
    "        per_device_eval_batch_size=args.batch_size,\n",
    "        num_train_epochs=args.num_epochs,\n",
    "        weight_decay=args.weight_decay,\n",
    "        output_dir=os.path.join(\"/tmp\", args.model_name)\n",
    "    )\n",
    "    \n",
    "    # initialize our Trainer\n",
    "    trainer = Trainer(\n",
    "        model,\n",
    "        training_args,\n",
    "        train_dataset=train_dataset,\n",
    "        eval_dataset=test_dataset,\n",
    "        data_collator=default_data_collator,\n",
    "        tokenizer=tokenizer,\n",
    "        compute_metrics=compute_metrics\n",
    "    )\n",
    "```"
   ]
  },
  {
   "cell_type": "markdown",
   "metadata": {
    "id": "16fb8c85a170"
   },
   "source": [
    "To report metrics to Vertex AI when hyperparameter tuning is enabled, we call [`cloudml-hypertune` Python package](https://github.com/GoogleCloudPlatform/cloudml-hypertune) after the evaluation phase which is added as a [callback](https://huggingface.co/transformers/main_classes/callback.html#transformers.trainer_callback.TrainerCallback) to the `trainer`. The `trainer` objects passes the metrics computed by the last evaluation phase to the callback which will be reported by `hypertune` library to Vertex AI for evaluating trials.\n",
    "\n",
    "```\n",
    "# add hyperparameter tuning callback to report metrics when enabled\n",
    "if args.hp_tune == \"y\":\n",
    "    trainer.add_callback(HPTuneCallback(\"accuracy\", \"eval_accuracy\"))\n",
    "\n",
    "class HPTuneCallback(TrainerCallback):\n",
    "    \"\"\"\n",
    "    A custom callback class that reports a metric to hypertuner\n",
    "    at the end of each epoch.\n",
    "    \"\"\"\n",
    "    \n",
    "    def __init__(self, metric_tag, metric_value):\n",
    "        super(HPTuneCallback, self).__init__()\n",
    "        self.metric_tag = metric_tag\n",
    "        self.metric_value = metric_value\n",
    "        self.hpt = hypertune.HyperTune()\n",
    "        \n",
    "    def on_evaluate(self, args, state, control, **kwargs):\n",
    "        print(f\"HP metric {self.metric_tag}={kwargs['metrics'][self.metric_value]}\")\n",
    "        self.hpt.report_hyperparameter_tuning_metric(\n",
    "            hyperparameter_metric_tag=self.metric_tag,\n",
    "            metric_value=kwargs['metrics'][self.metric_value],\n",
    "            global_step=state.epoch)\n",
    "```"
   ]
  },
  {
   "cell_type": "markdown",
   "metadata": {
    "id": "a9d284f3599d"
   },
   "source": [
    "### Run Hyperparameter Tuning Job on Vertex AI\n",
    "\n",
    "Before submitting the hyperparameter tuning job to Vertex AI, push the custom container image with training application to Google Cloud Container Registry and then submit the job to Vertex AI. We will be using the same image used for running Custom Job on Vertex AI Training service."
   ]
  },
  {
   "cell_type": "markdown",
   "metadata": {
    "id": "0ab9c7321d2f"
   },
   "source": [
    "Validate the custom container image in Container Registry"
   ]
  },
  {
   "cell_type": "code",
   "execution_count": null,
   "metadata": {
    "id": "54c11399e7a9"
   },
   "outputs": [],
   "source": [
    "!gcloud container images describe $CUSTOM_TRAIN_IMAGE_URI"
   ]
  },
  {
   "cell_type": "markdown",
   "metadata": {
    "id": "f60fab07d67c"
   },
   "source": [
    "##### **Initialize the Vertex AI SDK for Python**"
   ]
  },
  {
   "cell_type": "code",
   "execution_count": null,
   "metadata": {
    "id": "7f914ea43ac0"
   },
   "outputs": [],
   "source": [
    "aiplatform.init(project=PROJECT_ID, staging_bucket=BUCKET_NAME)"
   ]
  },
  {
   "cell_type": "markdown",
   "metadata": {
    "id": "6652aa63ddff"
   },
   "source": [
    "##### **Configure and submit Hyperparameter Tuning Job to Vertex AI Training service**\n",
    "\n",
    "Configure a [Hyperparameter Tuning Job](https://cloud.google.com/vertex-ai/docs/training/using-hyperparameter-tuning) with the [custom container](https://cloud.google.com/vertex-ai/docs/training/create-custom-container) image with training code and other dependencies.\n",
    "\n",
    "When configuring and submitting a Hyperparameter Tuning job, you need to attach a Custom Job definition with worker pool specs defining machine type, accelerators and URI for container image representing the custom container."
   ]
  },
  {
   "cell_type": "code",
   "execution_count": null,
   "metadata": {
    "id": "93da68249c07"
   },
   "outputs": [],
   "source": [
    "JOB_NAME = f\"{APP_NAME}-pytorch-hptune-{get_timestamp()}\"\n",
    "\n",
    "print(f\"APP_NAME={APP_NAME}\")\n",
    "print(f\"CUSTOM_TRAIN_IMAGE_URI={CUSTOM_TRAIN_IMAGE_URI}\")\n",
    "print(f\"JOB_NAME={JOB_NAME}\")"
   ]
  },
  {
   "cell_type": "markdown",
   "metadata": {
    "id": "9d46db3a8b23"
   },
   "source": [
    "Define the training arguments with `hp-tune` argument set to `y` so that training application code can report metrics to Vertex AI"
   ]
  },
  {
   "cell_type": "code",
   "execution_count": null,
   "metadata": {
    "id": "30b206352f6e"
   },
   "outputs": [],
   "source": [
    "training_args = [\n",
    "    \"--num-epochs\",\n",
    "    \"2\",\n",
    "    \"--model-name\",\n",
    "    \"finetuned-bert-classifier\",\n",
    "    \"--hp-tune\",\n",
    "    \"y\",\n",
    "]"
   ]
  },
  {
   "cell_type": "markdown",
   "metadata": {
    "id": "0e84606af6ab"
   },
   "source": [
    "Create a **`CustomJob`** with worker pool specs to define machine types, accelerators and customer container spec with the training application code"
   ]
  },
  {
   "cell_type": "code",
   "execution_count": null,
   "metadata": {
    "id": "0456de4efb46"
   },
   "outputs": [],
   "source": [
    "# The spec of the worker pools including machine type and Docker image\n",
    "worker_pool_specs = [\n",
    "    {\n",
    "        \"machine_spec\": {\n",
    "            \"machine_type\": \"n1-standard-8\",\n",
    "            \"accelerator_type\": \"NVIDIA_TESLA_T4\",\n",
    "            \"accelerator_count\": 1,\n",
    "        },\n",
    "        \"replica_count\": 1,\n",
    "        \"container_spec\": {\"image_uri\": CUSTOM_TRAIN_IMAGE_URI, \"args\": training_args},\n",
    "    }\n",
    "]"
   ]
  },
  {
   "cell_type": "code",
   "execution_count": null,
   "metadata": {
    "id": "1339a33f3c3c"
   },
   "outputs": [],
   "source": [
    "custom_job = aiplatform.CustomJob(\n",
    "    display_name=JOB_NAME, worker_pool_specs=worker_pool_specs\n",
    ")"
   ]
  },
  {
   "cell_type": "markdown",
   "metadata": {
    "id": "269d6ffa999f"
   },
   "source": [
    "Define the `parameter_spec` as a Python dictionary object with the search space i.e. parameters to search and optimize. They key is the hyperparameter name passed as command line argument to the training code and value is the parameter specification. The spec requires to specify the hyperparameter data type as an instance of a parameter value specification. \n",
    "\n",
    "Refer to the [documentation](https://cloud.google.com/vertex-ai/docs/training/hyperparameter-tuning-overview#hyperparameters) on selecting the hyperparaneter to tune and how to define parameter specification."
   ]
  },
  {
   "cell_type": "code",
   "execution_count": null,
   "metadata": {
    "id": "4210677c7ec7"
   },
   "outputs": [],
   "source": [
    "# Dictionary representing parameters to optimize.\n",
    "# The dictionary key is the parameter_id, which is passed into your training\n",
    "# job as a command line argument,\n",
    "# And the dictionary value is the parameter specification of the metric.\n",
    "parameter_spec = {\n",
    "    \"learning-rate\": hpt.DoubleParameterSpec(min=1e-6, max=0.001, scale=\"log\"),\n",
    "    \"weight-decay\": hpt.DiscreteParameterSpec(\n",
    "        values=[0.0001, 0.001, 0.01, 0.1], scale=None\n",
    "    ),\n",
    "}"
   ]
  },
  {
   "cell_type": "markdown",
   "metadata": {
    "id": "e29058ada6d4"
   },
   "source": [
    "Define the `metric_spec` with name and goal of metric to optimize. The goal specifies whether you want to tune your model to maximize or minimize the value of this metric."
   ]
  },
  {
   "cell_type": "code",
   "execution_count": null,
   "metadata": {
    "id": "6d50f78b1303"
   },
   "outputs": [],
   "source": [
    "# Dictionary representing metrics to optimize.\n",
    "# The dictionary key is the metric_id, which is reported by your training job,\n",
    "# And the dictionary value is the optimization goal of the metric.\n",
    "metric_spec = {\"accuracy\": \"maximize\"}"
   ]
  },
  {
   "cell_type": "markdown",
   "metadata": {
    "id": "3c5215ca590c"
   },
   "source": [
    "Configure and submit a Hyperparameter Tuning Job with the Custom Job, metric spec, parameter spec and trial limits.\n",
    "\n",
    "- **`max_trial_count`**: Maximum # of Trials run by the service. We recommend to start with a smaller value to understand the impact of the hyperparameters chosen before scaling up.\n",
    "- **`parallel_trial_count`**: Number of Trials to run in parallel. We recommend to start with a smaller value as Vertex AI uses results from the previous trials to inform the assignment of values in subsequent trials. Large # of parallel trials mean these trials start without having the benefit of the results of any trials still running.\n",
    "- **`search_algorithm`**: Search algorithm specified for the Study. If you do not specify an algorithm, Vertex AI by default applies Bayesian optimization to arrive at the optimal solution to search over the parameter space. \n",
    "\n",
    "Refer to the [documentation](https://cloud.google.com/vertex-ai/docs/training/using-hyperparameter-tuning#configuration) to understand the hyperparameter training job configuration."
   ]
  },
  {
   "cell_type": "code",
   "execution_count": null,
   "metadata": {
    "id": "8d8088bfa3ad"
   },
   "outputs": [],
   "source": [
    "hp_job = aiplatform.HyperparameterTuningJob(\n",
    "    display_name=JOB_NAME,\n",
    "    custom_job=custom_job,\n",
    "    metric_spec=metric_spec,\n",
    "    parameter_spec=parameter_spec,\n",
    "    max_trial_count=5,\n",
    "    parallel_trial_count=2,\n",
    "    search_algorithm=None,\n",
    ")"
   ]
  },
  {
   "cell_type": "code",
   "execution_count": null,
   "metadata": {
    "id": "d4f07757c0a4"
   },
   "outputs": [],
   "source": [
    "model = hp_job.run(sync=False)"
   ]
  },
  {
   "cell_type": "markdown",
   "metadata": {
    "id": "d07c7cb26ad8"
   },
   "source": [
    "##### **Monitoring progress of the Custom Job**\n",
    "\n",
    "You can monitor the hyperparameter tuning job launched from Cloud Console following the link [here](https://console.cloud.google.com/vertex-ai/training/hyperparameter-tuning-jobs/) or use gcloud CLI command [`gcloud beta ai custom-jobs stream-logs`](https://cloud.google.com/sdk/gcloud/reference/beta/ai/custom-jobs/stream-logs)\n",
    "\n",
    "![Monitor hyperparameter tuning job progress in Vertex AI Training](./images/vertex-training-monitor-hptuning-job-container.png)"
   ]
  },
  {
   "cell_type": "markdown",
   "metadata": {
    "id": "ba934b434f03"
   },
   "source": [
    "After the job is finished, you can view and format the results of the hyperparameter tuning Trials (run by Vertex AI Training service) as a Pandas dataframe"
   ]
  },
  {
   "cell_type": "code",
   "execution_count": null,
   "metadata": {
    "id": "9b5abf9ca2d7"
   },
   "outputs": [],
   "source": [
    "def get_trials_as_df(trials):\n",
    "    results = []\n",
    "    for trial in trials:\n",
    "        row = {}\n",
    "        t = MessageToDict(trial._pb)\n",
    "        # print(t)\n",
    "        row[\"Trial ID\"], row[\"Status\"], row[\"Start time\"], row[\"End time\"] = (\n",
    "            t[\"id\"],\n",
    "            t[\"state\"],\n",
    "            t[\"startTime\"],\n",
    "            t.get(\"endTime\", None),\n",
    "        )\n",
    "\n",
    "        for param in t[\"parameters\"]:\n",
    "            row[param[\"parameterId\"]] = param[\"value\"]\n",
    "\n",
    "        if t[\"state\"] == \"SUCCEEDED\":\n",
    "            row[\"Training step\"] = t[\"finalMeasurement\"][\"stepCount\"]\n",
    "            for metric in t[\"finalMeasurement\"][\"metrics\"]:\n",
    "                row[metric[\"metricId\"]] = metric[\"value\"]\n",
    "        results.append(row)\n",
    "\n",
    "    _df = pd.DataFrame(results)\n",
    "    return _df"
   ]
  },
  {
   "cell_type": "code",
   "execution_count": null,
   "metadata": {
    "id": "972f23712ce4"
   },
   "outputs": [],
   "source": [
    "df_trials = get_trials_as_df(hp_job.trials)\n",
    "df_trials"
   ]
  },
  {
   "cell_type": "markdown",
   "metadata": {
    "id": "5dbccb2b7d32"
   },
   "source": [
    "Now from the results of Trials, you can pick the best performing Trial to deploy to Vertex AI Predictions"
   ]
  },
  {
   "cell_type": "code",
   "execution_count": null,
   "metadata": {
    "id": "c32f8a0a9c76"
   },
   "outputs": [],
   "source": [
    "# get trial id of the best run from the Trials\n",
    "best_trial_id = df_trials.loc[df_trials[\"accuracy\"].idxmax()][\"Trial ID\"]"
   ]
  },
  {
   "cell_type": "code",
   "execution_count": null,
   "metadata": {
    "id": "8057eebb32e9"
   },
   "outputs": [],
   "source": [
    "# get base output directory where artifacts are saved\n",
    "base_output_dir = MessageToDict(hp_job._gca_resource._pb)[\"trialJobSpec\"][\n",
    "    \"baseOutputDirectory\"\n",
    "][\"outputUriPrefix\"]\n",
    "\n",
    "# get the model artifacts of the best trial id\n",
    "best_model_artifact_uri = f\"{base_output_dir}/{best_trial_id}\"\n",
    "\n",
    "print(\n",
    "    f\"Model artifacts from the Hyperparameter Tuning Job with bbest trial id {best_trial_id} are located at {best_model_artifact_uri}\"\n",
    ")"
   ]
  },
  {
   "cell_type": "markdown",
   "metadata": {
    "id": "c120990dfa7e"
   },
   "source": [
    "You can validate the model artifacts written to GCS by the training code by running the following command:"
   ]
  },
  {
   "cell_type": "code",
   "execution_count": null,
   "metadata": {
    "id": "fbac4a0c28a5"
   },
   "outputs": [],
   "source": [
    "!gsutil ls -r $best_model_artifact_uri/"
   ]
  },
  {
   "cell_type": "markdown",
   "metadata": {
    "id": "2b43f9a01162"
   },
   "source": [
    "##### ***[Optional]*** **Submit hyperparameter tuning job using gcloud CLI**\n",
    "You can submit the hyperparameter tuning job to Vertex AI training service using [`gcloud beta ai hp-tuning-jobs create`](https://cloud.google.com/sdk/gcloud/reference/beta/ai/hp-tuning-jobs/create). `gcloud` command submits the hyperparameter tuning job and launches multiple trials with worker pool based on custom container image specified and number of trials and the criteria set. The command requires hyperparameter tuning job configuration provided as configuration file in YAML format with job name.\n",
    "\n",
    "The following cell shows how to submit a hyperparameter tuning job on Vertex AI using `gcloud` CLI: "
   ]
  },
  {
   "cell_type": "code",
   "execution_count": null,
   "metadata": {
    "id": "39a793062138"
   },
   "outputs": [],
   "source": [
    "%%bash -s $BUCKET_NAME $APP_NAME\n",
    "\n",
    "# ========================================================\n",
    "# set job parameters\n",
    "# ========================================================\n",
    "# PROJECT_ID: Change to your project id\n",
    "PROJECT_ID=$(gcloud config list --format 'value(core.project)')\n",
    "        \n",
    "# set job display name\n",
    "JOB_PREFIX=\"finetuned-bert-classifier\"\n",
    "JOB_NAME=${JOB_PREFIX}-pytorch-hptune-$(date +%Y%m%d%H%M%S)\n",
    "echo \"Launching hyperparameter tuning job with display name as \"$JOB_NAME\n",
    "\n",
    "# BUCKET_NAME is a required parameter to run the cell.\n",
    "BUCKET_NAME=$1\n",
    "\n",
    "# APP_NAME: get application name\n",
    "APP_NAME=$2\n",
    "\n",
    "# JOB_DIR: Where to store prepared package and upload output model.\n",
    "JOB_DIR=${BUCKET_NAME}/${JOB_PREFIX}/model/${JOB_NAME}\n",
    "\n",
    "# custom container image URI\n",
    "CUSTOM_TRAIN_IMAGE_URI='gcr.io/'${PROJECT_ID}'/pytorch_gpu_train_'${APP_NAME}\n",
    "\n",
    "# ========================================================\n",
    "# create hyperparameter tuning configuration file\n",
    "# ========================================================\n",
    "cat << EOF > ./python_package/hptuning_job.yaml\n",
    "\n",
    "studySpec:\n",
    "  metrics:\n",
    "  - metricId: accuracy\n",
    "    goal: MAXIMIZE\n",
    "  parameters:\n",
    "  - parameterId: learning-rate\n",
    "    scaleType: UNIT_LOG_SCALE\n",
    "    doubleValueSpec:\n",
    "      minValue: 0.000001\n",
    "      maxValue: 0.001\n",
    "  - parameterId: weight-decay\n",
    "    scaleType: SCALE_TYPE_UNSPECIFIED\n",
    "    discreteValueSpec:\n",
    "      values: [\n",
    "          0.0001, \n",
    "          0.001, \n",
    "          0.01, \n",
    "          0.1\n",
    "      ]\n",
    "  measurementSelectionType: BEST_MEASUREMENT\n",
    "trialJobSpec:\n",
    "  workerPoolSpecs:\n",
    "  - machineSpec:\n",
    "      machineType: n1-standard-8\n",
    "      acceleratorType: NVIDIA_TESLA_V100\n",
    "      acceleratorCount: 1  \n",
    "    replicaCount: 1\n",
    "    containerSpec:\n",
    "      imageUri: $CUSTOM_TRAIN_IMAGE_URI\n",
    "      args: [\"--num-epochs\", \"2\", \"--model-name\", \"finetuned-bert-classifier\", \"--hp-tune\", \"y\"]\n",
    "  baseOutputDirectory: \n",
    "    outputUriPrefix: $JOB_DIR/\n",
    "EOF\n",
    "\n",
    "# ========================================================\n",
    "# submit hyperparameter tuning job\n",
    "# ========================================================\n",
    "gcloud beta ai hp-tuning-jobs create \\\n",
    "   --config ./python_package/hptuning_job.yaml \\\n",
    "   --display-name $JOB_NAME \\\n",
    "   --algorithm algorithm-unspecified \\\n",
    "   --max-trial-count 5 \\\n",
    "   --parallel-trial-count 2 \\\n",
    "   --region=us-central1"
   ]
  },
  {
   "cell_type": "markdown",
   "metadata": {
    "id": "a4685723ceaf"
   },
   "source": [
    "## Deploying\n",
    "\n",
    "Deploying a PyTorch model on [Vertex AI Predictions](https://cloud.google.com/vertex-ai/docs/predictions/getting-predictions) requires to use a custom container that serves online predictions. You will deploy a container running [PyTorch's TorchServe](https://pytorch.org/serve/) tool in order to serve predictions from a fine-tuned transformer model from Hugging Face Transformers for sentiment analysis task. You can then use Vertex AI Predictions to classify sentiment of input texts. \n",
    "\n",
    "### Deploying model on Vertex AI Predictions with custom container\n",
    "\n",
    "To use a custom container to serve predictions from a PyTorch model, you must provide Vertex AI with a Docker container image that runs an HTTP server, such as TorchServe in this case. Please refer to [documentation](https://cloud.google.com/vertex-ai/docs/predictions/custom-container-requirements) that describes the container image requirements to be compatible with Vertex AI Predictions.\n",
    "\n",
    "![Serving with Custom Containers on Vertex AI Predictions](./images/serve-pytorch-model-on-vertex-predictions-with-custom-containers.png)\n",
    "\n",
    "Essentially, to deploy a PyTorch model on Vertex AI Predictions following are the steps:\n",
    "\n",
    "1. Package the trained model artifacts including [default](https://pytorch.org/serve/#default-handlers) or [custom](https://pytorch.org/serve/custom_service.html) handlers by creating an archive file using [Torch model archiver](https://github.com/pytorch/serve/tree/master/model-archiver)\n",
    "2. Build a [custom container](https://cloud.google.com/vertex-ai/docs/predictions/custom-container-requirements) compatible with Vertex AI Predictions to serve the model using Torchserve\n",
    "3. Upload the model with custom container image to serve predictions as a Vertex AI Model resource\n",
    "4. Create a Vertex AI Endpoint and [deploy the model](https://cloud.google.com/vertex-ai/docs/predictions/deploy-model-api) resource"
   ]
  },
  {
   "cell_type": "markdown",
   "metadata": {
    "id": "4c931da77e57"
   },
   "source": [
    "#### **Create a custom model handler to handle prediction requests**\n",
    "\n",
    "When predicting sentiments of the input text with the fine-tuned transformer model, it requires pre-processing of the input text and post-processing by adding name (positive/negative) to the target label (1/0) along with probability (or confidence). We create a custom handler script that is packaged with the model artifacts and TorchServe executes the code when it runs. \n",
    "\n",
    "Custom handler script does the following:\n",
    "\n",
    "- Pre-process input text before sending it to the model for inference\n",
    "- Customize how the model is invoked for inference\n",
    "- Post-process output from the model before sending back a response\n",
    "\n",
    "Please refer to the [TorchServe documentation](https://pytorch.org/serve/custom_service.html) for defining a custom handler."
   ]
  },
  {
   "cell_type": "code",
   "execution_count": null,
   "metadata": {
    "id": "5ceb881740d6"
   },
   "outputs": [],
   "source": [
    "%%writefile predictor/custom_handler.py\n",
    "\n",
    "import os\n",
    "import json\n",
    "import logging\n",
    "\n",
    "import torch\n",
    "from transformers import AutoModelForSequenceClassification, AutoTokenizer\n",
    "from ts.torch_handler.base_handler import BaseHandler\n",
    "\n",
    "logger = logging.getLogger(__name__)\n",
    "\n",
    "\n",
    "class TransformersClassifierHandler(BaseHandler):\n",
    "    \"\"\"\n",
    "    The handler takes an input string and returns the classification text \n",
    "    based on the serialized transformers checkpoint.\n",
    "    \"\"\"\n",
    "    def __init__(self):\n",
    "        super(TransformersClassifierHandler, self).__init__()\n",
    "        self.initialized = False\n",
    "\n",
    "    def initialize(self, ctx):\n",
    "        \"\"\" Loads the model.pt file and initialized the model object.\n",
    "        Instantiates Tokenizer for preprocessor to use\n",
    "        Loads labels to name mapping file for post-processing inference response\n",
    "        \"\"\"\n",
    "        self.manifest = ctx.manifest\n",
    "\n",
    "        properties = ctx.system_properties\n",
    "        model_dir = properties.get(\"model_dir\")\n",
    "        self.device = torch.device(\"cuda:\" + str(properties.get(\"gpu_id\")) if torch.cuda.is_available() else \"cpu\")\n",
    "\n",
    "        # Read model serialize/pt file\n",
    "        serialized_file = self.manifest[\"model\"][\"serializedFile\"]\n",
    "        model_pt_path = os.path.join(model_dir, serialized_file)\n",
    "        if not os.path.isfile(model_pt_path):\n",
    "            raise RuntimeError(\"Missing the model.pt or pytorch_model.bin file\")\n",
    "        \n",
    "        # Load model\n",
    "        self.model = AutoModelForSequenceClassification.from_pretrained(model_dir)\n",
    "        self.model.to(self.device)\n",
    "        self.model.eval()\n",
    "        logger.debug('Transformer model from path {0} loaded successfully'.format(model_dir))\n",
    "        \n",
    "        # Ensure to use the same tokenizer used during training\n",
    "        self.tokenizer = AutoTokenizer.from_pretrained('bert-base-cased')\n",
    "\n",
    "        # Read the mapping file, index to object name\n",
    "        mapping_file_path = os.path.join(model_dir, \"index_to_name.json\")\n",
    "\n",
    "        if os.path.isfile(mapping_file_path):\n",
    "            with open(mapping_file_path) as f:\n",
    "                self.mapping = json.load(f)\n",
    "        else:\n",
    "            logger.warning('Missing the index_to_name.json file. Inference output will default.')\n",
    "            self.mapping = {\"0\": \"Negative\",  \"1\": \"Positive\"}\n",
    "\n",
    "        self.initialized = True\n",
    "\n",
    "    def preprocess(self, data):\n",
    "        \"\"\" Preprocessing input request by tokenizing\n",
    "            Extend with your own preprocessing steps as needed\n",
    "        \"\"\"\n",
    "        text = data[0].get(\"data\")\n",
    "        if text is None:\n",
    "            text = data[0].get(\"body\")\n",
    "        sentences = text.decode('utf-8')\n",
    "        logger.info(\"Received text: '%s'\", sentences)\n",
    "\n",
    "        # Tokenize the texts\n",
    "        tokenizer_args = ((sentences,))\n",
    "        inputs = self.tokenizer(*tokenizer_args,\n",
    "                                padding='max_length',\n",
    "                                max_length=128,\n",
    "                                truncation=True,\n",
    "                                return_tensors = \"pt\")\n",
    "        return inputs\n",
    "\n",
    "    def inference(self, inputs):\n",
    "        \"\"\" Predict the class of a text using a trained transformer model.\n",
    "        \"\"\"\n",
    "        prediction = self.model(inputs['input_ids'].to(self.device))[0].argmax().item()\n",
    "\n",
    "        if self.mapping:\n",
    "            prediction = self.mapping[str(prediction)]\n",
    "\n",
    "        logger.info(\"Model predicted: '%s'\", prediction)\n",
    "        return [prediction]\n",
    "\n",
    "    def postprocess(self, inference_output):\n",
    "        return inference_output\n"
   ]
  },
  {
   "cell_type": "markdown",
   "metadata": {
    "id": "f32fe0d49feb"
   },
   "source": [
    "##### **Generate target label to name file** *[Optional]*\n",
    "\n",
    "In the custom handler, we refer to a mapping file between target labels and their meaningful names that will be used to format the prediction response. Here we are mapping target label \"0\" as \"Negative\" and \"1\"  as \"Positive\". "
   ]
  },
  {
   "cell_type": "code",
   "execution_count": null,
   "metadata": {
    "id": "1be04c0f8960"
   },
   "outputs": [],
   "source": [
    "%%writefile ./predictor/index_to_name.json\n",
    "\n",
    "{\n",
    "    \"0\": \"Negative\", \n",
    "    \"1\": \"Positive\"\n",
    "}"
   ]
  },
  {
   "cell_type": "markdown",
   "metadata": {
    "id": "d3feca8d40a3"
   },
   "source": [
    "#### **Create custom container image to serve predictions**\n",
    "\n",
    "We will use Cloud Build to create the custom container image with following build steps:\n",
    "\n",
    "##### **Download model artifacts**\n",
    "\n",
    "Download model artifacts that were saved as part of the training (or hyperparameter tuning) job from Cloud Storage to local directory"
   ]
  },
  {
   "cell_type": "code",
   "execution_count": null,
   "metadata": {
    "id": "6966da1a55a5"
   },
   "outputs": [],
   "source": [
    "GCS_MODEL_ARTIFACTS_URI = best_model_artifact_uri"
   ]
  },
  {
   "cell_type": "markdown",
   "metadata": {
    "id": "560170b3b7d9"
   },
   "source": [
    "Validate model artifact files in the Cloud Storage bucket"
   ]
  },
  {
   "cell_type": "code",
   "execution_count": null,
   "metadata": {
    "id": "216c2d276daa"
   },
   "outputs": [],
   "source": [
    "!gsutil ls -r $GCS_MODEL_ARTIFACTS_URI/model/"
   ]
  },
  {
   "cell_type": "markdown",
   "metadata": {
    "id": "a112fd084cf4"
   },
   "source": [
    "Copy files from Cloud Storage to local directory"
   ]
  },
  {
   "cell_type": "code",
   "execution_count": null,
   "metadata": {
    "id": "82e7e1a28c92"
   },
   "outputs": [],
   "source": [
    "!gsutil -m cp -r $GCS_MODEL_ARTIFACTS_URI/model/ ./predictor/"
   ]
  },
  {
   "cell_type": "code",
   "execution_count": null,
   "metadata": {
    "id": "0302ecd8df0c"
   },
   "outputs": [],
   "source": [
    "!ls -ltrR ./predictor/model"
   ]
  },
  {
   "cell_type": "markdown",
   "metadata": {
    "id": "0b44d55f7be1"
   },
   "source": [
    "##### **Build the container image**\n",
    "\n",
    "Create a Dockerfile with TorchServe as base image:\n",
    "\n",
    " - **`RUN`**: Installs dependencies such as `transformers`\n",
    " - **`COPY`**: Add model artifacts to `/home/model-server/` directory of the container image\n",
    " - **`COPY`**: Add custom handler script to `/home/model-server/` directory of the container image\n",
    " - **`RUN`**: Create `/home/model-server/config.properties` to define the serving configuration (health and prediction listener ports)\n",
    " - **`RUN`**: Run [Torch model archiver](https://pytorch.org/serve/model-archiver.html) to create a model archive file from the files copied into the image `/home/model-server/`. The model archive is saved in the `/home/model-server/model-store/` with name same as `<model-name>.mar`\n",
    " - **`CMD`**: Launch Torchserve HTTP server referencing the configuration properties and enables serving for the model"
   ]
  },
  {
   "cell_type": "code",
   "execution_count": null,
   "metadata": {
    "id": "54acc94e5949"
   },
   "outputs": [],
   "source": [
    "%%bash -s $APP_NAME\n",
    "\n",
    "APP_NAME=$1\n",
    "\n",
    "cat << EOF > ./predictor/Dockerfile\n",
    "\n",
    "FROM pytorch/torchserve:latest-cpu\n",
    "\n",
    "# install dependencies\n",
    "RUN python3 -m pip install --upgrade pip\n",
    "RUN pip3 install transformers\n",
    "\n",
    "USER model-server\n",
    "\n",
    "# copy model artifacts, custom handler and other dependencies\n",
    "COPY ./custom_handler.py /home/model-server/\n",
    "COPY ./index_to_name.json /home/model-server/\n",
    "COPY ./model/$APP_NAME/ /home/model-server/\n",
    "\n",
    "# create torchserve configuration file\n",
    "USER root\n",
    "RUN printf \"\\nservice_envelope=json\" >> /home/model-server/config.properties\n",
    "RUN printf \"\\ninference_address=http://0.0.0.0:7080\" >> /home/model-server/config.properties\n",
    "RUN printf \"\\nmanagement_address=http://0.0.0.0:7081\" >> /home/model-server/config.properties\n",
    "USER model-server\n",
    "\n",
    "# expose health and prediction listener ports from the image\n",
    "EXPOSE 7080\n",
    "EXPOSE 7081\n",
    "\n",
    "# create model archive file packaging model artifacts and dependencies\n",
    "RUN torch-model-archiver -f \\\n",
    "  --model-name=$APP_NAME \\\n",
    "  --version=1.0 \\\n",
    "  --serialized-file=/home/model-server/pytorch_model.bin \\\n",
    "  --handler=/home/model-server/custom_handler.py \\\n",
    "  --extra-files \"/home/model-server/config.json,/home/model-server/tokenizer.json,/home/model-server/training_args.bin,/home/model-server/tokenizer_config.json,/home/model-server/special_tokens_map.json,/home/model-server/vocab.txt,/home/model-server/index_to_name.json\" \\\n",
    "  --export-path=/home/model-server/model-store\n",
    "\n",
    "# run Torchserve HTTP serve to respond to prediction requests\n",
    "CMD [\"torchserve\", \\\n",
    "     \"--start\", \\\n",
    "     \"--ts-config=/home/model-server/config.properties\", \\\n",
    "     \"--models\", \\\n",
    "     \"$APP_NAME=$APP_NAME.mar\", \\\n",
    "     \"--model-store\", \\\n",
    "     \"/home/model-server/model-store\"]\n",
    "EOF\n",
    "\n",
    "echo \"Writing ./predictor/Dockerfile\""
   ]
  },
  {
   "cell_type": "markdown",
   "metadata": {
    "id": "e8878a9e37fe"
   },
   "source": [
    "Build the docker image tagged with Container Registry (gcr.io) path"
   ]
  },
  {
   "cell_type": "code",
   "execution_count": null,
   "metadata": {
    "id": "d2d6b9a4857c"
   },
   "outputs": [],
   "source": [
    "CUSTOM_PREDICTOR_IMAGE_URI = f\"gcr.io/{PROJECT_ID}/pytorch_predict_{APP_NAME}\"\n",
    "print(f\"CUSTOM_PREDICTOR_IMAGE_URI = {CUSTOM_PREDICTOR_IMAGE_URI}\")"
   ]
  },
  {
   "cell_type": "code",
   "execution_count": null,
   "metadata": {
    "id": "8ac17dec3371"
   },
   "outputs": [],
   "source": [
    "!docker build \\\n",
    "  --tag=$CUSTOM_PREDICTOR_IMAGE_URI \\\n",
    "  ./predictor"
   ]
  },
  {
   "cell_type": "markdown",
   "metadata": {
    "id": "5e13aeb92678"
   },
   "source": [
    "#### **Run the container locally** ***[Optional]***\n",
    "\n",
    "Before push the container image to Container Registry to use it with Vertex AI Predictions, you can run it as a container in your local environment to verify that the server works as expected"
   ]
  },
  {
   "cell_type": "markdown",
   "metadata": {
    "id": "eaf5bb210eb9"
   },
   "source": [
    "1. To run the container image as a container locally, run the following command:"
   ]
  },
  {
   "cell_type": "code",
   "execution_count": null,
   "metadata": {
    "id": "5b848c5fec2f"
   },
   "outputs": [],
   "source": [
    "!docker stop local_bert_classifier\n",
    "!docker run -t -d --rm -p 7080:7080 --name=local_bert_classifier $CUSTOM_PREDICTOR_IMAGE_URI\n",
    "!sleep 20"
   ]
  },
  {
   "cell_type": "markdown",
   "metadata": {
    "id": "a63999a79fea"
   },
   "source": [
    "2. To send the container's server a health check, run the following command:"
   ]
  },
  {
   "cell_type": "code",
   "execution_count": null,
   "metadata": {
    "id": "6499006af599"
   },
   "outputs": [],
   "source": [
    "!curl http://localhost:7080/ping"
   ]
  },
  {
   "cell_type": "markdown",
   "metadata": {
    "id": "2a45d57cf5ba"
   },
   "source": [
    "If successful, the server returns the following response:\n",
    "\n",
    "```\n",
    "{\n",
    "  \"status\": \"Healthy\"\n",
    "}\n",
    "```"
   ]
  },
  {
   "cell_type": "markdown",
   "metadata": {
    "id": "6413202bfeb8"
   },
   "source": [
    "3. To send the container's server a prediction request, run the following commands:"
   ]
  },
  {
   "cell_type": "code",
   "execution_count": null,
   "metadata": {
    "id": "246d76732fcb"
   },
   "outputs": [],
   "source": [
    "%%bash -s $APP_NAME\n",
    "\n",
    "APP_NAME=$1\n",
    "\n",
    "cat > ./predictor/instances.json <<END\n",
    "{ \n",
    "   \"instances\": [\n",
    "     { \n",
    "       \"data\": {\n",
    "         \"b64\": \"$(echo 'Take away the CGI and the A-list cast and you end up with film with less punch.' | base64 --wrap=0)\"\n",
    "       }\n",
    "     }\n",
    "   ]\n",
    "}\n",
    "END\n",
    "\n",
    "curl -s -X POST \\\n",
    "  -H \"Content-Type: application/json; charset=utf-8\" \\\n",
    "  -d @./predictor/instances.json \\\n",
    "  http://localhost:7080/predictions/$APP_NAME/"
   ]
  },
  {
   "cell_type": "markdown",
   "metadata": {
    "id": "d34a279f7fe7"
   },
   "source": [
    "This request uses a test sentence. If successful, the server returns prediction in below format:\n",
    "\n",
    "```\n",
    "    {\"predictions\": [\"Negative\"]}\n",
    "```"
   ]
  },
  {
   "cell_type": "markdown",
   "metadata": {
    "id": "7ac697916268"
   },
   "source": [
    "4. To stop the container, run the following command:"
   ]
  },
  {
   "cell_type": "code",
   "execution_count": null,
   "metadata": {
    "id": "0a116f4fa88c"
   },
   "outputs": [],
   "source": [
    "!docker stop local_bert_classifier"
   ]
  },
  {
   "cell_type": "markdown",
   "metadata": {
    "id": "69477b3a00c0"
   },
   "source": [
    "#### **Deploying the serving container to Vertex AI Predictions**\n",
    "\n",
    "We create a model resource on Vertex AI and deploy the model to a Vertex AI Endpoints. You must deploy a model to an endpoint before using the model. The deployed model runs the custom container image to serve predictions. "
   ]
  },
  {
   "cell_type": "markdown",
   "metadata": {
    "id": "650995567bb1"
   },
   "source": [
    "##### **Push the serving container to Container Registry**\n",
    "\n",
    "Push your container image with inference code and dependencies to your Container Registry"
   ]
  },
  {
   "cell_type": "code",
   "execution_count": null,
   "metadata": {
    "id": "56a927f34d2a"
   },
   "outputs": [],
   "source": [
    "!docker push $CUSTOM_PREDICTOR_IMAGE_URI"
   ]
  },
  {
   "cell_type": "markdown",
   "metadata": {
    "id": "a3da91e19af4"
   },
   "source": [
    "##### **Initialize the Vertex AI SDK for Python**"
   ]
  },
  {
   "cell_type": "code",
   "execution_count": null,
   "metadata": {
    "id": "4e0857c467ef"
   },
   "outputs": [],
   "source": [
    "aiplatform.init(project=PROJECT_ID, staging_bucket=BUCKET_NAME)"
   ]
  },
  {
   "cell_type": "markdown",
   "metadata": {
    "id": "7a8e5f9ef00b"
   },
   "source": [
    "##### **Create a Model resource with custom serving container**"
   ]
  },
  {
   "cell_type": "code",
   "execution_count": null,
   "metadata": {
    "id": "ad5f86202958"
   },
   "outputs": [],
   "source": [
    "VERSION = 1\n",
    "model_display_name = f\"{APP_NAME}-v{VERSION}\"\n",
    "model_description = \"PyTorch based text classifier with custom container\"\n",
    "\n",
    "MODEL_NAME = APP_NAME\n",
    "health_route = \"/ping\"\n",
    "predict_route = f\"/predictions/{MODEL_NAME}\"\n",
    "serving_container_ports = [7080]"
   ]
  },
  {
   "cell_type": "code",
   "execution_count": null,
   "metadata": {
    "id": "c7fb34080960"
   },
   "outputs": [],
   "source": [
    "model = aiplatform.Model.upload(\n",
    "    display_name=model_display_name,\n",
    "    description=model_description,\n",
    "    serving_container_image_uri=CUSTOM_PREDICTOR_IMAGE_URI,\n",
    "    serving_container_predict_route=predict_route,\n",
    "    serving_container_health_route=health_route,\n",
    "    serving_container_ports=serving_container_ports,\n",
    ")\n",
    "\n",
    "model.wait()\n",
    "\n",
    "print(model.display_name)\n",
    "print(model.resource_name)"
   ]
  },
  {
   "cell_type": "markdown",
   "metadata": {
    "id": "85134f5adfa5"
   },
   "source": [
    "For more context on upload or importing a model, refer [documentation](https://cloud.google.com/vertex-ai/docs/general/import-model)"
   ]
  },
  {
   "cell_type": "markdown",
   "metadata": {
    "id": "e12774f0dc68"
   },
   "source": [
    "##### **Create an Endpoint for Model with Custom Container**"
   ]
  },
  {
   "cell_type": "code",
   "execution_count": null,
   "metadata": {
    "id": "d0bf59607969"
   },
   "outputs": [],
   "source": [
    "endpoint_display_name = f\"{APP_NAME}-endpoint\"\n",
    "endpoint = aiplatform.Endpoint.create(display_name=endpoint_display_name)"
   ]
  },
  {
   "cell_type": "markdown",
   "metadata": {
    "id": "ba9826243edf"
   },
   "source": [
    "##### **Deploy the Model to Endpoint**\n",
    "\n",
    "Deploying a model associates physical resources with the model so it can serve online predictions with low latency. \n",
    "\n",
    "**NOTE:** This step takes few minutes to deploy the resources."
   ]
  },
  {
   "cell_type": "code",
   "execution_count": null,
   "metadata": {
    "id": "8e36ccbc24b4"
   },
   "outputs": [],
   "source": [
    "traffic_percentage = 100\n",
    "machine_type = \"n1-standard-4\"\n",
    "deployed_model_display_name = model_display_name\n",
    "min_replica_count = 1\n",
    "max_replica_count = 3\n",
    "sync = True\n",
    "\n",
    "model.deploy(\n",
    "    endpoint=endpoint,\n",
    "    deployed_model_display_name=deployed_model_display_name,\n",
    "    machine_type=machine_type,\n",
    "    traffic_percentage=traffic_percentage,\n",
    "    sync=sync,\n",
    ")"
   ]
  },
  {
   "cell_type": "markdown",
   "metadata": {
    "id": "bc4673478269"
   },
   "source": [
    "#### **Invoking the Endpoint with deployed Model using Vertex AI SDK to make predictions**"
   ]
  },
  {
   "cell_type": "markdown",
   "metadata": {
    "id": "1fcbf1497407"
   },
   "source": [
    "##### **Get the Endpoint id**"
   ]
  },
  {
   "cell_type": "code",
   "execution_count": null,
   "metadata": {
    "id": "52362d052767"
   },
   "outputs": [],
   "source": [
    "endpoint_display_name = f\"{APP_NAME}-endpoint\"\n",
    "filter = f'display_name=\"{endpoint_display_name}\"'\n",
    "\n",
    "for endpoint_info in aiplatform.Endpoint.list(filter=filter):\n",
    "    print(\n",
    "        f\"Endpoint display name = {endpoint_info.display_name} resource id ={endpoint_info.resource_name} \"\n",
    "    )\n",
    "\n",
    "endpoint = aiplatform.Endpoint(endpoint_info.resource_name)"
   ]
  },
  {
   "cell_type": "code",
   "execution_count": null,
   "metadata": {
    "id": "376e74fdbd95"
   },
   "outputs": [],
   "source": [
    "endpoint.list_models()"
   ]
  },
  {
   "cell_type": "markdown",
   "metadata": {
    "id": "1f454fff5e7d"
   },
   "source": [
    "##### **Formatting input for online prediction**\n",
    "\n",
    "This notebook uses [Torchserve's KServe based inference API](https://pytorch.org/serve/inference_api.html#kserve-inference-api) which is also [Vertex AI Predictions compatible format](https://cloud.google.com/vertex-ai/docs/predictions/custom-container-requirements#prediction). For online prediction requests, format the prediction input instances as JSON with base64 encoding as shown here:\n",
    "\n",
    "```\n",
    "[\n",
    "    {\n",
    "        \"data\": {\n",
    "            \"b64\": \"<base64 encoded string>\"\n",
    "        }\n",
    "    }\n",
    "]\n",
    "```"
   ]
  },
  {
   "cell_type": "markdown",
   "metadata": {
    "id": "646e9dfe8add"
   },
   "source": [
    "Define sample texts to test predictions"
   ]
  },
  {
   "cell_type": "code",
   "execution_count": null,
   "metadata": {
    "id": "edc4658b2df1"
   },
   "outputs": [],
   "source": [
    "test_instances = [\n",
    "    b\"Jaw dropping visual affects and action! One of the best I have seen to date.\",\n",
    "    b\"Take away the CGI and the A-list cast and you end up with film with less punch.\",\n",
    "]"
   ]
  },
  {
   "cell_type": "markdown",
   "metadata": {
    "id": "52303da7c048"
   },
   "source": [
    "##### **Sending an online prediction request**\n",
    "\n",
    "Format input text string and call prediction endpoint with formatted input request and get the response"
   ]
  },
  {
   "cell_type": "code",
   "execution_count": null,
   "metadata": {
    "id": "a5808801dbcb"
   },
   "outputs": [],
   "source": [
    "print(\"=\" * 100)\n",
    "for instance in test_instances:\n",
    "    print(f\"Input text: \\n\\t{instance.decode('utf-8')}\\n\")\n",
    "    b64_encoded = base64.b64encode(instance)\n",
    "    test_instance = [{\"data\": {\"b64\": f\"{str(b64_encoded.decode('utf-8'))}\"}}]\n",
    "    print(f\"Formatted input: \\n{json.dumps(test_instance, indent=4)}\\n\")\n",
    "    prediction = endpoint.predict(instances=test_instance)\n",
    "    print(f\"Prediction response: \\n\\t{prediction}\")\n",
    "    print(\"=\" * 100)"
   ]
  },
  {
   "cell_type": "markdown",
   "metadata": {
    "id": "21664e69720a"
   },
   "source": [
    "##### ***[Optional]*** **Make prediction requests using gcloud CLI**\n",
    "You can also call the Vertex AI Endpoint to make predictions using [`gcloud beta ai endpoints predict`](https://cloud.google.com/sdk/gcloud/reference/beta/ai/endpoints/predict). \n",
    "\n",
    "The following cell shows how to make a prediction request to Vertex AI Endpoints using `gcloud` CLI: "
   ]
  },
  {
   "cell_type": "code",
   "execution_count": null,
   "metadata": {
    "id": "7bb062d3e7a8"
   },
   "outputs": [],
   "source": [
    "endpoint_display_name = f\"{APP_NAME}-endpoint\""
   ]
  },
  {
   "cell_type": "code",
   "execution_count": null,
   "metadata": {
    "id": "950c04742e87"
   },
   "outputs": [],
   "source": [
    "%%bash -s $REGION $endpoint_display_name\n",
    "\n",
    "REGION=$1\n",
    "endpoint_display_name=$2\n",
    "\n",
    "# get endpoint id\n",
    "echo \"REGION = ${REGION}\"\n",
    "echo \"ENDPOINT DISPLAY NAME = ${endpoint_display_name}\"\n",
    "endpoint_id=$(gcloud beta ai endpoints list --region ${REGION} --filter \"display_name=${endpoint_display_name}\" --format \"value(ENDPOINT_ID)\")\n",
    "echo \"ENDPOINT_ID = ${endpoint_id}\"\n",
    "\n",
    "# call prediction endpoint\n",
    "input_text=\"Take away the CGI and the A-list cast and you end up with film with less punch.\"\n",
    "echo \"INPUT TEXT = ${input_text}\"\n",
    "\n",
    "prediction=$(\n",
    "echo \"\"\"\n",
    "{ \n",
    "   \"instances\": [\n",
    "     { \n",
    "       \"data\": {\n",
    "         \"b64\": \"$(echo ${input_text} | base64 --wrap=0)\"\n",
    "       }\n",
    "     }\n",
    "   ]\n",
    "}\n",
    "\"\"\" | gcloud beta ai endpoints predict ${endpoint_id} --region=$REGION --json-request -)\n",
    "\n",
    "echo \"PREDICTION RESPONSE = ${prediction}\""
   ]
  },
  {
   "cell_type": "markdown",
   "metadata": {
    "id": "e636b52e5913"
   },
   "source": [
    "## Cleaning up \n",
    "\n",
    "### Cleaning up training and deployment resources\n",
    "\n",
    "To clean up all Google Cloud resources used in this notebook, you can [delete the Google Cloud project](https://cloud.google.com/resource-manager/docs/creating-managing-projects#shutting_down_projects) you used for the tutorial.\n",
    "\n",
    "Otherwise, you can delete the individual resources you created in this tutorial:\n",
    "\n",
    "- Training Jobs\n",
    "- Model\n",
    "- Endpoint\n",
    "- Cloud Storage Bucket\n",
    "- Container Images\n"
   ]
  },
  {
   "cell_type": "markdown",
   "metadata": {
    "id": "7b89f5a348d1"
   },
   "source": [
    "Set flags for the resource type to be deleted"
   ]
  },
  {
   "cell_type": "code",
   "execution_count": null,
   "metadata": {
    "id": "26ee41d02418"
   },
   "outputs": [],
   "source": [
    "delete_custom_job = False\n",
    "delete_hp_tuning_job = False\n",
    "delete_endpoint = True\n",
    "delete_model = False\n",
    "delete_bucket = False\n",
    "delete_image = False"
   ]
  },
  {
   "cell_type": "markdown",
   "metadata": {
    "id": "fa19a6540bd2"
   },
   "source": [
    "Define clients for jobs, models and endpoints"
   ]
  },
  {
   "cell_type": "code",
   "execution_count": null,
   "metadata": {
    "id": "7f5f8dbd8cb6"
   },
   "outputs": [],
   "source": [
    "# API Endpoint\n",
    "API_ENDPOINT = \"{}-aiplatform.googleapis.com\".format(REGION)\n",
    "\n",
    "# Vertex AI location root path for your dataset, model and endpoint resources\n",
    "PARENT = f\"projects/{PROJECT_ID}/locations/{REGION}\"\n",
    "\n",
    "client_options = {\"api_endpoint\": API_ENDPOINT}\n",
    "\n",
    "# Initialize Vertex AI SDK\n",
    "aiplatform.init(project=PROJECT_ID, staging_bucket=BUCKET_NAME)"
   ]
  },
  {
   "cell_type": "code",
   "execution_count": null,
   "metadata": {
    "id": "6e41b7b75ef6"
   },
   "outputs": [],
   "source": [
    "# functions to create client\n",
    "def create_job_client():\n",
    "    client = aip.JobServiceClient(client_options=client_options)\n",
    "    return client\n",
    "\n",
    "\n",
    "def create_model_client():\n",
    "    client = aip.ModelServiceClient(client_options=client_options)\n",
    "    return client\n",
    "\n",
    "\n",
    "def create_endpoint_client():\n",
    "    client = aip.EndpointServiceClient(client_options=client_options)\n",
    "    return client\n",
    "\n",
    "\n",
    "clients = {}\n",
    "clients[\"job\"] = create_job_client()\n",
    "clients[\"model\"] = create_model_client()\n",
    "clients[\"endpoint\"] = create_endpoint_client()"
   ]
  },
  {
   "cell_type": "markdown",
   "metadata": {
    "id": "c41b12064678"
   },
   "source": [
    "Define functions to list the jobs, models and endpoints starting with `APP_NAME` defined earlier in the notebook"
   ]
  },
  {
   "cell_type": "code",
   "execution_count": null,
   "metadata": {
    "id": "c9a450d8eea2"
   },
   "outputs": [],
   "source": [
    "def list_custom_jobs():\n",
    "    client = clients[\"job\"]\n",
    "    jobs = []\n",
    "    response = client.list_custom_jobs(parent=PARENT)\n",
    "    for row in response:\n",
    "        _row = MessageToDict(row._pb)\n",
    "        if _row[\"displayName\"].startswith(APP_NAME):\n",
    "            jobs.append((_row[\"name\"], _row[\"displayName\"]))\n",
    "    return jobs\n",
    "\n",
    "\n",
    "def list_hp_tuning_jobs():\n",
    "    client = clients[\"job\"]\n",
    "    jobs = []\n",
    "    response = client.list_hyperparameter_tuning_jobs(parent=PARENT)\n",
    "    for row in response:\n",
    "        _row = MessageToDict(row._pb)\n",
    "        if _row[\"displayName\"].startswith(APP_NAME):\n",
    "            jobs.append((_row[\"name\"], _row[\"displayName\"]))\n",
    "    return jobs\n",
    "\n",
    "\n",
    "def list_models():\n",
    "    client = clients[\"model\"]\n",
    "    models = []\n",
    "    response = client.list_models(parent=PARENT)\n",
    "    for row in response:\n",
    "        _row = MessageToDict(row._pb)\n",
    "        if _row[\"displayName\"].startswith(APP_NAME):\n",
    "            models.append((_row[\"name\"], _row[\"displayName\"]))\n",
    "    return models\n",
    "\n",
    "\n",
    "def list_endpoints():\n",
    "    client = clients[\"endpoint\"]\n",
    "    endpoints = []\n",
    "    response = client.list_endpoints(parent=PARENT)\n",
    "    for row in response:\n",
    "        _row = MessageToDict(row._pb)\n",
    "        if _row[\"displayName\"].startswith(APP_NAME):\n",
    "            print(_row)\n",
    "            endpoints.append((_row[\"name\"], _row[\"displayName\"]))\n",
    "    return endpoints"
   ]
  },
  {
   "cell_type": "markdown",
   "metadata": {
    "id": "1281b5fe9222"
   },
   "source": [
    "#### **Deleting custom training jobs**"
   ]
  },
  {
   "cell_type": "code",
   "execution_count": null,
   "metadata": {
    "id": "944b5ec4694c"
   },
   "outputs": [],
   "source": [
    "# Delete the custom training using the Vertex AI fully qualified identifier for the custom training\n",
    "try:\n",
    "    if delete_custom_job:\n",
    "        custom_jobs = list_custom_jobs()\n",
    "        for job_id, job_name in custom_jobs:\n",
    "            print(f\"Deleting job {job_id} [{job_name}]\")\n",
    "            clients[\"job\"].delete_custom_job(name=job_id)\n",
    "except Exception as e:\n",
    "    print(e)"
   ]
  },
  {
   "cell_type": "markdown",
   "metadata": {
    "id": "dd76a52356ec"
   },
   "source": [
    "#### **Deleting hyperparameter tuning jobs**"
   ]
  },
  {
   "cell_type": "code",
   "execution_count": null,
   "metadata": {
    "id": "b65e57c07b43"
   },
   "outputs": [],
   "source": [
    "# Delete the hyperparameter tuning jobs using the Vertex AI fully qualified identifier for the hyperparameter tuning job\n",
    "try:\n",
    "    if delete_hp_tuning_job:\n",
    "        hp_tuning_jobs = list_hp_tuning_jobs()\n",
    "        for job_id, job_name in hp_tuning_jobs:\n",
    "            print(f\"Deleting job {job_id} [{job_name}]\")\n",
    "            clients[\"job\"].delete_hyperparameter_tuning_job(name=job_id)\n",
    "except Exception as e:\n",
    "    print(e)"
   ]
  },
  {
   "cell_type": "markdown",
   "metadata": {
    "id": "dc21008bb215"
   },
   "source": [
    "#### **Undeploy models and Delete endpoints**"
   ]
  },
  {
   "cell_type": "code",
   "execution_count": null,
   "metadata": {
    "id": "51684df7dc6b"
   },
   "outputs": [],
   "source": [
    "# Delete the endpoint using the Vertex AI fully qualified identifier for the endpoint\n",
    "try:\n",
    "    if delete_endpoint:\n",
    "        endpoints = list_endpoints()\n",
    "        for endpoint_id, endpoint_name in endpoints:\n",
    "            endpoint = aiplatform.Endpoint(endpoint_id)\n",
    "            # undeploy models from the endpoint\n",
    "            print(f\"Undeploying all deployed models from the endpoint {endpoint_name}\")\n",
    "            endpoint.undeploy_all(sync=True)\n",
    "            # deleting endpoint\n",
    "            print(f\"Deleting endpoint {endpoint_id} [{endpoint_name}]\")\n",
    "            clients[\"endpoint\"].delete_endpoint(name=endpoint_id)\n",
    "except Exception as e:\n",
    "    print(e)"
   ]
  },
  {
   "cell_type": "markdown",
   "metadata": {
    "id": "4a6719f8f8a2"
   },
   "source": [
    "#### **Deleting models**"
   ]
  },
  {
   "cell_type": "code",
   "execution_count": null,
   "metadata": {
    "id": "087a5322f387"
   },
   "outputs": [],
   "source": [
    "# Delete the model using the Vertex AI fully qualified identifier for the model\n",
    "try:\n",
    "    models = list_models()\n",
    "    for model_id, model_name in models:\n",
    "        print(f\"Deleting model {model_id} [{model_name}]\")\n",
    "        clients[\"model\"].delete_model(name=model_id)\n",
    "except Exception as e:\n",
    "    print(e)"
   ]
  },
  {
   "cell_type": "markdown",
   "metadata": {
    "id": "938a7cd172ab"
   },
   "source": [
    "#### **Delete contents from the staging bucket**\n",
    "\n",
    "---\n",
    "\n",
    "***NOTE: Everything in this Cloud Storage bucket will be DELETED. Please run it with caution.***\n",
    "\n",
    "---"
   ]
  },
  {
   "cell_type": "code",
   "execution_count": null,
   "metadata": {
    "id": "a50bd867c02d"
   },
   "outputs": [],
   "source": [
    "if delete_bucket and \"BUCKET_NAME\" in globals():\n",
    "    print(f\"Deleting all contents from the bucket {BUCKET_NAME}\")\n",
    "\n",
    "    shell_output = ! gsutil du -as $BUCKET_NAME\n",
    "    print(\n",
    "        f\"Size of the bucket {BUCKET_NAME} before deleting = {shell_output[0].split()[0]} bytes\"\n",
    "    )\n",
    "\n",
    "    # uncomment below line to delete contents of the bucket\n",
    "    # ! gsutil rm -r $BUCKET_NAME\n",
    "\n",
    "    shell_output = ! gsutil du -as $BUCKET_NAME\n",
    "    if float(shell_output[0].split()[0]) > 0:\n",
    "        print(\n",
    "            \"PLEASE UNCOMMENT LINE TO DELETE BUCKET. CONTENT FROM THE BUCKET NOT DELETED\"\n",
    "        )\n",
    "\n",
    "    print(\n",
    "        f\"Size of the bucket {BUCKET_NAME} after deleting = {shell_output[0].split()[0]} bytes\"\n",
    "    )"
   ]
  },
  {
   "cell_type": "markdown",
   "metadata": {
    "id": "afd19ee7efa7"
   },
   "source": [
    "#### **Delete images from Container Registry**\n",
    "\n",
    "Deletes all the container images created in this tutorial with prefix defined by variable `APP_NAME` from the registry. All associated tags are also deleted."
   ]
  },
  {
   "cell_type": "code",
   "execution_count": null,
   "metadata": {
    "id": "d45ec639148b"
   },
   "outputs": [],
   "source": [
    "gcr_images = !gcloud container images list --repository=gcr.io/$PROJECT_ID --filter=\"name~\"$APP_NAME\n",
    "\n",
    "if delete_image:\n",
    "    for image in gcr_images:\n",
    "        if image != \"NAME\":  # skip header line\n",
    "            print(f\"Deleting image {image} including all tags\")\n",
    "            !gcloud container images delete $image --force-delete-tags --quiet"
   ]
  },
  {
   "cell_type": "markdown",
   "metadata": {
    "id": "3541e1629c02"
   },
   "source": [
    "### Cleaning up Notebook Environment\n",
    "\n",
    "After you are done experimenting, you can either [STOP](https://cloud.google.com/ai-platform/notebooks/docs/shut-down) or DELETE the AI Notebook instance to prevent any  charges. If you want to save your work, you can choose to stop the instance instead.\n",
    "\n",
    "```\n",
    "# Stopping Notebook instance\n",
    "gcloud notebooks instances stop example-instance --location=us-central1-a\n",
    "\n",
    "\n",
    "# Deleting Notebook instance\n",
    "gcloud notebooks instances delete example-instance --location=us-central1-a\n",
    "```"
   ]
  }
 ],
 "metadata": {
  "colab": {
   "collapsed_sections": [
    "n9qywopnIrJH",
    "545PP3o8IrJV",
    "7k8ge1L1IrJk"
   ],
   "name": "pytorch-text-classification-vertex-ai-train-tune-deploy.ipynb",
   "toc_visible": true
  },
  "environment": {
   "kernel": "python3",
   "name": "pytorch-gpu.1-9.m82",
   "type": "gcloud",
   "uri": "gcr.io/deeplearning-platform-release/pytorch-gpu.1-9:m82"
  },
  "kernelspec": {
   "display_name": "Python 3",
   "language": "python",
   "name": "python3"
  },
  "language_info": {
   "codemirror_mode": {
    "name": "ipython",
    "version": 3
   },
   "file_extension": ".py",
   "mimetype": "text/x-python",
   "name": "python",
   "nbconvert_exporter": "python",
   "pygments_lexer": "ipython3",
   "version": "3.7.10"
  }
 },
 "nbformat": 4,
 "nbformat_minor": 4
}
