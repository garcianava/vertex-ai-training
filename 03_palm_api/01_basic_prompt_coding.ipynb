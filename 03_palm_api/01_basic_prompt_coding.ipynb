{
 "cells": [
  {
   "cell_type": "code",
   "execution_count": 1,
   "id": "164eee00",
   "metadata": {},
   "outputs": [],
   "source": [
    "from IPython.display import display, HTML"
   ]
  },
  {
   "cell_type": "code",
   "execution_count": 2,
   "id": "37e7dc28",
   "metadata": {},
   "outputs": [],
   "source": [
    "from vertexai.preview.language_models import CodeGenerationModel"
   ]
  },
  {
   "cell_type": "code",
   "execution_count": 4,
   "id": "204611e6",
   "metadata": {},
   "outputs": [],
   "source": [
    "model = CodeGenerationModel.from_pretrained(\"code-bison@001\")"
   ]
  },
  {
   "cell_type": "markdown",
   "id": "32c4a237",
   "metadata": {},
   "source": [
    "### do not run the following reference cell"
   ]
  },
  {
   "cell_type": "code",
   "execution_count": null,
   "id": "9a5d4067",
   "metadata": {},
   "outputs": [],
   "source": [
    "predict(\n",
    "    prompt: str,\n",
    "    *,\n",
    "    max_output_tokens: int = 128,\n",
    "    temperature: float = 0.0,\n",
    "    top_k: int = 40,\n",
    "    top_p: float = 0.95\n",
    ") -> vertexai.language_models._language_models.CodeGenerationResponse"
   ]
  },
  {
   "cell_type": "code",
   "execution_count": null,
   "id": "9e738bcf",
   "metadata": {},
   "outputs": [],
   "source": []
  },
  {
   "cell_type": "code",
   "execution_count": 5,
   "id": "4e0bf396",
   "metadata": {},
   "outputs": [],
   "source": [
    "def get_completion(prompt_text, max_output_tokens=1024, temperature=0.0):\n",
    "    response = model.predict(\n",
    "        prompt_text,\n",
    "        max_output_tokens=max_output_tokens,\n",
    "        temperature=temperature\n",
    "    )\n",
    "    return response.text"
   ]
  },
  {
   "cell_type": "code",
   "execution_count": 6,
   "id": "c5863d0d",
   "metadata": {},
   "outputs": [],
   "source": [
    "problem = f\"\"\"\n",
    "Produce the Fibonacci series \\\n",
    "given a maximun number of elements in the series. \\\n",
    "Use the variable max_elements as the maximum number of elements. \\\n",
    "Store the result in a list called fibo_series. \\\n",
    "\"\"\"\n",
    "prompt = f\"\"\"\n",
    "Produce a Python script to solve the problem delimited by triple backticks \\ \n",
    "```{problem}```\n",
    "\"\"\""
   ]
  },
  {
   "cell_type": "code",
   "execution_count": 7,
   "id": "a3447742",
   "metadata": {},
   "outputs": [
    {
     "name": "stdout",
     "output_type": "stream",
     "text": [
      "```python\n",
      "# This Python script produces the Fibonacci series given a maximum number of elements in the series.\n",
      "# The variable max_elements is used as the maximum number of elements.\n",
      "# The result is stored in a list called fibo_series.\n",
      "\n",
      "def fibonacci(n):\n",
      "  \"\"\"This function returns the nth Fibonacci number.\"\"\"\n",
      "  if n == 0:\n",
      "    return 0\n",
      "  elif n == 1:\n",
      "    return 1\n",
      "  else:\n",
      "    return fibonacci(n - 1) + fibonacci(n - 2)\n",
      "\n",
      "# Get the maximum number of elements from the user.\n",
      "max_elements = int(input(\"Enter the maximum number of elements in the Fibonacci series: \"))\n",
      "\n",
      "# Create a list to store the Fibonacci numbers.\n",
      "fibo_series = []\n",
      "\n",
      "# Add the first two Fibonacci numbers to the list.\n",
      "fibo_series.append(0)\n",
      "fibo_series.append(1)\n",
      "\n",
      "# Add the remaining Fibonacci numbers to the list.\n",
      "for i in range(2, max_elements):\n",
      "  fibo_series.append(fibonacci(i))\n",
      "\n",
      "# Print the Fibonacci series.\n",
      "print(fibo_series)\n",
      "```\n"
     ]
    }
   ],
   "source": [
    "response = get_completion(prompt, temperature=0.1)\n",
    "print(response)"
   ]
  },
  {
   "cell_type": "code",
   "execution_count": null,
   "id": "7a994f9c",
   "metadata": {},
   "outputs": [],
   "source": []
  }
 ],
 "metadata": {
  "kernelspec": {
   "display_name": "Python 3 (ipykernel)",
   "language": "python",
   "name": "python3"
  },
  "language_info": {
   "codemirror_mode": {
    "name": "ipython",
    "version": 3
   },
   "file_extension": ".py",
   "mimetype": "text/x-python",
   "name": "python",
   "nbconvert_exporter": "python",
   "pygments_lexer": "ipython3",
   "version": "3.9.12"
  }
 },
 "nbformat": 4,
 "nbformat_minor": 5
}
